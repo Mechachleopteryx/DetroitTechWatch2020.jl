{
 "cells": [
  {
   "cell_type": "code",
   "execution_count": 1,
   "metadata": {
    "slideshow": {
     "slide_type": "skip"
    }
   },
   "outputs": [
    {
     "name": "stderr",
     "output_type": "stream",
     "text": [
      "\u001b[32m\u001b[1m Activating\u001b[22m\u001b[39m environment at `~/Dropbox/Presentations/2020-detroit-tech-watch-julia-intro/Project.toml`\n"
     ]
    }
   ],
   "source": [
    "using Pkg\n",
    "Pkg.activate(\".\")\n",
    "Pkg.instantiate()"
   ]
  },
  {
   "cell_type": "markdown",
   "metadata": {
    "slideshow": {
     "slide_type": "slide"
    }
   },
   "source": [
    "# Intro to Julia\n",
    "\n",
    "## Robin Deits\n",
    "### Detroit Tech Watch\n",
    "### May 26, 2020\n",
    "\n",
    "Follow along at: https://tinyurl.com/tech-watch-julia [1]\n",
    "\n",
    "[1] https://github.com/rdeits/DetroitTechWatch2020.jl/blob/master/Intro%20to%20Julia.ipynb"
   ]
  },
  {
   "cell_type": "markdown",
   "metadata": {
    "slideshow": {
     "slide_type": "slide"
    }
   },
   "source": [
    "# Who am I?\n",
    "\n",
    "* Former MIT PhD, now a robotics engineer at Boston Dynamics\n",
    "    * The opinions expressed here are mine, not those of Boston Dynamics\n",
    "* Long-time Julia user:\n",
    "    * Co-founder of JuliaRobotics: https://juliarobotics.org/\n",
    "    * JuliaCon presenter: https://www.youtube.com/watch?v=dmWQtI3DFFo\n",
    "    * Open-source contributor: https://github.com/rdeits/\n",
    " \n",
    "<figure>\n",
    "    <img src=\"img/atlas.gif\" width=\"500px\"/>\n",
    "    <figcaption>My day job</figcaption>\n",
    "</figure>\n",
    "\n"
   ]
  },
  {
   "cell_type": "markdown",
   "metadata": {
    "slideshow": {
     "slide_type": "slide"
    }
   },
   "source": [
    "# Overview\n",
    "\n",
    "* What is Julia?\n",
    "* Tour of Julia\n",
    "  * Functions, types, multiple dispatch\n",
    "* Julia is fast! \n",
    "  * Benchmarking Julia vs. C and Python\n",
    "* Bonus Features of Julia\n",
    "  * Async tasks, multiprocessing, and metaprogramming\n",
    "* What's hard to do in Julia?\n",
    "* Essential Julia packages and tools"
   ]
  },
  {
   "cell_type": "markdown",
   "metadata": {
    "slideshow": {
     "slide_type": "slide"
    }
   },
   "source": [
    "# What is Julia\n",
    "\n",
    "<https://docs.julialang.org/en/v1/>\n",
    "\n",
    "* Julia is a high-level language like Python with the performance of a fast language like C\n",
    "* Julia is a great choice for scientific computing, with:\n",
    "  * Excellent performance\n",
    "  * N-dimensional arrays\n",
    "  * Parallel and distributed computing\n",
    "* And it's also a nice environment for general purpose programming, with:\n",
    "  * An active ecosystem of packages and good tools for managing them\n",
    "  * A rich type system\n",
    "  * Iterators, asynchronous tasks, and coroutines\n"
   ]
  },
  {
   "cell_type": "markdown",
   "metadata": {
    "slideshow": {
     "slide_type": "subslide"
    }
   },
   "source": [
    "# Julia at a Glance\n",
    "\n",
    "* First public release in 2012, version 1.0 released in 2018\n",
    "* Free\n",
    "    * Julia itself is BSD licensed\n",
    "    * It bundles some GPLed libraries (which can be disabled if desired)\n",
    "* Built-in JIT compiler transforms Julia code to native assembly at run time\n",
    "  * Uses LLVM under the hood\n",
    "* Garbage collected\n",
    "* Dynamically typed\n",
    "* Organized via multiple dispatch"
   ]
  },
  {
   "cell_type": "markdown",
   "metadata": {
    "slideshow": {
     "slide_type": "slide"
    }
   },
   "source": [
    "# A Tour of Julia"
   ]
  },
  {
   "cell_type": "markdown",
   "metadata": {
    "slideshow": {
     "slide_type": "subslide"
    }
   },
   "source": [
    "##  The Basics"
   ]
  },
  {
   "cell_type": "markdown",
   "metadata": {
    "slideshow": {
     "slide_type": "fragment"
    }
   },
   "source": [
    "Arithmetic:"
   ]
  },
  {
   "cell_type": "code",
   "execution_count": 2,
   "metadata": {
    "slideshow": {
     "slide_type": "-"
    }
   },
   "outputs": [
    {
     "data": {
      "text/plain": [
       "4"
      ]
     },
     "execution_count": 2,
     "metadata": {},
     "output_type": "execute_result"
    }
   ],
   "source": [
    "2 + 2"
   ]
  },
  {
   "cell_type": "markdown",
   "metadata": {
    "slideshow": {
     "slide_type": "fragment"
    }
   },
   "source": [
    "Strings:"
   ]
  },
  {
   "cell_type": "code",
   "execution_count": 3,
   "metadata": {
    "slideshow": {
     "slide_type": "-"
    }
   },
   "outputs": [
    {
     "name": "stdout",
     "output_type": "stream",
     "text": [
      "hello world\n"
     ]
    }
   ],
   "source": [
    "# Strings\n",
    "println(\"hello world\")"
   ]
  },
  {
   "cell_type": "markdown",
   "metadata": {
    "slideshow": {
     "slide_type": "fragment"
    }
   },
   "source": [
    "Arrays:"
   ]
  },
  {
   "cell_type": "code",
   "execution_count": 4,
   "metadata": {
    "slideshow": {
     "slide_type": "-"
    }
   },
   "outputs": [],
   "source": [
    "x = [1, 2, 3, 4];"
   ]
  },
  {
   "cell_type": "markdown",
   "metadata": {
    "slideshow": {
     "slide_type": "subslide"
    }
   },
   "source": [
    "## Functions"
   ]
  },
  {
   "cell_type": "code",
   "execution_count": 5,
   "metadata": {},
   "outputs": [
    {
     "data": {
      "text/plain": [
       "say_hello (generic function with 1 method)"
      ]
     },
     "execution_count": 5,
     "metadata": {},
     "output_type": "execute_result"
    }
   ],
   "source": [
    "function say_hello(name)\n",
    "    println(\"hello \", name)\n",
    "end"
   ]
  },
  {
   "cell_type": "code",
   "execution_count": 6,
   "metadata": {
    "slideshow": {
     "slide_type": "fragment"
    }
   },
   "outputs": [
    {
     "name": "stdout",
     "output_type": "stream",
     "text": [
      "hello world\n"
     ]
    }
   ],
   "source": [
    "say_hello(\"world\")"
   ]
  },
  {
   "cell_type": "markdown",
   "metadata": {
    "slideshow": {
     "slide_type": "fragment"
    }
   },
   "source": [
    "By default, a function is generic, so you can pass in any type you want:"
   ]
  },
  {
   "cell_type": "code",
   "execution_count": 7,
   "metadata": {},
   "outputs": [
    {
     "name": "stdout",
     "output_type": "stream",
     "text": [
      "hello [1, 2, 3]\n"
     ]
    }
   ],
   "source": [
    "say_hello([1, 2, 3])"
   ]
  },
  {
   "cell_type": "markdown",
   "metadata": {
    "slideshow": {
     "slide_type": "subslide"
    }
   },
   "source": [
    "## Types\n",
    "\n",
    "Every value in Julia has a type:"
   ]
  },
  {
   "cell_type": "code",
   "execution_count": 8,
   "metadata": {},
   "outputs": [
    {
     "data": {
      "text/plain": [
       "Float64"
      ]
     },
     "execution_count": 8,
     "metadata": {},
     "output_type": "execute_result"
    }
   ],
   "source": [
    "typeof(1.0)"
   ]
  },
  {
   "cell_type": "code",
   "execution_count": 9,
   "metadata": {
    "slideshow": {
     "slide_type": "fragment"
    }
   },
   "outputs": [
    {
     "data": {
      "text/plain": [
       "Int64"
      ]
     },
     "execution_count": 9,
     "metadata": {},
     "output_type": "execute_result"
    }
   ],
   "source": [
    "typeof(1)"
   ]
  },
  {
   "cell_type": "code",
   "execution_count": 10,
   "metadata": {
    "slideshow": {
     "slide_type": "fragment"
    }
   },
   "outputs": [
    {
     "data": {
      "text/plain": [
       "Irrational{:π}"
      ]
     },
     "execution_count": 10,
     "metadata": {},
     "output_type": "execute_result"
    }
   ],
   "source": [
    "typeof(π)"
   ]
  },
  {
   "cell_type": "code",
   "execution_count": 11,
   "metadata": {
    "slideshow": {
     "slide_type": "fragment"
    }
   },
   "outputs": [
    {
     "data": {
      "text/plain": [
       "Array{Int64,1}"
      ]
     },
     "execution_count": 11,
     "metadata": {},
     "output_type": "execute_result"
    }
   ],
   "source": [
    "typeof([1, 2, 3])"
   ]
  },
  {
   "cell_type": "markdown",
   "metadata": {
    "slideshow": {
     "slide_type": "subslide"
    }
   },
   "source": [
    "You can create your own types to organize your data:"
   ]
  },
  {
   "cell_type": "code",
   "execution_count": 12,
   "metadata": {},
   "outputs": [
    {
     "data": {
      "text/plain": [
       "Person(\"Alice\")"
      ]
     },
     "execution_count": 12,
     "metadata": {},
     "output_type": "execute_result"
    }
   ],
   "source": [
    "struct Person\n",
    "  name::String\n",
    "end\n",
    "\n",
    "alice = Person(\"Alice\")"
   ]
  },
  {
   "cell_type": "markdown",
   "metadata": {
    "slideshow": {
     "slide_type": "fragment"
    }
   },
   "source": [
    "Julia's types are extremely lightweight, and user-defined types are *exactly* as performant as anything built-in:"
   ]
  },
  {
   "cell_type": "code",
   "execution_count": 13,
   "metadata": {},
   "outputs": [
    {
     "data": {
      "text/plain": [
       "true"
      ]
     },
     "execution_count": 13,
     "metadata": {},
     "output_type": "execute_result"
    }
   ],
   "source": [
    "sizeof(Person) == sizeof(Ptr{String})"
   ]
  },
  {
   "cell_type": "markdown",
   "metadata": {
    "slideshow": {
     "slide_type": "slide"
    }
   },
   "source": [
    "## Multiple Dispatch\n",
    "\n",
    "Julia does not have classes like Java, Python, or C++. Instead, code is organized around *multiple dispatch*, where the compiler chooses the appropriate method of a given function based on the types of *all* of its input arguments. \n",
    "\n",
    "For more, see: [The Unreasonable Effectiveness of Multiple Dispatch (Stefan Karpinski, JuliaCon 2019)](https://www.youtube.com/watch?v=kc9HwsxE1OY)"
   ]
  },
  {
   "cell_type": "code",
   "execution_count": 14,
   "metadata": {
    "slideshow": {
     "slide_type": "subslide"
    }
   },
   "outputs": [
    {
     "data": {
      "text/plain": [
       "greet (generic function with 1 method)"
      ]
     },
     "execution_count": 14,
     "metadata": {},
     "output_type": "execute_result"
    }
   ],
   "source": [
    "greet(x, y) = println(\"$x greets $y\")"
   ]
  },
  {
   "cell_type": "code",
   "execution_count": 15,
   "metadata": {
    "slideshow": {
     "slide_type": "fragment"
    }
   },
   "outputs": [
    {
     "name": "stdout",
     "output_type": "stream",
     "text": [
      "Person(\"alice\") greets Person(\"bob\")\n"
     ]
    }
   ],
   "source": [
    "alice = Person(\"alice\")\n",
    "bob = Person(\"bob\")\n",
    "\n",
    "greet(alice, bob)"
   ]
  },
  {
   "cell_type": "markdown",
   "metadata": {
    "slideshow": {
     "slide_type": "fragment"
    }
   },
   "source": [
    "Currently there is only one `greet()` function, and it will work on `x` and `y` of any type:"
   ]
  },
  {
   "cell_type": "code",
   "execution_count": 16,
   "metadata": {},
   "outputs": [
    {
     "name": "stdout",
     "output_type": "stream",
     "text": [
      "[1, 2, 3] greets hello world\n"
     ]
    }
   ],
   "source": [
    "greet([1, 2, 3], \"hello world\")"
   ]
  },
  {
   "cell_type": "markdown",
   "metadata": {
    "slideshow": {
     "slide_type": "subslide"
    }
   },
   "source": [
    "We can use abstract types to organize the behavior of related types:"
   ]
  },
  {
   "cell_type": "code",
   "execution_count": 17,
   "metadata": {},
   "outputs": [],
   "source": [
    "abstract type Animal end\n",
    "\n",
    "struct Cat <: Animal\n",
    "    name::String\n",
    "end"
   ]
  },
  {
   "cell_type": "markdown",
   "metadata": {
    "slideshow": {
     "slide_type": "fragment"
    }
   },
   "source": [
    "We've already defined `greet(x, y)` for any `x` and `y`, but we can add another definition for a more specific set of input types.\n",
    "\n",
    "We can be as specific or as general as we like with the argument types:"
   ]
  },
  {
   "cell_type": "code",
   "execution_count": 18,
   "metadata": {},
   "outputs": [
    {
     "data": {
      "text/plain": [
       "greet (generic function with 2 methods)"
      ]
     },
     "execution_count": 18,
     "metadata": {},
     "output_type": "execute_result"
    }
   ],
   "source": [
    "greet(x::Person, y::Animal) = println(\"$x pats $y\")"
   ]
  },
  {
   "cell_type": "code",
   "execution_count": 19,
   "metadata": {
    "slideshow": {
     "slide_type": "fragment"
    }
   },
   "outputs": [
    {
     "data": {
      "text/plain": [
       "greet (generic function with 3 methods)"
      ]
     },
     "execution_count": 19,
     "metadata": {},
     "output_type": "execute_result"
    }
   ],
   "source": [
    "greet(x::Cat, y) = println(\"$x meows at $y\")"
   ]
  },
  {
   "cell_type": "markdown",
   "metadata": {
    "slideshow": {
     "slide_type": "subslide"
    }
   },
   "source": [
    "Julia will always pick the *most specific* method that matches the provided function arguments."
   ]
  },
  {
   "cell_type": "code",
   "execution_count": 20,
   "metadata": {},
   "outputs": [
    {
     "name": "stdout",
     "output_type": "stream",
     "text": [
      "Person(\"alice\") pats Cat(\"fluffy\")\n"
     ]
    }
   ],
   "source": [
    "fluffy = Cat(\"fluffy\")\n",
    "\n",
    "greet(alice, fluffy)"
   ]
  },
  {
   "cell_type": "code",
   "execution_count": 21,
   "metadata": {
    "slideshow": {
     "slide_type": "fragment"
    }
   },
   "outputs": [
    {
     "name": "stdout",
     "output_type": "stream",
     "text": [
      "Cat(\"fluffy\") meows at Person(\"alice\")\n"
     ]
    }
   ],
   "source": [
    "greet(fluffy, alice)"
   ]
  },
  {
   "cell_type": "code",
   "execution_count": 22,
   "metadata": {
    "slideshow": {
     "slide_type": "subslide"
    }
   },
   "outputs": [
    {
     "data": {
      "text/plain": [
       "greet (generic function with 6 methods)"
      ]
     },
     "execution_count": 22,
     "metadata": {},
     "output_type": "execute_result"
    }
   ],
   "source": [
    "struct Dog <: Animal\n",
    "    name::String\n",
    "end\n",
    "\n",
    "greet(x::Dog, y) = println(\"$x barks at $y\")\n",
    "\n",
    "greet(x::Dog, y::Person) = println(\"$x licks $y's face\")\n",
    "\n",
    "greet(x::Dog, y::Dog) = println(\"$x sniffs $y's butt\")"
   ]
  },
  {
   "cell_type": "code",
   "execution_count": 23,
   "metadata": {
    "slideshow": {
     "slide_type": "fragment"
    }
   },
   "outputs": [
    {
     "name": "stdout",
     "output_type": "stream",
     "text": [
      "Person(\"alice\") pats Dog(\"fido\")\n"
     ]
    }
   ],
   "source": [
    "fido = Dog(\"fido\")\n",
    "rex = Dog(\"rex\")\n",
    "\n",
    "greet(alice, fido)"
   ]
  },
  {
   "cell_type": "code",
   "execution_count": 24,
   "metadata": {
    "slideshow": {
     "slide_type": "fragment"
    }
   },
   "outputs": [
    {
     "name": "stdout",
     "output_type": "stream",
     "text": [
      "Dog(\"fido\") barks at Cat(\"fluffy\")\n"
     ]
    }
   ],
   "source": [
    "greet(fido, fluffy)"
   ]
  },
  {
   "cell_type": "code",
   "execution_count": 25,
   "metadata": {
    "slideshow": {
     "slide_type": "fragment"
    }
   },
   "outputs": [
    {
     "name": "stdout",
     "output_type": "stream",
     "text": [
      "Dog(\"fido\") licks Person(\"bob\")'s face\n"
     ]
    }
   ],
   "source": [
    "greet(fido, bob)"
   ]
  },
  {
   "cell_type": "code",
   "execution_count": 26,
   "metadata": {
    "slideshow": {
     "slide_type": "fragment"
    }
   },
   "outputs": [
    {
     "name": "stdout",
     "output_type": "stream",
     "text": [
      "Dog(\"fido\") sniffs Dog(\"rex\")'s butt\n"
     ]
    }
   ],
   "source": [
    "greet(fido, rex)"
   ]
  },
  {
   "cell_type": "markdown",
   "metadata": {
    "slideshow": {
     "slide_type": "subslide"
    }
   },
   "source": [
    "If you want to know which `greet` method will be called for a given set of arguments, you can use `@which` to check:"
   ]
  },
  {
   "cell_type": "code",
   "execution_count": 27,
   "metadata": {},
   "outputs": [
    {
     "data": {
      "text/html": [
       "greet(x::<b>Person</b>, y::<b>Animal</b>) in Main at In[18]:1"
      ],
      "text/plain": [
       "greet(x::Person, y::Animal) in Main at In[18]:1"
      ]
     },
     "execution_count": 27,
     "metadata": {},
     "output_type": "execute_result"
    }
   ],
   "source": [
    "@which greet(alice, fido)"
   ]
  },
  {
   "cell_type": "markdown",
   "metadata": {
    "slideshow": {
     "slide_type": "fragment"
    }
   },
   "source": [
    "You can list all of the methods of a given function with `methods`:"
   ]
  },
  {
   "cell_type": "code",
   "execution_count": 28,
   "metadata": {},
   "outputs": [
    {
     "data": {
      "text/html": [
       "# 6 methods for generic function <b>greet</b>:<ul><li> greet(x::<b>Dog</b>, y::<b>Dog</b>) in Main at In[22]:9</li> <li> greet(x::<b>Dog</b>, y::<b>Person</b>) in Main at In[22]:7</li> <li> greet(x::<b>Person</b>, y::<b>Animal</b>) in Main at In[18]:1</li> <li> greet(x::<b>Cat</b>, y) in Main at In[19]:1</li> <li> greet(x::<b>Dog</b>, y) in Main at In[22]:5</li> <li> greet(x, y) in Main at In[14]:1</li> </ul>"
      ],
      "text/plain": [
       "# 6 methods for generic function \"greet\":\n",
       "[1] greet(x::Dog, y::Dog) in Main at In[22]:9\n",
       "[2] greet(x::Dog, y::Person) in Main at In[22]:7\n",
       "[3] greet(x::Person, y::Animal) in Main at In[18]:1\n",
       "[4] greet(x::Cat, y) in Main at In[19]:1\n",
       "[5] greet(x::Dog, y) in Main at In[22]:5\n",
       "[6] greet(x, y) in Main at In[14]:1"
      ]
     },
     "execution_count": 28,
     "metadata": {},
     "output_type": "execute_result"
    }
   ],
   "source": [
    "methods(greet)"
   ]
  },
  {
   "cell_type": "markdown",
   "metadata": {
    "slideshow": {
     "slide_type": "subslide"
    }
   },
   "source": [
    "## Modules\n",
    "\n",
    "Modules in Julia are used to organize code into namespaces."
   ]
  },
  {
   "cell_type": "code",
   "execution_count": 29,
   "metadata": {},
   "outputs": [
    {
     "name": "stdout",
     "output_type": "stream",
     "text": [
      "hello world\n"
     ]
    }
   ],
   "source": [
    "module MyUsefulModule\n",
    "\n",
    "export hello\n",
    "\n",
    "hello() = println(\"hello world\")\n",
    "goodbye() = println(\"goodbye world\")\n",
    "\n",
    "end\n",
    "\n",
    "MyUsefulModule.hello()"
   ]
  },
  {
   "cell_type": "markdown",
   "metadata": {
    "slideshow": {
     "slide_type": "fragment"
    }
   },
   "source": [
    "The `using` command brings any `export`ed symbols from a module into the current namespace:"
   ]
  },
  {
   "cell_type": "code",
   "execution_count": 30,
   "metadata": {},
   "outputs": [
    {
     "name": "stdout",
     "output_type": "stream",
     "text": [
      "hello world\n"
     ]
    }
   ],
   "source": [
    "using .MyUsefulModule\n",
    "hello()"
   ]
  },
  {
   "cell_type": "markdown",
   "metadata": {
    "slideshow": {
     "slide_type": "subslide"
    }
   },
   "source": [
    "## Using Packages\n",
    "\n",
    "Julia has a built-in package manager called `Pkg`. It handles installing packages and managing all your package environments. "
   ]
  },
  {
   "cell_type": "markdown",
   "metadata": {
    "slideshow": {
     "slide_type": "fragment"
    }
   },
   "source": [
    "A package *environment* represents a single set of installed packages. Let's activate the environment for this talk:"
   ]
  },
  {
   "cell_type": "code",
   "execution_count": 31,
   "metadata": {},
   "outputs": [
    {
     "name": "stderr",
     "output_type": "stream",
     "text": [
      "\u001b[32m\u001b[1m Activating\u001b[22m\u001b[39m environment at `~/Dropbox/Presentations/2020-detroit-tech-watch-julia-intro/Project.toml`\n"
     ]
    }
   ],
   "source": [
    "using Pkg\n",
    "Pkg.activate(\".\")"
   ]
  },
  {
   "cell_type": "markdown",
   "metadata": {},
   "source": [
    "(this is similar to `source venv/bin/activate` in a Python virtual environment)"
   ]
  },
  {
   "cell_type": "markdown",
   "metadata": {
    "slideshow": {
     "slide_type": "subslide"
    }
   },
   "source": [
    "We can install a package in our current environment. This will only affect that environment, so we can safely do this without breaking any other Julia projects we might be working on:"
   ]
  },
  {
   "cell_type": "code",
   "execution_count": 32,
   "metadata": {},
   "outputs": [
    {
     "name": "stderr",
     "output_type": "stream",
     "text": [
      "\u001b[32m\u001b[1m   Updating\u001b[22m\u001b[39m registry at `~/.julia/registries/General`\n"
     ]
    },
    {
     "name": "stdout",
     "output_type": "stream",
     "text": [
      "\u001b[?25l    "
     ]
    },
    {
     "name": "stderr",
     "output_type": "stream",
     "text": [
      "\u001b[32m\u001b[1m   Updating\u001b[22m\u001b[39m git-repo `git@github.com:JuliaRegistries/General.git`\n"
     ]
    },
    {
     "name": "stdout",
     "output_type": "stream",
     "text": [
      "\u001b[36m\u001b[1mFetching:\u001b[22m\u001b[39m [>                                        ]  0.0 %\r",
      "    \u001b[36m\u001b[1mFetching:\u001b[22m\u001b[39m [======>                                  ]  14.3 %\r",
      "    \u001b[36m\u001b[1mFetching:\u001b[22m\u001b[39m [============>                            ]  28.6 %\r",
      "    \u001b[36m\u001b[1mFetching:\u001b[22m\u001b[39m [==================>                      ]  42.9 %\r",
      "    \u001b[36m\u001b[1mFetching:\u001b[22m\u001b[39m [=======================>                 ]  57.1 %\r",
      "    \u001b[36m\u001b[1mFetching:\u001b[22m\u001b[39m [=============================>           ]  71.4 %\r",
      "    \u001b[36m\u001b[1mFetching:\u001b[22m\u001b[39m [===================================>     ]  85.7 %\r",
      "    \u001b[36m\u001b[1mFetching:\u001b[22m\u001b[39m [========================================>]  100.0 %\r",
      "\u001b[2K\u001b[?25h"
     ]
    },
    {
     "name": "stderr",
     "output_type": "stream",
     "text": [
      "\u001b[32m\u001b[1m  Resolving\u001b[22m\u001b[39m package versions...\n",
      "\u001b[32m\u001b[1m   Updating\u001b[22m\u001b[39m `~/Dropbox/Presentations/2020-detroit-tech-watch-julia-intro/Project.toml`\n",
      "\u001b[90m [no changes]\u001b[39m\n",
      "\u001b[32m\u001b[1m   Updating\u001b[22m\u001b[39m `~/Dropbox/Presentations/2020-detroit-tech-watch-julia-intro/Manifest.toml`\n",
      "\u001b[90m [no changes]\u001b[39m\n"
     ]
    }
   ],
   "source": [
    "Pkg.add(\"Colors\")"
   ]
  },
  {
   "cell_type": "markdown",
   "metadata": {
    "slideshow": {
     "slide_type": "subslide"
    }
   },
   "source": [
    "The `Project.toml` file gives a concise description of the packages we've added to this environment:"
   ]
  },
  {
   "cell_type": "code",
   "execution_count": 33,
   "metadata": {},
   "outputs": [
    {
     "name": "stdout",
     "output_type": "stream",
     "text": [
      "[deps]\n",
      "BenchmarkTools = \"6e4b80f9-dd63-53aa-95a3-0cdb28fa8baf\"\n",
      "Colors = \"5ae59095-9a9b-59fe-a467-6f913c188581\"\n",
      "HTTP = \"cd3eb016-35fb-5094-929b-558a96fad6f3\"\n",
      "Plots = \"91a5bcdd-55d7-5caf-9e0b-520d859cae80\"\n",
      "ProgressMeter = \"92933f4c-e287-5a05-a399-4b506db050ca\"\n",
      "PyCall = \"438e738f-606a-5dbb-bf0a-cddfbfd45ab0\"\n"
     ]
    },
    {
     "data": {
      "text/plain": [
       "Process(`\u001b[4mcat\u001b[24m \u001b[4mProject.toml\u001b[24m`, ProcessExited(0))"
      ]
     },
     "execution_count": 33,
     "metadata": {},
     "output_type": "execute_result"
    }
   ],
   "source": [
    "run(`cat Project.toml`)"
   ]
  },
  {
   "cell_type": "markdown",
   "metadata": {
    "slideshow": {
     "slide_type": "fragment"
    }
   },
   "source": [
    "The package manager also generates a complete manifest of every package that is installed, including all the transitive dependencies and their versions. You can use this to reproduce a given package environment exactly:"
   ]
  },
  {
   "cell_type": "code",
   "execution_count": 34,
   "metadata": {},
   "outputs": [
    {
     "name": "stdout",
     "output_type": "stream",
     "text": [
      "# This file is machine-generated - editing it directly is not advised\n",
      "\n",
      "[[Base64]]\n",
      "uuid = \"2a0f44e3-6c83-55bd-87e4-b1978d98bd5f\"\n",
      "\n",
      "[[BenchmarkTools]]\n",
      "deps = [\"JSON\", \"Logging\", \"Printf\", \"Statistics\", \"UUIDs\"]\n",
      "git-tree-sha1 = \"9e62e66db34540a0c919d72172cc2f642ac71260\"\n",
      "uuid = \"6e4b80f9-dd63-53aa-95a3-0cdb28fa8baf\"\n",
      "version = \"0.5.0\"\n",
      "\n",
      "[[Bzip2_jll]]\n",
      "deps = [\"Libdl\", \"Pkg\"]\n",
      "git-tree-sha1 = \"3663bfffede2ef41358b6fc2e1d8a6d50b3c3904\"\n",
      "uuid = \"6e34b625-4abd-537c-b88f-471c36dfa7a0\"\n",
      "version = \"1.0.6+2\"\n",
      "\n",
      "[[ColorSchemes]]\n",
      "deps = [\"ColorTypes\", \"Colors\", \"FixedPointNumbers\", \"Random\", \"StaticArrays\"]\n",
      "git-tree-sha1 = \"7a15e3690529fd1042f0ab954dff7445b1efc8a5\"\n",
      "uuid = \"35d6a980-a343-548e-a6ea-1d62b119f2f4\"\n",
      "version = \"3.9.0\"\n",
      "\n",
      "[[ColorTypes]]\n",
      "deps = [\"FixedPointNumbers\", \"Random\"]\n",
      "git-tree-sha1 = \"c73d9cfc2a9d8433dc77f5bff4bddf46b1d78c20\"\n",
      "uuid = \"3da002f7-5984-5a60-b8a6-cbb66c0b333f\"\n",
      "version = \"0.10.3\"\n",
      "\n",
      "[[Colors]]\n",
      "deps = [\"ColorTypes\", \"FixedPointNumbers\", \"InteractiveUtils\", \"Reexport\"]\n",
      "git-tree-sha1 = \"2fdeb981ebcf52cd800ddb6a0aa5eac34153552d\"\n",
      "uuid = \"5ae59095-9a9b-59fe-a467-6f913c188581\"\n",
      "version = \"0.12.0\"\n",
      "\n",
      "[[Conda]]\n",
      "deps = [\"JSON\", \"VersionParsing\"]\n",
      "git-tree-sha1 = \"7a58bb32ce5d85f8bf7559aa7c2842f9aecf52fc\"\n",
      "uuid = \"8f4d0f93-b110-5947-807f-2305c1781a2d\"\n",
      "version = \"1.4.1\"\n",
      "\n",
      "[[Contour]]\n",
      "deps = [\"StaticArrays\"]\n",
      "git-tree-sha1 = \"0b17db36e7e03f8437e0d1f55aea3e4a60c74353\"\n",
      "uuid = \"d38c429a-6771-53c6-b99e-75d170b6e991\"\n",
      "version = \"0.5.3\"\n",
      "\n",
      "[[DataAPI]]\n",
      "git-tree-sha1 = \"176e23402d80e7743fc26c19c681bfb11246af32\"\n",
      "uuid = \"9a962f9c-6df0-11e9-0e5d-c546b8b5ee8a\"\n",
      "version = \"1.3.0\"\n",
      "\n",
      "[[DataStructures]]\n",
      "deps = [\"InteractiveUtils\", \"OrderedCollections\"]\n",
      "git-tree-sha1 = \"af6d9c86e191c917c2276fbede1137e8ea20157f\"\n",
      "uuid = \"864edb3b-99cc-5e75-8d2d-829cb0a9cfe8\"\n",
      "version = \"0.17.17\"\n",
      "\n",
      "[[Dates]]\n",
      "deps = [\"Printf\"]\n",
      "uuid = \"ade2ca70-3891-5945-98fb-dc099432e06a\"\n",
      "\n",
      "[[DelimitedFiles]]\n",
      "deps = [\"Mmap\"]\n",
      "uuid = \"8bb1440f-4735-579b-a4ab-409b98df4dab\"\n",
      "\n",
      "[[Distributed]]\n",
      "deps = [\"Random\", \"Serialization\", \"Sockets\"]\n",
      "uuid = \"8ba89e20-285c-5b6f-9357-94700520ee1b\"\n",
      "\n",
      "[[FFMPEG]]\n",
      "deps = [\"FFMPEG_jll\"]\n",
      "git-tree-sha1 = \"c82bef6fc01e30d500f588cd01d29bdd44f1924e\"\n",
      "uuid = \"c87230d0-a227-11e9-1b43-d7ebe4e7570a\"\n",
      "version = \"0.3.0\"\n",
      "\n",
      "[[FFMPEG_jll]]\n",
      "deps = [\"Bzip2_jll\", \"FreeType2_jll\", \"FriBidi_jll\", \"LAME_jll\", \"LibVPX_jll\", \"Libdl\", \"Ogg_jll\", \"OpenSSL_jll\", \"Opus_jll\", \"Pkg\", \"Zlib_jll\", \"libass_jll\", \"libfdk_aac_jll\", \"libvorbis_jll\", \"x264_jll\", \"x265_jll\"]\n",
      "git-tree-sha1 = \"0fa07f43e5609ea54848b82b4bb330b250e9645b\"\n",
      "uuid = \"b22a6f82-2f65-5046-a5b2-351ab43fb4e5\"\n",
      "version = \"4.1.0+3\"\n",
      "\n",
      "[[FixedPointNumbers]]\n",
      "git-tree-sha1 = \"3ba9ea634d4c8b289d590403b4a06f8e227a6238\"\n",
      "uuid = \"53c48c17-4a7d-5ca2-90c5-79b7896eea93\"\n",
      "version = \"0.8.0\"\n",
      "\n",
      "[[FreeType2_jll]]\n",
      "deps = [\"Bzip2_jll\", \"Libdl\", \"Pkg\", \"Zlib_jll\"]\n",
      "git-tree-sha1 = \"7d900f32a3788d4eacac2bfa3bf5c770179c8afd\"\n",
      "uuid = \"d7e528f0-a631-5988-bf34-fe36492bcfd7\"\n",
      "version = \"2.10.1+2\"\n",
      "\n",
      "[[FriBidi_jll]]\n",
      "deps = [\"Libdl\", \"Pkg\"]\n",
      "git-tree-sha1 = \"2f56bee16bd0151de7b6a1eeea2ced190a2ad8d4\"\n",
      "uuid = \"559328eb-81f9-559d-9380-de523a88c83c\"\n",
      "version = \"1.0.5+3\"\n",
      "\n",
      "[[GR]]\n",
      "deps = [\"Base64\", \"DelimitedFiles\", \"LinearAlgebra\", \"Printf\", \"Random\", \"Serialization\", \"Sockets\", \"Test\", \"UUIDs\"]\n",
      "git-tree-sha1 = \"1185d50c5c90ec7c0784af7f8d0d1a600750dc4d\"\n",
      "uuid = \"28b8d3ca-fb5f-59d9-8090-bfdbd6d07a71\"\n",
      "version = \"0.49.1\"\n",
      "\n",
      "[[GeometryTypes]]\n",
      "deps = [\"ColorTypes\", \"FixedPointNumbers\", \"LinearAlgebra\", \"StaticArrays\"]\n",
      "git-tree-sha1 = \"34bfa994967e893ab2f17b864eec221b3521ba4d\"\n",
      "uuid = \"4d00f742-c7ba-57c2-abde-4428a4b178cb\"\n",
      "version = \"0.8.3\"\n",
      "\n",
      "[[HTTP]]\n",
      "deps = [\"Base64\", \"Dates\", \"IniFile\", \"MbedTLS\", \"Sockets\"]\n",
      "git-tree-sha1 = \"fe31f4ff144392ad8176f5c7c03cca6ba320271c\"\n",
      "uuid = \"cd3eb016-35fb-5094-929b-558a96fad6f3\"\n",
      "version = \"0.8.14\"\n",
      "\n",
      "[[IniFile]]\n",
      "deps = [\"Test\"]\n",
      "git-tree-sha1 = \"098e4d2c533924c921f9f9847274f2ad89e018b8\"\n",
      "uuid = \"83e8ac13-25f8-5344-8a64-a9f2b223428f\"\n",
      "version = \"0.5.0\"\n",
      "\n",
      "[[InteractiveUtils]]\n",
      "deps = [\"Markdown\"]\n",
      "uuid = \"b77e0a4c-d291-57a0-90e8-8db25a27a240\"\n",
      "\n",
      "[[JSON]]\n",
      "deps = [\"Dates\", \"Mmap\", \"Parsers\", \"Unicode\"]\n",
      "git-tree-sha1 = \"b34d7cef7b337321e97d22242c3c2b91f476748e\"\n",
      "uuid = \"682c06a0-de6a-54ab-a142-c8b1cf79cde6\"\n",
      "version = \"0.21.0\"\n",
      "\n",
      "[[LAME_jll]]\n",
      "deps = [\"Libdl\", \"Pkg\"]\n",
      "git-tree-sha1 = \"221cc8998b9060677448cbb6375f00032554c4fd\"\n",
      "uuid = \"c1c5ebd0-6772-5130-a774-d5fcae4a789d\"\n",
      "version = \"3.100.0+1\"\n",
      "\n",
      "[[LibGit2]]\n",
      "deps = [\"Printf\"]\n",
      "uuid = \"76f85450-5226-5b5a-8eaa-529ad045b433\"\n",
      "\n",
      "[[LibVPX_jll]]\n",
      "deps = [\"Libdl\", \"Pkg\"]\n",
      "git-tree-sha1 = \"e3549ca9bf35feb9d9d954f4c6a9032e92f46e7c\"\n",
      "uuid = \"dd192d2f-8180-539f-9fb4-cc70b1dcf69a\"\n",
      "version = \"1.8.1+1\"\n",
      "\n",
      "[[Libdl]]\n",
      "uuid = \"8f399da3-3557-5675-b5ff-fb832c97cbdb\"\n",
      "\n",
      "[[LinearAlgebra]]\n",
      "deps = [\"Libdl\"]\n",
      "uuid = \"37e2e46d-f89d-539d-b4ee-838fcccc9c8e\"\n",
      "\n",
      "[[Logging]]\n",
      "uuid = \"56ddb016-857b-54e1-b83d-db4d58db5568\"\n",
      "\n",
      "[[MacroTools]]\n",
      "deps = [\"Markdown\", \"Random\"]\n",
      "git-tree-sha1 = \"f7d2e3f654af75f01ec49be82c231c382214223a\"\n",
      "uuid = \"1914dd2f-81c6-5fcd-8719-6d5c9610ff09\"\n",
      "version = \"0.5.5\"\n",
      "\n",
      "[[Markdown]]\n",
      "deps = [\"Base64\"]\n",
      "uuid = \"d6f4376e-aef5-505a-96c1-9c027394607a\"\n",
      "\n",
      "[[MbedTLS]]\n",
      "deps = [\"Dates\", \"MbedTLS_jll\", \"Random\", \"Sockets\"]\n",
      "git-tree-sha1 = \"426a6978b03a97ceb7ead77775a1da066343ec6e\"\n",
      "uuid = \"739be429-bea8-5141-9913-cc70e7f3736d\"\n",
      "version = \"1.0.2\"\n",
      "\n",
      "[[MbedTLS_jll]]\n",
      "deps = [\"Libdl\", \"Pkg\"]\n",
      "git-tree-sha1 = \"c83f5a1d038f034ad0549f9ee4d5fac3fb429e33\"\n",
      "uuid = \"c8ffd9c3-330d-5841-b78e-0817d7145fa1\"\n",
      "version = \"2.16.0+2\"\n",
      "\n",
      "[[Measures]]\n",
      "git-tree-sha1 = \"e498ddeee6f9fdb4551ce855a46f54dbd900245f\"\n",
      "uuid = \"442fdcdd-2543-5da2-b0f3-8c86c306513e\"\n",
      "version = \"0.3.1\"\n",
      "\n",
      "[[Missings]]\n",
      "deps = [\"DataAPI\"]\n",
      "git-tree-sha1 = \"de0a5ce9e5289f27df672ffabef4d1e5861247d5\"\n",
      "uuid = \"e1d29d7a-bbdc-5cf2-9ac0-f12de2c33e28\"\n",
      "version = \"0.4.3\"\n",
      "\n",
      "[[Mmap]]\n",
      "uuid = \"a63ad114-7e13-5084-954f-fe012c677804\"\n",
      "\n",
      "[[NaNMath]]\n",
      "git-tree-sha1 = \"928b8ca9b2791081dc71a51c55347c27c618760f\"\n",
      "uuid = \"77ba4419-2d1f-58cd-9bb1-8ffee604a2e3\"\n",
      "version = \"0.3.3\"\n",
      "\n",
      "[[Ogg_jll]]\n",
      "deps = [\"Libdl\", \"Pkg\"]\n",
      "git-tree-sha1 = \"59cf7a95bf5ac39feac80b796e0f39f9d69dc887\"\n",
      "uuid = \"e7412a2a-1a6e-54c0-be00-318e2571c051\"\n",
      "version = \"1.3.4+0\"\n",
      "\n",
      "[[OpenSSL_jll]]\n",
      "deps = [\"Libdl\", \"Pkg\"]\n",
      "git-tree-sha1 = \"d2a6f25262d568b5a7e454cf7ff5066a79d16c7d\"\n",
      "uuid = \"458c3c95-2e84-50aa-8efc-19380b2a3a95\"\n",
      "version = \"1.1.1+2\"\n",
      "\n",
      "[[Opus_jll]]\n",
      "deps = [\"Libdl\", \"Pkg\"]\n",
      "git-tree-sha1 = \"002c18f222a542907e16c83c64a1338992da7e2c\"\n",
      "uuid = \"91d4177d-7536-5919-b921-800302f37372\"\n",
      "version = \"1.3.1+1\"\n",
      "\n",
      "[[OrderedCollections]]\n",
      "git-tree-sha1 = \"12ce190210d278e12644bcadf5b21cbdcf225cd3\"\n",
      "uuid = \"bac558e1-5e72-5ebc-8fee-abe8a469f55d\"\n",
      "version = \"1.2.0\"\n",
      "\n",
      "[[Parsers]]\n",
      "deps = [\"Dates\", \"Test\"]\n",
      "git-tree-sha1 = \"f0abb338b4d00306500056a3fd44c221b8473ef2\"\n",
      "uuid = \"69de0a69-1ddd-5017-9359-2bf0b02dc9f0\"\n",
      "version = \"1.0.4\"\n",
      "\n",
      "[[Pkg]]\n",
      "deps = [\"Dates\", \"LibGit2\", \"Libdl\", \"Logging\", \"Markdown\", \"Printf\", \"REPL\", \"Random\", \"SHA\", \"UUIDs\"]\n",
      "uuid = \"44cfe95a-1eb2-52ea-b672-e2afdf69b78f\"\n",
      "\n",
      "[[PlotThemes]]\n",
      "deps = [\"PlotUtils\", \"Requires\", \"Statistics\"]\n",
      "git-tree-sha1 = \"c6f5ea535551b3b16835134697f0c65d06c94b91\"\n",
      "uuid = \"ccf2f8ad-2431-5c83-bf29-c5338b663b6a\"\n",
      "version = \"2.0.0\"\n",
      "\n",
      "[[PlotUtils]]\n",
      "deps = [\"ColorSchemes\", \"Colors\", \"Dates\", \"Printf\", \"Random\", \"Reexport\", \"Statistics\"]\n",
      "git-tree-sha1 = \"59ec24a0c96c513533e488dff1433df1bd3d6b9f\"\n",
      "uuid = \"995b91a9-d308-5afd-9ec6-746e21dbc043\"\n",
      "version = \"1.0.3\"\n",
      "\n",
      "[[Plots]]\n",
      "deps = [\"Base64\", \"Contour\", \"Dates\", \"FFMPEG\", \"FixedPointNumbers\", \"GR\", \"GeometryTypes\", \"JSON\", \"LinearAlgebra\", \"Measures\", \"NaNMath\", \"Pkg\", \"PlotThemes\", \"PlotUtils\", \"Printf\", \"REPL\", \"Random\", \"RecipesBase\", \"RecipesPipeline\", \"Reexport\", \"Requires\", \"Showoff\", \"SparseArrays\", \"Statistics\", \"StatsBase\", \"UUIDs\"]\n",
      "git-tree-sha1 = \"64e7405da4333ee6df59d7d0d88aade456341b3e\"\n",
      "uuid = \"91a5bcdd-55d7-5caf-9e0b-520d859cae80\"\n",
      "version = \"1.3.2\"\n",
      "\n",
      "[[Printf]]\n",
      "deps = [\"Unicode\"]\n",
      "uuid = \"de0858da-6303-5e67-8744-51eddeeeb8d7\"\n",
      "\n",
      "[[ProgressMeter]]\n",
      "deps = [\"Distributed\", \"Printf\"]\n",
      "git-tree-sha1 = \"b3cb8834eee5410c7246734cc6f4f586fe0dc50e\"\n",
      "uuid = \"92933f4c-e287-5a05-a399-4b506db050ca\"\n",
      "version = \"1.3.0\"\n",
      "\n",
      "[[PyCall]]\n",
      "deps = [\"Conda\", \"Dates\", \"Libdl\", \"LinearAlgebra\", \"MacroTools\", \"Serialization\", \"VersionParsing\"]\n",
      "git-tree-sha1 = \"3a3fdb9000d35958c9ba2323ca7c4958901f115d\"\n",
      "uuid = \"438e738f-606a-5dbb-bf0a-cddfbfd45ab0\"\n",
      "version = \"1.91.4\"\n",
      "\n",
      "[[REPL]]\n",
      "deps = [\"InteractiveUtils\", \"Markdown\", \"Sockets\"]\n",
      "uuid = \"3fa0cd96-eef1-5676-8a61-b3b8758bbffb\"\n",
      "\n",
      "[[Random]]\n",
      "deps = [\"Serialization\"]\n",
      "uuid = \"9a3f8284-a2c9-5f02-9a11-845980a1fd5c\"\n",
      "\n",
      "[[RecipesBase]]\n",
      "git-tree-sha1 = \"54f8ceb165a0f6d083f0d12cb4996f5367c6edbc\"\n",
      "uuid = \"3cdcf5f2-1ef4-517c-9805-6587b60abb01\"\n",
      "version = \"1.0.1\"\n",
      "\n",
      "[[RecipesPipeline]]\n",
      "deps = [\"Dates\", \"PlotUtils\", \"RecipesBase\"]\n",
      "git-tree-sha1 = \"9215637e28503ca85bef843a1fc02b2f76f1ba09\"\n",
      "uuid = \"01d81517-befc-4cb6-b9ec-a95719d0359c\"\n",
      "version = \"0.1.9\"\n",
      "\n",
      "[[Reexport]]\n",
      "deps = [\"Pkg\"]\n",
      "git-tree-sha1 = \"7b1d07f411bc8ddb7977ec7f377b97b158514fe0\"\n",
      "uuid = \"189a3867-3050-52da-a836-e630ba90ab69\"\n",
      "version = \"0.2.0\"\n",
      "\n",
      "[[Requires]]\n",
      "deps = [\"UUIDs\"]\n",
      "git-tree-sha1 = \"d37400976e98018ee840e0ca4f9d20baa231dc6b\"\n",
      "uuid = \"ae029012-a4dd-5104-9daa-d747884805df\"\n",
      "version = \"1.0.1\"\n",
      "\n",
      "[[SHA]]\n",
      "uuid = \"ea8e919c-243c-51af-8825-aaa63cd721ce\"\n",
      "\n",
      "[[Serialization]]\n",
      "uuid = \"9e88b42a-f829-5b0c-bbe9-9e923198166b\"\n",
      "\n",
      "[[Showoff]]\n",
      "deps = [\"Dates\"]\n",
      "git-tree-sha1 = \"e032c9df551fb23c9f98ae1064de074111b7bc39\"\n",
      "uuid = \"992d4aef-0814-514b-bc4d-f2e9a6c4116f\"\n",
      "version = \"0.3.1\"\n",
      "\n",
      "[[Sockets]]\n",
      "uuid = \"6462fe0b-24de-5631-8697-dd941f90decc\"\n",
      "\n",
      "[[SortingAlgorithms]]\n",
      "deps = [\"DataStructures\", \"Random\", \"Test\"]\n",
      "git-tree-sha1 = \"03f5898c9959f8115e30bc7226ada7d0df554ddd\"\n",
      "uuid = \"a2af1166-a08f-5f64-846c-94a0d3cef48c\"\n",
      "version = \"0.3.1\"\n",
      "\n",
      "[[SparseArrays]]\n",
      "deps = [\"LinearAlgebra\", \"Random\"]\n",
      "uuid = \"2f01184e-e22b-5df5-ae63-d93ebab69eaf\"\n",
      "\n",
      "[[StaticArrays]]\n",
      "deps = [\"LinearAlgebra\", \"Random\", \"Statistics\"]\n",
      "git-tree-sha1 = \"5c06c0aeb81bef54aed4b3f446847905eb6cbda0\"\n",
      "uuid = \"90137ffa-7385-5640-81b9-e52037218182\"\n",
      "version = \"0.12.3\"\n",
      "\n",
      "[[Statistics]]\n",
      "deps = [\"LinearAlgebra\", \"SparseArrays\"]\n",
      "uuid = \"10745b16-79ce-11e8-11f9-7d13ad32a3b2\"\n",
      "\n",
      "[[StatsBase]]\n",
      "deps = [\"DataAPI\", \"DataStructures\", \"LinearAlgebra\", \"Missings\", \"Printf\", \"Random\", \"SortingAlgorithms\", \"SparseArrays\", \"Statistics\"]\n",
      "git-tree-sha1 = \"a6102b1f364befdb05746f386b67c6b7e3262c45\"\n",
      "uuid = \"2913bbd2-ae8a-5f71-8c99-4fb6c76f3a91\"\n",
      "version = \"0.33.0\"\n",
      "\n",
      "[[Test]]\n",
      "deps = [\"Distributed\", \"InteractiveUtils\", \"Logging\", \"Random\"]\n",
      "uuid = \"8dfed614-e22c-5e08-85e1-65c5234f0b40\"\n",
      "\n",
      "[[UUIDs]]\n",
      "deps = [\"Random\", \"SHA\"]\n",
      "uuid = \"cf7118a7-6976-5b1a-9a39-7adc72f591a4\"\n",
      "\n",
      "[[Unicode]]\n",
      "uuid = \"4ec0a83e-493e-50e2-b9ac-8f72acf5a8f5\"\n",
      "\n",
      "[[VersionParsing]]\n",
      "git-tree-sha1 = \"80229be1f670524750d905f8fc8148e5a8c4537f\"\n",
      "uuid = \"81def892-9a0e-5fdd-b105-ffc91e053289\"\n",
      "version = \"1.2.0\"\n",
      "\n",
      "[[Zlib_jll]]\n",
      "deps = [\"Libdl\", \"Pkg\"]\n",
      "git-tree-sha1 = \"a2e0d558f6031002e380a90613b199e37a8565bf\"\n",
      "uuid = \"83775a58-1f1d-513f-b197-d71354ab007a\"\n",
      "version = \"1.2.11+10\"\n",
      "\n",
      "[[libass_jll]]\n",
      "deps = [\"Bzip2_jll\", \"FreeType2_jll\", \"FriBidi_jll\", \"Libdl\", \"Pkg\", \"Zlib_jll\"]\n",
      "git-tree-sha1 = \"027a304b2a90de84f690949a21f94e5ae0f92c73\"\n",
      "uuid = \"0ac62f75-1d6f-5e53-bd7c-93b484bb37c0\"\n",
      "version = \"0.14.0+2\"\n",
      "\n",
      "[[libfdk_aac_jll]]\n",
      "deps = [\"Libdl\", \"Pkg\"]\n",
      "git-tree-sha1 = \"480c7ed04f68ea3edd4c757f5db5b6a0a4e0bd99\"\n",
      "uuid = \"f638f0a6-7fb0-5443-88ba-1cc74229b280\"\n",
      "version = \"0.1.6+2\"\n",
      "\n",
      "[[libvorbis_jll]]\n",
      "deps = [\"Libdl\", \"Ogg_jll\", \"Pkg\"]\n",
      "git-tree-sha1 = \"6a66f65b5275dfa799036c8a3a26616a0a271c4a\"\n",
      "uuid = \"f27f6e37-5d2b-51aa-960f-b287f2bc3b7a\"\n",
      "version = \"1.3.6+4\"\n",
      "\n",
      "[[x264_jll]]\n",
      "deps = [\"Libdl\", \"Pkg\"]\n",
      "git-tree-sha1 = \"d89346fe63a6465a9f44e958ac0e3d366af90b74\"\n",
      "uuid = \"1270edf5-f2f9-52d2-97e9-ab00b5d0237a\"\n",
      "version = \"2019.5.25+2\"\n",
      "\n",
      "[[x265_jll]]\n",
      "deps = [\"Libdl\", \"Pkg\"]\n",
      "git-tree-sha1 = \"61324ad346b00a6e541896b94201c9426591e43a\"\n",
      "uuid = \"dfaa095f-4041-5dcd-9319-2fabd8486b76\"\n",
      "version = \"3.0.0+1\"\n"
     ]
    },
    {
     "data": {
      "text/plain": [
       "Process(`\u001b[4mcat\u001b[24m \u001b[4mManifest.toml\u001b[24m`, ProcessExited(0))"
      ]
     },
     "execution_count": 34,
     "metadata": {},
     "output_type": "execute_result"
    }
   ],
   "source": [
    "run(`cat Manifest.toml`)"
   ]
  },
  {
   "cell_type": "markdown",
   "metadata": {
    "slideshow": {
     "slide_type": "subslide"
    }
   },
   "source": [
    "## Example: Representing Colors and Images with Colors.jl\n",
    "\n",
    "Let's take a tour of one of my favorite packages, Colors.jl, and show off some feature's of Julia's arrays along the way. "
   ]
  },
  {
   "cell_type": "markdown",
   "metadata": {
    "slideshow": {
     "slide_type": "fragment"
    }
   },
   "source": [
    "We can load a package from the current environment with `using`:"
   ]
  },
  {
   "cell_type": "code",
   "execution_count": 35,
   "metadata": {},
   "outputs": [],
   "source": [
    "using Colors: RGB  # For now, just bring the `RGB` name into scope"
   ]
  },
  {
   "cell_type": "code",
   "execution_count": 36,
   "metadata": {
    "slideshow": {
     "slide_type": "subslide"
    }
   },
   "outputs": [
    {
     "data": {
      "image/svg+xml": [
       "<?xml version=\"1.0\" encoding=\"UTF-8\"?>\n",
       "<!DOCTYPE svg PUBLIC \"-//W3C//DTD SVG 1.1//EN\"\n",
       " \"http://www.w3.org/Graphics/SVG/1.1/DTD/svg11.dtd\">\n",
       "<svg xmlns=\"http://www.w3.org/2000/svg\" version=\"1.1\"\n",
       "     width=\"25mm\" height=\"25mm\" viewBox=\"0 0 1 1\">\n",
       "    <rect width=\"1\" height=\"1\" fill=\"#FF0000\" stroke=\"none\"/>\n",
       "</svg>\n"
      ],
      "text/plain": [
       "RGB{N0f8}(1.0,0.0,0.0)"
      ]
     },
     "execution_count": 36,
     "metadata": {},
     "output_type": "execute_result"
    }
   ],
   "source": [
    "RGB(1, 0, 0)"
   ]
  },
  {
   "cell_type": "markdown",
   "metadata": {
    "slideshow": {
     "slide_type": "fragment"
    }
   },
   "source": [
    "The `RGB` type from Colors.jl knows how to render itself as an actual colored `div` when running in Jupyter. We can also print its value as a string if we want:"
   ]
  },
  {
   "cell_type": "code",
   "execution_count": 37,
   "metadata": {},
   "outputs": [
    {
     "name": "stdout",
     "output_type": "stream",
     "text": [
      "RGB{N0f8}(1.0,0.0,0.0)"
     ]
    }
   ],
   "source": [
    "print(RGB(1, 0, 0))"
   ]
  },
  {
   "cell_type": "markdown",
   "metadata": {
    "slideshow": {
     "slide_type": "subslide"
    }
   },
   "source": [
    "Julia arrays are fully generic, so we can create an array of colors:"
   ]
  },
  {
   "cell_type": "code",
   "execution_count": 38,
   "metadata": {
    "slideshow": {
     "slide_type": "fragment"
    }
   },
   "outputs": [
    {
     "data": {
      "image/svg+xml": [
       "<?xml version=\"1.0\" encoding=\"UTF-8\"?>\n",
       "<!DOCTYPE svg PUBLIC \"-//W3C//DTD SVG 1.1//EN\"\n",
       " \"http://www.w3.org/Graphics/SVG/1.1/DTD/svg11.dtd\">\n",
       "<svg xmlns=\"http://www.w3.org/2000/svg\" version=\"1.1\"\n",
       "     width=\"150mm\" height=\"150mm\"\n",
       "     viewBox=\"0 0 11 11\" preserveAspectRatio=\"none\"\n",
       "     shape-rendering=\"crispEdges\" stroke=\"none\">\n",
       "<rect width=\".93\" height=\".93\" x=\"0\" y=\"0\" fill=\"#000000\" />\n",
       "<rect width=\".93\" height=\".93\" x=\"1\" y=\"0\" fill=\"#001A00\" />\n",
       "<rect width=\".93\" height=\".93\" x=\"2\" y=\"0\" fill=\"#003300\" />\n",
       "<rect width=\".93\" height=\".93\" x=\"3\" y=\"0\" fill=\"#004C00\" />\n",
       "<rect width=\".93\" height=\".93\" x=\"4\" y=\"0\" fill=\"#006600\" />\n",
       "<rect width=\".93\" height=\".93\" x=\"5\" y=\"0\" fill=\"#008000\" />\n",
       "<rect width=\".93\" height=\".93\" x=\"6\" y=\"0\" fill=\"#009900\" />\n",
       "<rect width=\".93\" height=\".93\" x=\"7\" y=\"0\" fill=\"#00B200\" />\n",
       "<rect width=\".93\" height=\".93\" x=\"8\" y=\"0\" fill=\"#00CC00\" />\n",
       "<rect width=\".93\" height=\".93\" x=\"9\" y=\"0\" fill=\"#00E600\" />\n",
       "<rect width=\".93\" height=\".93\" x=\"10\" y=\"0\" fill=\"#00FF00\" />\n",
       "<rect width=\".93\" height=\".93\" x=\"0\" y=\"1\" fill=\"#1A0000\" />\n",
       "<rect width=\".93\" height=\".93\" x=\"1\" y=\"1\" fill=\"#1A1A00\" />\n",
       "<rect width=\".93\" height=\".93\" x=\"2\" y=\"1\" fill=\"#1A3300\" />\n",
       "<rect width=\".93\" height=\".93\" x=\"3\" y=\"1\" fill=\"#1A4C00\" />\n",
       "<rect width=\".93\" height=\".93\" x=\"4\" y=\"1\" fill=\"#1A6600\" />\n",
       "<rect width=\".93\" height=\".93\" x=\"5\" y=\"1\" fill=\"#1A8000\" />\n",
       "<rect width=\".93\" height=\".93\" x=\"6\" y=\"1\" fill=\"#1A9900\" />\n",
       "<rect width=\".93\" height=\".93\" x=\"7\" y=\"1\" fill=\"#1AB200\" />\n",
       "<rect width=\".93\" height=\".93\" x=\"8\" y=\"1\" fill=\"#1ACC00\" />\n",
       "<rect width=\".93\" height=\".93\" x=\"9\" y=\"1\" fill=\"#1AE600\" />\n",
       "<rect width=\".93\" height=\".93\" x=\"10\" y=\"1\" fill=\"#1AFF00\" />\n",
       "<rect width=\".93\" height=\".93\" x=\"0\" y=\"2\" fill=\"#330000\" />\n",
       "<rect width=\".93\" height=\".93\" x=\"1\" y=\"2\" fill=\"#331A00\" />\n",
       "<rect width=\".93\" height=\".93\" x=\"2\" y=\"2\" fill=\"#333300\" />\n",
       "<rect width=\".93\" height=\".93\" x=\"3\" y=\"2\" fill=\"#334C00\" />\n",
       "<rect width=\".93\" height=\".93\" x=\"4\" y=\"2\" fill=\"#336600\" />\n",
       "<rect width=\".93\" height=\".93\" x=\"5\" y=\"2\" fill=\"#338000\" />\n",
       "<rect width=\".93\" height=\".93\" x=\"6\" y=\"2\" fill=\"#339900\" />\n",
       "<rect width=\".93\" height=\".93\" x=\"7\" y=\"2\" fill=\"#33B200\" />\n",
       "<rect width=\".93\" height=\".93\" x=\"8\" y=\"2\" fill=\"#33CC00\" />\n",
       "<rect width=\".93\" height=\".93\" x=\"9\" y=\"2\" fill=\"#33E600\" />\n",
       "<rect width=\".93\" height=\".93\" x=\"10\" y=\"2\" fill=\"#33FF00\" />\n",
       "<rect width=\".93\" height=\".93\" x=\"0\" y=\"3\" fill=\"#4C0000\" />\n",
       "<rect width=\".93\" height=\".93\" x=\"1\" y=\"3\" fill=\"#4C1A00\" />\n",
       "<rect width=\".93\" height=\".93\" x=\"2\" y=\"3\" fill=\"#4C3300\" />\n",
       "<rect width=\".93\" height=\".93\" x=\"3\" y=\"3\" fill=\"#4C4C00\" />\n",
       "<rect width=\".93\" height=\".93\" x=\"4\" y=\"3\" fill=\"#4C6600\" />\n",
       "<rect width=\".93\" height=\".93\" x=\"5\" y=\"3\" fill=\"#4C8000\" />\n",
       "<rect width=\".93\" height=\".93\" x=\"6\" y=\"3\" fill=\"#4C9900\" />\n",
       "<rect width=\".93\" height=\".93\" x=\"7\" y=\"3\" fill=\"#4CB200\" />\n",
       "<rect width=\".93\" height=\".93\" x=\"8\" y=\"3\" fill=\"#4CCC00\" />\n",
       "<rect width=\".93\" height=\".93\" x=\"9\" y=\"3\" fill=\"#4CE600\" />\n",
       "<rect width=\".93\" height=\".93\" x=\"10\" y=\"3\" fill=\"#4CFF00\" />\n",
       "<rect width=\".93\" height=\".93\" x=\"0\" y=\"4\" fill=\"#660000\" />\n",
       "<rect width=\".93\" height=\".93\" x=\"1\" y=\"4\" fill=\"#661A00\" />\n",
       "<rect width=\".93\" height=\".93\" x=\"2\" y=\"4\" fill=\"#663300\" />\n",
       "<rect width=\".93\" height=\".93\" x=\"3\" y=\"4\" fill=\"#664C00\" />\n",
       "<rect width=\".93\" height=\".93\" x=\"4\" y=\"4\" fill=\"#666600\" />\n",
       "<rect width=\".93\" height=\".93\" x=\"5\" y=\"4\" fill=\"#668000\" />\n",
       "<rect width=\".93\" height=\".93\" x=\"6\" y=\"4\" fill=\"#669900\" />\n",
       "<rect width=\".93\" height=\".93\" x=\"7\" y=\"4\" fill=\"#66B200\" />\n",
       "<rect width=\".93\" height=\".93\" x=\"8\" y=\"4\" fill=\"#66CC00\" />\n",
       "<rect width=\".93\" height=\".93\" x=\"9\" y=\"4\" fill=\"#66E600\" />\n",
       "<rect width=\".93\" height=\".93\" x=\"10\" y=\"4\" fill=\"#66FF00\" />\n",
       "<rect width=\".93\" height=\".93\" x=\"0\" y=\"5\" fill=\"#800000\" />\n",
       "<rect width=\".93\" height=\".93\" x=\"1\" y=\"5\" fill=\"#801A00\" />\n",
       "<rect width=\".93\" height=\".93\" x=\"2\" y=\"5\" fill=\"#803300\" />\n",
       "<rect width=\".93\" height=\".93\" x=\"3\" y=\"5\" fill=\"#804C00\" />\n",
       "<rect width=\".93\" height=\".93\" x=\"4\" y=\"5\" fill=\"#806600\" />\n",
       "<rect width=\".93\" height=\".93\" x=\"5\" y=\"5\" fill=\"#808000\" />\n",
       "<rect width=\".93\" height=\".93\" x=\"6\" y=\"5\" fill=\"#809900\" />\n",
       "<rect width=\".93\" height=\".93\" x=\"7\" y=\"5\" fill=\"#80B200\" />\n",
       "<rect width=\".93\" height=\".93\" x=\"8\" y=\"5\" fill=\"#80CC00\" />\n",
       "<rect width=\".93\" height=\".93\" x=\"9\" y=\"5\" fill=\"#80E600\" />\n",
       "<rect width=\".93\" height=\".93\" x=\"10\" y=\"5\" fill=\"#80FF00\" />\n",
       "<rect width=\".93\" height=\".93\" x=\"0\" y=\"6\" fill=\"#990000\" />\n",
       "<rect width=\".93\" height=\".93\" x=\"1\" y=\"6\" fill=\"#991A00\" />\n",
       "<rect width=\".93\" height=\".93\" x=\"2\" y=\"6\" fill=\"#993300\" />\n",
       "<rect width=\".93\" height=\".93\" x=\"3\" y=\"6\" fill=\"#994C00\" />\n",
       "<rect width=\".93\" height=\".93\" x=\"4\" y=\"6\" fill=\"#996600\" />\n",
       "<rect width=\".93\" height=\".93\" x=\"5\" y=\"6\" fill=\"#998000\" />\n",
       "<rect width=\".93\" height=\".93\" x=\"6\" y=\"6\" fill=\"#999900\" />\n",
       "<rect width=\".93\" height=\".93\" x=\"7\" y=\"6\" fill=\"#99B200\" />\n",
       "<rect width=\".93\" height=\".93\" x=\"8\" y=\"6\" fill=\"#99CC00\" />\n",
       "<rect width=\".93\" height=\".93\" x=\"9\" y=\"6\" fill=\"#99E600\" />\n",
       "<rect width=\".93\" height=\".93\" x=\"10\" y=\"6\" fill=\"#99FF00\" />\n",
       "<rect width=\".93\" height=\".93\" x=\"0\" y=\"7\" fill=\"#B20000\" />\n",
       "<rect width=\".93\" height=\".93\" x=\"1\" y=\"7\" fill=\"#B21A00\" />\n",
       "<rect width=\".93\" height=\".93\" x=\"2\" y=\"7\" fill=\"#B23300\" />\n",
       "<rect width=\".93\" height=\".93\" x=\"3\" y=\"7\" fill=\"#B24C00\" />\n",
       "<rect width=\".93\" height=\".93\" x=\"4\" y=\"7\" fill=\"#B26600\" />\n",
       "<rect width=\".93\" height=\".93\" x=\"5\" y=\"7\" fill=\"#B28000\" />\n",
       "<rect width=\".93\" height=\".93\" x=\"6\" y=\"7\" fill=\"#B29900\" />\n",
       "<rect width=\".93\" height=\".93\" x=\"7\" y=\"7\" fill=\"#B2B200\" />\n",
       "<rect width=\".93\" height=\".93\" x=\"8\" y=\"7\" fill=\"#B2CC00\" />\n",
       "<rect width=\".93\" height=\".93\" x=\"9\" y=\"7\" fill=\"#B2E600\" />\n",
       "<rect width=\".93\" height=\".93\" x=\"10\" y=\"7\" fill=\"#B2FF00\" />\n",
       "<rect width=\".93\" height=\".93\" x=\"0\" y=\"8\" fill=\"#CC0000\" />\n",
       "<rect width=\".93\" height=\".93\" x=\"1\" y=\"8\" fill=\"#CC1A00\" />\n",
       "<rect width=\".93\" height=\".93\" x=\"2\" y=\"8\" fill=\"#CC3300\" />\n",
       "<rect width=\".93\" height=\".93\" x=\"3\" y=\"8\" fill=\"#CC4C00\" />\n",
       "<rect width=\".93\" height=\".93\" x=\"4\" y=\"8\" fill=\"#CC6600\" />\n",
       "<rect width=\".93\" height=\".93\" x=\"5\" y=\"8\" fill=\"#CC8000\" />\n",
       "<rect width=\".93\" height=\".93\" x=\"6\" y=\"8\" fill=\"#CC9900\" />\n",
       "<rect width=\".93\" height=\".93\" x=\"7\" y=\"8\" fill=\"#CCB200\" />\n",
       "<rect width=\".93\" height=\".93\" x=\"8\" y=\"8\" fill=\"#CCCC00\" />\n",
       "<rect width=\".93\" height=\".93\" x=\"9\" y=\"8\" fill=\"#CCE600\" />\n",
       "<rect width=\".93\" height=\".93\" x=\"10\" y=\"8\" fill=\"#CCFF00\" />\n",
       "<rect width=\".93\" height=\".93\" x=\"0\" y=\"9\" fill=\"#E60000\" />\n",
       "<rect width=\".93\" height=\".93\" x=\"1\" y=\"9\" fill=\"#E61A00\" />\n",
       "<rect width=\".93\" height=\".93\" x=\"2\" y=\"9\" fill=\"#E63300\" />\n",
       "<rect width=\".93\" height=\".93\" x=\"3\" y=\"9\" fill=\"#E64C00\" />\n",
       "<rect width=\".93\" height=\".93\" x=\"4\" y=\"9\" fill=\"#E66600\" />\n",
       "<rect width=\".93\" height=\".93\" x=\"5\" y=\"9\" fill=\"#E68000\" />\n",
       "<rect width=\".93\" height=\".93\" x=\"6\" y=\"9\" fill=\"#E69900\" />\n",
       "<rect width=\".93\" height=\".93\" x=\"7\" y=\"9\" fill=\"#E6B200\" />\n",
       "<rect width=\".93\" height=\".93\" x=\"8\" y=\"9\" fill=\"#E6CC00\" />\n",
       "<rect width=\".93\" height=\".93\" x=\"9\" y=\"9\" fill=\"#E6E600\" />\n",
       "<rect width=\".93\" height=\".93\" x=\"10\" y=\"9\" fill=\"#E6FF00\" />\n",
       "<rect width=\".93\" height=\".93\" x=\"0\" y=\"10\" fill=\"#FF0000\" />\n",
       "<rect width=\".93\" height=\".93\" x=\"1\" y=\"10\" fill=\"#FF1A00\" />\n",
       "<rect width=\".93\" height=\".93\" x=\"2\" y=\"10\" fill=\"#FF3300\" />\n",
       "<rect width=\".93\" height=\".93\" x=\"3\" y=\"10\" fill=\"#FF4C00\" />\n",
       "<rect width=\".93\" height=\".93\" x=\"4\" y=\"10\" fill=\"#FF6600\" />\n",
       "<rect width=\".93\" height=\".93\" x=\"5\" y=\"10\" fill=\"#FF8000\" />\n",
       "<rect width=\".93\" height=\".93\" x=\"6\" y=\"10\" fill=\"#FF9900\" />\n",
       "<rect width=\".93\" height=\".93\" x=\"7\" y=\"10\" fill=\"#FFB200\" />\n",
       "<rect width=\".93\" height=\".93\" x=\"8\" y=\"10\" fill=\"#FFCC00\" />\n",
       "<rect width=\".93\" height=\".93\" x=\"9\" y=\"10\" fill=\"#FFE600\" />\n",
       "<rect width=\".93\" height=\".93\" x=\"10\" y=\"10\" fill=\"#FFFF00\" />\n",
       "</svg>"
      ],
      "text/plain": [
       "11×11 Array{RGB{Float64},2} with eltype RGB{Float64}:\n",
       " RGB{Float64}(0.0,0.0,0.0)  …  RGB{Float64}(0.0,1.0,0.0)\n",
       " RGB{Float64}(0.1,0.0,0.0)     RGB{Float64}(0.1,1.0,0.0)\n",
       " RGB{Float64}(0.2,0.0,0.0)     RGB{Float64}(0.2,1.0,0.0)\n",
       " RGB{Float64}(0.3,0.0,0.0)     RGB{Float64}(0.3,1.0,0.0)\n",
       " RGB{Float64}(0.4,0.0,0.0)     RGB{Float64}(0.4,1.0,0.0)\n",
       " RGB{Float64}(0.5,0.0,0.0)  …  RGB{Float64}(0.5,1.0,0.0)\n",
       " RGB{Float64}(0.6,0.0,0.0)     RGB{Float64}(0.6,1.0,0.0)\n",
       " RGB{Float64}(0.7,0.0,0.0)     RGB{Float64}(0.7,1.0,0.0)\n",
       " RGB{Float64}(0.8,0.0,0.0)     RGB{Float64}(0.8,1.0,0.0)\n",
       " RGB{Float64}(0.9,0.0,0.0)     RGB{Float64}(0.9,1.0,0.0)\n",
       " RGB{Float64}(1.0,0.0,0.0)  …  RGB{Float64}(1.0,1.0,0.0)"
      ]
     },
     "execution_count": 38,
     "metadata": {},
     "output_type": "execute_result"
    }
   ],
   "source": [
    "C = [RGB(i, j, 0) for i in 0:0.1:1, j in 0:0.1:1]"
   ]
  },
  {
   "cell_type": "code",
   "execution_count": 39,
   "metadata": {
    "slideshow": {
     "slide_type": "fragment"
    }
   },
   "outputs": [
    {
     "data": {
      "text/plain": [
       "Array{RGB{Float64},2}"
      ]
     },
     "execution_count": 39,
     "metadata": {},
     "output_type": "execute_result"
    }
   ],
   "source": [
    "typeof(C)"
   ]
  },
  {
   "cell_type": "markdown",
   "metadata": {
    "slideshow": {
     "slide_type": "subslide"
    }
   },
   "source": [
    "C is an array like any other, so we can index into it and slice it:"
   ]
  },
  {
   "cell_type": "code",
   "execution_count": 40,
   "metadata": {},
   "outputs": [
    {
     "data": {
      "image/svg+xml": [
       "<?xml version=\"1.0\" encoding=\"UTF-8\"?>\n",
       "<!DOCTYPE svg PUBLIC \"-//W3C//DTD SVG 1.1//EN\"\n",
       " \"http://www.w3.org/Graphics/SVG/1.1/DTD/svg11.dtd\">\n",
       "<svg xmlns=\"http://www.w3.org/2000/svg\" version=\"1.1\"\n",
       "     width=\"25mm\" height=\"25mm\" viewBox=\"0 0 1 1\">\n",
       "    <rect width=\"1\" height=\"1\" fill=\"#B21A00\" stroke=\"none\"/>\n",
       "</svg>\n"
      ],
      "text/plain": [
       "RGB{Float64}(0.7,0.1,0.0)"
      ]
     },
     "execution_count": 40,
     "metadata": {},
     "output_type": "execute_result"
    }
   ],
   "source": [
    "C[8, 2]"
   ]
  },
  {
   "cell_type": "code",
   "execution_count": 41,
   "metadata": {
    "slideshow": {
     "slide_type": "fragment"
    }
   },
   "outputs": [
    {
     "data": {
      "image/svg+xml": [
       "<?xml version=\"1.0\" encoding=\"UTF-8\"?>\n",
       "<!DOCTYPE svg PUBLIC \"-//W3C//DTD SVG 1.1//EN\"\n",
       " \"http://www.w3.org/Graphics/SVG/1.1/DTD/svg11.dtd\">\n",
       "<svg xmlns=\"http://www.w3.org/2000/svg\" version=\"1.1\"\n",
       "     width=\"180mm\" height=\"25mm\"\n",
       "     viewBox=\"0 0 11 1\" preserveAspectRatio=\"none\"\n",
       "     shape-rendering=\"crispEdges\" stroke=\"none\">\n",
       "<rect width=\".94\" height=\".96\" x=\"0\" y=\"0\" fill=\"#000000\" />\n",
       "<rect width=\".94\" height=\".96\" x=\"1\" y=\"0\" fill=\"#001A00\" />\n",
       "<rect width=\".94\" height=\".96\" x=\"2\" y=\"0\" fill=\"#003300\" />\n",
       "<rect width=\".94\" height=\".96\" x=\"3\" y=\"0\" fill=\"#004C00\" />\n",
       "<rect width=\".94\" height=\".96\" x=\"4\" y=\"0\" fill=\"#006600\" />\n",
       "<rect width=\".94\" height=\".96\" x=\"5\" y=\"0\" fill=\"#008000\" />\n",
       "<rect width=\".94\" height=\".96\" x=\"6\" y=\"0\" fill=\"#009900\" />\n",
       "<rect width=\".94\" height=\".96\" x=\"7\" y=\"0\" fill=\"#00B200\" />\n",
       "<rect width=\".94\" height=\".96\" x=\"8\" y=\"0\" fill=\"#00CC00\" />\n",
       "<rect width=\".94\" height=\".96\" x=\"9\" y=\"0\" fill=\"#00E600\" />\n",
       "<rect width=\".94\" height=\".96\" x=\"10\" y=\"0\" fill=\"#00FF00\" />\n",
       "</svg>"
      ],
      "text/plain": [
       "11-element Array{RGB{Float64},1} with eltype RGB{Float64}:\n",
       " RGB{Float64}(0.0,0.0,0.0)\n",
       " RGB{Float64}(0.0,0.1,0.0)\n",
       " RGB{Float64}(0.0,0.2,0.0)\n",
       " RGB{Float64}(0.0,0.3,0.0)\n",
       " RGB{Float64}(0.0,0.4,0.0)\n",
       " RGB{Float64}(0.0,0.5,0.0)\n",
       " RGB{Float64}(0.0,0.6,0.0)\n",
       " RGB{Float64}(0.0,0.7,0.0)\n",
       " RGB{Float64}(0.0,0.8,0.0)\n",
       " RGB{Float64}(0.0,0.9,0.0)\n",
       " RGB{Float64}(0.0,1.0,0.0)"
      ]
     },
     "execution_count": 41,
     "metadata": {},
     "output_type": "execute_result"
    }
   ],
   "source": [
    "C[1, :]"
   ]
  },
  {
   "cell_type": "markdown",
   "metadata": {
    "slideshow": {
     "slide_type": "subslide"
    }
   },
   "source": [
    "Let's pull out the red channel from our image `C`:"
   ]
  },
  {
   "cell_type": "code",
   "execution_count": 42,
   "metadata": {},
   "outputs": [],
   "source": [
    "using Colors: red, green, blue"
   ]
  },
  {
   "cell_type": "markdown",
   "metadata": {
    "slideshow": {
     "slide_type": "fragment"
    }
   },
   "source": [
    "If you don't know what a function does, you can use the `?` operator to access its docstring:"
   ]
  },
  {
   "cell_type": "code",
   "execution_count": 43,
   "metadata": {
    "slideshow": {
     "slide_type": "-"
    }
   },
   "outputs": [
    {
     "name": "stdout",
     "output_type": "stream",
     "text": [
      "search: \u001b[0m\u001b[1mr\u001b[22m\u001b[0m\u001b[1me\u001b[22m\u001b[0m\u001b[1md\u001b[22muce \u001b[0m\u001b[1mr\u001b[22m\u001b[0m\u001b[1me\u001b[22m\u001b[0m\u001b[1md\u001b[22misplay \u001b[0m\u001b[1mr\u001b[22m\u001b[0m\u001b[1me\u001b[22m\u001b[0m\u001b[1md\u001b[22mirect_stdin \u001b[0m\u001b[1mr\u001b[22m\u001b[0m\u001b[1me\u001b[22m\u001b[0m\u001b[1md\u001b[22mirect_stdout \u001b[0m\u001b[1mr\u001b[22m\u001b[0m\u001b[1me\u001b[22m\u001b[0m\u001b[1md\u001b[22mirect_stderr\n",
      "\n"
     ]
    },
    {
     "data": {
      "text/latex": [
       "\\texttt{red(c)} returns the red component of an \\texttt{AbstractRGB} opaque or transparent color.\n",
       "\n"
      ],
      "text/markdown": [
       "`red(c)` returns the red component of an `AbstractRGB` opaque or transparent color.\n"
      ],
      "text/plain": [
       "  \u001b[36mred(c)\u001b[39m returns the red component of an \u001b[36mAbstractRGB\u001b[39m opaque or transparent\n",
       "  color."
      ]
     },
     "execution_count": 43,
     "metadata": {},
     "output_type": "execute_result"
    }
   ],
   "source": [
    "?red"
   ]
  },
  {
   "cell_type": "code",
   "execution_count": 44,
   "metadata": {
    "slideshow": {
     "slide_type": "fragment"
    }
   },
   "outputs": [
    {
     "data": {
      "text/plain": [
       "0.0"
      ]
     },
     "execution_count": 44,
     "metadata": {},
     "output_type": "execute_result"
    }
   ],
   "source": [
    "red(C[1, 1])"
   ]
  },
  {
   "cell_type": "markdown",
   "metadata": {
    "slideshow": {
     "slide_type": "subslide"
    }
   },
   "source": [
    "### Broadcasting\n",
    "\n",
    "To get the red channel of each element of `C`, we can use *broadcasting*. The syntax `f.(x)` applies the function `f` to each element of `x`:"
   ]
  },
  {
   "cell_type": "code",
   "execution_count": 45,
   "metadata": {
    "slideshow": {
     "slide_type": "fragment"
    }
   },
   "outputs": [
    {
     "data": {
      "text/plain": [
       "11×11 Array{Float64,2}:\n",
       " 0.0  0.0  0.0  0.0  0.0  0.0  0.0  0.0  0.0  0.0  0.0\n",
       " 0.1  0.1  0.1  0.1  0.1  0.1  0.1  0.1  0.1  0.1  0.1\n",
       " 0.2  0.2  0.2  0.2  0.2  0.2  0.2  0.2  0.2  0.2  0.2\n",
       " 0.3  0.3  0.3  0.3  0.3  0.3  0.3  0.3  0.3  0.3  0.3\n",
       " 0.4  0.4  0.4  0.4  0.4  0.4  0.4  0.4  0.4  0.4  0.4\n",
       " 0.5  0.5  0.5  0.5  0.5  0.5  0.5  0.5  0.5  0.5  0.5\n",
       " 0.6  0.6  0.6  0.6  0.6  0.6  0.6  0.6  0.6  0.6  0.6\n",
       " 0.7  0.7  0.7  0.7  0.7  0.7  0.7  0.7  0.7  0.7  0.7\n",
       " 0.8  0.8  0.8  0.8  0.8  0.8  0.8  0.8  0.8  0.8  0.8\n",
       " 0.9  0.9  0.9  0.9  0.9  0.9  0.9  0.9  0.9  0.9  0.9\n",
       " 1.0  1.0  1.0  1.0  1.0  1.0  1.0  1.0  1.0  1.0  1.0"
      ]
     },
     "execution_count": 45,
     "metadata": {},
     "output_type": "execute_result"
    }
   ],
   "source": [
    "red.(C)"
   ]
  },
  {
   "cell_type": "markdown",
   "metadata": {
    "slideshow": {
     "slide_type": "subslide"
    }
   },
   "source": [
    "That's not very visual. Let's render that red channel as a grayscale image:"
   ]
  },
  {
   "cell_type": "code",
   "execution_count": 46,
   "metadata": {
    "slideshow": {
     "slide_type": "fragment"
    }
   },
   "outputs": [
    {
     "data": {
      "image/svg+xml": [
       "<?xml version=\"1.0\" encoding=\"UTF-8\"?>\n",
       "<!DOCTYPE svg PUBLIC \"-//W3C//DTD SVG 1.1//EN\"\n",
       " \"http://www.w3.org/Graphics/SVG/1.1/DTD/svg11.dtd\">\n",
       "<svg xmlns=\"http://www.w3.org/2000/svg\" version=\"1.1\"\n",
       "     width=\"150mm\" height=\"150mm\"\n",
       "     viewBox=\"0 0 11 11\" preserveAspectRatio=\"none\"\n",
       "     shape-rendering=\"crispEdges\" stroke=\"none\">\n",
       "<rect width=\".93\" height=\".93\" x=\"0\" y=\"0\" fill=\"#000000\" />\n",
       "<rect width=\".93\" height=\".93\" x=\"1\" y=\"0\" fill=\"#000000\" />\n",
       "<rect width=\".93\" height=\".93\" x=\"2\" y=\"0\" fill=\"#000000\" />\n",
       "<rect width=\".93\" height=\".93\" x=\"3\" y=\"0\" fill=\"#000000\" />\n",
       "<rect width=\".93\" height=\".93\" x=\"4\" y=\"0\" fill=\"#000000\" />\n",
       "<rect width=\".93\" height=\".93\" x=\"5\" y=\"0\" fill=\"#000000\" />\n",
       "<rect width=\".93\" height=\".93\" x=\"6\" y=\"0\" fill=\"#000000\" />\n",
       "<rect width=\".93\" height=\".93\" x=\"7\" y=\"0\" fill=\"#000000\" />\n",
       "<rect width=\".93\" height=\".93\" x=\"8\" y=\"0\" fill=\"#000000\" />\n",
       "<rect width=\".93\" height=\".93\" x=\"9\" y=\"0\" fill=\"#000000\" />\n",
       "<rect width=\".93\" height=\".93\" x=\"10\" y=\"0\" fill=\"#000000\" />\n",
       "<rect width=\".93\" height=\".93\" x=\"0\" y=\"1\" fill=\"#1A1A1A\" />\n",
       "<rect width=\".93\" height=\".93\" x=\"1\" y=\"1\" fill=\"#1A1A1A\" />\n",
       "<rect width=\".93\" height=\".93\" x=\"2\" y=\"1\" fill=\"#1A1A1A\" />\n",
       "<rect width=\".93\" height=\".93\" x=\"3\" y=\"1\" fill=\"#1A1A1A\" />\n",
       "<rect width=\".93\" height=\".93\" x=\"4\" y=\"1\" fill=\"#1A1A1A\" />\n",
       "<rect width=\".93\" height=\".93\" x=\"5\" y=\"1\" fill=\"#1A1A1A\" />\n",
       "<rect width=\".93\" height=\".93\" x=\"6\" y=\"1\" fill=\"#1A1A1A\" />\n",
       "<rect width=\".93\" height=\".93\" x=\"7\" y=\"1\" fill=\"#1A1A1A\" />\n",
       "<rect width=\".93\" height=\".93\" x=\"8\" y=\"1\" fill=\"#1A1A1A\" />\n",
       "<rect width=\".93\" height=\".93\" x=\"9\" y=\"1\" fill=\"#1A1A1A\" />\n",
       "<rect width=\".93\" height=\".93\" x=\"10\" y=\"1\" fill=\"#1A1A1A\" />\n",
       "<rect width=\".93\" height=\".93\" x=\"0\" y=\"2\" fill=\"#333333\" />\n",
       "<rect width=\".93\" height=\".93\" x=\"1\" y=\"2\" fill=\"#333333\" />\n",
       "<rect width=\".93\" height=\".93\" x=\"2\" y=\"2\" fill=\"#333333\" />\n",
       "<rect width=\".93\" height=\".93\" x=\"3\" y=\"2\" fill=\"#333333\" />\n",
       "<rect width=\".93\" height=\".93\" x=\"4\" y=\"2\" fill=\"#333333\" />\n",
       "<rect width=\".93\" height=\".93\" x=\"5\" y=\"2\" fill=\"#333333\" />\n",
       "<rect width=\".93\" height=\".93\" x=\"6\" y=\"2\" fill=\"#333333\" />\n",
       "<rect width=\".93\" height=\".93\" x=\"7\" y=\"2\" fill=\"#333333\" />\n",
       "<rect width=\".93\" height=\".93\" x=\"8\" y=\"2\" fill=\"#333333\" />\n",
       "<rect width=\".93\" height=\".93\" x=\"9\" y=\"2\" fill=\"#333333\" />\n",
       "<rect width=\".93\" height=\".93\" x=\"10\" y=\"2\" fill=\"#333333\" />\n",
       "<rect width=\".93\" height=\".93\" x=\"0\" y=\"3\" fill=\"#4C4C4C\" />\n",
       "<rect width=\".93\" height=\".93\" x=\"1\" y=\"3\" fill=\"#4C4C4C\" />\n",
       "<rect width=\".93\" height=\".93\" x=\"2\" y=\"3\" fill=\"#4C4C4C\" />\n",
       "<rect width=\".93\" height=\".93\" x=\"3\" y=\"3\" fill=\"#4C4C4C\" />\n",
       "<rect width=\".93\" height=\".93\" x=\"4\" y=\"3\" fill=\"#4C4C4C\" />\n",
       "<rect width=\".93\" height=\".93\" x=\"5\" y=\"3\" fill=\"#4C4C4C\" />\n",
       "<rect width=\".93\" height=\".93\" x=\"6\" y=\"3\" fill=\"#4C4C4C\" />\n",
       "<rect width=\".93\" height=\".93\" x=\"7\" y=\"3\" fill=\"#4C4C4C\" />\n",
       "<rect width=\".93\" height=\".93\" x=\"8\" y=\"3\" fill=\"#4C4C4C\" />\n",
       "<rect width=\".93\" height=\".93\" x=\"9\" y=\"3\" fill=\"#4C4C4C\" />\n",
       "<rect width=\".93\" height=\".93\" x=\"10\" y=\"3\" fill=\"#4C4C4C\" />\n",
       "<rect width=\".93\" height=\".93\" x=\"0\" y=\"4\" fill=\"#666666\" />\n",
       "<rect width=\".93\" height=\".93\" x=\"1\" y=\"4\" fill=\"#666666\" />\n",
       "<rect width=\".93\" height=\".93\" x=\"2\" y=\"4\" fill=\"#666666\" />\n",
       "<rect width=\".93\" height=\".93\" x=\"3\" y=\"4\" fill=\"#666666\" />\n",
       "<rect width=\".93\" height=\".93\" x=\"4\" y=\"4\" fill=\"#666666\" />\n",
       "<rect width=\".93\" height=\".93\" x=\"5\" y=\"4\" fill=\"#666666\" />\n",
       "<rect width=\".93\" height=\".93\" x=\"6\" y=\"4\" fill=\"#666666\" />\n",
       "<rect width=\".93\" height=\".93\" x=\"7\" y=\"4\" fill=\"#666666\" />\n",
       "<rect width=\".93\" height=\".93\" x=\"8\" y=\"4\" fill=\"#666666\" />\n",
       "<rect width=\".93\" height=\".93\" x=\"9\" y=\"4\" fill=\"#666666\" />\n",
       "<rect width=\".93\" height=\".93\" x=\"10\" y=\"4\" fill=\"#666666\" />\n",
       "<rect width=\".93\" height=\".93\" x=\"0\" y=\"5\" fill=\"#808080\" />\n",
       "<rect width=\".93\" height=\".93\" x=\"1\" y=\"5\" fill=\"#808080\" />\n",
       "<rect width=\".93\" height=\".93\" x=\"2\" y=\"5\" fill=\"#808080\" />\n",
       "<rect width=\".93\" height=\".93\" x=\"3\" y=\"5\" fill=\"#808080\" />\n",
       "<rect width=\".93\" height=\".93\" x=\"4\" y=\"5\" fill=\"#808080\" />\n",
       "<rect width=\".93\" height=\".93\" x=\"5\" y=\"5\" fill=\"#808080\" />\n",
       "<rect width=\".93\" height=\".93\" x=\"6\" y=\"5\" fill=\"#808080\" />\n",
       "<rect width=\".93\" height=\".93\" x=\"7\" y=\"5\" fill=\"#808080\" />\n",
       "<rect width=\".93\" height=\".93\" x=\"8\" y=\"5\" fill=\"#808080\" />\n",
       "<rect width=\".93\" height=\".93\" x=\"9\" y=\"5\" fill=\"#808080\" />\n",
       "<rect width=\".93\" height=\".93\" x=\"10\" y=\"5\" fill=\"#808080\" />\n",
       "<rect width=\".93\" height=\".93\" x=\"0\" y=\"6\" fill=\"#999999\" />\n",
       "<rect width=\".93\" height=\".93\" x=\"1\" y=\"6\" fill=\"#999999\" />\n",
       "<rect width=\".93\" height=\".93\" x=\"2\" y=\"6\" fill=\"#999999\" />\n",
       "<rect width=\".93\" height=\".93\" x=\"3\" y=\"6\" fill=\"#999999\" />\n",
       "<rect width=\".93\" height=\".93\" x=\"4\" y=\"6\" fill=\"#999999\" />\n",
       "<rect width=\".93\" height=\".93\" x=\"5\" y=\"6\" fill=\"#999999\" />\n",
       "<rect width=\".93\" height=\".93\" x=\"6\" y=\"6\" fill=\"#999999\" />\n",
       "<rect width=\".93\" height=\".93\" x=\"7\" y=\"6\" fill=\"#999999\" />\n",
       "<rect width=\".93\" height=\".93\" x=\"8\" y=\"6\" fill=\"#999999\" />\n",
       "<rect width=\".93\" height=\".93\" x=\"9\" y=\"6\" fill=\"#999999\" />\n",
       "<rect width=\".93\" height=\".93\" x=\"10\" y=\"6\" fill=\"#999999\" />\n",
       "<rect width=\".93\" height=\".93\" x=\"0\" y=\"7\" fill=\"#B2B2B2\" />\n",
       "<rect width=\".93\" height=\".93\" x=\"1\" y=\"7\" fill=\"#B2B2B2\" />\n",
       "<rect width=\".93\" height=\".93\" x=\"2\" y=\"7\" fill=\"#B2B2B2\" />\n",
       "<rect width=\".93\" height=\".93\" x=\"3\" y=\"7\" fill=\"#B2B2B2\" />\n",
       "<rect width=\".93\" height=\".93\" x=\"4\" y=\"7\" fill=\"#B2B2B2\" />\n",
       "<rect width=\".93\" height=\".93\" x=\"5\" y=\"7\" fill=\"#B2B2B2\" />\n",
       "<rect width=\".93\" height=\".93\" x=\"6\" y=\"7\" fill=\"#B2B2B2\" />\n",
       "<rect width=\".93\" height=\".93\" x=\"7\" y=\"7\" fill=\"#B2B2B2\" />\n",
       "<rect width=\".93\" height=\".93\" x=\"8\" y=\"7\" fill=\"#B2B2B2\" />\n",
       "<rect width=\".93\" height=\".93\" x=\"9\" y=\"7\" fill=\"#B2B2B2\" />\n",
       "<rect width=\".93\" height=\".93\" x=\"10\" y=\"7\" fill=\"#B2B2B2\" />\n",
       "<rect width=\".93\" height=\".93\" x=\"0\" y=\"8\" fill=\"#CCCCCC\" />\n",
       "<rect width=\".93\" height=\".93\" x=\"1\" y=\"8\" fill=\"#CCCCCC\" />\n",
       "<rect width=\".93\" height=\".93\" x=\"2\" y=\"8\" fill=\"#CCCCCC\" />\n",
       "<rect width=\".93\" height=\".93\" x=\"3\" y=\"8\" fill=\"#CCCCCC\" />\n",
       "<rect width=\".93\" height=\".93\" x=\"4\" y=\"8\" fill=\"#CCCCCC\" />\n",
       "<rect width=\".93\" height=\".93\" x=\"5\" y=\"8\" fill=\"#CCCCCC\" />\n",
       "<rect width=\".93\" height=\".93\" x=\"6\" y=\"8\" fill=\"#CCCCCC\" />\n",
       "<rect width=\".93\" height=\".93\" x=\"7\" y=\"8\" fill=\"#CCCCCC\" />\n",
       "<rect width=\".93\" height=\".93\" x=\"8\" y=\"8\" fill=\"#CCCCCC\" />\n",
       "<rect width=\".93\" height=\".93\" x=\"9\" y=\"8\" fill=\"#CCCCCC\" />\n",
       "<rect width=\".93\" height=\".93\" x=\"10\" y=\"8\" fill=\"#CCCCCC\" />\n",
       "<rect width=\".93\" height=\".93\" x=\"0\" y=\"9\" fill=\"#E6E6E6\" />\n",
       "<rect width=\".93\" height=\".93\" x=\"1\" y=\"9\" fill=\"#E6E6E6\" />\n",
       "<rect width=\".93\" height=\".93\" x=\"2\" y=\"9\" fill=\"#E6E6E6\" />\n",
       "<rect width=\".93\" height=\".93\" x=\"3\" y=\"9\" fill=\"#E6E6E6\" />\n",
       "<rect width=\".93\" height=\".93\" x=\"4\" y=\"9\" fill=\"#E6E6E6\" />\n",
       "<rect width=\".93\" height=\".93\" x=\"5\" y=\"9\" fill=\"#E6E6E6\" />\n",
       "<rect width=\".93\" height=\".93\" x=\"6\" y=\"9\" fill=\"#E6E6E6\" />\n",
       "<rect width=\".93\" height=\".93\" x=\"7\" y=\"9\" fill=\"#E6E6E6\" />\n",
       "<rect width=\".93\" height=\".93\" x=\"8\" y=\"9\" fill=\"#E6E6E6\" />\n",
       "<rect width=\".93\" height=\".93\" x=\"9\" y=\"9\" fill=\"#E6E6E6\" />\n",
       "<rect width=\".93\" height=\".93\" x=\"10\" y=\"9\" fill=\"#E6E6E6\" />\n",
       "<rect width=\".93\" height=\".93\" x=\"0\" y=\"10\" fill=\"#FFFFFF\" />\n",
       "<rect width=\".93\" height=\".93\" x=\"1\" y=\"10\" fill=\"#FFFFFF\" />\n",
       "<rect width=\".93\" height=\".93\" x=\"2\" y=\"10\" fill=\"#FFFFFF\" />\n",
       "<rect width=\".93\" height=\".93\" x=\"3\" y=\"10\" fill=\"#FFFFFF\" />\n",
       "<rect width=\".93\" height=\".93\" x=\"4\" y=\"10\" fill=\"#FFFFFF\" />\n",
       "<rect width=\".93\" height=\".93\" x=\"5\" y=\"10\" fill=\"#FFFFFF\" />\n",
       "<rect width=\".93\" height=\".93\" x=\"6\" y=\"10\" fill=\"#FFFFFF\" />\n",
       "<rect width=\".93\" height=\".93\" x=\"7\" y=\"10\" fill=\"#FFFFFF\" />\n",
       "<rect width=\".93\" height=\".93\" x=\"8\" y=\"10\" fill=\"#FFFFFF\" />\n",
       "<rect width=\".93\" height=\".93\" x=\"9\" y=\"10\" fill=\"#FFFFFF\" />\n",
       "<rect width=\".93\" height=\".93\" x=\"10\" y=\"10\" fill=\"#FFFFFF\" />\n",
       "</svg>"
      ],
      "text/plain": [
       "11×11 Array{Gray{Float64},2} with eltype Gray{Float64}:\n",
       " Gray{Float64}(0.0)  Gray{Float64}(0.0)  …  Gray{Float64}(0.0)\n",
       " Gray{Float64}(0.1)  Gray{Float64}(0.1)     Gray{Float64}(0.1)\n",
       " Gray{Float64}(0.2)  Gray{Float64}(0.2)     Gray{Float64}(0.2)\n",
       " Gray{Float64}(0.3)  Gray{Float64}(0.3)     Gray{Float64}(0.3)\n",
       " Gray{Float64}(0.4)  Gray{Float64}(0.4)     Gray{Float64}(0.4)\n",
       " Gray{Float64}(0.5)  Gray{Float64}(0.5)  …  Gray{Float64}(0.5)\n",
       " Gray{Float64}(0.6)  Gray{Float64}(0.6)     Gray{Float64}(0.6)\n",
       " Gray{Float64}(0.7)  Gray{Float64}(0.7)     Gray{Float64}(0.7)\n",
       " Gray{Float64}(0.8)  Gray{Float64}(0.8)     Gray{Float64}(0.8)\n",
       " Gray{Float64}(0.9)  Gray{Float64}(0.9)     Gray{Float64}(0.9)\n",
       " Gray{Float64}(1.0)  Gray{Float64}(1.0)  …  Gray{Float64}(1.0)"
      ]
     },
     "execution_count": 46,
     "metadata": {},
     "output_type": "execute_result"
    }
   ],
   "source": [
    "using Colors: Gray\n",
    "\n",
    "Gray.(red.(C))"
   ]
  },
  {
   "cell_type": "markdown",
   "metadata": {
    "slideshow": {
     "slide_type": "subslide"
    }
   },
   "source": [
    "Julia's broadcasting provides guaranteed *loop fusion*. That means that if you do `Gray.(red.(x))`, the language guarantees that it will do only one loop over the elements of `x`, computing `Gray(red(x_i))` for each `x_i` in `x`. \n",
    "\n",
    "See https://julialang.org/blog/2017/01/moredots/ for more. "
   ]
  },
  {
   "cell_type": "markdown",
   "metadata": {
    "slideshow": {
     "slide_type": "slide"
    }
   },
   "source": [
    "# Julia is Fast\n",
    "\n",
    "* I claimed at the beginning of this talk that Julia has performance on par with C. Let's prove it!\n",
    "* To show this, I'll implement the basic `sum` function in Julia, C, and Python so we can compare them:"
   ]
  },
  {
   "cell_type": "markdown",
   "metadata": {
    "slideshow": {
     "slide_type": "subslide"
    }
   },
   "source": [
    "Let's start with Julia:"
   ]
  },
  {
   "cell_type": "code",
   "execution_count": 47,
   "metadata": {
    "slideshow": {
     "slide_type": "-"
    }
   },
   "outputs": [
    {
     "data": {
      "text/plain": [
       "my_sum"
      ]
     },
     "execution_count": 47,
     "metadata": {},
     "output_type": "execute_result"
    }
   ],
   "source": [
    "\"\"\"\n",
    "Naive implementation of sum. Works for any iterable `x` with any element type.\n",
    "\"\"\"\n",
    "function my_sum(x)\n",
    "    result = zero(eltype(x))\n",
    "    for element in x\n",
    "        result += element\n",
    "    end\n",
    "    return result\n",
    "end"
   ]
  },
  {
   "cell_type": "markdown",
   "metadata": {
    "slideshow": {
     "slide_type": "subslide"
    }
   },
   "source": [
    "And let's create some data to test with:"
   ]
  },
  {
   "cell_type": "code",
   "execution_count": 48,
   "metadata": {},
   "outputs": [
    {
     "data": {
      "text/plain": [
       "10000000-element Array{Float64,1}:\n",
       " 0.3250821881143635\n",
       " 0.5739150786758722\n",
       " 0.13383939143899348\n",
       " 0.4395993297446783\n",
       " 0.3295526596520042\n",
       " 0.02847425323560948\n",
       " 0.8487199564066177\n",
       " 0.7997505161145844\n",
       " 0.6245936015647562\n",
       " 0.5106550585869152\n",
       " 0.9238301866509853\n",
       " 0.49764889129935574\n",
       " 0.7401243526305121\n",
       " ⋮\n",
       " 0.6680583163473712\n",
       " 0.4697749293985751\n",
       " 0.8080600012381363\n",
       " 0.08649714310431955\n",
       " 0.2412430060343358\n",
       " 0.33645492148197076\n",
       " 0.138424161003317\n",
       " 0.27552196839070064\n",
       " 0.00438248390256013\n",
       " 0.7495825118700372\n",
       " 0.11786299612959139\n",
       " 0.9934003189851528"
      ]
     },
     "execution_count": 48,
     "metadata": {},
     "output_type": "execute_result"
    }
   ],
   "source": [
    "data = rand(Float64, 10^7)"
   ]
  },
  {
   "cell_type": "markdown",
   "metadata": {
    "slideshow": {
     "slide_type": "subslide"
    }
   },
   "source": [
    "To measure the performance of `my_sum`, we'll use the BenchmarkTools.jl package. "
   ]
  },
  {
   "cell_type": "code",
   "execution_count": 49,
   "metadata": {},
   "outputs": [],
   "source": [
    "using BenchmarkTools"
   ]
  },
  {
   "cell_type": "code",
   "execution_count": 50,
   "metadata": {
    "slideshow": {
     "slide_type": "fragment"
    }
   },
   "outputs": [
    {
     "data": {
      "text/plain": [
       "BenchmarkTools.Trial: \n",
       "  memory estimate:  0 bytes\n",
       "  allocs estimate:  0\n",
       "  --------------\n",
       "  minimum time:     11.994 ms (0.00% GC)\n",
       "  median time:      12.054 ms (0.00% GC)\n",
       "  mean time:        12.099 ms (0.00% GC)\n",
       "  maximum time:     16.589 ms (0.00% GC)\n",
       "  --------------\n",
       "  samples:          414\n",
       "  evals/sample:     1"
      ]
     },
     "execution_count": 50,
     "metadata": {},
     "output_type": "execute_result"
    }
   ],
   "source": [
    "@benchmark my_sum($data)"
   ]
  },
  {
   "cell_type": "markdown",
   "metadata": {
    "slideshow": {
     "slide_type": "fragment"
    }
   },
   "source": [
    "In this case, we only care about the minimum time. The `@btime` macro is a shorthand to print just that minimum time:"
   ]
  },
  {
   "cell_type": "code",
   "execution_count": 51,
   "metadata": {},
   "outputs": [
    {
     "name": "stdout",
     "output_type": "stream",
     "text": [
      "  11.716 ms (0 allocations: 0 bytes)\n"
     ]
    },
    {
     "data": {
      "text/plain": [
       "4.998996907719521e6"
      ]
     },
     "execution_count": 51,
     "metadata": {},
     "output_type": "execute_result"
    }
   ],
   "source": [
    "@btime my_sum($data)"
   ]
  },
  {
   "cell_type": "markdown",
   "metadata": {
    "slideshow": {
     "slide_type": "subslide"
    }
   },
   "source": [
    "Let's compare this with C. It's easy to call functions from C shared libraries in Julia:"
   ]
  },
  {
   "cell_type": "code",
   "execution_count": 52,
   "metadata": {},
   "outputs": [
    {
     "data": {
      "text/plain": [
       "c_compare"
      ]
     },
     "execution_count": 52,
     "metadata": {},
     "output_type": "execute_result"
    }
   ],
   "source": [
    "\"\"\"\n",
    "Call the `strcmp` function from `libc.so.6`\n",
    "\"\"\"\n",
    "function c_compare(x::String, y::String)\n",
    "    # We have to tell the compiler that this C function returns an `int` and \n",
    "    # expects two `char *` inputs. The `Cint` and `Cstring` types are convenient\n",
    "    # shorthands for those:\n",
    "    ccall((:strcmp, \"libc.so.6\"), Cint, (Cstring, Cstring), x, y)\n",
    "end"
   ]
  },
  {
   "cell_type": "code",
   "execution_count": 53,
   "metadata": {
    "slideshow": {
     "slide_type": "fragment"
    }
   },
   "outputs": [
    {
     "data": {
      "text/plain": [
       "0"
      ]
     },
     "execution_count": 53,
     "metadata": {},
     "output_type": "execute_result"
    }
   ],
   "source": [
    "c_compare(\"hello\", \"hello\")"
   ]
  },
  {
   "cell_type": "markdown",
   "metadata": {
    "slideshow": {
     "slide_type": "fragment"
    }
   },
   "source": [
    "Calling C functions has very little overhead:"
   ]
  },
  {
   "cell_type": "code",
   "execution_count": 54,
   "metadata": {},
   "outputs": [
    {
     "name": "stdout",
     "output_type": "stream",
     "text": [
      "  8.760 ns (0 allocations: 0 bytes)\n"
     ]
    },
    {
     "data": {
      "text/plain": [
       "0"
      ]
     },
     "execution_count": 54,
     "metadata": {},
     "output_type": "execute_result"
    }
   ],
   "source": [
    "@btime c_compare($(\"hello\"), $(\"hello\"))"
   ]
  },
  {
   "cell_type": "markdown",
   "metadata": {
    "slideshow": {
     "slide_type": "subslide"
    }
   },
   "source": [
    "Let's create a C implementation of `my_sum`. We can do that without leaving Julia by piping some code directly to GCC:"
   ]
  },
  {
   "cell_type": "code",
   "execution_count": 55,
   "metadata": {},
   "outputs": [],
   "source": [
    "C_code = \"\"\"\n",
    "\n",
    "#include <stddef.h>  // For `size_t`\n",
    "\n",
    "// Note: our Julia code works for any type, but the C implementation \n",
    "// is only for `double`.\n",
    "\n",
    "double c_sum(size_t n, double *X) {\n",
    "    double s = 0.0;\n",
    "    size_t i;\n",
    "    for (i = 0; i < n; ++i) {\n",
    "        s += X[i];\n",
    "    }\n",
    "    return s;\n",
    "}\n",
    "\n",
    "\"\"\";"
   ]
  },
  {
   "cell_type": "markdown",
   "metadata": {
    "slideshow": {
     "slide_type": "fragment"
    }
   },
   "source": [
    "Now let's generate a name for our shared library:"
   ]
  },
  {
   "cell_type": "code",
   "execution_count": 56,
   "metadata": {},
   "outputs": [
    {
     "data": {
      "text/plain": [
       "\"/tmp/jl_FELUh5.so\""
      ]
     },
     "execution_count": 56,
     "metadata": {},
     "output_type": "execute_result"
    }
   ],
   "source": [
    "# dlext gives the correct file extension for a shared library on this platform\n",
    "using Libdl: dlext\n",
    "const Clib = tempname() * \".\" * dlext"
   ]
  },
  {
   "cell_type": "markdown",
   "metadata": {
    "slideshow": {
     "slide_type": "subslide"
    }
   },
   "source": [
    "To send the code to GCC, we can use `open()` on a command to write directly to the `stdin` of that command as if it were any other file- or buffer-like object:"
   ]
  },
  {
   "cell_type": "code",
   "execution_count": 57,
   "metadata": {},
   "outputs": [],
   "source": [
    "open(`gcc -fPIC -O3 -msse3 -xc -shared -o $Clib -`, \"w\") do cmd\n",
    "    print(cmd, C_code) \n",
    "end"
   ]
  },
  {
   "cell_type": "markdown",
   "metadata": {
    "slideshow": {
     "slide_type": "fragment"
    }
   },
   "source": [
    "Now we can define a Julia function that calls the C function we just compiled:"
   ]
  },
  {
   "cell_type": "code",
   "execution_count": 58,
   "metadata": {},
   "outputs": [
    {
     "data": {
      "text/plain": [
       "c_sum (generic function with 1 method)"
      ]
     },
     "execution_count": 58,
     "metadata": {},
     "output_type": "execute_result"
    }
   ],
   "source": [
    "# The return type and argument types must match the signature we declared above:\n",
    "# \n",
    "#   double c_sum(size_t n, double *X) \n",
    "# \n",
    "c_sum(X::Array{Float64}) = ccall((\"c_sum\", Clib), Cdouble, (Csize_t, Ptr{Cdouble}), length(X), X)"
   ]
  },
  {
   "cell_type": "markdown",
   "metadata": {
    "slideshow": {
     "slide_type": "subslide"
    }
   },
   "source": [
    "Now let's measure the performance of the pure C function:"
   ]
  },
  {
   "cell_type": "code",
   "execution_count": 59,
   "metadata": {},
   "outputs": [
    {
     "name": "stdout",
     "output_type": "stream",
     "text": [
      "  11.360 ms (0 allocations: 0 bytes)\n"
     ]
    },
    {
     "data": {
      "text/plain": [
       "4.998996907719521e6"
      ]
     },
     "execution_count": 59,
     "metadata": {},
     "output_type": "execute_result"
    }
   ],
   "source": [
    "@btime c_sum($data)"
   ]
  },
  {
   "cell_type": "markdown",
   "metadata": {
    "slideshow": {
     "slide_type": "subslide"
    }
   },
   "source": [
    "Let's plot the result using the Plots.jl package:"
   ]
  },
  {
   "cell_type": "code",
   "execution_count": 60,
   "metadata": {},
   "outputs": [],
   "source": [
    "using Plots"
   ]
  },
  {
   "cell_type": "code",
   "execution_count": 61,
   "metadata": {
    "slideshow": {
     "slide_type": "fragment"
    }
   },
   "outputs": [
    {
     "data": {
      "image/svg+xml": [
       "<?xml version=\"1.0\" encoding=\"utf-8\"?>\n",
       "<svg xmlns=\"http://www.w3.org/2000/svg\" xmlns:xlink=\"http://www.w3.org/1999/xlink\" width=\"600\" height=\"400\" viewBox=\"0 0 2400 1600\">\n",
       "<defs>\n",
       "  <clipPath id=\"clip050\">\n",
       "    <rect x=\"0\" y=\"0\" width=\"2400\" height=\"1600\"/>\n",
       "  </clipPath>\n",
       "</defs>\n",
       "<path clip-path=\"url(#clip050)\" d=\"\n",
       "M0 1600 L2400 1600 L2400 0 L0 0  Z\n",
       "  \" fill=\"#ffffff\" fill-rule=\"evenodd\" fill-opacity=\"1\"/>\n",
       "<defs>\n",
       "  <clipPath id=\"clip051\">\n",
       "    <rect x=\"480\" y=\"0\" width=\"1681\" height=\"1600\"/>\n",
       "  </clipPath>\n",
       "</defs>\n",
       "<path clip-path=\"url(#clip050)\" d=\"\n",
       "M234.82 1423.18 L2352.76 1423.18 L2352.76 47.2441 L234.82 47.2441  Z\n",
       "  \" fill=\"#ffffff\" fill-rule=\"evenodd\" fill-opacity=\"1\"/>\n",
       "<defs>\n",
       "  <clipPath id=\"clip052\">\n",
       "    <rect x=\"234\" y=\"47\" width=\"2119\" height=\"1377\"/>\n",
       "  </clipPath>\n",
       "</defs>\n",
       "<polyline clip-path=\"url(#clip052)\" style=\"stroke:#000000; stroke-width:2; stroke-opacity:0.1; fill:none\" points=\"\n",
       "  770.189,1423.18 770.189,47.2441 \n",
       "  \"/>\n",
       "<polyline clip-path=\"url(#clip052)\" style=\"stroke:#000000; stroke-width:2; stroke-opacity:0.1; fill:none\" points=\"\n",
       "  1817.39,1423.18 1817.39,47.2441 \n",
       "  \"/>\n",
       "<polyline clip-path=\"url(#clip052)\" style=\"stroke:#000000; stroke-width:2; stroke-opacity:0.1; fill:none\" points=\"\n",
       "  234.82,1384.24 2352.76,1384.24 \n",
       "  \"/>\n",
       "<polyline clip-path=\"url(#clip052)\" style=\"stroke:#000000; stroke-width:2; stroke-opacity:0.1; fill:none\" points=\"\n",
       "  234.82,1106.88 2352.76,1106.88 \n",
       "  \"/>\n",
       "<polyline clip-path=\"url(#clip052)\" style=\"stroke:#000000; stroke-width:2; stroke-opacity:0.1; fill:none\" points=\"\n",
       "  234.82,829.515 2352.76,829.515 \n",
       "  \"/>\n",
       "<polyline clip-path=\"url(#clip052)\" style=\"stroke:#000000; stroke-width:2; stroke-opacity:0.1; fill:none\" points=\"\n",
       "  234.82,552.153 2352.76,552.153 \n",
       "  \"/>\n",
       "<polyline clip-path=\"url(#clip052)\" style=\"stroke:#000000; stroke-width:2; stroke-opacity:0.1; fill:none\" points=\"\n",
       "  234.82,274.792 2352.76,274.792 \n",
       "  \"/>\n",
       "<polyline clip-path=\"url(#clip050)\" style=\"stroke:#000000; stroke-width:4; stroke-opacity:1; fill:none\" points=\"\n",
       "  234.82,1423.18 2352.76,1423.18 \n",
       "  \"/>\n",
       "<polyline clip-path=\"url(#clip050)\" style=\"stroke:#000000; stroke-width:4; stroke-opacity:1; fill:none\" points=\"\n",
       "  234.82,1423.18 234.82,47.2441 \n",
       "  \"/>\n",
       "<polyline clip-path=\"url(#clip050)\" style=\"stroke:#000000; stroke-width:4; stroke-opacity:1; fill:none\" points=\"\n",
       "  770.189,1423.18 770.189,1406.67 \n",
       "  \"/>\n",
       "<polyline clip-path=\"url(#clip050)\" style=\"stroke:#000000; stroke-width:4; stroke-opacity:1; fill:none\" points=\"\n",
       "  1817.39,1423.18 1817.39,1406.67 \n",
       "  \"/>\n",
       "<polyline clip-path=\"url(#clip050)\" style=\"stroke:#000000; stroke-width:4; stroke-opacity:1; fill:none\" points=\"\n",
       "  234.82,1384.24 260.235,1384.24 \n",
       "  \"/>\n",
       "<polyline clip-path=\"url(#clip050)\" style=\"stroke:#000000; stroke-width:4; stroke-opacity:1; fill:none\" points=\"\n",
       "  234.82,1106.88 260.235,1106.88 \n",
       "  \"/>\n",
       "<polyline clip-path=\"url(#clip050)\" style=\"stroke:#000000; stroke-width:4; stroke-opacity:1; fill:none\" points=\"\n",
       "  234.82,829.515 260.235,829.515 \n",
       "  \"/>\n",
       "<polyline clip-path=\"url(#clip050)\" style=\"stroke:#000000; stroke-width:4; stroke-opacity:1; fill:none\" points=\"\n",
       "  234.82,552.153 260.235,552.153 \n",
       "  \"/>\n",
       "<polyline clip-path=\"url(#clip050)\" style=\"stroke:#000000; stroke-width:4; stroke-opacity:1; fill:none\" points=\"\n",
       "  234.82,274.792 260.235,274.792 \n",
       "  \"/>\n",
       "<path clip-path=\"url(#clip050)\" d=\"M 0 0 M640.34 1455.7 Q641.938 1452.83 644.16 1451.47 Q646.382 1450.1 649.391 1450.1 Q653.442 1450.1 655.641 1452.95 Q657.84 1455.77 657.84 1461 L657.84 1476.65 L653.558 1476.65 L653.558 1461.14 Q653.558 1457.42 652.238 1455.61 Q650.919 1453.8 648.211 1453.8 Q644.9 1453.8 642.979 1456 Q641.058 1458.2 641.058 1462 L641.058 1476.65 L636.776 1476.65 L636.776 1461.14 Q636.776 1457.39 635.456 1455.61 Q634.137 1453.8 631.382 1453.8 Q628.118 1453.8 626.197 1456.03 Q624.276 1458.23 624.276 1462 L624.276 1476.65 L619.993 1476.65 L619.993 1450.73 L624.276 1450.73 L624.276 1454.75 Q625.734 1452.37 627.771 1451.24 Q629.808 1450.1 632.609 1450.1 Q635.433 1450.1 637.401 1451.54 Q639.391 1452.97 640.34 1455.7 Z\" fill=\"#000000\" fill-rule=\"evenodd\" fill-opacity=\"1\" /><path clip-path=\"url(#clip050)\" d=\"M 0 0 M673.095 1479.06 Q671.289 1483.69 669.576 1485.1 Q667.863 1486.51 664.993 1486.51 L661.59 1486.51 L661.59 1482.95 L664.09 1482.95 Q665.849 1482.95 666.822 1482.11 Q667.794 1481.28 668.974 1478.18 L669.738 1476.24 L659.252 1450.73 L663.766 1450.73 L671.868 1471 L679.97 1450.73 L684.484 1450.73 L673.095 1479.06 Z\" fill=\"#000000\" fill-rule=\"evenodd\" fill-opacity=\"1\" /><path clip-path=\"url(#clip050)\" d=\"M 0 0 M708.65 1484.52 L708.65 1487.83 L684.021 1487.83 L684.021 1484.52 L708.65 1484.52 Z\" fill=\"#000000\" fill-rule=\"evenodd\" fill-opacity=\"1\" /><path clip-path=\"url(#clip050)\" d=\"M 0 0 M729.645 1451.49 L729.645 1455.52 Q727.84 1454.59 725.895 1454.13 Q723.951 1453.67 721.868 1453.67 Q718.696 1453.67 717.099 1454.64 Q715.525 1455.61 715.525 1457.55 Q715.525 1459.04 716.659 1459.89 Q717.794 1460.73 721.219 1461.49 L722.678 1461.81 Q727.215 1462.79 729.113 1464.57 Q731.034 1466.33 731.034 1469.5 Q731.034 1473.11 728.164 1475.22 Q725.317 1477.32 720.317 1477.32 Q718.233 1477.32 715.965 1476.91 Q713.72 1476.51 711.22 1475.7 L711.22 1471.3 Q713.581 1472.53 715.872 1473.16 Q718.164 1473.76 720.409 1473.76 Q723.419 1473.76 725.039 1472.74 Q726.659 1471.7 726.659 1469.82 Q726.659 1468.09 725.479 1467.16 Q724.321 1466.24 720.363 1465.38 L718.882 1465.03 Q714.923 1464.2 713.164 1462.49 Q711.405 1460.75 711.405 1457.74 Q711.405 1454.08 713.997 1452.09 Q716.59 1450.1 721.358 1450.1 Q723.719 1450.1 725.803 1450.45 Q727.886 1450.8 729.645 1451.49 Z\" fill=\"#000000\" fill-rule=\"evenodd\" fill-opacity=\"1\" /><path clip-path=\"url(#clip050)\" d=\"M 0 0 M735.062 1466.42 L735.062 1450.73 L739.321 1450.73 L739.321 1466.26 Q739.321 1469.94 740.756 1471.79 Q742.192 1473.62 745.062 1473.62 Q748.511 1473.62 750.502 1471.42 Q752.516 1469.22 752.516 1465.43 L752.516 1450.73 L756.775 1450.73 L756.775 1476.65 L752.516 1476.65 L752.516 1472.67 Q750.965 1475.03 748.905 1476.19 Q746.868 1477.32 744.159 1477.32 Q739.692 1477.32 737.377 1474.55 Q735.062 1471.77 735.062 1466.42 M745.78 1450.1 L745.78 1450.1 Z\" fill=\"#000000\" fill-rule=\"evenodd\" fill-opacity=\"1\" /><path clip-path=\"url(#clip050)\" d=\"M 0 0 M781.428 1455.7 Q783.025 1452.83 785.247 1451.47 Q787.469 1450.1 790.478 1450.1 Q794.529 1450.1 796.728 1452.95 Q798.927 1455.77 798.927 1461 L798.927 1476.65 L794.645 1476.65 L794.645 1461.14 Q794.645 1457.42 793.326 1455.61 Q792.006 1453.8 789.298 1453.8 Q785.988 1453.8 784.066 1456 Q782.145 1458.2 782.145 1462 L782.145 1476.65 L777.863 1476.65 L777.863 1461.14 Q777.863 1457.39 776.543 1455.61 Q775.224 1453.8 772.469 1453.8 Q769.205 1453.8 767.284 1456.03 Q765.363 1458.23 765.363 1462 L765.363 1476.65 L761.08 1476.65 L761.08 1450.73 L765.363 1450.73 L765.363 1454.75 Q766.821 1452.37 768.858 1451.24 Q770.895 1450.1 773.696 1450.1 Q776.52 1450.1 778.488 1451.54 Q780.478 1452.97 781.428 1455.7 Z\" fill=\"#000000\" fill-rule=\"evenodd\" fill-opacity=\"1\" /><path clip-path=\"url(#clip050)\" d=\"M 0 0 M828.696 1440.68 Q825.594 1446 824.089 1451.21 Q822.585 1456.42 822.585 1461.77 Q822.585 1467.11 824.089 1472.37 Q825.617 1477.6 828.696 1482.9 L824.992 1482.9 Q821.52 1477.46 819.784 1472.21 Q818.071 1466.95 818.071 1461.77 Q818.071 1456.61 819.784 1451.37 Q821.497 1446.14 824.992 1440.68 L828.696 1440.68 Z\" fill=\"#000000\" fill-rule=\"evenodd\" fill-opacity=\"1\" /><path clip-path=\"url(#clip050)\" d=\"M 0 0 M833.349 1442.09 L838.024 1442.09 L838.024 1474.24 Q838.024 1480.49 835.64 1483.32 Q833.279 1486.14 828.024 1486.14 L826.242 1486.14 L826.242 1482.21 L827.7 1482.21 Q830.802 1482.21 832.075 1480.47 Q833.349 1478.74 833.349 1474.24 L833.349 1442.09 Z\" fill=\"#000000\" fill-rule=\"evenodd\" fill-opacity=\"1\" /><path clip-path=\"url(#clip050)\" d=\"M 0 0 M842.052 1466.42 L842.052 1450.73 L846.311 1450.73 L846.311 1466.26 Q846.311 1469.94 847.747 1471.79 Q849.182 1473.62 852.052 1473.62 Q855.501 1473.62 857.492 1471.42 Q859.506 1469.22 859.506 1465.43 L859.506 1450.73 L863.765 1450.73 L863.765 1476.65 L859.506 1476.65 L859.506 1472.67 Q857.955 1475.03 855.895 1476.19 Q853.858 1477.32 851.149 1477.32 Q846.682 1477.32 844.367 1474.55 Q842.052 1471.77 842.052 1466.42 M852.77 1450.1 L852.77 1450.1 Z\" fill=\"#000000\" fill-rule=\"evenodd\" fill-opacity=\"1\" /><path clip-path=\"url(#clip050)\" d=\"M 0 0 M868.233 1440.63 L872.492 1440.63 L872.492 1476.65 L868.233 1476.65 L868.233 1440.63 Z\" fill=\"#000000\" fill-rule=\"evenodd\" fill-opacity=\"1\" /><path clip-path=\"url(#clip050)\" d=\"M 0 0 M876.959 1450.73 L881.219 1450.73 L881.219 1476.65 L876.959 1476.65 L876.959 1450.73 M876.959 1440.63 L881.219 1440.63 L881.219 1446.03 L876.959 1446.03 L876.959 1440.63 Z\" fill=\"#000000\" fill-rule=\"evenodd\" fill-opacity=\"1\" /><path clip-path=\"url(#clip050)\" d=\"M 0 0 M897.469 1463.62 Q892.307 1463.62 890.316 1464.8 Q888.325 1465.98 888.325 1468.83 Q888.325 1471.1 889.807 1472.44 Q891.311 1473.76 893.881 1473.76 Q897.422 1473.76 899.552 1471.26 Q901.705 1468.74 901.705 1464.57 L901.705 1463.62 L897.469 1463.62 M905.964 1461.86 L905.964 1476.65 L901.705 1476.65 L901.705 1472.72 Q900.246 1475.08 898.07 1476.21 Q895.894 1477.32 892.746 1477.32 Q888.765 1477.32 886.404 1475.1 Q884.066 1472.86 884.066 1469.11 Q884.066 1464.73 886.982 1462.51 Q889.922 1460.29 895.732 1460.29 L901.705 1460.29 L901.705 1459.87 Q901.705 1456.93 899.76 1455.33 Q897.839 1453.71 894.344 1453.71 Q892.121 1453.71 890.015 1454.24 Q887.908 1454.78 885.964 1455.84 L885.964 1451.91 Q888.302 1451 890.501 1450.56 Q892.7 1450.1 894.783 1450.1 Q900.408 1450.1 903.186 1453.02 Q905.964 1455.93 905.964 1461.86 Z\" fill=\"#000000\" fill-rule=\"evenodd\" fill-opacity=\"1\" /><path clip-path=\"url(#clip050)\" d=\"M 0 0 M909.76 1440.68 L913.464 1440.68 Q916.936 1446.14 918.649 1451.37 Q920.385 1456.61 920.385 1461.77 Q920.385 1466.95 918.649 1472.21 Q916.936 1477.46 913.464 1482.9 L909.76 1482.9 Q912.839 1477.6 914.343 1472.37 Q915.871 1467.11 915.871 1461.77 Q915.871 1456.42 914.343 1451.21 Q912.839 1446 909.76 1440.68 Z\" fill=\"#000000\" fill-rule=\"evenodd\" fill-opacity=\"1\" /><path clip-path=\"url(#clip050)\" d=\"M 0 0 M1733.06 1451.72 L1733.06 1455.7 Q1731.25 1454.71 1729.42 1454.22 Q1727.62 1453.71 1725.77 1453.71 Q1721.62 1453.71 1719.33 1456.35 Q1717.04 1458.97 1717.04 1463.71 Q1717.04 1468.46 1719.33 1471.1 Q1721.62 1473.71 1725.77 1473.71 Q1727.62 1473.71 1729.42 1473.23 Q1731.25 1472.72 1733.06 1471.72 L1733.06 1475.66 Q1731.28 1476.49 1729.35 1476.91 Q1727.46 1477.32 1725.3 1477.32 Q1719.45 1477.32 1716 1473.64 Q1712.55 1469.96 1712.55 1463.71 Q1712.55 1457.37 1716.02 1453.74 Q1719.52 1450.1 1725.58 1450.1 Q1727.55 1450.1 1729.42 1450.52 Q1731.3 1450.91 1733.06 1451.72 Z\" fill=\"#000000\" fill-rule=\"evenodd\" fill-opacity=\"1\" /><path clip-path=\"url(#clip050)\" d=\"M 0 0 M1757.22 1484.52 L1757.22 1487.83 L1732.6 1487.83 L1732.6 1484.52 L1757.22 1484.52 Z\" fill=\"#000000\" fill-rule=\"evenodd\" fill-opacity=\"1\" /><path clip-path=\"url(#clip050)\" d=\"M 0 0 M1778.22 1451.49 L1778.22 1455.52 Q1776.41 1454.59 1774.47 1454.13 Q1772.53 1453.67 1770.44 1453.67 Q1767.27 1453.67 1765.67 1454.64 Q1764.1 1455.61 1764.1 1457.55 Q1764.1 1459.04 1765.23 1459.89 Q1766.37 1460.73 1769.79 1461.49 L1771.25 1461.81 Q1775.79 1462.79 1777.69 1464.57 Q1779.61 1466.33 1779.61 1469.5 Q1779.61 1473.11 1776.74 1475.22 Q1773.89 1477.32 1768.89 1477.32 Q1766.81 1477.32 1764.54 1476.91 Q1762.29 1476.51 1759.79 1475.7 L1759.79 1471.3 Q1762.16 1472.53 1764.45 1473.16 Q1766.74 1473.76 1768.98 1473.76 Q1771.99 1473.76 1773.61 1472.74 Q1775.23 1471.7 1775.23 1469.82 Q1775.23 1468.09 1774.05 1467.16 Q1772.9 1466.24 1768.94 1465.38 L1767.46 1465.03 Q1763.5 1464.2 1761.74 1462.49 Q1759.98 1460.75 1759.98 1457.74 Q1759.98 1454.08 1762.57 1452.09 Q1765.16 1450.1 1769.93 1450.1 Q1772.29 1450.1 1774.38 1450.45 Q1776.46 1450.8 1778.22 1451.49 Z\" fill=\"#000000\" fill-rule=\"evenodd\" fill-opacity=\"1\" /><path clip-path=\"url(#clip050)\" d=\"M 0 0 M1783.64 1466.42 L1783.64 1450.73 L1787.9 1450.73 L1787.9 1466.26 Q1787.9 1469.94 1789.33 1471.79 Q1790.77 1473.62 1793.64 1473.62 Q1797.09 1473.62 1799.08 1471.42 Q1801.09 1469.22 1801.09 1465.43 L1801.09 1450.73 L1805.35 1450.73 L1805.35 1476.65 L1801.09 1476.65 L1801.09 1472.67 Q1799.54 1475.03 1797.48 1476.19 Q1795.44 1477.32 1792.73 1477.32 Q1788.27 1477.32 1785.95 1474.55 Q1783.64 1471.77 1783.64 1466.42 M1794.35 1450.1 L1794.35 1450.1 Z\" fill=\"#000000\" fill-rule=\"evenodd\" fill-opacity=\"1\" /><path clip-path=\"url(#clip050)\" d=\"M 0 0 M1830 1455.7 Q1831.6 1452.83 1833.82 1451.47 Q1836.04 1450.1 1839.05 1450.1 Q1843.1 1450.1 1845.3 1452.95 Q1847.5 1455.77 1847.5 1461 L1847.5 1476.65 L1843.22 1476.65 L1843.22 1461.14 Q1843.22 1457.42 1841.9 1455.61 Q1840.58 1453.8 1837.87 1453.8 Q1834.56 1453.8 1832.64 1456 Q1830.72 1458.2 1830.72 1462 L1830.72 1476.65 L1826.44 1476.65 L1826.44 1461.14 Q1826.44 1457.39 1825.12 1455.61 Q1823.8 1453.8 1821.04 1453.8 Q1817.78 1453.8 1815.86 1456.03 Q1813.94 1458.23 1813.94 1462 L1813.94 1476.65 L1809.66 1476.65 L1809.66 1450.73 L1813.94 1450.73 L1813.94 1454.75 Q1815.4 1452.37 1817.43 1451.24 Q1819.47 1450.1 1822.27 1450.1 Q1825.09 1450.1 1827.06 1451.54 Q1829.05 1452.97 1830 1455.7 Z\" fill=\"#000000\" fill-rule=\"evenodd\" fill-opacity=\"1\" /><path clip-path=\"url(#clip050)\" d=\"M 0 0 M1877.27 1440.68 Q1874.17 1446 1872.66 1451.21 Q1871.16 1456.42 1871.16 1461.77 Q1871.16 1467.11 1872.66 1472.37 Q1874.19 1477.6 1877.27 1482.9 L1873.57 1482.9 Q1870.09 1477.46 1868.36 1472.21 Q1866.65 1466.95 1866.65 1461.77 Q1866.65 1456.61 1868.36 1451.37 Q1870.07 1446.14 1873.57 1440.68 L1877.27 1440.68 Z\" fill=\"#000000\" fill-rule=\"evenodd\" fill-opacity=\"1\" /><path clip-path=\"url(#clip050)\" d=\"M 0 0 M1907.8 1444.75 L1907.8 1449.68 Q1905.44 1447.49 1902.76 1446.4 Q1900.09 1445.31 1897.09 1445.31 Q1891.16 1445.31 1888.01 1448.94 Q1884.86 1452.55 1884.86 1459.41 Q1884.86 1466.24 1888.01 1469.87 Q1891.16 1473.48 1897.09 1473.48 Q1900.09 1473.48 1902.76 1472.39 Q1905.44 1471.3 1907.8 1469.11 L1907.8 1473.99 Q1905.35 1475.66 1902.59 1476.49 Q1899.86 1477.32 1896.81 1477.32 Q1888.96 1477.32 1884.45 1472.53 Q1879.93 1467.72 1879.93 1459.41 Q1879.93 1451.07 1884.45 1446.28 Q1888.96 1441.47 1896.81 1441.47 Q1899.91 1441.47 1902.64 1442.3 Q1905.4 1443.11 1907.8 1444.75 Z\" fill=\"#000000\" fill-rule=\"evenodd\" fill-opacity=\"1\" /><path clip-path=\"url(#clip050)\" d=\"M 0 0 M1911.6 1440.68 L1915.3 1440.68 Q1918.77 1446.14 1920.49 1451.37 Q1922.22 1456.61 1922.22 1461.77 Q1922.22 1466.95 1920.49 1472.21 Q1918.77 1477.46 1915.3 1482.9 L1911.6 1482.9 Q1914.68 1477.6 1916.18 1472.37 Q1917.71 1467.11 1917.71 1461.77 Q1917.71 1456.42 1916.18 1451.21 Q1914.68 1446 1911.6 1440.68 Z\" fill=\"#000000\" fill-rule=\"evenodd\" fill-opacity=\"1\" /><path clip-path=\"url(#clip050)\" d=\"M 0 0 M161.908 1370.04 Q158.297 1370.04 156.468 1373.6 Q154.663 1377.14 154.663 1384.27 Q154.663 1391.38 156.468 1394.94 Q158.297 1398.49 161.908 1398.49 Q165.542 1398.49 167.348 1394.94 Q169.177 1391.38 169.177 1384.27 Q169.177 1377.14 167.348 1373.6 Q165.542 1370.04 161.908 1370.04 M161.908 1366.33 Q167.718 1366.33 170.774 1370.94 Q173.852 1375.52 173.852 1384.27 Q173.852 1393 170.774 1397.61 Q167.718 1402.19 161.908 1402.19 Q156.098 1402.19 153.019 1397.61 Q149.964 1393 149.964 1384.27 Q149.964 1375.52 153.019 1370.94 Q156.098 1366.33 161.908 1366.33 Z\" fill=\"#000000\" fill-rule=\"evenodd\" fill-opacity=\"1\" /><path clip-path=\"url(#clip050)\" d=\"M 0 0 M178.922 1395.64 L183.806 1395.64 L183.806 1401.52 L178.922 1401.52 L178.922 1395.64 Z\" fill=\"#000000\" fill-rule=\"evenodd\" fill-opacity=\"1\" /><path clip-path=\"url(#clip050)\" d=\"M 0 0 M198.876 1370.04 Q195.264 1370.04 193.436 1373.6 Q191.63 1377.14 191.63 1384.27 Q191.63 1391.38 193.436 1394.94 Q195.264 1398.49 198.876 1398.49 Q202.51 1398.49 204.315 1394.94 Q206.144 1391.38 206.144 1384.27 Q206.144 1377.14 204.315 1373.6 Q202.51 1370.04 198.876 1370.04 M198.876 1366.33 Q204.686 1366.33 207.741 1370.94 Q210.82 1375.52 210.82 1384.27 Q210.82 1393 207.741 1397.61 Q204.686 1402.19 198.876 1402.19 Q193.065 1402.19 189.987 1397.61 Q186.931 1393 186.931 1384.27 Q186.931 1375.52 189.987 1370.94 Q193.065 1366.33 198.876 1366.33 Z\" fill=\"#000000\" fill-rule=\"evenodd\" fill-opacity=\"1\" /><path clip-path=\"url(#clip050)\" d=\"M 0 0 M158.529 1120.22 L174.848 1120.22 L174.848 1124.16 L152.904 1124.16 L152.904 1120.22 Q155.566 1117.47 160.149 1112.84 Q164.755 1108.18 165.936 1106.84 Q168.181 1104.32 169.061 1102.58 Q169.964 1100.82 169.964 1099.13 Q169.964 1096.38 168.019 1094.64 Q166.098 1092.91 162.996 1092.91 Q160.797 1092.91 158.343 1093.67 Q155.913 1094.43 153.135 1095.99 L153.135 1091.26 Q155.959 1090.13 158.413 1089.55 Q160.866 1088.97 162.903 1088.97 Q168.274 1088.97 171.468 1091.66 Q174.663 1094.34 174.663 1098.83 Q174.663 1100.96 173.852 1102.88 Q173.065 1104.78 170.959 1107.37 Q170.38 1108.05 167.278 1111.26 Q164.177 1114.46 158.529 1120.22 Z\" fill=\"#000000\" fill-rule=\"evenodd\" fill-opacity=\"1\" /><path clip-path=\"url(#clip050)\" d=\"M 0 0 M179.917 1118.28 L184.802 1118.28 L184.802 1124.16 L179.917 1124.16 L179.917 1118.28 Z\" fill=\"#000000\" fill-rule=\"evenodd\" fill-opacity=\"1\" /><path clip-path=\"url(#clip050)\" d=\"M 0 0 M189.917 1089.6 L208.274 1089.6 L208.274 1093.53 L194.2 1093.53 L194.2 1102 Q195.218 1101.66 196.237 1101.49 Q197.255 1101.31 198.274 1101.31 Q204.061 1101.31 207.44 1104.48 Q210.82 1107.65 210.82 1113.07 Q210.82 1118.65 207.348 1121.75 Q203.875 1124.83 197.556 1124.83 Q195.38 1124.83 193.112 1124.46 Q190.866 1124.09 188.459 1123.35 L188.459 1118.65 Q190.542 1119.78 192.764 1120.34 Q194.987 1120.89 197.463 1120.89 Q201.468 1120.89 203.806 1118.79 Q206.144 1116.68 206.144 1113.07 Q206.144 1109.46 203.806 1107.35 Q201.468 1105.24 197.463 1105.24 Q195.588 1105.24 193.713 1105.66 Q191.862 1106.08 189.917 1106.96 L189.917 1089.6 Z\" fill=\"#000000\" fill-rule=\"evenodd\" fill-opacity=\"1\" /><path clip-path=\"url(#clip050)\" d=\"M 0 0 M152.95 812.235 L171.306 812.235 L171.306 816.17 L157.232 816.17 L157.232 824.642 Q158.251 824.295 159.269 824.133 Q160.288 823.948 161.306 823.948 Q167.093 823.948 170.473 827.119 Q173.852 830.29 173.852 835.707 Q173.852 841.286 170.38 844.388 Q166.908 847.466 160.589 847.466 Q158.413 847.466 156.144 847.096 Q153.899 846.725 151.492 845.985 L151.492 841.286 Q153.575 842.42 155.797 842.976 Q158.019 843.531 160.496 843.531 Q164.501 843.531 166.839 841.425 Q169.177 839.318 169.177 835.707 Q169.177 832.096 166.839 829.989 Q164.501 827.883 160.496 827.883 Q158.621 827.883 156.746 828.3 Q154.894 828.716 152.95 829.596 L152.95 812.235 Z\" fill=\"#000000\" fill-rule=\"evenodd\" fill-opacity=\"1\" /><path clip-path=\"url(#clip050)\" d=\"M 0 0 M178.922 840.915 L183.806 840.915 L183.806 846.795 L178.922 846.795 L178.922 840.915 Z\" fill=\"#000000\" fill-rule=\"evenodd\" fill-opacity=\"1\" /><path clip-path=\"url(#clip050)\" d=\"M 0 0 M198.876 815.314 Q195.264 815.314 193.436 818.878 Q191.63 822.42 191.63 829.55 Q191.63 836.656 193.436 840.221 Q195.264 843.763 198.876 843.763 Q202.51 843.763 204.315 840.221 Q206.144 836.656 206.144 829.55 Q206.144 822.42 204.315 818.878 Q202.51 815.314 198.876 815.314 M198.876 811.61 Q204.686 811.61 207.741 816.216 Q210.82 820.8 210.82 829.55 Q210.82 838.276 207.741 842.883 Q204.686 847.466 198.876 847.466 Q193.065 847.466 189.987 842.883 Q186.931 838.276 186.931 829.55 Q186.931 820.8 189.987 816.216 Q193.065 811.61 198.876 811.61 Z\" fill=\"#000000\" fill-rule=\"evenodd\" fill-opacity=\"1\" /><path clip-path=\"url(#clip050)\" d=\"M 0 0 M152.626 534.873 L174.848 534.873 L174.848 536.864 L162.302 569.433 L157.417 569.433 L169.223 538.808 L152.626 538.808 L152.626 534.873 Z\" fill=\"#000000\" fill-rule=\"evenodd\" fill-opacity=\"1\" /><path clip-path=\"url(#clip050)\" d=\"M 0 0 M179.917 563.554 L184.802 563.554 L184.802 569.433 L179.917 569.433 L179.917 563.554 Z\" fill=\"#000000\" fill-rule=\"evenodd\" fill-opacity=\"1\" /><path clip-path=\"url(#clip050)\" d=\"M 0 0 M189.917 534.873 L208.274 534.873 L208.274 538.808 L194.2 538.808 L194.2 547.281 Q195.218 546.933 196.237 546.771 Q197.255 546.586 198.274 546.586 Q204.061 546.586 207.44 549.757 Q210.82 552.929 210.82 558.345 Q210.82 563.924 207.348 567.026 Q203.875 570.105 197.556 570.105 Q195.38 570.105 193.112 569.734 Q190.866 569.364 188.459 568.623 L188.459 563.924 Q190.542 565.058 192.764 565.614 Q194.987 566.169 197.463 566.169 Q201.468 566.169 203.806 564.063 Q206.144 561.956 206.144 558.345 Q206.144 554.734 203.806 552.628 Q201.468 550.521 197.463 550.521 Q195.588 550.521 193.713 550.938 Q191.862 551.355 189.917 552.234 L189.917 534.873 Z\" fill=\"#000000\" fill-rule=\"evenodd\" fill-opacity=\"1\" /><path clip-path=\"url(#clip050)\" d=\"M 0 0 M126.931 288.136 L134.57 288.136 L134.57 261.771 L126.26 263.437 L126.26 259.178 L134.524 257.512 L139.2 257.512 L139.2 288.136 L146.839 288.136 L146.839 292.072 L126.931 292.072 L126.931 288.136 Z\" fill=\"#000000\" fill-rule=\"evenodd\" fill-opacity=\"1\" /><path clip-path=\"url(#clip050)\" d=\"M 0 0 M161.908 260.59 Q158.297 260.59 156.468 264.155 Q154.663 267.697 154.663 274.826 Q154.663 281.933 156.468 285.498 Q158.297 289.039 161.908 289.039 Q165.542 289.039 167.348 285.498 Q169.177 281.933 169.177 274.826 Q169.177 267.697 167.348 264.155 Q165.542 260.59 161.908 260.59 M161.908 256.887 Q167.718 256.887 170.774 261.493 Q173.852 266.076 173.852 274.826 Q173.852 283.553 170.774 288.16 Q167.718 292.743 161.908 292.743 Q156.098 292.743 153.019 288.16 Q149.964 283.553 149.964 274.826 Q149.964 266.076 153.019 261.493 Q156.098 256.887 161.908 256.887 Z\" fill=\"#000000\" fill-rule=\"evenodd\" fill-opacity=\"1\" /><path clip-path=\"url(#clip050)\" d=\"M 0 0 M178.922 286.192 L183.806 286.192 L183.806 292.072 L178.922 292.072 L178.922 286.192 Z\" fill=\"#000000\" fill-rule=\"evenodd\" fill-opacity=\"1\" /><path clip-path=\"url(#clip050)\" d=\"M 0 0 M198.876 260.59 Q195.264 260.59 193.436 264.155 Q191.63 267.697 191.63 274.826 Q191.63 281.933 193.436 285.498 Q195.264 289.039 198.876 289.039 Q202.51 289.039 204.315 285.498 Q206.144 281.933 206.144 274.826 Q206.144 267.697 204.315 264.155 Q202.51 260.59 198.876 260.59 M198.876 256.887 Q204.686 256.887 207.741 261.493 Q210.82 266.076 210.82 274.826 Q210.82 283.553 207.741 288.16 Q204.686 292.743 198.876 292.743 Q193.065 292.743 189.987 288.16 Q186.931 283.553 186.931 274.826 Q186.931 266.076 189.987 261.493 Q193.065 256.887 198.876 256.887 Z\" fill=\"#000000\" fill-rule=\"evenodd\" fill-opacity=\"1\" /><path clip-path=\"url(#clip050)\" d=\"M 0 0 M1199.61 1506.52 L1199.61 1511.39 L1194.01 1511.39 Q1190.85 1511.39 1189.61 1512.66 Q1188.4 1513.93 1188.4 1517.24 L1188.4 1520.4 L1198.05 1520.4 L1198.05 1524.95 L1188.4 1524.95 L1188.4 1556.04 L1182.52 1556.04 L1182.52 1524.95 L1176.91 1524.95 L1176.91 1520.4 L1182.52 1520.4 L1182.52 1517.91 Q1182.52 1511.96 1185.28 1509.26 Q1188.05 1506.52 1194.07 1506.52 L1199.61 1506.52 Z\" fill=\"#000000\" fill-rule=\"evenodd\" fill-opacity=\"1\" /><path clip-path=\"url(#clip050)\" d=\"M 0 0 M1205.15 1541.98 L1205.15 1520.4 L1211 1520.4 L1211 1541.75 Q1211 1546.81 1212.98 1549.36 Q1214.95 1551.87 1218.9 1551.87 Q1223.64 1551.87 1226.38 1548.85 Q1229.14 1545.83 1229.14 1540.61 L1229.14 1520.4 L1235 1520.4 L1235 1556.04 L1229.14 1556.04 L1229.14 1550.57 Q1227.01 1553.82 1224.18 1555.41 Q1221.38 1556.97 1217.65 1556.97 Q1211.51 1556.97 1208.33 1553.15 Q1205.15 1549.33 1205.15 1541.98 M1219.88 1519.54 L1219.88 1519.54 Z\" fill=\"#000000\" fill-rule=\"evenodd\" fill-opacity=\"1\" /><path clip-path=\"url(#clip050)\" d=\"M 0 0 M1270.78 1534.53 L1270.78 1556.04 L1264.92 1556.04 L1264.92 1534.72 Q1264.92 1529.66 1262.95 1527.14 Q1260.97 1524.63 1257.03 1524.63 Q1252.28 1524.63 1249.55 1527.65 Q1246.81 1530.68 1246.81 1535.9 L1246.81 1556.04 L1240.92 1556.04 L1240.92 1520.4 L1246.81 1520.4 L1246.81 1525.93 Q1248.91 1522.72 1251.74 1521.13 Q1254.61 1519.54 1258.33 1519.54 Q1264.47 1519.54 1267.62 1523.36 Q1270.78 1527.14 1270.78 1534.53 Z\" fill=\"#000000\" fill-rule=\"evenodd\" fill-opacity=\"1\" /><path clip-path=\"url(#clip050)\" d=\"M 0 0 M1302.57 1521.76 L1302.57 1527.24 Q1300.09 1525.87 1297.58 1525.2 Q1295.09 1524.5 1292.55 1524.5 Q1286.85 1524.5 1283.7 1528.13 Q1280.55 1531.73 1280.55 1538.25 Q1280.55 1544.78 1283.7 1548.4 Q1286.85 1552 1292.55 1552 Q1295.09 1552 1297.58 1551.33 Q1300.09 1550.63 1302.57 1549.26 L1302.57 1554.68 Q1300.12 1555.82 1297.48 1556.39 Q1294.87 1556.97 1291.91 1556.97 Q1283.86 1556.97 1279.11 1551.91 Q1274.37 1546.85 1274.37 1538.25 Q1274.37 1529.53 1279.15 1524.53 Q1283.95 1519.54 1292.29 1519.54 Q1295 1519.54 1297.58 1520.11 Q1300.15 1520.65 1302.57 1521.76 Z\" fill=\"#000000\" fill-rule=\"evenodd\" fill-opacity=\"1\" /><path clip-path=\"url(#clip050)\" d=\"M 0 0 M1314.51 1510.27 L1314.51 1520.4 L1326.57 1520.4 L1326.57 1524.95 L1314.51 1524.95 L1314.51 1544.3 Q1314.51 1548.66 1315.69 1549.9 Q1316.9 1551.14 1320.56 1551.14 L1326.57 1551.14 L1326.57 1556.04 L1320.56 1556.04 Q1313.78 1556.04 1311.2 1553.53 Q1308.62 1550.98 1308.62 1544.3 L1308.62 1524.95 L1304.32 1524.95 L1304.32 1520.4 L1308.62 1520.4 L1308.62 1510.27 L1314.51 1510.27 Z\" fill=\"#000000\" fill-rule=\"evenodd\" fill-opacity=\"1\" /><path clip-path=\"url(#clip050)\" d=\"M 0 0 M1332.71 1520.4 L1338.57 1520.4 L1338.57 1556.04 L1332.71 1556.04 L1332.71 1520.4 M1332.71 1506.52 L1338.57 1506.52 L1338.57 1513.93 L1332.71 1513.93 L1332.71 1506.52 Z\" fill=\"#000000\" fill-rule=\"evenodd\" fill-opacity=\"1\" /><path clip-path=\"url(#clip050)\" d=\"M 0 0 M1358.53 1524.5 Q1353.82 1524.5 1351.08 1528.19 Q1348.34 1531.85 1348.34 1538.25 Q1348.34 1544.65 1351.05 1548.34 Q1353.78 1552 1358.53 1552 Q1363.21 1552 1365.94 1548.31 Q1368.68 1544.62 1368.68 1538.25 Q1368.68 1531.92 1365.94 1528.23 Q1363.21 1524.5 1358.53 1524.5 M1358.53 1519.54 Q1366.17 1519.54 1370.53 1524.5 Q1374.89 1529.47 1374.89 1538.25 Q1374.89 1547 1370.53 1552 Q1366.17 1556.97 1358.53 1556.97 Q1350.86 1556.97 1346.5 1552 Q1342.17 1547 1342.17 1538.25 Q1342.17 1529.47 1346.5 1524.5 Q1350.86 1519.54 1358.53 1519.54 Z\" fill=\"#000000\" fill-rule=\"evenodd\" fill-opacity=\"1\" /><path clip-path=\"url(#clip050)\" d=\"M 0 0 M1410.66 1534.53 L1410.66 1556.04 L1404.81 1556.04 L1404.81 1534.72 Q1404.81 1529.66 1402.83 1527.14 Q1400.86 1524.63 1396.91 1524.63 Q1392.17 1524.63 1389.43 1527.65 Q1386.7 1530.68 1386.7 1535.9 L1386.7 1556.04 L1380.81 1556.04 L1380.81 1520.4 L1386.7 1520.4 L1386.7 1525.93 Q1388.8 1522.72 1391.63 1521.13 Q1394.49 1519.54 1398.22 1519.54 Q1404.36 1519.54 1407.51 1523.36 Q1410.66 1527.14 1410.66 1534.53 Z\" fill=\"#000000\" fill-rule=\"evenodd\" fill-opacity=\"1\" /><path clip-path=\"url(#clip050)\" d=\"M 0 0 M42.2347 1125.33 L52.3562 1125.33 L52.3562 1113.27 L56.9077 1113.27 L56.9077 1125.33 L76.2594 1125.33 Q80.6199 1125.33 81.8613 1124.16 Q83.1026 1122.95 83.1026 1119.29 L83.1026 1113.27 L88.0042 1113.27 L88.0042 1119.29 Q88.0042 1126.07 85.4897 1128.64 Q82.9434 1131.22 76.2594 1131.22 L56.9077 1131.22 L56.9077 1135.52 L52.3562 1135.52 L52.3562 1131.22 L42.2347 1131.22 L42.2347 1125.33 Z\" fill=\"#000000\" fill-rule=\"evenodd\" fill-opacity=\"1\" /><path clip-path=\"url(#clip050)\" d=\"M 0 0 M52.3562 1107.13 L52.3562 1101.27 L88.0042 1101.27 L88.0042 1107.13 L52.3562 1107.13 M38.479 1107.13 L38.479 1101.27 L45.895 1101.27 L45.895 1107.13 L38.479 1107.13 Z\" fill=\"#000000\" fill-rule=\"evenodd\" fill-opacity=\"1\" /><path clip-path=\"url(#clip050)\" d=\"M 0 0 M59.1993 1067.37 Q55.2526 1065.18 53.3747 1062.12 Q51.4968 1059.07 51.4968 1054.93 Q51.4968 1049.36 55.4117 1046.34 Q59.2948 1043.31 66.4881 1043.31 L88.0042 1043.31 L88.0042 1049.2 L66.679 1049.2 Q61.5546 1049.2 59.072 1051.01 Q56.5894 1052.83 56.5894 1056.55 Q56.5894 1061.1 59.6131 1063.75 Q62.6368 1066.39 67.8567 1066.39 L88.0042 1066.39 L88.0042 1072.28 L66.679 1072.28 Q61.5228 1072.28 59.072 1074.09 Q56.5894 1075.9 56.5894 1079.69 Q56.5894 1084.18 59.6449 1086.82 Q62.6686 1089.46 67.8567 1089.46 L88.0042 1089.46 L88.0042 1095.35 L52.3562 1095.35 L52.3562 1089.46 L57.8944 1089.46 Q54.616 1087.46 53.0564 1084.66 Q51.4968 1081.86 51.4968 1078.01 Q51.4968 1074.12 53.4702 1071.42 Q55.4436 1068.68 59.1993 1067.37 Z\" fill=\"#000000\" fill-rule=\"evenodd\" fill-opacity=\"1\" /><path clip-path=\"url(#clip050)\" d=\"M 0 0 M68.7161 1006.68 L71.5806 1006.68 L71.5806 1033.6 Q77.6281 1033.22 80.8109 1029.98 Q83.9619 1026.7 83.9619 1020.87 Q83.9619 1017.5 83.1344 1014.35 Q82.3069 1011.17 80.6518 1008.05 L86.1899 1008.05 Q87.5267 1011.2 88.227 1014.51 Q88.9272 1017.82 88.9272 1021.22 Q88.9272 1029.75 83.9619 1034.75 Q78.9967 1039.72 70.5303 1039.72 Q61.7774 1039.72 56.6531 1035 Q51.4968 1030.26 51.4968 1022.24 Q51.4968 1015.05 56.1438 1010.88 Q60.7589 1006.68 68.7161 1006.68 M66.9973 1012.53 Q62.1912 1012.6 59.3266 1015.24 Q56.4621 1017.85 56.4621 1022.18 Q56.4621 1027.08 59.2312 1030.04 Q62.0002 1032.97 67.0292 1033.41 L66.9973 1012.53 Z\" fill=\"#000000\" fill-rule=\"evenodd\" fill-opacity=\"1\" /><path clip-path=\"url(#clip050)\" d=\"M 0 0 M38.5426 965.746 Q45.8632 970.011 53.0246 972.08 Q60.186 974.149 67.5384 974.149 Q74.8908 974.149 82.1159 972.08 Q89.3091 969.979 96.5979 965.746 L96.5979 970.839 Q89.1182 975.613 81.8931 978 Q74.668 980.355 67.5384 980.355 Q60.4406 980.355 53.2474 978 Q46.0542 975.645 38.5426 970.839 L38.5426 965.746 Z\" fill=\"#000000\" fill-rule=\"evenodd\" fill-opacity=\"1\" /><path clip-path=\"url(#clip050)\" d=\"M 0 0 M59.1993 931.849 Q55.2526 929.652 53.3747 926.597 Q51.4968 923.541 51.4968 919.404 Q51.4968 913.834 55.4117 910.81 Q59.2948 907.786 66.4881 907.786 L88.0042 907.786 L88.0042 913.675 L66.679 913.675 Q61.5546 913.675 59.072 915.489 Q56.5894 917.303 56.5894 921.027 Q56.5894 925.578 59.6131 928.22 Q62.6368 930.862 67.8567 930.862 L88.0042 930.862 L88.0042 936.75 L66.679 936.75 Q61.5228 936.75 59.072 938.564 Q56.5894 940.379 56.5894 944.166 Q56.5894 948.654 59.6449 951.296 Q62.6686 953.938 67.8567 953.938 L88.0042 953.938 L88.0042 959.826 L52.3562 959.826 L52.3562 953.938 L57.8944 953.938 Q54.616 951.932 53.0564 949.132 Q51.4968 946.331 51.4968 942.479 Q51.4968 938.596 53.4702 935.891 Q55.4436 933.154 59.1993 931.849 Z\" fill=\"#000000\" fill-rule=\"evenodd\" fill-opacity=\"1\" /><path clip-path=\"url(#clip050)\" d=\"M 0 0 M53.4065 878.918 L58.9447 878.918 Q57.6716 881.4 57.035 884.074 Q56.3984 886.748 56.3984 889.612 Q56.3984 893.973 57.7352 896.169 Q59.072 898.333 61.7456 898.333 Q63.7826 898.333 64.9603 896.774 Q66.1061 895.214 67.1565 890.503 L67.6021 888.498 Q68.9389 882.26 71.3897 879.65 Q73.8086 877.008 78.1691 877.008 Q83.1344 877.008 86.0308 880.955 Q88.9272 884.87 88.9272 891.745 Q88.9272 894.609 88.3543 897.728 Q87.8132 900.816 86.6992 904.253 L80.6518 904.253 Q82.3387 901.007 83.198 897.856 Q84.0256 894.705 84.0256 891.617 Q84.0256 887.48 82.6251 885.252 Q81.1929 883.024 78.6147 883.024 Q76.2276 883.024 74.9545 884.647 Q73.6813 886.238 72.5037 891.681 L72.0262 893.718 Q70.8804 899.161 68.5251 901.58 Q66.138 903.999 62.0002 903.999 Q56.9713 903.999 54.2341 900.434 Q51.4968 896.869 51.4968 890.312 Q51.4968 887.066 51.9743 884.201 Q52.4517 881.337 53.4065 878.918 Z\" fill=\"#000000\" fill-rule=\"evenodd\" fill-opacity=\"1\" /><path clip-path=\"url(#clip050)\" d=\"M 0 0 M79.9197 869.369 L79.9197 862.653 L85.3942 862.653 L95.5793 867.873 L95.5793 871.979 L85.3942 869.369 L79.9197 869.369 Z\" fill=\"#000000\" fill-rule=\"evenodd\" fill-opacity=\"1\" /><path clip-path=\"url(#clip050)\" d=\"M 0 0 M53.4065 813.065 L58.9447 813.065 Q57.6716 815.547 57.035 818.221 Q56.3984 820.894 56.3984 823.759 Q56.3984 828.119 57.7352 830.316 Q59.072 832.48 61.7456 832.48 Q63.7826 832.48 64.9603 830.92 Q66.1061 829.361 67.1565 824.65 L67.6021 822.645 Q68.9389 816.407 71.3897 813.797 Q73.8086 811.155 78.1691 811.155 Q83.1344 811.155 86.0308 815.102 Q88.9272 819.016 88.9272 825.891 Q88.9272 828.756 88.3543 831.875 Q87.8132 834.963 86.6992 838.4 L80.6518 838.4 Q82.3387 835.154 83.198 832.003 Q84.0256 828.852 84.0256 825.764 Q84.0256 821.626 82.6251 819.398 Q81.1929 817.17 78.6147 817.17 Q76.2276 817.17 74.9545 818.794 Q73.6813 820.385 72.5037 825.828 L72.0262 827.865 Q70.8804 833.308 68.5251 835.726 Q66.138 838.145 62.0002 838.145 Q56.9713 838.145 54.2341 834.581 Q51.4968 831.016 51.4968 824.459 Q51.4968 821.213 51.9743 818.348 Q52.4517 815.484 53.4065 813.065 Z\" fill=\"#000000\" fill-rule=\"evenodd\" fill-opacity=\"1\" /><path clip-path=\"url(#clip050)\" d=\"M 0 0 M66.4881 775.38 L88.0042 775.38 L88.0042 781.236 L66.679 781.236 Q61.6183 781.236 59.1038 783.209 Q56.5894 785.183 56.5894 789.13 Q56.5894 793.872 59.6131 796.609 Q62.6368 799.346 67.8567 799.346 L88.0042 799.346 L88.0042 805.235 L38.479 805.235 L38.479 799.346 L57.8944 799.346 Q54.6797 797.246 53.0883 794.413 Q51.4968 791.548 51.4968 787.825 Q51.4968 781.682 55.3163 778.531 Q59.1038 775.38 66.4881 775.38 Z\" fill=\"#000000\" fill-rule=\"evenodd\" fill-opacity=\"1\" /><path clip-path=\"url(#clip050)\" d=\"M 0 0 M56.4621 755.423 Q56.4621 760.134 60.1542 762.871 Q63.8145 765.608 70.212 765.608 Q76.6095 765.608 80.3017 762.903 Q83.9619 760.166 83.9619 755.423 Q83.9619 750.744 80.2698 748.007 Q76.5777 745.27 70.212 745.27 Q63.8781 745.27 60.186 748.007 Q56.4621 750.744 56.4621 755.423 M51.4968 755.423 Q51.4968 747.784 56.4621 743.424 Q61.4273 739.063 70.212 739.063 Q78.9649 739.063 83.9619 743.424 Q88.9272 747.784 88.9272 755.423 Q88.9272 763.094 83.9619 767.454 Q78.9649 771.783 70.212 771.783 Q61.4273 771.783 56.4621 767.454 Q51.4968 763.094 51.4968 755.423 Z\" fill=\"#000000\" fill-rule=\"evenodd\" fill-opacity=\"1\" /><path clip-path=\"url(#clip050)\" d=\"M 0 0 M57.8307 712.264 Q57.2578 713.25 57.0032 714.428 Q56.7167 715.574 56.7167 716.974 Q56.7167 721.939 59.9632 724.613 Q63.1779 727.255 69.2253 727.255 L88.0042 727.255 L88.0042 733.143 L52.3562 733.143 L52.3562 727.255 L57.8944 727.255 Q54.6479 725.409 53.0883 722.449 Q51.4968 719.489 51.4968 715.255 Q51.4968 714.651 51.5923 713.919 Q51.656 713.187 51.8151 712.295 L57.8307 712.264 Z\" fill=\"#000000\" fill-rule=\"evenodd\" fill-opacity=\"1\" /><path clip-path=\"url(#clip050)\" d=\"M 0 0 M42.2347 700.328 L52.3562 700.328 L52.3562 688.265 L56.9077 688.265 L56.9077 700.328 L76.2594 700.328 Q80.6199 700.328 81.8613 699.15 Q83.1026 697.941 83.1026 694.28 L83.1026 688.265 L88.0042 688.265 L88.0042 694.28 Q88.0042 701.06 85.4897 703.638 Q82.9434 706.216 76.2594 706.216 L56.9077 706.216 L56.9077 710.513 L52.3562 710.513 L52.3562 706.216 L42.2347 706.216 L42.2347 700.328 Z\" fill=\"#000000\" fill-rule=\"evenodd\" fill-opacity=\"1\" /><path clip-path=\"url(#clip050)\" d=\"M 0 0 M68.7161 651.63 L71.5806 651.63 L71.5806 678.557 Q77.6281 678.175 80.8109 674.929 Q83.9619 671.65 83.9619 665.826 Q83.9619 662.452 83.1344 659.301 Q82.3069 656.118 80.6518 652.999 L86.1899 652.999 Q87.5267 656.15 88.227 659.46 Q88.9272 662.77 88.9272 666.176 Q88.9272 674.706 83.9619 679.703 Q78.9967 684.668 70.5303 684.668 Q61.7774 684.668 56.6531 679.958 Q51.4968 675.215 51.4968 667.194 Q51.4968 660.001 56.1438 655.832 Q60.7589 651.63 68.7161 651.63 M66.9973 657.487 Q62.1912 657.55 59.3266 660.192 Q56.4621 662.802 56.4621 667.131 Q56.4621 672.032 59.2312 674.992 Q62.0002 677.921 67.0292 678.366 L66.9973 657.487 Z\" fill=\"#000000\" fill-rule=\"evenodd\" fill-opacity=\"1\" /><path clip-path=\"url(#clip050)\" d=\"M 0 0 M57.8307 624.831 Q57.2578 625.817 57.0032 626.995 Q56.7167 628.141 56.7167 629.541 Q56.7167 634.506 59.9632 637.18 Q63.1779 639.822 69.2253 639.822 L88.0042 639.822 L88.0042 645.71 L52.3562 645.71 L52.3562 639.822 L57.8944 639.822 Q54.6479 637.976 53.0883 635.016 Q51.4968 632.056 51.4968 627.822 Q51.4968 627.218 51.5923 626.486 Q51.656 625.754 51.8151 624.862 L57.8307 624.831 Z\" fill=\"#000000\" fill-rule=\"evenodd\" fill-opacity=\"1\" /><path clip-path=\"url(#clip050)\" d=\"M 0 0 M52.3562 597.967 L52.3562 592.111 L88.0042 592.111 L88.0042 597.967 L52.3562 597.967 M38.479 597.967 L38.479 592.111 L45.895 592.111 L45.895 597.967 L38.479 597.967 Z\" fill=\"#000000\" fill-rule=\"evenodd\" fill-opacity=\"1\" /><path clip-path=\"url(#clip050)\" d=\"M 0 0 M53.4065 563.242 L58.9447 563.242 Q57.6716 565.725 57.035 568.399 Q56.3984 571.072 56.3984 573.937 Q56.3984 578.297 57.7352 580.493 Q59.072 582.658 61.7456 582.658 Q63.7826 582.658 64.9603 581.098 Q66.1061 579.539 67.1565 574.828 L67.6021 572.823 Q68.9389 566.584 71.3897 563.974 Q73.8086 561.333 78.1691 561.333 Q83.1344 561.333 86.0308 565.279 Q88.9272 569.194 88.9272 576.069 Q88.9272 578.934 88.3543 582.053 Q87.8132 585.14 86.6992 588.578 L80.6518 588.578 Q82.3387 585.331 83.198 582.18 Q84.0256 579.029 84.0256 575.942 Q84.0256 571.804 82.6251 569.576 Q81.1929 567.348 78.6147 567.348 Q76.2276 567.348 74.9545 568.972 Q73.6813 570.563 72.5037 576.006 L72.0262 578.043 Q70.8804 583.485 68.5251 585.904 Q66.138 588.323 62.0002 588.323 Q56.9713 588.323 54.2341 584.758 Q51.4968 581.194 51.4968 574.637 Q51.4968 571.391 51.9743 568.526 Q52.4517 565.661 53.4065 563.242 Z\" fill=\"#000000\" fill-rule=\"evenodd\" fill-opacity=\"1\" /><path clip-path=\"url(#clip050)\" d=\"M 0 0 M70.212 508.879 Q63.7508 508.879 60.0905 511.553 Q56.3984 514.195 56.3984 518.842 Q56.3984 523.489 60.0905 526.162 Q63.7508 528.804 70.212 528.804 Q76.6732 528.804 80.3653 526.162 Q84.0256 523.489 84.0256 518.842 Q84.0256 514.195 80.3653 511.553 Q76.6732 508.879 70.212 508.879 M57.7671 528.804 Q54.5842 526.958 53.0564 524.157 Q51.4968 521.324 51.4968 517.409 Q51.4968 510.916 56.6531 506.874 Q61.8093 502.8 70.212 502.8 Q78.6147 502.8 83.771 506.874 Q88.9272 510.916 88.9272 517.409 Q88.9272 521.324 87.3994 524.157 Q85.8398 526.958 82.657 528.804 L88.0042 528.804 L88.0042 534.692 L38.479 534.692 L38.479 528.804 L57.7671 528.804 Z\" fill=\"#000000\" fill-rule=\"evenodd\" fill-opacity=\"1\" /><path clip-path=\"url(#clip050)\" d=\"M 0 0 M68.7161 466.165 L71.5806 466.165 L71.5806 493.092 Q77.6281 492.71 80.8109 489.464 Q83.9619 486.186 83.9619 480.361 Q83.9619 476.987 83.1344 473.836 Q82.3069 470.653 80.6518 467.534 L86.1899 467.534 Q87.5267 470.685 88.227 473.995 Q88.9272 477.305 88.9272 480.711 Q88.9272 489.241 83.9619 494.238 Q78.9967 499.203 70.5303 499.203 Q61.7774 499.203 56.6531 494.493 Q51.4968 489.75 51.4968 481.73 Q51.4968 474.536 56.1438 470.367 Q60.7589 466.165 68.7161 466.165 M66.9973 472.022 Q62.1912 472.085 59.3266 474.727 Q56.4621 477.337 56.4621 481.666 Q56.4621 486.567 59.2312 489.528 Q62.0002 492.456 67.0292 492.901 L66.9973 472.022 Z\" fill=\"#000000\" fill-rule=\"evenodd\" fill-opacity=\"1\" /><path clip-path=\"url(#clip050)\" d=\"M 0 0 M42.2347 454.23 L52.3562 454.23 L52.3562 442.167 L56.9077 442.167 L56.9077 454.23 L76.2594 454.23 Q80.6199 454.23 81.8613 453.052 Q83.1026 451.843 83.1026 448.182 L83.1026 442.167 L88.0042 442.167 L88.0042 448.182 Q88.0042 454.962 85.4897 457.54 Q82.9434 460.118 76.2594 460.118 L56.9077 460.118 L56.9077 464.415 L52.3562 464.415 L52.3562 460.118 L42.2347 460.118 L42.2347 454.23 Z\" fill=\"#000000\" fill-rule=\"evenodd\" fill-opacity=\"1\" /><path clip-path=\"url(#clip050)\" d=\"M 0 0 M42.2347 430.231 L52.3562 430.231 L52.3562 418.168 L56.9077 418.168 L56.9077 430.231 L76.2594 430.231 Q80.6199 430.231 81.8613 429.053 Q83.1026 427.844 83.1026 424.184 L83.1026 418.168 L88.0042 418.168 L88.0042 424.184 Q88.0042 430.963 85.4897 433.541 Q82.9434 436.119 76.2594 436.119 L56.9077 436.119 L56.9077 440.416 L52.3562 440.416 L52.3562 436.119 L42.2347 436.119 L42.2347 430.231 Z\" fill=\"#000000\" fill-rule=\"evenodd\" fill-opacity=\"1\" /><path clip-path=\"url(#clip050)\" d=\"M 0 0 M68.7161 381.533 L71.5806 381.533 L71.5806 408.46 Q77.6281 408.078 80.8109 404.832 Q83.9619 401.553 83.9619 395.729 Q83.9619 392.355 83.1344 389.204 Q82.3069 386.021 80.6518 382.902 L86.1899 382.902 Q87.5267 386.053 88.227 389.363 Q88.9272 392.673 88.9272 396.079 Q88.9272 404.609 83.9619 409.606 Q78.9967 414.571 70.5303 414.571 Q61.7774 414.571 56.6531 409.861 Q51.4968 405.118 51.4968 397.097 Q51.4968 389.904 56.1438 385.735 Q60.7589 381.533 68.7161 381.533 M66.9973 387.39 Q62.1912 387.453 59.3266 390.095 Q56.4621 392.705 56.4621 397.034 Q56.4621 401.935 59.2312 404.895 Q62.0002 407.824 67.0292 408.269 L66.9973 387.39 Z\" fill=\"#000000\" fill-rule=\"evenodd\" fill-opacity=\"1\" /><path clip-path=\"url(#clip050)\" d=\"M 0 0 M57.8307 354.734 Q57.2578 355.72 57.0032 356.898 Q56.7167 358.044 56.7167 359.444 Q56.7167 364.41 59.9632 367.083 Q63.1779 369.725 69.2253 369.725 L88.0042 369.725 L88.0042 375.613 L52.3562 375.613 L52.3562 369.725 L57.8944 369.725 Q54.6479 367.879 53.0883 364.919 Q51.4968 361.959 51.4968 357.726 Q51.4968 357.121 51.5923 356.389 Q51.656 355.657 51.8151 354.766 L57.8307 354.734 Z\" fill=\"#000000\" fill-rule=\"evenodd\" fill-opacity=\"1\" /><path clip-path=\"url(#clip050)\" d=\"M 0 0 M38.5426 349.514 L38.5426 344.421 Q46.0542 339.647 53.2474 337.292 Q60.4406 334.905 67.5384 334.905 Q74.668 334.905 81.8931 337.292 Q89.1182 339.647 96.5979 344.421 L96.5979 349.514 Q89.3091 345.281 82.1159 343.212 Q74.8908 341.111 67.5384 341.111 Q60.186 341.111 53.0246 343.212 Q45.8632 345.281 38.5426 349.514 Z\" fill=\"#000000\" fill-rule=\"evenodd\" fill-opacity=\"1\" /><path clip-path=\"url(#clip052)\" d=\"\n",
       "M351.31 86.1857 L351.31 1384.24 L1189.07 1384.24 L1189.07 86.1857 L351.31 86.1857 L351.31 86.1857  Z\n",
       "  \" fill=\"#009af9\" fill-rule=\"evenodd\" fill-opacity=\"1\"/>\n",
       "<polyline clip-path=\"url(#clip052)\" style=\"stroke:#000000; stroke-width:4; stroke-opacity:1; fill:none\" points=\"\n",
       "  351.31,86.1857 351.31,1384.24 1189.07,1384.24 1189.07,86.1857 351.31,86.1857 \n",
       "  \"/>\n",
       "<path clip-path=\"url(#clip052)\" d=\"\n",
       "M1398.51 130.564 L1398.51 1384.24 L2236.27 1384.24 L2236.27 130.564 L1398.51 130.564 L1398.51 130.564  Z\n",
       "  \" fill=\"#009af9\" fill-rule=\"evenodd\" fill-opacity=\"1\"/>\n",
       "<polyline clip-path=\"url(#clip052)\" style=\"stroke:#000000; stroke-width:4; stroke-opacity:1; fill:none\" points=\"\n",
       "  1398.51,130.564 1398.51,1384.24 2236.27,1384.24 2236.27,130.564 1398.51,130.564 \n",
       "  \"/>\n",
       "</svg>\n"
      ]
     },
     "execution_count": 61,
     "metadata": {},
     "output_type": "execute_result"
    }
   ],
   "source": [
    "results = [\n",
    "    \"my_sum (Julia)\" => 11.7,\n",
    "    \"c_sum (C)\" => 11.3\n",
    "]\n",
    "\n",
    "bar(first.(results), last.(results), xlabel=\"function\", ylabel=\"time (ms, shorter is better)\", legend=nothing)"
   ]
  },
  {
   "cell_type": "markdown",
   "metadata": {
    "slideshow": {
     "slide_type": "subslide"
    }
   },
   "source": [
    "Our naive Julia code is just as fast as our naive C code! \n",
    "\n",
    "Is that as fast as we can go? What about Julia's built-in `sum()` function:"
   ]
  },
  {
   "cell_type": "code",
   "execution_count": 62,
   "metadata": {
    "slideshow": {
     "slide_type": "fragment"
    }
   },
   "outputs": [
    {
     "name": "stdout",
     "output_type": "stream",
     "text": [
      "  5.377 ms (0 allocations: 0 bytes)\n"
     ]
    },
    {
     "data": {
      "text/plain": [
       "4.998996907718867e6"
      ]
     },
     "execution_count": 62,
     "metadata": {},
     "output_type": "execute_result"
    }
   ],
   "source": [
    "@btime sum($data)"
   ]
  },
  {
   "cell_type": "code",
   "execution_count": 63,
   "metadata": {
    "slideshow": {
     "slide_type": "fragment"
    }
   },
   "outputs": [
    {
     "data": {
      "image/svg+xml": [
       "<?xml version=\"1.0\" encoding=\"utf-8\"?>\n",
       "<svg xmlns=\"http://www.w3.org/2000/svg\" xmlns:xlink=\"http://www.w3.org/1999/xlink\" width=\"600\" height=\"400\" viewBox=\"0 0 2400 1600\">\n",
       "<defs>\n",
       "  <clipPath id=\"clip090\">\n",
       "    <rect x=\"0\" y=\"0\" width=\"2400\" height=\"1600\"/>\n",
       "  </clipPath>\n",
       "</defs>\n",
       "<path clip-path=\"url(#clip090)\" d=\"\n",
       "M0 1600 L2400 1600 L2400 0 L0 0  Z\n",
       "  \" fill=\"#ffffff\" fill-rule=\"evenodd\" fill-opacity=\"1\"/>\n",
       "<defs>\n",
       "  <clipPath id=\"clip091\">\n",
       "    <rect x=\"480\" y=\"0\" width=\"1681\" height=\"1600\"/>\n",
       "  </clipPath>\n",
       "</defs>\n",
       "<path clip-path=\"url(#clip090)\" d=\"\n",
       "M234.82 1423.18 L2352.76 1423.18 L2352.76 47.2441 L234.82 47.2441  Z\n",
       "  \" fill=\"#ffffff\" fill-rule=\"evenodd\" fill-opacity=\"1\"/>\n",
       "<defs>\n",
       "  <clipPath id=\"clip092\">\n",
       "    <rect x=\"234\" y=\"47\" width=\"2119\" height=\"1377\"/>\n",
       "  </clipPath>\n",
       "</defs>\n",
       "<polyline clip-path=\"url(#clip092)\" style=\"stroke:#000000; stroke-width:2; stroke-opacity:0.1; fill:none\" points=\"\n",
       "  620.589,1423.18 620.589,47.2441 \n",
       "  \"/>\n",
       "<polyline clip-path=\"url(#clip092)\" style=\"stroke:#000000; stroke-width:2; stroke-opacity:0.1; fill:none\" points=\"\n",
       "  1293.79,1423.18 1293.79,47.2441 \n",
       "  \"/>\n",
       "<polyline clip-path=\"url(#clip092)\" style=\"stroke:#000000; stroke-width:2; stroke-opacity:0.1; fill:none\" points=\"\n",
       "  1966.99,1423.18 1966.99,47.2441 \n",
       "  \"/>\n",
       "<polyline clip-path=\"url(#clip092)\" style=\"stroke:#000000; stroke-width:2; stroke-opacity:0.1; fill:none\" points=\"\n",
       "  234.82,1384.24 2352.76,1384.24 \n",
       "  \"/>\n",
       "<polyline clip-path=\"url(#clip092)\" style=\"stroke:#000000; stroke-width:2; stroke-opacity:0.1; fill:none\" points=\"\n",
       "  234.82,1106.88 2352.76,1106.88 \n",
       "  \"/>\n",
       "<polyline clip-path=\"url(#clip092)\" style=\"stroke:#000000; stroke-width:2; stroke-opacity:0.1; fill:none\" points=\"\n",
       "  234.82,829.515 2352.76,829.515 \n",
       "  \"/>\n",
       "<polyline clip-path=\"url(#clip092)\" style=\"stroke:#000000; stroke-width:2; stroke-opacity:0.1; fill:none\" points=\"\n",
       "  234.82,552.153 2352.76,552.153 \n",
       "  \"/>\n",
       "<polyline clip-path=\"url(#clip092)\" style=\"stroke:#000000; stroke-width:2; stroke-opacity:0.1; fill:none\" points=\"\n",
       "  234.82,274.792 2352.76,274.792 \n",
       "  \"/>\n",
       "<polyline clip-path=\"url(#clip090)\" style=\"stroke:#000000; stroke-width:4; stroke-opacity:1; fill:none\" points=\"\n",
       "  234.82,1423.18 2352.76,1423.18 \n",
       "  \"/>\n",
       "<polyline clip-path=\"url(#clip090)\" style=\"stroke:#000000; stroke-width:4; stroke-opacity:1; fill:none\" points=\"\n",
       "  234.82,1423.18 234.82,47.2441 \n",
       "  \"/>\n",
       "<polyline clip-path=\"url(#clip090)\" style=\"stroke:#000000; stroke-width:4; stroke-opacity:1; fill:none\" points=\"\n",
       "  620.589,1423.18 620.589,1406.67 \n",
       "  \"/>\n",
       "<polyline clip-path=\"url(#clip090)\" style=\"stroke:#000000; stroke-width:4; stroke-opacity:1; fill:none\" points=\"\n",
       "  1293.79,1423.18 1293.79,1406.67 \n",
       "  \"/>\n",
       "<polyline clip-path=\"url(#clip090)\" style=\"stroke:#000000; stroke-width:4; stroke-opacity:1; fill:none\" points=\"\n",
       "  1966.99,1423.18 1966.99,1406.67 \n",
       "  \"/>\n",
       "<polyline clip-path=\"url(#clip090)\" style=\"stroke:#000000; stroke-width:4; stroke-opacity:1; fill:none\" points=\"\n",
       "  234.82,1384.24 260.235,1384.24 \n",
       "  \"/>\n",
       "<polyline clip-path=\"url(#clip090)\" style=\"stroke:#000000; stroke-width:4; stroke-opacity:1; fill:none\" points=\"\n",
       "  234.82,1106.88 260.235,1106.88 \n",
       "  \"/>\n",
       "<polyline clip-path=\"url(#clip090)\" style=\"stroke:#000000; stroke-width:4; stroke-opacity:1; fill:none\" points=\"\n",
       "  234.82,829.515 260.235,829.515 \n",
       "  \"/>\n",
       "<polyline clip-path=\"url(#clip090)\" style=\"stroke:#000000; stroke-width:4; stroke-opacity:1; fill:none\" points=\"\n",
       "  234.82,552.153 260.235,552.153 \n",
       "  \"/>\n",
       "<polyline clip-path=\"url(#clip090)\" style=\"stroke:#000000; stroke-width:4; stroke-opacity:1; fill:none\" points=\"\n",
       "  234.82,274.792 260.235,274.792 \n",
       "  \"/>\n",
       "<path clip-path=\"url(#clip090)\" d=\"M 0 0 M490.741 1455.7 Q492.338 1452.83 494.56 1451.47 Q496.782 1450.1 499.792 1450.1 Q503.842 1450.1 506.042 1452.95 Q508.241 1455.77 508.241 1461 L508.241 1476.65 L503.958 1476.65 L503.958 1461.14 Q503.958 1457.42 502.639 1455.61 Q501.319 1453.8 498.611 1453.8 Q495.301 1453.8 493.38 1456 Q491.458 1458.2 491.458 1462 L491.458 1476.65 L487.176 1476.65 L487.176 1461.14 Q487.176 1457.39 485.856 1455.61 Q484.537 1453.8 481.782 1453.8 Q478.519 1453.8 476.597 1456.03 Q474.676 1458.23 474.676 1462 L474.676 1476.65 L470.394 1476.65 L470.394 1450.73 L474.676 1450.73 L474.676 1454.75 Q476.134 1452.37 478.171 1451.24 Q480.208 1450.1 483.009 1450.1 Q485.833 1450.1 487.801 1451.54 Q489.792 1452.97 490.741 1455.7 Z\" fill=\"#000000\" fill-rule=\"evenodd\" fill-opacity=\"1\" /><path clip-path=\"url(#clip090)\" d=\"M 0 0 M523.495 1479.06 Q521.69 1483.69 519.977 1485.1 Q518.264 1486.51 515.393 1486.51 L511.991 1486.51 L511.991 1482.95 L514.491 1482.95 Q516.25 1482.95 517.222 1482.11 Q518.194 1481.28 519.375 1478.18 L520.139 1476.24 L509.653 1450.73 L514.166 1450.73 L522.268 1471 L530.37 1450.73 L534.884 1450.73 L523.495 1479.06 Z\" fill=\"#000000\" fill-rule=\"evenodd\" fill-opacity=\"1\" /><path clip-path=\"url(#clip090)\" d=\"M 0 0 M559.05 1484.52 L559.05 1487.83 L534.421 1487.83 L534.421 1484.52 L559.05 1484.52 Z\" fill=\"#000000\" fill-rule=\"evenodd\" fill-opacity=\"1\" /><path clip-path=\"url(#clip090)\" d=\"M 0 0 M580.046 1451.49 L580.046 1455.52 Q578.24 1454.59 576.296 1454.13 Q574.351 1453.67 572.268 1453.67 Q569.097 1453.67 567.5 1454.64 Q565.925 1455.61 565.925 1457.55 Q565.925 1459.04 567.06 1459.89 Q568.194 1460.73 571.62 1461.49 L573.078 1461.81 Q577.615 1462.79 579.513 1464.57 Q581.435 1466.33 581.435 1469.5 Q581.435 1473.11 578.564 1475.22 Q575.717 1477.32 570.717 1477.32 Q568.634 1477.32 566.365 1476.91 Q564.12 1476.51 561.62 1475.7 L561.62 1471.3 Q563.981 1472.53 566.273 1473.16 Q568.564 1473.76 570.81 1473.76 Q573.819 1473.76 575.439 1472.74 Q577.06 1471.7 577.06 1469.82 Q577.06 1468.09 575.879 1467.16 Q574.722 1466.24 570.763 1465.38 L569.282 1465.03 Q565.324 1464.2 563.564 1462.49 Q561.805 1460.75 561.805 1457.74 Q561.805 1454.08 564.398 1452.09 Q566.99 1450.1 571.759 1450.1 Q574.12 1450.1 576.203 1450.45 Q578.286 1450.8 580.046 1451.49 Z\" fill=\"#000000\" fill-rule=\"evenodd\" fill-opacity=\"1\" /><path clip-path=\"url(#clip090)\" d=\"M 0 0 M585.462 1466.42 L585.462 1450.73 L589.722 1450.73 L589.722 1466.26 Q589.722 1469.94 591.157 1471.79 Q592.592 1473.62 595.462 1473.62 Q598.911 1473.62 600.902 1471.42 Q602.916 1469.22 602.916 1465.43 L602.916 1450.73 L607.175 1450.73 L607.175 1476.65 L602.916 1476.65 L602.916 1472.67 Q601.365 1475.03 599.305 1476.19 Q597.268 1477.32 594.56 1477.32 Q590.092 1477.32 587.777 1474.55 Q585.462 1471.77 585.462 1466.42 M596.18 1450.1 L596.18 1450.1 Z\" fill=\"#000000\" fill-rule=\"evenodd\" fill-opacity=\"1\" /><path clip-path=\"url(#clip090)\" d=\"M 0 0 M631.828 1455.7 Q633.425 1452.83 635.647 1451.47 Q637.869 1450.1 640.879 1450.1 Q644.93 1450.1 647.129 1452.95 Q649.328 1455.77 649.328 1461 L649.328 1476.65 L645.045 1476.65 L645.045 1461.14 Q645.045 1457.42 643.726 1455.61 Q642.407 1453.8 639.698 1453.8 Q636.388 1453.8 634.467 1456 Q632.545 1458.2 632.545 1462 L632.545 1476.65 L628.263 1476.65 L628.263 1461.14 Q628.263 1457.39 626.944 1455.61 Q625.624 1453.8 622.87 1453.8 Q619.606 1453.8 617.684 1456.03 Q615.763 1458.23 615.763 1462 L615.763 1476.65 L611.481 1476.65 L611.481 1450.73 L615.763 1450.73 L615.763 1454.75 Q617.221 1452.37 619.258 1451.24 Q621.296 1450.1 624.096 1450.1 Q626.92 1450.1 628.888 1451.54 Q630.879 1452.97 631.828 1455.7 Z\" fill=\"#000000\" fill-rule=\"evenodd\" fill-opacity=\"1\" /><path clip-path=\"url(#clip090)\" d=\"M 0 0 M679.096 1440.68 Q675.994 1446 674.49 1451.21 Q672.985 1456.42 672.985 1461.77 Q672.985 1467.11 674.49 1472.37 Q676.017 1477.6 679.096 1482.9 L675.392 1482.9 Q671.92 1477.46 670.184 1472.21 Q668.471 1466.95 668.471 1461.77 Q668.471 1456.61 670.184 1451.37 Q671.897 1446.14 675.392 1440.68 L679.096 1440.68 Z\" fill=\"#000000\" fill-rule=\"evenodd\" fill-opacity=\"1\" /><path clip-path=\"url(#clip090)\" d=\"M 0 0 M683.749 1442.09 L688.425 1442.09 L688.425 1474.24 Q688.425 1480.49 686.041 1483.32 Q683.679 1486.14 678.425 1486.14 L676.642 1486.14 L676.642 1482.21 L678.101 1482.21 Q681.203 1482.21 682.476 1480.47 Q683.749 1478.74 683.749 1474.24 L683.749 1442.09 Z\" fill=\"#000000\" fill-rule=\"evenodd\" fill-opacity=\"1\" /><path clip-path=\"url(#clip090)\" d=\"M 0 0 M692.453 1466.42 L692.453 1450.73 L696.712 1450.73 L696.712 1466.26 Q696.712 1469.94 698.147 1471.79 Q699.582 1473.62 702.452 1473.62 Q705.902 1473.62 707.892 1471.42 Q709.906 1469.22 709.906 1465.43 L709.906 1450.73 L714.165 1450.73 L714.165 1476.65 L709.906 1476.65 L709.906 1472.67 Q708.355 1475.03 706.295 1476.19 Q704.258 1477.32 701.55 1477.32 Q697.082 1477.32 694.767 1474.55 Q692.453 1471.77 692.453 1466.42 M703.17 1450.1 L703.17 1450.1 Z\" fill=\"#000000\" fill-rule=\"evenodd\" fill-opacity=\"1\" /><path clip-path=\"url(#clip090)\" d=\"M 0 0 M718.633 1440.63 L722.892 1440.63 L722.892 1476.65 L718.633 1476.65 L718.633 1440.63 Z\" fill=\"#000000\" fill-rule=\"evenodd\" fill-opacity=\"1\" /><path clip-path=\"url(#clip090)\" d=\"M 0 0 M727.36 1450.73 L731.619 1450.73 L731.619 1476.65 L727.36 1476.65 L727.36 1450.73 M727.36 1440.63 L731.619 1440.63 L731.619 1446.03 L727.36 1446.03 L727.36 1440.63 Z\" fill=\"#000000\" fill-rule=\"evenodd\" fill-opacity=\"1\" /><path clip-path=\"url(#clip090)\" d=\"M 0 0 M747.869 1463.62 Q742.707 1463.62 740.716 1464.8 Q738.725 1465.98 738.725 1468.83 Q738.725 1471.1 740.207 1472.44 Q741.712 1473.76 744.281 1473.76 Q747.823 1473.76 749.952 1471.26 Q752.105 1468.74 752.105 1464.57 L752.105 1463.62 L747.869 1463.62 M756.364 1461.86 L756.364 1476.65 L752.105 1476.65 L752.105 1472.72 Q750.647 1475.08 748.471 1476.21 Q746.295 1477.32 743.147 1477.32 Q739.165 1477.32 736.804 1475.1 Q734.466 1472.86 734.466 1469.11 Q734.466 1464.73 737.383 1462.51 Q740.323 1460.29 746.133 1460.29 L752.105 1460.29 L752.105 1459.87 Q752.105 1456.93 750.161 1455.33 Q748.239 1453.71 744.744 1453.71 Q742.522 1453.71 740.415 1454.24 Q738.309 1454.78 736.364 1455.84 L736.364 1451.91 Q738.702 1451 740.901 1450.56 Q743.1 1450.1 745.184 1450.1 Q750.809 1450.1 753.586 1453.02 Q756.364 1455.93 756.364 1461.86 Z\" fill=\"#000000\" fill-rule=\"evenodd\" fill-opacity=\"1\" /><path clip-path=\"url(#clip090)\" d=\"M 0 0 M760.161 1440.68 L763.864 1440.68 Q767.336 1446.14 769.049 1451.37 Q770.785 1456.61 770.785 1461.77 Q770.785 1466.95 769.049 1472.21 Q767.336 1477.46 763.864 1482.9 L760.161 1482.9 Q763.239 1477.6 764.744 1472.37 Q766.272 1467.11 766.272 1461.77 Q766.272 1456.42 764.744 1451.21 Q763.239 1446 760.161 1440.68 Z\" fill=\"#000000\" fill-rule=\"evenodd\" fill-opacity=\"1\" /><path clip-path=\"url(#clip090)\" d=\"M 0 0 M1209.46 1451.72 L1209.46 1455.7 Q1207.65 1454.71 1205.83 1454.22 Q1204.02 1453.71 1202.17 1453.71 Q1198.02 1453.71 1195.73 1456.35 Q1193.44 1458.97 1193.44 1463.71 Q1193.44 1468.46 1195.73 1471.1 Q1198.02 1473.71 1202.17 1473.71 Q1204.02 1473.71 1205.83 1473.23 Q1207.65 1472.72 1209.46 1471.72 L1209.46 1475.66 Q1207.68 1476.49 1205.76 1476.91 Q1203.86 1477.32 1201.71 1477.32 Q1195.85 1477.32 1192.4 1473.64 Q1188.95 1469.96 1188.95 1463.71 Q1188.95 1457.37 1192.42 1453.74 Q1195.92 1450.1 1201.98 1450.1 Q1203.95 1450.1 1205.83 1450.52 Q1207.7 1450.91 1209.46 1451.72 Z\" fill=\"#000000\" fill-rule=\"evenodd\" fill-opacity=\"1\" /><path clip-path=\"url(#clip090)\" d=\"M 0 0 M1233.63 1484.52 L1233.63 1487.83 L1209 1487.83 L1209 1484.52 L1233.63 1484.52 Z\" fill=\"#000000\" fill-rule=\"evenodd\" fill-opacity=\"1\" /><path clip-path=\"url(#clip090)\" d=\"M 0 0 M1254.62 1451.49 L1254.62 1455.52 Q1252.82 1454.59 1250.87 1454.13 Q1248.93 1453.67 1246.84 1453.67 Q1243.67 1453.67 1242.08 1454.64 Q1240.5 1455.61 1240.5 1457.55 Q1240.5 1459.04 1241.64 1459.89 Q1242.77 1460.73 1246.2 1461.49 L1247.65 1461.81 Q1252.19 1462.79 1254.09 1464.57 Q1256.01 1466.33 1256.01 1469.5 Q1256.01 1473.11 1253.14 1475.22 Q1250.29 1477.32 1245.29 1477.32 Q1243.21 1477.32 1240.94 1476.91 Q1238.7 1476.51 1236.2 1475.7 L1236.2 1471.3 Q1238.56 1472.53 1240.85 1473.16 Q1243.14 1473.76 1245.39 1473.76 Q1248.39 1473.76 1250.01 1472.74 Q1251.64 1471.7 1251.64 1469.82 Q1251.64 1468.09 1250.45 1467.16 Q1249.3 1466.24 1245.34 1465.38 L1243.86 1465.03 Q1239.9 1464.2 1238.14 1462.49 Q1236.38 1460.75 1236.38 1457.74 Q1236.38 1454.08 1238.97 1452.09 Q1241.57 1450.1 1246.33 1450.1 Q1248.7 1450.1 1250.78 1450.45 Q1252.86 1450.8 1254.62 1451.49 Z\" fill=\"#000000\" fill-rule=\"evenodd\" fill-opacity=\"1\" /><path clip-path=\"url(#clip090)\" d=\"M 0 0 M1260.04 1466.42 L1260.04 1450.73 L1264.3 1450.73 L1264.3 1466.26 Q1264.3 1469.94 1265.73 1471.79 Q1267.17 1473.62 1270.04 1473.62 Q1273.49 1473.62 1275.48 1471.42 Q1277.49 1469.22 1277.49 1465.43 L1277.49 1450.73 L1281.75 1450.73 L1281.75 1476.65 L1277.49 1476.65 L1277.49 1472.67 Q1275.94 1475.03 1273.88 1476.19 Q1271.84 1477.32 1269.14 1477.32 Q1264.67 1477.32 1262.35 1474.55 Q1260.04 1471.77 1260.04 1466.42 M1270.76 1450.1 L1270.76 1450.1 Z\" fill=\"#000000\" fill-rule=\"evenodd\" fill-opacity=\"1\" /><path clip-path=\"url(#clip090)\" d=\"M 0 0 M1306.4 1455.7 Q1308 1452.83 1310.22 1451.47 Q1312.45 1450.1 1315.45 1450.1 Q1319.51 1450.1 1321.7 1452.95 Q1323.9 1455.77 1323.9 1461 L1323.9 1476.65 L1319.62 1476.65 L1319.62 1461.14 Q1319.62 1457.42 1318.3 1455.61 Q1316.98 1453.8 1314.27 1453.8 Q1310.96 1453.8 1309.04 1456 Q1307.12 1458.2 1307.12 1462 L1307.12 1476.65 L1302.84 1476.65 L1302.84 1461.14 Q1302.84 1457.39 1301.52 1455.61 Q1300.2 1453.8 1297.45 1453.8 Q1294.18 1453.8 1292.26 1456.03 Q1290.34 1458.23 1290.34 1462 L1290.34 1476.65 L1286.06 1476.65 L1286.06 1450.73 L1290.34 1450.73 L1290.34 1454.75 Q1291.8 1452.37 1293.83 1451.24 Q1295.87 1450.1 1298.67 1450.1 Q1301.5 1450.1 1303.46 1451.54 Q1305.45 1452.97 1306.4 1455.7 Z\" fill=\"#000000\" fill-rule=\"evenodd\" fill-opacity=\"1\" /><path clip-path=\"url(#clip090)\" d=\"M 0 0 M1353.67 1440.68 Q1350.57 1446 1349.07 1451.21 Q1347.56 1456.42 1347.56 1461.77 Q1347.56 1467.11 1349.07 1472.37 Q1350.59 1477.6 1353.67 1482.9 L1349.97 1482.9 Q1346.5 1477.46 1344.76 1472.21 Q1343.05 1466.95 1343.05 1461.77 Q1343.05 1456.61 1344.76 1451.37 Q1346.47 1446.14 1349.97 1440.68 L1353.67 1440.68 Z\" fill=\"#000000\" fill-rule=\"evenodd\" fill-opacity=\"1\" /><path clip-path=\"url(#clip090)\" d=\"M 0 0 M1384.2 1444.75 L1384.2 1449.68 Q1381.84 1447.49 1379.16 1446.4 Q1376.5 1445.31 1373.49 1445.31 Q1367.56 1445.31 1364.41 1448.94 Q1361.26 1452.55 1361.26 1459.41 Q1361.26 1466.24 1364.41 1469.87 Q1367.56 1473.48 1373.49 1473.48 Q1376.5 1473.48 1379.16 1472.39 Q1381.84 1471.3 1384.2 1469.11 L1384.2 1473.99 Q1381.75 1475.66 1379 1476.49 Q1376.26 1477.32 1373.21 1477.32 Q1365.36 1477.32 1360.85 1472.53 Q1356.33 1467.72 1356.33 1459.41 Q1356.33 1451.07 1360.85 1446.28 Q1365.36 1441.47 1373.21 1441.47 Q1376.31 1441.47 1379.04 1442.3 Q1381.8 1443.11 1384.2 1444.75 Z\" fill=\"#000000\" fill-rule=\"evenodd\" fill-opacity=\"1\" /><path clip-path=\"url(#clip090)\" d=\"M 0 0 M1388 1440.68 L1391.7 1440.68 Q1395.18 1446.14 1396.89 1451.37 Q1398.63 1456.61 1398.63 1461.77 Q1398.63 1466.95 1396.89 1472.21 Q1395.18 1477.46 1391.7 1482.9 L1388 1482.9 Q1391.08 1477.6 1392.58 1472.37 Q1394.11 1467.11 1394.11 1461.77 Q1394.11 1456.42 1392.58 1451.21 Q1391.08 1446 1388 1440.68 Z\" fill=\"#000000\" fill-rule=\"evenodd\" fill-opacity=\"1\" /><path clip-path=\"url(#clip090)\" d=\"M 0 0 M1880.83 1451.49 L1880.83 1455.52 Q1879.02 1454.59 1877.08 1454.13 Q1875.13 1453.67 1873.05 1453.67 Q1869.88 1453.67 1868.28 1454.64 Q1866.71 1455.61 1866.71 1457.55 Q1866.71 1459.04 1867.84 1459.89 Q1868.98 1460.73 1872.4 1461.49 L1873.86 1461.81 Q1878.4 1462.79 1880.3 1464.57 Q1882.22 1466.33 1882.22 1469.5 Q1882.22 1473.11 1879.35 1475.22 Q1876.5 1477.32 1871.5 1477.32 Q1869.42 1477.32 1867.15 1476.91 Q1864.9 1476.51 1862.4 1475.7 L1862.4 1471.3 Q1864.76 1472.53 1867.06 1473.16 Q1869.35 1473.76 1871.59 1473.76 Q1874.6 1473.76 1876.22 1472.74 Q1877.84 1471.7 1877.84 1469.82 Q1877.84 1468.09 1876.66 1467.16 Q1875.51 1466.24 1871.55 1465.38 L1870.07 1465.03 Q1866.11 1464.2 1864.35 1462.49 Q1862.59 1460.75 1862.59 1457.74 Q1862.59 1454.08 1865.18 1452.09 Q1867.77 1450.1 1872.54 1450.1 Q1874.9 1450.1 1876.99 1450.45 Q1879.07 1450.8 1880.83 1451.49 Z\" fill=\"#000000\" fill-rule=\"evenodd\" fill-opacity=\"1\" /><path clip-path=\"url(#clip090)\" d=\"M 0 0 M1886.25 1466.42 L1886.25 1450.73 L1890.51 1450.73 L1890.51 1466.26 Q1890.51 1469.94 1891.94 1471.79 Q1893.38 1473.62 1896.25 1473.62 Q1899.69 1473.62 1901.69 1471.42 Q1903.7 1469.22 1903.7 1465.43 L1903.7 1450.73 L1907.96 1450.73 L1907.96 1476.65 L1903.7 1476.65 L1903.7 1472.67 Q1902.15 1475.03 1900.09 1476.19 Q1898.05 1477.32 1895.34 1477.32 Q1890.88 1477.32 1888.56 1474.55 Q1886.25 1471.77 1886.25 1466.42 M1896.96 1450.1 L1896.96 1450.1 Z\" fill=\"#000000\" fill-rule=\"evenodd\" fill-opacity=\"1\" /><path clip-path=\"url(#clip090)\" d=\"M 0 0 M1932.61 1455.7 Q1934.21 1452.83 1936.43 1451.47 Q1938.65 1450.1 1941.66 1450.1 Q1945.71 1450.1 1947.91 1452.95 Q1950.11 1455.77 1950.11 1461 L1950.11 1476.65 L1945.83 1476.65 L1945.83 1461.14 Q1945.83 1457.42 1944.51 1455.61 Q1943.19 1453.8 1940.48 1453.8 Q1937.17 1453.8 1935.25 1456 Q1933.33 1458.2 1933.33 1462 L1933.33 1476.65 L1929.05 1476.65 L1929.05 1461.14 Q1929.05 1457.39 1927.73 1455.61 Q1926.41 1453.8 1923.65 1453.8 Q1920.39 1453.8 1918.47 1456.03 Q1916.55 1458.23 1916.55 1462 L1916.55 1476.65 L1912.26 1476.65 L1912.26 1450.73 L1916.55 1450.73 L1916.55 1454.75 Q1918.01 1452.37 1920.04 1451.24 Q1922.08 1450.1 1924.88 1450.1 Q1927.7 1450.1 1929.67 1451.54 Q1931.66 1452.97 1932.61 1455.7 Z\" fill=\"#000000\" fill-rule=\"evenodd\" fill-opacity=\"1\" /><path clip-path=\"url(#clip090)\" d=\"M 0 0 M1979.88 1440.68 Q1976.78 1446 1975.27 1451.21 Q1973.77 1456.42 1973.77 1461.77 Q1973.77 1467.11 1975.27 1472.37 Q1976.8 1477.6 1979.88 1482.9 L1976.18 1482.9 Q1972.7 1477.46 1970.97 1472.21 Q1969.25 1466.95 1969.25 1461.77 Q1969.25 1456.61 1970.97 1451.37 Q1972.68 1446.14 1976.18 1440.68 L1979.88 1440.68 Z\" fill=\"#000000\" fill-rule=\"evenodd\" fill-opacity=\"1\" /><path clip-path=\"url(#clip090)\" d=\"M 0 0 M1984.53 1442.09 L1989.21 1442.09 L1989.21 1474.24 Q1989.21 1480.49 1986.82 1483.32 Q1984.46 1486.14 1979.21 1486.14 L1977.43 1486.14 L1977.43 1482.21 L1978.88 1482.21 Q1981.99 1482.21 1983.26 1480.47 Q1984.53 1478.74 1984.53 1474.24 L1984.53 1442.09 Z\" fill=\"#000000\" fill-rule=\"evenodd\" fill-opacity=\"1\" /><path clip-path=\"url(#clip090)\" d=\"M 0 0 M1993.24 1466.42 L1993.24 1450.73 L1997.5 1450.73 L1997.5 1466.26 Q1997.5 1469.94 1998.93 1471.79 Q2000.37 1473.62 2003.24 1473.62 Q2006.69 1473.62 2008.68 1471.42 Q2010.69 1469.22 2010.69 1465.43 L2010.69 1450.73 L2014.95 1450.73 L2014.95 1476.65 L2010.69 1476.65 L2010.69 1472.67 Q2009.14 1475.03 2007.08 1476.19 Q2005.04 1477.32 2002.33 1477.32 Q1997.87 1477.32 1995.55 1474.55 Q1993.24 1471.77 1993.24 1466.42 M2003.95 1450.1 L2003.95 1450.1 Z\" fill=\"#000000\" fill-rule=\"evenodd\" fill-opacity=\"1\" /><path clip-path=\"url(#clip090)\" d=\"M 0 0 M2019.42 1440.63 L2023.68 1440.63 L2023.68 1476.65 L2019.42 1476.65 L2019.42 1440.63 Z\" fill=\"#000000\" fill-rule=\"evenodd\" fill-opacity=\"1\" /><path clip-path=\"url(#clip090)\" d=\"M 0 0 M2028.14 1450.73 L2032.4 1450.73 L2032.4 1476.65 L2028.14 1476.65 L2028.14 1450.73 M2028.14 1440.63 L2032.4 1440.63 L2032.4 1446.03 L2028.14 1446.03 L2028.14 1440.63 Z\" fill=\"#000000\" fill-rule=\"evenodd\" fill-opacity=\"1\" /><path clip-path=\"url(#clip090)\" d=\"M 0 0 M2048.65 1463.62 Q2043.49 1463.62 2041.5 1464.8 Q2039.51 1465.98 2039.51 1468.83 Q2039.51 1471.1 2040.99 1472.44 Q2042.5 1473.76 2045.06 1473.76 Q2048.61 1473.76 2050.74 1471.26 Q2052.89 1468.74 2052.89 1464.57 L2052.89 1463.62 L2048.65 1463.62 M2057.15 1461.86 L2057.15 1476.65 L2052.89 1476.65 L2052.89 1472.72 Q2051.43 1475.08 2049.25 1476.21 Q2047.08 1477.32 2043.93 1477.32 Q2039.95 1477.32 2037.59 1475.1 Q2035.25 1472.86 2035.25 1469.11 Q2035.25 1464.73 2038.17 1462.51 Q2041.11 1460.29 2046.92 1460.29 L2052.89 1460.29 L2052.89 1459.87 Q2052.89 1456.93 2050.94 1455.33 Q2049.02 1453.71 2045.53 1453.71 Q2043.31 1453.71 2041.2 1454.24 Q2039.09 1454.78 2037.15 1455.84 L2037.15 1451.91 Q2039.49 1451 2041.68 1450.56 Q2043.88 1450.1 2045.97 1450.1 Q2051.59 1450.1 2054.37 1453.02 Q2057.15 1455.93 2057.15 1461.86 Z\" fill=\"#000000\" fill-rule=\"evenodd\" fill-opacity=\"1\" /><path clip-path=\"url(#clip090)\" d=\"M 0 0 M2060.94 1440.68 L2064.65 1440.68 Q2068.12 1446.14 2069.83 1451.37 Q2071.57 1456.61 2071.57 1461.77 Q2071.57 1466.95 2069.83 1472.21 Q2068.12 1477.46 2064.65 1482.9 L2060.94 1482.9 Q2064.02 1477.6 2065.53 1472.37 Q2067.06 1467.11 2067.06 1461.77 Q2067.06 1456.42 2065.53 1451.21 Q2064.02 1446 2060.94 1440.68 Z\" fill=\"#000000\" fill-rule=\"evenodd\" fill-opacity=\"1\" /><path clip-path=\"url(#clip090)\" d=\"M 0 0 M161.908 1370.04 Q158.297 1370.04 156.468 1373.6 Q154.663 1377.14 154.663 1384.27 Q154.663 1391.38 156.468 1394.94 Q158.297 1398.49 161.908 1398.49 Q165.542 1398.49 167.348 1394.94 Q169.177 1391.38 169.177 1384.27 Q169.177 1377.14 167.348 1373.6 Q165.542 1370.04 161.908 1370.04 M161.908 1366.33 Q167.718 1366.33 170.774 1370.94 Q173.852 1375.52 173.852 1384.27 Q173.852 1393 170.774 1397.61 Q167.718 1402.19 161.908 1402.19 Q156.098 1402.19 153.019 1397.61 Q149.964 1393 149.964 1384.27 Q149.964 1375.52 153.019 1370.94 Q156.098 1366.33 161.908 1366.33 Z\" fill=\"#000000\" fill-rule=\"evenodd\" fill-opacity=\"1\" /><path clip-path=\"url(#clip090)\" d=\"M 0 0 M178.922 1395.64 L183.806 1395.64 L183.806 1401.52 L178.922 1401.52 L178.922 1395.64 Z\" fill=\"#000000\" fill-rule=\"evenodd\" fill-opacity=\"1\" /><path clip-path=\"url(#clip090)\" d=\"M 0 0 M198.876 1370.04 Q195.264 1370.04 193.436 1373.6 Q191.63 1377.14 191.63 1384.27 Q191.63 1391.38 193.436 1394.94 Q195.264 1398.49 198.876 1398.49 Q202.51 1398.49 204.315 1394.94 Q206.144 1391.38 206.144 1384.27 Q206.144 1377.14 204.315 1373.6 Q202.51 1370.04 198.876 1370.04 M198.876 1366.33 Q204.686 1366.33 207.741 1370.94 Q210.82 1375.52 210.82 1384.27 Q210.82 1393 207.741 1397.61 Q204.686 1402.19 198.876 1402.19 Q193.065 1402.19 189.987 1397.61 Q186.931 1393 186.931 1384.27 Q186.931 1375.52 189.987 1370.94 Q193.065 1366.33 198.876 1366.33 Z\" fill=\"#000000\" fill-rule=\"evenodd\" fill-opacity=\"1\" /><path clip-path=\"url(#clip090)\" d=\"M 0 0 M158.529 1120.22 L174.848 1120.22 L174.848 1124.16 L152.904 1124.16 L152.904 1120.22 Q155.566 1117.47 160.149 1112.84 Q164.755 1108.18 165.936 1106.84 Q168.181 1104.32 169.061 1102.58 Q169.964 1100.82 169.964 1099.13 Q169.964 1096.38 168.019 1094.64 Q166.098 1092.91 162.996 1092.91 Q160.797 1092.91 158.343 1093.67 Q155.913 1094.43 153.135 1095.99 L153.135 1091.26 Q155.959 1090.13 158.413 1089.55 Q160.866 1088.97 162.903 1088.97 Q168.274 1088.97 171.468 1091.66 Q174.663 1094.34 174.663 1098.83 Q174.663 1100.96 173.852 1102.88 Q173.065 1104.78 170.959 1107.37 Q170.38 1108.05 167.278 1111.26 Q164.177 1114.46 158.529 1120.22 Z\" fill=\"#000000\" fill-rule=\"evenodd\" fill-opacity=\"1\" /><path clip-path=\"url(#clip090)\" d=\"M 0 0 M179.917 1118.28 L184.802 1118.28 L184.802 1124.16 L179.917 1124.16 L179.917 1118.28 Z\" fill=\"#000000\" fill-rule=\"evenodd\" fill-opacity=\"1\" /><path clip-path=\"url(#clip090)\" d=\"M 0 0 M189.917 1089.6 L208.274 1089.6 L208.274 1093.53 L194.2 1093.53 L194.2 1102 Q195.218 1101.66 196.237 1101.49 Q197.255 1101.31 198.274 1101.31 Q204.061 1101.31 207.44 1104.48 Q210.82 1107.65 210.82 1113.07 Q210.82 1118.65 207.348 1121.75 Q203.875 1124.83 197.556 1124.83 Q195.38 1124.83 193.112 1124.46 Q190.866 1124.09 188.459 1123.35 L188.459 1118.65 Q190.542 1119.78 192.764 1120.34 Q194.987 1120.89 197.463 1120.89 Q201.468 1120.89 203.806 1118.79 Q206.144 1116.68 206.144 1113.07 Q206.144 1109.46 203.806 1107.35 Q201.468 1105.24 197.463 1105.24 Q195.588 1105.24 193.713 1105.66 Q191.862 1106.08 189.917 1106.96 L189.917 1089.6 Z\" fill=\"#000000\" fill-rule=\"evenodd\" fill-opacity=\"1\" /><path clip-path=\"url(#clip090)\" d=\"M 0 0 M152.95 812.235 L171.306 812.235 L171.306 816.17 L157.232 816.17 L157.232 824.642 Q158.251 824.295 159.269 824.133 Q160.288 823.948 161.306 823.948 Q167.093 823.948 170.473 827.119 Q173.852 830.29 173.852 835.707 Q173.852 841.286 170.38 844.388 Q166.908 847.466 160.589 847.466 Q158.413 847.466 156.144 847.096 Q153.899 846.725 151.492 845.985 L151.492 841.286 Q153.575 842.42 155.797 842.976 Q158.019 843.531 160.496 843.531 Q164.501 843.531 166.839 841.425 Q169.177 839.318 169.177 835.707 Q169.177 832.096 166.839 829.989 Q164.501 827.883 160.496 827.883 Q158.621 827.883 156.746 828.3 Q154.894 828.716 152.95 829.596 L152.95 812.235 Z\" fill=\"#000000\" fill-rule=\"evenodd\" fill-opacity=\"1\" /><path clip-path=\"url(#clip090)\" d=\"M 0 0 M178.922 840.915 L183.806 840.915 L183.806 846.795 L178.922 846.795 L178.922 840.915 Z\" fill=\"#000000\" fill-rule=\"evenodd\" fill-opacity=\"1\" /><path clip-path=\"url(#clip090)\" d=\"M 0 0 M198.876 815.314 Q195.264 815.314 193.436 818.878 Q191.63 822.42 191.63 829.55 Q191.63 836.656 193.436 840.221 Q195.264 843.763 198.876 843.763 Q202.51 843.763 204.315 840.221 Q206.144 836.656 206.144 829.55 Q206.144 822.42 204.315 818.878 Q202.51 815.314 198.876 815.314 M198.876 811.61 Q204.686 811.61 207.741 816.216 Q210.82 820.8 210.82 829.55 Q210.82 838.276 207.741 842.883 Q204.686 847.466 198.876 847.466 Q193.065 847.466 189.987 842.883 Q186.931 838.276 186.931 829.55 Q186.931 820.8 189.987 816.216 Q193.065 811.61 198.876 811.61 Z\" fill=\"#000000\" fill-rule=\"evenodd\" fill-opacity=\"1\" /><path clip-path=\"url(#clip090)\" d=\"M 0 0 M152.626 534.873 L174.848 534.873 L174.848 536.864 L162.302 569.433 L157.417 569.433 L169.223 538.808 L152.626 538.808 L152.626 534.873 Z\" fill=\"#000000\" fill-rule=\"evenodd\" fill-opacity=\"1\" /><path clip-path=\"url(#clip090)\" d=\"M 0 0 M179.917 563.554 L184.802 563.554 L184.802 569.433 L179.917 569.433 L179.917 563.554 Z\" fill=\"#000000\" fill-rule=\"evenodd\" fill-opacity=\"1\" /><path clip-path=\"url(#clip090)\" d=\"M 0 0 M189.917 534.873 L208.274 534.873 L208.274 538.808 L194.2 538.808 L194.2 547.281 Q195.218 546.933 196.237 546.771 Q197.255 546.586 198.274 546.586 Q204.061 546.586 207.44 549.757 Q210.82 552.929 210.82 558.345 Q210.82 563.924 207.348 567.026 Q203.875 570.105 197.556 570.105 Q195.38 570.105 193.112 569.734 Q190.866 569.364 188.459 568.623 L188.459 563.924 Q190.542 565.058 192.764 565.614 Q194.987 566.169 197.463 566.169 Q201.468 566.169 203.806 564.063 Q206.144 561.956 206.144 558.345 Q206.144 554.734 203.806 552.628 Q201.468 550.521 197.463 550.521 Q195.588 550.521 193.713 550.938 Q191.862 551.355 189.917 552.234 L189.917 534.873 Z\" fill=\"#000000\" fill-rule=\"evenodd\" fill-opacity=\"1\" /><path clip-path=\"url(#clip090)\" d=\"M 0 0 M126.931 288.136 L134.57 288.136 L134.57 261.771 L126.26 263.437 L126.26 259.178 L134.524 257.512 L139.2 257.512 L139.2 288.136 L146.839 288.136 L146.839 292.072 L126.931 292.072 L126.931 288.136 Z\" fill=\"#000000\" fill-rule=\"evenodd\" fill-opacity=\"1\" /><path clip-path=\"url(#clip090)\" d=\"M 0 0 M161.908 260.59 Q158.297 260.59 156.468 264.155 Q154.663 267.697 154.663 274.826 Q154.663 281.933 156.468 285.498 Q158.297 289.039 161.908 289.039 Q165.542 289.039 167.348 285.498 Q169.177 281.933 169.177 274.826 Q169.177 267.697 167.348 264.155 Q165.542 260.59 161.908 260.59 M161.908 256.887 Q167.718 256.887 170.774 261.493 Q173.852 266.076 173.852 274.826 Q173.852 283.553 170.774 288.16 Q167.718 292.743 161.908 292.743 Q156.098 292.743 153.019 288.16 Q149.964 283.553 149.964 274.826 Q149.964 266.076 153.019 261.493 Q156.098 256.887 161.908 256.887 Z\" fill=\"#000000\" fill-rule=\"evenodd\" fill-opacity=\"1\" /><path clip-path=\"url(#clip090)\" d=\"M 0 0 M178.922 286.192 L183.806 286.192 L183.806 292.072 L178.922 292.072 L178.922 286.192 Z\" fill=\"#000000\" fill-rule=\"evenodd\" fill-opacity=\"1\" /><path clip-path=\"url(#clip090)\" d=\"M 0 0 M198.876 260.59 Q195.264 260.59 193.436 264.155 Q191.63 267.697 191.63 274.826 Q191.63 281.933 193.436 285.498 Q195.264 289.039 198.876 289.039 Q202.51 289.039 204.315 285.498 Q206.144 281.933 206.144 274.826 Q206.144 267.697 204.315 264.155 Q202.51 260.59 198.876 260.59 M198.876 256.887 Q204.686 256.887 207.741 261.493 Q210.82 266.076 210.82 274.826 Q210.82 283.553 207.741 288.16 Q204.686 292.743 198.876 292.743 Q193.065 292.743 189.987 288.16 Q186.931 283.553 186.931 274.826 Q186.931 266.076 189.987 261.493 Q193.065 256.887 198.876 256.887 Z\" fill=\"#000000\" fill-rule=\"evenodd\" fill-opacity=\"1\" /><path clip-path=\"url(#clip090)\" d=\"M 0 0 M1199.61 1506.52 L1199.61 1511.39 L1194.01 1511.39 Q1190.85 1511.39 1189.61 1512.66 Q1188.4 1513.93 1188.4 1517.24 L1188.4 1520.4 L1198.05 1520.4 L1198.05 1524.95 L1188.4 1524.95 L1188.4 1556.04 L1182.52 1556.04 L1182.52 1524.95 L1176.91 1524.95 L1176.91 1520.4 L1182.52 1520.4 L1182.52 1517.91 Q1182.52 1511.96 1185.28 1509.26 Q1188.05 1506.52 1194.07 1506.52 L1199.61 1506.52 Z\" fill=\"#000000\" fill-rule=\"evenodd\" fill-opacity=\"1\" /><path clip-path=\"url(#clip090)\" d=\"M 0 0 M1205.15 1541.98 L1205.15 1520.4 L1211 1520.4 L1211 1541.75 Q1211 1546.81 1212.98 1549.36 Q1214.95 1551.87 1218.9 1551.87 Q1223.64 1551.87 1226.38 1548.85 Q1229.14 1545.83 1229.14 1540.61 L1229.14 1520.4 L1235 1520.4 L1235 1556.04 L1229.14 1556.04 L1229.14 1550.57 Q1227.01 1553.82 1224.18 1555.41 Q1221.38 1556.97 1217.65 1556.97 Q1211.51 1556.97 1208.33 1553.15 Q1205.15 1549.33 1205.15 1541.98 M1219.88 1519.54 L1219.88 1519.54 Z\" fill=\"#000000\" fill-rule=\"evenodd\" fill-opacity=\"1\" /><path clip-path=\"url(#clip090)\" d=\"M 0 0 M1270.78 1534.53 L1270.78 1556.04 L1264.92 1556.04 L1264.92 1534.72 Q1264.92 1529.66 1262.95 1527.14 Q1260.97 1524.63 1257.03 1524.63 Q1252.28 1524.63 1249.55 1527.65 Q1246.81 1530.68 1246.81 1535.9 L1246.81 1556.04 L1240.92 1556.04 L1240.92 1520.4 L1246.81 1520.4 L1246.81 1525.93 Q1248.91 1522.72 1251.74 1521.13 Q1254.61 1519.54 1258.33 1519.54 Q1264.47 1519.54 1267.62 1523.36 Q1270.78 1527.14 1270.78 1534.53 Z\" fill=\"#000000\" fill-rule=\"evenodd\" fill-opacity=\"1\" /><path clip-path=\"url(#clip090)\" d=\"M 0 0 M1302.57 1521.76 L1302.57 1527.24 Q1300.09 1525.87 1297.58 1525.2 Q1295.09 1524.5 1292.55 1524.5 Q1286.85 1524.5 1283.7 1528.13 Q1280.55 1531.73 1280.55 1538.25 Q1280.55 1544.78 1283.7 1548.4 Q1286.85 1552 1292.55 1552 Q1295.09 1552 1297.58 1551.33 Q1300.09 1550.63 1302.57 1549.26 L1302.57 1554.68 Q1300.12 1555.82 1297.48 1556.39 Q1294.87 1556.97 1291.91 1556.97 Q1283.86 1556.97 1279.11 1551.91 Q1274.37 1546.85 1274.37 1538.25 Q1274.37 1529.53 1279.15 1524.53 Q1283.95 1519.54 1292.29 1519.54 Q1295 1519.54 1297.58 1520.11 Q1300.15 1520.65 1302.57 1521.76 Z\" fill=\"#000000\" fill-rule=\"evenodd\" fill-opacity=\"1\" /><path clip-path=\"url(#clip090)\" d=\"M 0 0 M1314.51 1510.27 L1314.51 1520.4 L1326.57 1520.4 L1326.57 1524.95 L1314.51 1524.95 L1314.51 1544.3 Q1314.51 1548.66 1315.69 1549.9 Q1316.9 1551.14 1320.56 1551.14 L1326.57 1551.14 L1326.57 1556.04 L1320.56 1556.04 Q1313.78 1556.04 1311.2 1553.53 Q1308.62 1550.98 1308.62 1544.3 L1308.62 1524.95 L1304.32 1524.95 L1304.32 1520.4 L1308.62 1520.4 L1308.62 1510.27 L1314.51 1510.27 Z\" fill=\"#000000\" fill-rule=\"evenodd\" fill-opacity=\"1\" /><path clip-path=\"url(#clip090)\" d=\"M 0 0 M1332.71 1520.4 L1338.57 1520.4 L1338.57 1556.04 L1332.71 1556.04 L1332.71 1520.4 M1332.71 1506.52 L1338.57 1506.52 L1338.57 1513.93 L1332.71 1513.93 L1332.71 1506.52 Z\" fill=\"#000000\" fill-rule=\"evenodd\" fill-opacity=\"1\" /><path clip-path=\"url(#clip090)\" d=\"M 0 0 M1358.53 1524.5 Q1353.82 1524.5 1351.08 1528.19 Q1348.34 1531.85 1348.34 1538.25 Q1348.34 1544.65 1351.05 1548.34 Q1353.78 1552 1358.53 1552 Q1363.21 1552 1365.94 1548.31 Q1368.68 1544.62 1368.68 1538.25 Q1368.68 1531.92 1365.94 1528.23 Q1363.21 1524.5 1358.53 1524.5 M1358.53 1519.54 Q1366.17 1519.54 1370.53 1524.5 Q1374.89 1529.47 1374.89 1538.25 Q1374.89 1547 1370.53 1552 Q1366.17 1556.97 1358.53 1556.97 Q1350.86 1556.97 1346.5 1552 Q1342.17 1547 1342.17 1538.25 Q1342.17 1529.47 1346.5 1524.5 Q1350.86 1519.54 1358.53 1519.54 Z\" fill=\"#000000\" fill-rule=\"evenodd\" fill-opacity=\"1\" /><path clip-path=\"url(#clip090)\" d=\"M 0 0 M1410.66 1534.53 L1410.66 1556.04 L1404.81 1556.04 L1404.81 1534.72 Q1404.81 1529.66 1402.83 1527.14 Q1400.86 1524.63 1396.91 1524.63 Q1392.17 1524.63 1389.43 1527.65 Q1386.7 1530.68 1386.7 1535.9 L1386.7 1556.04 L1380.81 1556.04 L1380.81 1520.4 L1386.7 1520.4 L1386.7 1525.93 Q1388.8 1522.72 1391.63 1521.13 Q1394.49 1519.54 1398.22 1519.54 Q1404.36 1519.54 1407.51 1523.36 Q1410.66 1527.14 1410.66 1534.53 Z\" fill=\"#000000\" fill-rule=\"evenodd\" fill-opacity=\"1\" /><path clip-path=\"url(#clip090)\" d=\"M 0 0 M42.2347 1125.33 L52.3562 1125.33 L52.3562 1113.27 L56.9077 1113.27 L56.9077 1125.33 L76.2594 1125.33 Q80.6199 1125.33 81.8613 1124.16 Q83.1026 1122.95 83.1026 1119.29 L83.1026 1113.27 L88.0042 1113.27 L88.0042 1119.29 Q88.0042 1126.07 85.4897 1128.64 Q82.9434 1131.22 76.2594 1131.22 L56.9077 1131.22 L56.9077 1135.52 L52.3562 1135.52 L52.3562 1131.22 L42.2347 1131.22 L42.2347 1125.33 Z\" fill=\"#000000\" fill-rule=\"evenodd\" fill-opacity=\"1\" /><path clip-path=\"url(#clip090)\" d=\"M 0 0 M52.3562 1107.13 L52.3562 1101.27 L88.0042 1101.27 L88.0042 1107.13 L52.3562 1107.13 M38.479 1107.13 L38.479 1101.27 L45.895 1101.27 L45.895 1107.13 L38.479 1107.13 Z\" fill=\"#000000\" fill-rule=\"evenodd\" fill-opacity=\"1\" /><path clip-path=\"url(#clip090)\" d=\"M 0 0 M59.1993 1067.37 Q55.2526 1065.18 53.3747 1062.12 Q51.4968 1059.07 51.4968 1054.93 Q51.4968 1049.36 55.4117 1046.34 Q59.2948 1043.31 66.4881 1043.31 L88.0042 1043.31 L88.0042 1049.2 L66.679 1049.2 Q61.5546 1049.2 59.072 1051.01 Q56.5894 1052.83 56.5894 1056.55 Q56.5894 1061.1 59.6131 1063.75 Q62.6368 1066.39 67.8567 1066.39 L88.0042 1066.39 L88.0042 1072.28 L66.679 1072.28 Q61.5228 1072.28 59.072 1074.09 Q56.5894 1075.9 56.5894 1079.69 Q56.5894 1084.18 59.6449 1086.82 Q62.6686 1089.46 67.8567 1089.46 L88.0042 1089.46 L88.0042 1095.35 L52.3562 1095.35 L52.3562 1089.46 L57.8944 1089.46 Q54.616 1087.46 53.0564 1084.66 Q51.4968 1081.86 51.4968 1078.01 Q51.4968 1074.12 53.4702 1071.42 Q55.4436 1068.68 59.1993 1067.37 Z\" fill=\"#000000\" fill-rule=\"evenodd\" fill-opacity=\"1\" /><path clip-path=\"url(#clip090)\" d=\"M 0 0 M68.7161 1006.68 L71.5806 1006.68 L71.5806 1033.6 Q77.6281 1033.22 80.8109 1029.98 Q83.9619 1026.7 83.9619 1020.87 Q83.9619 1017.5 83.1344 1014.35 Q82.3069 1011.17 80.6518 1008.05 L86.1899 1008.05 Q87.5267 1011.2 88.227 1014.51 Q88.9272 1017.82 88.9272 1021.22 Q88.9272 1029.75 83.9619 1034.75 Q78.9967 1039.72 70.5303 1039.72 Q61.7774 1039.72 56.6531 1035 Q51.4968 1030.26 51.4968 1022.24 Q51.4968 1015.05 56.1438 1010.88 Q60.7589 1006.68 68.7161 1006.68 M66.9973 1012.53 Q62.1912 1012.6 59.3266 1015.24 Q56.4621 1017.85 56.4621 1022.18 Q56.4621 1027.08 59.2312 1030.04 Q62.0002 1032.97 67.0292 1033.41 L66.9973 1012.53 Z\" fill=\"#000000\" fill-rule=\"evenodd\" fill-opacity=\"1\" /><path clip-path=\"url(#clip090)\" d=\"M 0 0 M38.5426 965.746 Q45.8632 970.011 53.0246 972.08 Q60.186 974.149 67.5384 974.149 Q74.8908 974.149 82.1159 972.08 Q89.3091 969.979 96.5979 965.746 L96.5979 970.839 Q89.1182 975.613 81.8931 978 Q74.668 980.355 67.5384 980.355 Q60.4406 980.355 53.2474 978 Q46.0542 975.645 38.5426 970.839 L38.5426 965.746 Z\" fill=\"#000000\" fill-rule=\"evenodd\" fill-opacity=\"1\" /><path clip-path=\"url(#clip090)\" d=\"M 0 0 M59.1993 931.849 Q55.2526 929.652 53.3747 926.597 Q51.4968 923.541 51.4968 919.404 Q51.4968 913.834 55.4117 910.81 Q59.2948 907.786 66.4881 907.786 L88.0042 907.786 L88.0042 913.675 L66.679 913.675 Q61.5546 913.675 59.072 915.489 Q56.5894 917.303 56.5894 921.027 Q56.5894 925.578 59.6131 928.22 Q62.6368 930.862 67.8567 930.862 L88.0042 930.862 L88.0042 936.75 L66.679 936.75 Q61.5228 936.75 59.072 938.564 Q56.5894 940.379 56.5894 944.166 Q56.5894 948.654 59.6449 951.296 Q62.6686 953.938 67.8567 953.938 L88.0042 953.938 L88.0042 959.826 L52.3562 959.826 L52.3562 953.938 L57.8944 953.938 Q54.616 951.932 53.0564 949.132 Q51.4968 946.331 51.4968 942.479 Q51.4968 938.596 53.4702 935.891 Q55.4436 933.154 59.1993 931.849 Z\" fill=\"#000000\" fill-rule=\"evenodd\" fill-opacity=\"1\" /><path clip-path=\"url(#clip090)\" d=\"M 0 0 M53.4065 878.918 L58.9447 878.918 Q57.6716 881.4 57.035 884.074 Q56.3984 886.748 56.3984 889.612 Q56.3984 893.973 57.7352 896.169 Q59.072 898.333 61.7456 898.333 Q63.7826 898.333 64.9603 896.774 Q66.1061 895.214 67.1565 890.503 L67.6021 888.498 Q68.9389 882.26 71.3897 879.65 Q73.8086 877.008 78.1691 877.008 Q83.1344 877.008 86.0308 880.955 Q88.9272 884.87 88.9272 891.745 Q88.9272 894.609 88.3543 897.728 Q87.8132 900.816 86.6992 904.253 L80.6518 904.253 Q82.3387 901.007 83.198 897.856 Q84.0256 894.705 84.0256 891.617 Q84.0256 887.48 82.6251 885.252 Q81.1929 883.024 78.6147 883.024 Q76.2276 883.024 74.9545 884.647 Q73.6813 886.238 72.5037 891.681 L72.0262 893.718 Q70.8804 899.161 68.5251 901.58 Q66.138 903.999 62.0002 903.999 Q56.9713 903.999 54.2341 900.434 Q51.4968 896.869 51.4968 890.312 Q51.4968 887.066 51.9743 884.201 Q52.4517 881.337 53.4065 878.918 Z\" fill=\"#000000\" fill-rule=\"evenodd\" fill-opacity=\"1\" /><path clip-path=\"url(#clip090)\" d=\"M 0 0 M79.9197 869.369 L79.9197 862.653 L85.3942 862.653 L95.5793 867.873 L95.5793 871.979 L85.3942 869.369 L79.9197 869.369 Z\" fill=\"#000000\" fill-rule=\"evenodd\" fill-opacity=\"1\" /><path clip-path=\"url(#clip090)\" d=\"M 0 0 M53.4065 813.065 L58.9447 813.065 Q57.6716 815.547 57.035 818.221 Q56.3984 820.894 56.3984 823.759 Q56.3984 828.119 57.7352 830.316 Q59.072 832.48 61.7456 832.48 Q63.7826 832.48 64.9603 830.92 Q66.1061 829.361 67.1565 824.65 L67.6021 822.645 Q68.9389 816.407 71.3897 813.797 Q73.8086 811.155 78.1691 811.155 Q83.1344 811.155 86.0308 815.102 Q88.9272 819.016 88.9272 825.891 Q88.9272 828.756 88.3543 831.875 Q87.8132 834.963 86.6992 838.4 L80.6518 838.4 Q82.3387 835.154 83.198 832.003 Q84.0256 828.852 84.0256 825.764 Q84.0256 821.626 82.6251 819.398 Q81.1929 817.17 78.6147 817.17 Q76.2276 817.17 74.9545 818.794 Q73.6813 820.385 72.5037 825.828 L72.0262 827.865 Q70.8804 833.308 68.5251 835.726 Q66.138 838.145 62.0002 838.145 Q56.9713 838.145 54.2341 834.581 Q51.4968 831.016 51.4968 824.459 Q51.4968 821.213 51.9743 818.348 Q52.4517 815.484 53.4065 813.065 Z\" fill=\"#000000\" fill-rule=\"evenodd\" fill-opacity=\"1\" /><path clip-path=\"url(#clip090)\" d=\"M 0 0 M66.4881 775.38 L88.0042 775.38 L88.0042 781.236 L66.679 781.236 Q61.6183 781.236 59.1038 783.209 Q56.5894 785.183 56.5894 789.13 Q56.5894 793.872 59.6131 796.609 Q62.6368 799.346 67.8567 799.346 L88.0042 799.346 L88.0042 805.235 L38.479 805.235 L38.479 799.346 L57.8944 799.346 Q54.6797 797.246 53.0883 794.413 Q51.4968 791.548 51.4968 787.825 Q51.4968 781.682 55.3163 778.531 Q59.1038 775.38 66.4881 775.38 Z\" fill=\"#000000\" fill-rule=\"evenodd\" fill-opacity=\"1\" /><path clip-path=\"url(#clip090)\" d=\"M 0 0 M56.4621 755.423 Q56.4621 760.134 60.1542 762.871 Q63.8145 765.608 70.212 765.608 Q76.6095 765.608 80.3017 762.903 Q83.9619 760.166 83.9619 755.423 Q83.9619 750.744 80.2698 748.007 Q76.5777 745.27 70.212 745.27 Q63.8781 745.27 60.186 748.007 Q56.4621 750.744 56.4621 755.423 M51.4968 755.423 Q51.4968 747.784 56.4621 743.424 Q61.4273 739.063 70.212 739.063 Q78.9649 739.063 83.9619 743.424 Q88.9272 747.784 88.9272 755.423 Q88.9272 763.094 83.9619 767.454 Q78.9649 771.783 70.212 771.783 Q61.4273 771.783 56.4621 767.454 Q51.4968 763.094 51.4968 755.423 Z\" fill=\"#000000\" fill-rule=\"evenodd\" fill-opacity=\"1\" /><path clip-path=\"url(#clip090)\" d=\"M 0 0 M57.8307 712.264 Q57.2578 713.25 57.0032 714.428 Q56.7167 715.574 56.7167 716.974 Q56.7167 721.939 59.9632 724.613 Q63.1779 727.255 69.2253 727.255 L88.0042 727.255 L88.0042 733.143 L52.3562 733.143 L52.3562 727.255 L57.8944 727.255 Q54.6479 725.409 53.0883 722.449 Q51.4968 719.489 51.4968 715.255 Q51.4968 714.651 51.5923 713.919 Q51.656 713.187 51.8151 712.295 L57.8307 712.264 Z\" fill=\"#000000\" fill-rule=\"evenodd\" fill-opacity=\"1\" /><path clip-path=\"url(#clip090)\" d=\"M 0 0 M42.2347 700.328 L52.3562 700.328 L52.3562 688.265 L56.9077 688.265 L56.9077 700.328 L76.2594 700.328 Q80.6199 700.328 81.8613 699.15 Q83.1026 697.941 83.1026 694.28 L83.1026 688.265 L88.0042 688.265 L88.0042 694.28 Q88.0042 701.06 85.4897 703.638 Q82.9434 706.216 76.2594 706.216 L56.9077 706.216 L56.9077 710.513 L52.3562 710.513 L52.3562 706.216 L42.2347 706.216 L42.2347 700.328 Z\" fill=\"#000000\" fill-rule=\"evenodd\" fill-opacity=\"1\" /><path clip-path=\"url(#clip090)\" d=\"M 0 0 M68.7161 651.63 L71.5806 651.63 L71.5806 678.557 Q77.6281 678.175 80.8109 674.929 Q83.9619 671.65 83.9619 665.826 Q83.9619 662.452 83.1344 659.301 Q82.3069 656.118 80.6518 652.999 L86.1899 652.999 Q87.5267 656.15 88.227 659.46 Q88.9272 662.77 88.9272 666.176 Q88.9272 674.706 83.9619 679.703 Q78.9967 684.668 70.5303 684.668 Q61.7774 684.668 56.6531 679.958 Q51.4968 675.215 51.4968 667.194 Q51.4968 660.001 56.1438 655.832 Q60.7589 651.63 68.7161 651.63 M66.9973 657.487 Q62.1912 657.55 59.3266 660.192 Q56.4621 662.802 56.4621 667.131 Q56.4621 672.032 59.2312 674.992 Q62.0002 677.921 67.0292 678.366 L66.9973 657.487 Z\" fill=\"#000000\" fill-rule=\"evenodd\" fill-opacity=\"1\" /><path clip-path=\"url(#clip090)\" d=\"M 0 0 M57.8307 624.831 Q57.2578 625.817 57.0032 626.995 Q56.7167 628.141 56.7167 629.541 Q56.7167 634.506 59.9632 637.18 Q63.1779 639.822 69.2253 639.822 L88.0042 639.822 L88.0042 645.71 L52.3562 645.71 L52.3562 639.822 L57.8944 639.822 Q54.6479 637.976 53.0883 635.016 Q51.4968 632.056 51.4968 627.822 Q51.4968 627.218 51.5923 626.486 Q51.656 625.754 51.8151 624.862 L57.8307 624.831 Z\" fill=\"#000000\" fill-rule=\"evenodd\" fill-opacity=\"1\" /><path clip-path=\"url(#clip090)\" d=\"M 0 0 M52.3562 597.967 L52.3562 592.111 L88.0042 592.111 L88.0042 597.967 L52.3562 597.967 M38.479 597.967 L38.479 592.111 L45.895 592.111 L45.895 597.967 L38.479 597.967 Z\" fill=\"#000000\" fill-rule=\"evenodd\" fill-opacity=\"1\" /><path clip-path=\"url(#clip090)\" d=\"M 0 0 M53.4065 563.242 L58.9447 563.242 Q57.6716 565.725 57.035 568.399 Q56.3984 571.072 56.3984 573.937 Q56.3984 578.297 57.7352 580.493 Q59.072 582.658 61.7456 582.658 Q63.7826 582.658 64.9603 581.098 Q66.1061 579.539 67.1565 574.828 L67.6021 572.823 Q68.9389 566.584 71.3897 563.974 Q73.8086 561.333 78.1691 561.333 Q83.1344 561.333 86.0308 565.279 Q88.9272 569.194 88.9272 576.069 Q88.9272 578.934 88.3543 582.053 Q87.8132 585.14 86.6992 588.578 L80.6518 588.578 Q82.3387 585.331 83.198 582.18 Q84.0256 579.029 84.0256 575.942 Q84.0256 571.804 82.6251 569.576 Q81.1929 567.348 78.6147 567.348 Q76.2276 567.348 74.9545 568.972 Q73.6813 570.563 72.5037 576.006 L72.0262 578.043 Q70.8804 583.485 68.5251 585.904 Q66.138 588.323 62.0002 588.323 Q56.9713 588.323 54.2341 584.758 Q51.4968 581.194 51.4968 574.637 Q51.4968 571.391 51.9743 568.526 Q52.4517 565.661 53.4065 563.242 Z\" fill=\"#000000\" fill-rule=\"evenodd\" fill-opacity=\"1\" /><path clip-path=\"url(#clip090)\" d=\"M 0 0 M70.212 508.879 Q63.7508 508.879 60.0905 511.553 Q56.3984 514.195 56.3984 518.842 Q56.3984 523.489 60.0905 526.162 Q63.7508 528.804 70.212 528.804 Q76.6732 528.804 80.3653 526.162 Q84.0256 523.489 84.0256 518.842 Q84.0256 514.195 80.3653 511.553 Q76.6732 508.879 70.212 508.879 M57.7671 528.804 Q54.5842 526.958 53.0564 524.157 Q51.4968 521.324 51.4968 517.409 Q51.4968 510.916 56.6531 506.874 Q61.8093 502.8 70.212 502.8 Q78.6147 502.8 83.771 506.874 Q88.9272 510.916 88.9272 517.409 Q88.9272 521.324 87.3994 524.157 Q85.8398 526.958 82.657 528.804 L88.0042 528.804 L88.0042 534.692 L38.479 534.692 L38.479 528.804 L57.7671 528.804 Z\" fill=\"#000000\" fill-rule=\"evenodd\" fill-opacity=\"1\" /><path clip-path=\"url(#clip090)\" d=\"M 0 0 M68.7161 466.165 L71.5806 466.165 L71.5806 493.092 Q77.6281 492.71 80.8109 489.464 Q83.9619 486.186 83.9619 480.361 Q83.9619 476.987 83.1344 473.836 Q82.3069 470.653 80.6518 467.534 L86.1899 467.534 Q87.5267 470.685 88.227 473.995 Q88.9272 477.305 88.9272 480.711 Q88.9272 489.241 83.9619 494.238 Q78.9967 499.203 70.5303 499.203 Q61.7774 499.203 56.6531 494.493 Q51.4968 489.75 51.4968 481.73 Q51.4968 474.536 56.1438 470.367 Q60.7589 466.165 68.7161 466.165 M66.9973 472.022 Q62.1912 472.085 59.3266 474.727 Q56.4621 477.337 56.4621 481.666 Q56.4621 486.567 59.2312 489.528 Q62.0002 492.456 67.0292 492.901 L66.9973 472.022 Z\" fill=\"#000000\" fill-rule=\"evenodd\" fill-opacity=\"1\" /><path clip-path=\"url(#clip090)\" d=\"M 0 0 M42.2347 454.23 L52.3562 454.23 L52.3562 442.167 L56.9077 442.167 L56.9077 454.23 L76.2594 454.23 Q80.6199 454.23 81.8613 453.052 Q83.1026 451.843 83.1026 448.182 L83.1026 442.167 L88.0042 442.167 L88.0042 448.182 Q88.0042 454.962 85.4897 457.54 Q82.9434 460.118 76.2594 460.118 L56.9077 460.118 L56.9077 464.415 L52.3562 464.415 L52.3562 460.118 L42.2347 460.118 L42.2347 454.23 Z\" fill=\"#000000\" fill-rule=\"evenodd\" fill-opacity=\"1\" /><path clip-path=\"url(#clip090)\" d=\"M 0 0 M42.2347 430.231 L52.3562 430.231 L52.3562 418.168 L56.9077 418.168 L56.9077 430.231 L76.2594 430.231 Q80.6199 430.231 81.8613 429.053 Q83.1026 427.844 83.1026 424.184 L83.1026 418.168 L88.0042 418.168 L88.0042 424.184 Q88.0042 430.963 85.4897 433.541 Q82.9434 436.119 76.2594 436.119 L56.9077 436.119 L56.9077 440.416 L52.3562 440.416 L52.3562 436.119 L42.2347 436.119 L42.2347 430.231 Z\" fill=\"#000000\" fill-rule=\"evenodd\" fill-opacity=\"1\" /><path clip-path=\"url(#clip090)\" d=\"M 0 0 M68.7161 381.533 L71.5806 381.533 L71.5806 408.46 Q77.6281 408.078 80.8109 404.832 Q83.9619 401.553 83.9619 395.729 Q83.9619 392.355 83.1344 389.204 Q82.3069 386.021 80.6518 382.902 L86.1899 382.902 Q87.5267 386.053 88.227 389.363 Q88.9272 392.673 88.9272 396.079 Q88.9272 404.609 83.9619 409.606 Q78.9967 414.571 70.5303 414.571 Q61.7774 414.571 56.6531 409.861 Q51.4968 405.118 51.4968 397.097 Q51.4968 389.904 56.1438 385.735 Q60.7589 381.533 68.7161 381.533 M66.9973 387.39 Q62.1912 387.453 59.3266 390.095 Q56.4621 392.705 56.4621 397.034 Q56.4621 401.935 59.2312 404.895 Q62.0002 407.824 67.0292 408.269 L66.9973 387.39 Z\" fill=\"#000000\" fill-rule=\"evenodd\" fill-opacity=\"1\" /><path clip-path=\"url(#clip090)\" d=\"M 0 0 M57.8307 354.734 Q57.2578 355.72 57.0032 356.898 Q56.7167 358.044 56.7167 359.444 Q56.7167 364.41 59.9632 367.083 Q63.1779 369.725 69.2253 369.725 L88.0042 369.725 L88.0042 375.613 L52.3562 375.613 L52.3562 369.725 L57.8944 369.725 Q54.6479 367.879 53.0883 364.919 Q51.4968 361.959 51.4968 357.726 Q51.4968 357.121 51.5923 356.389 Q51.656 355.657 51.8151 354.766 L57.8307 354.734 Z\" fill=\"#000000\" fill-rule=\"evenodd\" fill-opacity=\"1\" /><path clip-path=\"url(#clip090)\" d=\"M 0 0 M38.5426 349.514 L38.5426 344.421 Q46.0542 339.647 53.2474 337.292 Q60.4406 334.905 67.5384 334.905 Q74.668 334.905 81.8931 337.292 Q89.1182 339.647 96.5979 344.421 L96.5979 349.514 Q89.3091 345.281 82.1159 343.212 Q74.8908 341.111 67.5384 341.111 Q60.186 341.111 53.0246 343.212 Q45.8632 345.281 38.5426 349.514 Z\" fill=\"#000000\" fill-rule=\"evenodd\" fill-opacity=\"1\" /><path clip-path=\"url(#clip092)\" d=\"\n",
       "M351.31 86.1857 L351.31 1384.24 L889.869 1384.24 L889.869 86.1857 L351.31 86.1857 L351.31 86.1857  Z\n",
       "  \" fill=\"#009af9\" fill-rule=\"evenodd\" fill-opacity=\"1\"/>\n",
       "<polyline clip-path=\"url(#clip092)\" style=\"stroke:#000000; stroke-width:4; stroke-opacity:1; fill:none\" points=\"\n",
       "  351.31,86.1857 351.31,1384.24 889.869,1384.24 889.869,86.1857 351.31,86.1857 \n",
       "  \"/>\n",
       "<path clip-path=\"url(#clip092)\" d=\"\n",
       "M1024.51 130.564 L1024.51 1384.24 L1563.07 1384.24 L1563.07 130.564 L1024.51 130.564 L1024.51 130.564  Z\n",
       "  \" fill=\"#009af9\" fill-rule=\"evenodd\" fill-opacity=\"1\"/>\n",
       "<polyline clip-path=\"url(#clip092)\" style=\"stroke:#000000; stroke-width:4; stroke-opacity:1; fill:none\" points=\"\n",
       "  1024.51,130.564 1024.51,1384.24 1563.07,1384.24 1563.07,130.564 1024.51,130.564 \n",
       "  \"/>\n",
       "<path clip-path=\"url(#clip092)\" d=\"\n",
       "M1697.71 785.137 L1697.71 1384.24 L2236.27 1384.24 L2236.27 785.137 L1697.71 785.137 L1697.71 785.137  Z\n",
       "  \" fill=\"#009af9\" fill-rule=\"evenodd\" fill-opacity=\"1\"/>\n",
       "<polyline clip-path=\"url(#clip092)\" style=\"stroke:#000000; stroke-width:4; stroke-opacity:1; fill:none\" points=\"\n",
       "  1697.71,785.137 1697.71,1384.24 2236.27,1384.24 2236.27,785.137 1697.71,785.137 \n",
       "  \"/>\n",
       "</svg>\n"
      ]
     },
     "execution_count": 63,
     "metadata": {},
     "output_type": "execute_result"
    }
   ],
   "source": [
    "results = [\n",
    "    \"my_sum (Julia)\" => 11.7,\n",
    "    \"c_sum (C)\" => 11.3,\n",
    "    \"sum (Julia)\" => 5.4,\n",
    "]\n",
    "\n",
    "bar(first.(results), last.(results), xlabel=\"function\", ylabel=\"time (ms, shorter is better)\", legend=nothing)"
   ]
  },
  {
   "cell_type": "markdown",
   "metadata": {
    "slideshow": {
     "slide_type": "subslide"
    }
   },
   "source": [
    "What's going on? Is the `sum()` function using some built-in behavior we don't have access to?"
   ]
  },
  {
   "cell_type": "markdown",
   "metadata": {
    "slideshow": {
     "slide_type": "fragment"
    }
   },
   "source": [
    "Nope--we can achieve that result easily with a few modifications:"
   ]
  },
  {
   "cell_type": "code",
   "execution_count": 64,
   "metadata": {},
   "outputs": [
    {
     "data": {
      "text/plain": [
       "my_fast_sum (generic function with 1 method)"
      ]
     },
     "execution_count": 64,
     "metadata": {},
     "output_type": "execute_result"
    }
   ],
   "source": [
    "function my_fast_sum(x)\n",
    "    result = zero(eltype(x))\n",
    "    \n",
    "    # `@inbounds` is a macro which disables all bounds checking within a given block. \n",
    "    #\n",
    "    # `@simd` enables additional vector operations by indicating that it is OK to potentially\n",
    "    # evaluate the loop out-of-order. \n",
    "    @inbounds @simd for element in x\n",
    "        result += element\n",
    "    end\n",
    "    result\n",
    "end"
   ]
  },
  {
   "cell_type": "code",
   "execution_count": 65,
   "metadata": {
    "slideshow": {
     "slide_type": "subslide"
    }
   },
   "outputs": [
    {
     "name": "stdout",
     "output_type": "stream",
     "text": [
      "  5.332 ms (0 allocations: 0 bytes)\n"
     ]
    },
    {
     "data": {
      "text/plain": [
       "4.998996907718901e6"
      ]
     },
     "execution_count": 65,
     "metadata": {},
     "output_type": "execute_result"
    }
   ],
   "source": [
    "@btime my_fast_sum($data)"
   ]
  },
  {
   "cell_type": "code",
   "execution_count": 66,
   "metadata": {},
   "outputs": [
    {
     "data": {
      "image/svg+xml": [
       "<?xml version=\"1.0\" encoding=\"utf-8\"?>\n",
       "<svg xmlns=\"http://www.w3.org/2000/svg\" xmlns:xlink=\"http://www.w3.org/1999/xlink\" width=\"600\" height=\"400\" viewBox=\"0 0 2400 1600\">\n",
       "<defs>\n",
       "  <clipPath id=\"clip130\">\n",
       "    <rect x=\"0\" y=\"0\" width=\"2400\" height=\"1600\"/>\n",
       "  </clipPath>\n",
       "</defs>\n",
       "<path clip-path=\"url(#clip130)\" d=\"\n",
       "M0 1600 L2400 1600 L2400 0 L0 0  Z\n",
       "  \" fill=\"#ffffff\" fill-rule=\"evenodd\" fill-opacity=\"1\"/>\n",
       "<defs>\n",
       "  <clipPath id=\"clip131\">\n",
       "    <rect x=\"480\" y=\"0\" width=\"1681\" height=\"1600\"/>\n",
       "  </clipPath>\n",
       "</defs>\n",
       "<path clip-path=\"url(#clip130)\" d=\"\n",
       "M234.82 1423.18 L2352.76 1423.18 L2352.76 47.2441 L234.82 47.2441  Z\n",
       "  \" fill=\"#ffffff\" fill-rule=\"evenodd\" fill-opacity=\"1\"/>\n",
       "<defs>\n",
       "  <clipPath id=\"clip132\">\n",
       "    <rect x=\"234\" y=\"47\" width=\"2119\" height=\"1377\"/>\n",
       "  </clipPath>\n",
       "</defs>\n",
       "<polyline clip-path=\"url(#clip132)\" style=\"stroke:#000000; stroke-width:2; stroke-opacity:0.1; fill:none\" points=\"\n",
       "  549.727,1423.18 549.727,47.2441 \n",
       "  \"/>\n",
       "<polyline clip-path=\"url(#clip132)\" style=\"stroke:#000000; stroke-width:2; stroke-opacity:0.1; fill:none\" points=\"\n",
       "  1045.77,1423.18 1045.77,47.2441 \n",
       "  \"/>\n",
       "<polyline clip-path=\"url(#clip132)\" style=\"stroke:#000000; stroke-width:2; stroke-opacity:0.1; fill:none\" points=\"\n",
       "  1541.81,1423.18 1541.81,47.2441 \n",
       "  \"/>\n",
       "<polyline clip-path=\"url(#clip132)\" style=\"stroke:#000000; stroke-width:2; stroke-opacity:0.1; fill:none\" points=\"\n",
       "  2037.85,1423.18 2037.85,47.2441 \n",
       "  \"/>\n",
       "<polyline clip-path=\"url(#clip132)\" style=\"stroke:#000000; stroke-width:2; stroke-opacity:0.1; fill:none\" points=\"\n",
       "  234.82,1384.24 2352.76,1384.24 \n",
       "  \"/>\n",
       "<polyline clip-path=\"url(#clip132)\" style=\"stroke:#000000; stroke-width:2; stroke-opacity:0.1; fill:none\" points=\"\n",
       "  234.82,1106.88 2352.76,1106.88 \n",
       "  \"/>\n",
       "<polyline clip-path=\"url(#clip132)\" style=\"stroke:#000000; stroke-width:2; stroke-opacity:0.1; fill:none\" points=\"\n",
       "  234.82,829.515 2352.76,829.515 \n",
       "  \"/>\n",
       "<polyline clip-path=\"url(#clip132)\" style=\"stroke:#000000; stroke-width:2; stroke-opacity:0.1; fill:none\" points=\"\n",
       "  234.82,552.153 2352.76,552.153 \n",
       "  \"/>\n",
       "<polyline clip-path=\"url(#clip132)\" style=\"stroke:#000000; stroke-width:2; stroke-opacity:0.1; fill:none\" points=\"\n",
       "  234.82,274.792 2352.76,274.792 \n",
       "  \"/>\n",
       "<polyline clip-path=\"url(#clip130)\" style=\"stroke:#000000; stroke-width:4; stroke-opacity:1; fill:none\" points=\"\n",
       "  234.82,1423.18 2352.76,1423.18 \n",
       "  \"/>\n",
       "<polyline clip-path=\"url(#clip130)\" style=\"stroke:#000000; stroke-width:4; stroke-opacity:1; fill:none\" points=\"\n",
       "  234.82,1423.18 234.82,47.2441 \n",
       "  \"/>\n",
       "<polyline clip-path=\"url(#clip130)\" style=\"stroke:#000000; stroke-width:4; stroke-opacity:1; fill:none\" points=\"\n",
       "  549.727,1423.18 549.727,1406.67 \n",
       "  \"/>\n",
       "<polyline clip-path=\"url(#clip130)\" style=\"stroke:#000000; stroke-width:4; stroke-opacity:1; fill:none\" points=\"\n",
       "  1045.77,1423.18 1045.77,1406.67 \n",
       "  \"/>\n",
       "<polyline clip-path=\"url(#clip130)\" style=\"stroke:#000000; stroke-width:4; stroke-opacity:1; fill:none\" points=\"\n",
       "  1541.81,1423.18 1541.81,1406.67 \n",
       "  \"/>\n",
       "<polyline clip-path=\"url(#clip130)\" style=\"stroke:#000000; stroke-width:4; stroke-opacity:1; fill:none\" points=\"\n",
       "  2037.85,1423.18 2037.85,1406.67 \n",
       "  \"/>\n",
       "<polyline clip-path=\"url(#clip130)\" style=\"stroke:#000000; stroke-width:4; stroke-opacity:1; fill:none\" points=\"\n",
       "  234.82,1384.24 260.235,1384.24 \n",
       "  \"/>\n",
       "<polyline clip-path=\"url(#clip130)\" style=\"stroke:#000000; stroke-width:4; stroke-opacity:1; fill:none\" points=\"\n",
       "  234.82,1106.88 260.235,1106.88 \n",
       "  \"/>\n",
       "<polyline clip-path=\"url(#clip130)\" style=\"stroke:#000000; stroke-width:4; stroke-opacity:1; fill:none\" points=\"\n",
       "  234.82,829.515 260.235,829.515 \n",
       "  \"/>\n",
       "<polyline clip-path=\"url(#clip130)\" style=\"stroke:#000000; stroke-width:4; stroke-opacity:1; fill:none\" points=\"\n",
       "  234.82,552.153 260.235,552.153 \n",
       "  \"/>\n",
       "<polyline clip-path=\"url(#clip130)\" style=\"stroke:#000000; stroke-width:4; stroke-opacity:1; fill:none\" points=\"\n",
       "  234.82,274.792 260.235,274.792 \n",
       "  \"/>\n",
       "<path clip-path=\"url(#clip130)\" d=\"M 0 0 M419.878 1455.7 Q421.475 1452.83 423.697 1451.47 Q425.919 1450.1 428.929 1450.1 Q432.979 1450.1 435.179 1452.95 Q437.378 1455.77 437.378 1461 L437.378 1476.65 L433.095 1476.65 L433.095 1461.14 Q433.095 1457.42 431.776 1455.61 Q430.456 1453.8 427.748 1453.8 Q424.438 1453.8 422.517 1456 Q420.595 1458.2 420.595 1462 L420.595 1476.65 L416.313 1476.65 L416.313 1461.14 Q416.313 1457.39 414.993 1455.61 Q413.674 1453.8 410.919 1453.8 Q407.656 1453.8 405.734 1456.03 Q403.813 1458.23 403.813 1462 L403.813 1476.65 L399.531 1476.65 L399.531 1450.73 L403.813 1450.73 L403.813 1454.75 Q405.271 1452.37 407.308 1451.24 Q409.345 1450.1 412.146 1450.1 Q414.97 1450.1 416.938 1451.54 Q418.929 1452.97 419.878 1455.7 Z\" fill=\"#000000\" fill-rule=\"evenodd\" fill-opacity=\"1\" /><path clip-path=\"url(#clip130)\" d=\"M 0 0 M452.632 1479.06 Q450.827 1483.69 449.114 1485.1 Q447.401 1486.51 444.53 1486.51 L441.128 1486.51 L441.128 1482.95 L443.628 1482.95 Q445.387 1482.95 446.359 1482.11 Q447.331 1481.28 448.512 1478.18 L449.276 1476.24 L438.79 1450.73 L443.303 1450.73 L451.405 1471 L459.507 1450.73 L464.021 1450.73 L452.632 1479.06 Z\" fill=\"#000000\" fill-rule=\"evenodd\" fill-opacity=\"1\" /><path clip-path=\"url(#clip130)\" d=\"M 0 0 M488.187 1484.52 L488.187 1487.83 L463.558 1487.83 L463.558 1484.52 L488.187 1484.52 Z\" fill=\"#000000\" fill-rule=\"evenodd\" fill-opacity=\"1\" /><path clip-path=\"url(#clip130)\" d=\"M 0 0 M509.183 1451.49 L509.183 1455.52 Q507.377 1454.59 505.433 1454.13 Q503.488 1453.67 501.405 1453.67 Q498.234 1453.67 496.637 1454.64 Q495.062 1455.61 495.062 1457.55 Q495.062 1459.04 496.197 1459.89 Q497.331 1460.73 500.757 1461.49 L502.215 1461.81 Q506.752 1462.79 508.65 1464.57 Q510.572 1466.33 510.572 1469.5 Q510.572 1473.11 507.701 1475.22 Q504.854 1477.32 499.854 1477.32 Q497.771 1477.32 495.502 1476.91 Q493.257 1476.51 490.757 1475.7 L490.757 1471.3 Q493.118 1472.53 495.41 1473.16 Q497.701 1473.76 499.947 1473.76 Q502.956 1473.76 504.576 1472.74 Q506.197 1471.7 506.197 1469.82 Q506.197 1468.09 505.016 1467.16 Q503.859 1466.24 499.9 1465.38 L498.419 1465.03 Q494.461 1464.2 492.701 1462.49 Q490.942 1460.75 490.942 1457.74 Q490.942 1454.08 493.535 1452.09 Q496.127 1450.1 500.896 1450.1 Q503.257 1450.1 505.34 1450.45 Q507.423 1450.8 509.183 1451.49 Z\" fill=\"#000000\" fill-rule=\"evenodd\" fill-opacity=\"1\" /><path clip-path=\"url(#clip130)\" d=\"M 0 0 M514.599 1466.42 L514.599 1450.73 L518.859 1450.73 L518.859 1466.26 Q518.859 1469.94 520.294 1471.79 Q521.729 1473.62 524.599 1473.62 Q528.048 1473.62 530.039 1471.42 Q532.053 1469.22 532.053 1465.43 L532.053 1450.73 L536.312 1450.73 L536.312 1476.65 L532.053 1476.65 L532.053 1472.67 Q530.502 1475.03 528.442 1476.19 Q526.405 1477.32 523.697 1477.32 Q519.229 1477.32 516.914 1474.55 Q514.599 1471.77 514.599 1466.42 M525.317 1450.1 L525.317 1450.1 Z\" fill=\"#000000\" fill-rule=\"evenodd\" fill-opacity=\"1\" /><path clip-path=\"url(#clip130)\" d=\"M 0 0 M560.965 1455.7 Q562.562 1452.83 564.784 1451.47 Q567.007 1450.1 570.016 1450.1 Q574.067 1450.1 576.266 1452.95 Q578.465 1455.77 578.465 1461 L578.465 1476.65 L574.182 1476.65 L574.182 1461.14 Q574.182 1457.42 572.863 1455.61 Q571.544 1453.8 568.835 1453.8 Q565.525 1453.8 563.604 1456 Q561.682 1458.2 561.682 1462 L561.682 1476.65 L557.4 1476.65 L557.4 1461.14 Q557.4 1457.39 556.081 1455.61 Q554.761 1453.8 552.007 1453.8 Q548.743 1453.8 546.821 1456.03 Q544.9 1458.23 544.9 1462 L544.9 1476.65 L540.618 1476.65 L540.618 1450.73 L544.9 1450.73 L544.9 1454.75 Q546.358 1452.37 548.395 1451.24 Q550.433 1450.1 553.233 1450.1 Q556.057 1450.1 558.025 1451.54 Q560.016 1452.97 560.965 1455.7 Z\" fill=\"#000000\" fill-rule=\"evenodd\" fill-opacity=\"1\" /><path clip-path=\"url(#clip130)\" d=\"M 0 0 M608.233 1440.68 Q605.131 1446 603.627 1451.21 Q602.122 1456.42 602.122 1461.77 Q602.122 1467.11 603.627 1472.37 Q605.154 1477.6 608.233 1482.9 L604.529 1482.9 Q601.057 1477.46 599.321 1472.21 Q597.608 1466.95 597.608 1461.77 Q597.608 1456.61 599.321 1451.37 Q601.034 1446.14 604.529 1440.68 L608.233 1440.68 Z\" fill=\"#000000\" fill-rule=\"evenodd\" fill-opacity=\"1\" /><path clip-path=\"url(#clip130)\" d=\"M 0 0 M612.886 1442.09 L617.562 1442.09 L617.562 1474.24 Q617.562 1480.49 615.178 1483.32 Q612.816 1486.14 607.562 1486.14 L605.779 1486.14 L605.779 1482.21 L607.238 1482.21 Q610.34 1482.21 611.613 1480.47 Q612.886 1478.74 612.886 1474.24 L612.886 1442.09 Z\" fill=\"#000000\" fill-rule=\"evenodd\" fill-opacity=\"1\" /><path clip-path=\"url(#clip130)\" d=\"M 0 0 M621.59 1466.42 L621.59 1450.73 L625.849 1450.73 L625.849 1466.26 Q625.849 1469.94 627.284 1471.79 Q628.719 1473.62 631.589 1473.62 Q635.039 1473.62 637.029 1471.42 Q639.043 1469.22 639.043 1465.43 L639.043 1450.73 L643.302 1450.73 L643.302 1476.65 L639.043 1476.65 L639.043 1472.67 Q637.492 1475.03 635.432 1476.19 Q633.395 1477.32 630.687 1477.32 Q626.219 1477.32 623.904 1474.55 Q621.59 1471.77 621.59 1466.42 M632.307 1450.1 L632.307 1450.1 Z\" fill=\"#000000\" fill-rule=\"evenodd\" fill-opacity=\"1\" /><path clip-path=\"url(#clip130)\" d=\"M 0 0 M647.77 1440.63 L652.029 1440.63 L652.029 1476.65 L647.77 1476.65 L647.77 1440.63 Z\" fill=\"#000000\" fill-rule=\"evenodd\" fill-opacity=\"1\" /><path clip-path=\"url(#clip130)\" d=\"M 0 0 M656.497 1450.73 L660.756 1450.73 L660.756 1476.65 L656.497 1476.65 L656.497 1450.73 M656.497 1440.63 L660.756 1440.63 L660.756 1446.03 L656.497 1446.03 L656.497 1440.63 Z\" fill=\"#000000\" fill-rule=\"evenodd\" fill-opacity=\"1\" /><path clip-path=\"url(#clip130)\" d=\"M 0 0 M677.006 1463.62 Q671.844 1463.62 669.853 1464.8 Q667.862 1465.98 667.862 1468.83 Q667.862 1471.1 669.344 1472.44 Q670.849 1473.76 673.418 1473.76 Q676.96 1473.76 679.089 1471.26 Q681.242 1468.74 681.242 1464.57 L681.242 1463.62 L677.006 1463.62 M685.501 1461.86 L685.501 1476.65 L681.242 1476.65 L681.242 1472.72 Q679.784 1475.08 677.608 1476.21 Q675.432 1477.32 672.284 1477.32 Q668.302 1477.32 665.941 1475.1 Q663.603 1472.86 663.603 1469.11 Q663.603 1464.73 666.52 1462.51 Q669.46 1460.29 675.27 1460.29 L681.242 1460.29 L681.242 1459.87 Q681.242 1456.93 679.298 1455.33 Q677.376 1453.71 673.881 1453.71 Q671.659 1453.71 669.552 1454.24 Q667.446 1454.78 665.501 1455.84 L665.501 1451.91 Q667.839 1451 670.038 1450.56 Q672.237 1450.1 674.321 1450.1 Q679.946 1450.1 682.723 1453.02 Q685.501 1455.93 685.501 1461.86 Z\" fill=\"#000000\" fill-rule=\"evenodd\" fill-opacity=\"1\" /><path clip-path=\"url(#clip130)\" d=\"M 0 0 M689.298 1440.68 L693.001 1440.68 Q696.473 1446.14 698.186 1451.37 Q699.922 1456.61 699.922 1461.77 Q699.922 1466.95 698.186 1472.21 Q696.473 1477.46 693.001 1482.9 L689.298 1482.9 Q692.376 1477.6 693.881 1472.37 Q695.409 1467.11 695.409 1461.77 Q695.409 1456.42 693.881 1451.21 Q692.376 1446 689.298 1440.68 Z\" fill=\"#000000\" fill-rule=\"evenodd\" fill-opacity=\"1\" /><path clip-path=\"url(#clip130)\" d=\"M 0 0 M961.439 1451.72 L961.439 1455.7 Q959.634 1454.71 957.805 1454.22 Q955.999 1453.71 954.148 1453.71 Q950.004 1453.71 947.712 1456.35 Q945.421 1458.97 945.421 1463.71 Q945.421 1468.46 947.712 1471.1 Q950.004 1473.71 954.148 1473.71 Q955.999 1473.71 957.805 1473.23 Q959.634 1472.72 961.439 1471.72 L961.439 1475.66 Q959.657 1476.49 957.735 1476.91 Q955.837 1477.32 953.685 1477.32 Q947.828 1477.32 944.379 1473.64 Q940.93 1469.96 940.93 1463.71 Q940.93 1457.37 944.402 1453.74 Q947.898 1450.1 953.962 1450.1 Q955.93 1450.1 957.805 1450.52 Q959.68 1450.91 961.439 1451.72 Z\" fill=\"#000000\" fill-rule=\"evenodd\" fill-opacity=\"1\" /><path clip-path=\"url(#clip130)\" d=\"M 0 0 M985.606 1484.52 L985.606 1487.83 L960.976 1487.83 L960.976 1484.52 L985.606 1484.52 Z\" fill=\"#000000\" fill-rule=\"evenodd\" fill-opacity=\"1\" /><path clip-path=\"url(#clip130)\" d=\"M 0 0 M1006.6 1451.49 L1006.6 1455.52 Q1004.8 1454.59 1002.85 1454.13 Q1000.91 1453.67 998.823 1453.67 Q995.652 1453.67 994.055 1454.64 Q992.481 1455.61 992.481 1457.55 Q992.481 1459.04 993.615 1459.89 Q994.749 1460.73 998.175 1461.49 L999.633 1461.81 Q1004.17 1462.79 1006.07 1464.57 Q1007.99 1466.33 1007.99 1469.5 Q1007.99 1473.11 1005.12 1475.22 Q1002.27 1477.32 997.272 1477.32 Q995.189 1477.32 992.92 1476.91 Q990.675 1476.51 988.175 1475.7 L988.175 1471.3 Q990.536 1472.53 992.828 1473.16 Q995.12 1473.76 997.365 1473.76 Q1000.37 1473.76 1001.99 1472.74 Q1003.61 1471.7 1003.61 1469.82 Q1003.61 1468.09 1002.43 1467.16 Q1001.28 1466.24 997.319 1465.38 L995.837 1465.03 Q991.879 1464.2 990.12 1462.49 Q988.36 1460.75 988.36 1457.74 Q988.36 1454.08 990.953 1452.09 Q993.545 1450.1 998.314 1450.1 Q1000.68 1450.1 1002.76 1450.45 Q1004.84 1450.8 1006.6 1451.49 Z\" fill=\"#000000\" fill-rule=\"evenodd\" fill-opacity=\"1\" /><path clip-path=\"url(#clip130)\" d=\"M 0 0 M1012.02 1466.42 L1012.02 1450.73 L1016.28 1450.73 L1016.28 1466.26 Q1016.28 1469.94 1017.71 1471.79 Q1019.15 1473.62 1022.02 1473.62 Q1025.47 1473.62 1027.46 1471.42 Q1029.47 1469.22 1029.47 1465.43 L1029.47 1450.73 L1033.73 1450.73 L1033.73 1476.65 L1029.47 1476.65 L1029.47 1472.67 Q1027.92 1475.03 1025.86 1476.19 Q1023.82 1477.32 1021.11 1477.32 Q1016.65 1477.32 1014.33 1474.55 Q1012.02 1471.77 1012.02 1466.42 M1022.74 1450.1 L1022.74 1450.1 Z\" fill=\"#000000\" fill-rule=\"evenodd\" fill-opacity=\"1\" /><path clip-path=\"url(#clip130)\" d=\"M 0 0 M1058.38 1455.7 Q1059.98 1452.83 1062.2 1451.47 Q1064.42 1450.1 1067.43 1450.1 Q1071.48 1450.1 1073.68 1452.95 Q1075.88 1455.77 1075.88 1461 L1075.88 1476.65 L1071.6 1476.65 L1071.6 1461.14 Q1071.6 1457.42 1070.28 1455.61 Q1068.96 1453.8 1066.25 1453.8 Q1062.94 1453.8 1061.02 1456 Q1059.1 1458.2 1059.1 1462 L1059.1 1476.65 L1054.82 1476.65 L1054.82 1461.14 Q1054.82 1457.39 1053.5 1455.61 Q1052.18 1453.8 1049.42 1453.8 Q1046.16 1453.8 1044.24 1456.03 Q1042.32 1458.23 1042.32 1462 L1042.32 1476.65 L1038.04 1476.65 L1038.04 1450.73 L1042.32 1450.73 L1042.32 1454.75 Q1043.78 1452.37 1045.81 1451.24 Q1047.85 1450.1 1050.65 1450.1 Q1053.48 1450.1 1055.44 1451.54 Q1057.43 1452.97 1058.38 1455.7 Z\" fill=\"#000000\" fill-rule=\"evenodd\" fill-opacity=\"1\" /><path clip-path=\"url(#clip130)\" d=\"M 0 0 M1105.65 1440.68 Q1102.55 1446 1101.04 1451.21 Q1099.54 1456.42 1099.54 1461.77 Q1099.54 1467.11 1101.04 1472.37 Q1102.57 1477.6 1105.65 1482.9 L1101.95 1482.9 Q1098.48 1477.46 1096.74 1472.21 Q1095.03 1466.95 1095.03 1461.77 Q1095.03 1456.61 1096.74 1451.37 Q1098.45 1446.14 1101.95 1440.68 L1105.65 1440.68 Z\" fill=\"#000000\" fill-rule=\"evenodd\" fill-opacity=\"1\" /><path clip-path=\"url(#clip130)\" d=\"M 0 0 M1136.18 1444.75 L1136.18 1449.68 Q1133.82 1447.49 1131.14 1446.4 Q1128.48 1445.31 1125.47 1445.31 Q1119.54 1445.31 1116.39 1448.94 Q1113.24 1452.55 1113.24 1459.41 Q1113.24 1466.24 1116.39 1469.87 Q1119.54 1473.48 1125.47 1473.48 Q1128.48 1473.48 1131.14 1472.39 Q1133.82 1471.3 1136.18 1469.11 L1136.18 1473.99 Q1133.73 1475.66 1130.98 1476.49 Q1128.24 1477.32 1125.19 1477.32 Q1117.34 1477.32 1112.83 1472.53 Q1108.31 1467.72 1108.31 1459.41 Q1108.31 1451.07 1112.83 1446.28 Q1117.34 1441.47 1125.19 1441.47 Q1128.29 1441.47 1131.02 1442.3 Q1133.78 1443.11 1136.18 1444.75 Z\" fill=\"#000000\" fill-rule=\"evenodd\" fill-opacity=\"1\" /><path clip-path=\"url(#clip130)\" d=\"M 0 0 M1139.98 1440.68 L1143.68 1440.68 Q1147.16 1446.14 1148.87 1451.37 Q1150.6 1456.61 1150.6 1461.77 Q1150.6 1466.95 1148.87 1472.21 Q1147.16 1477.46 1143.68 1482.9 L1139.98 1482.9 Q1143.06 1477.6 1144.56 1472.37 Q1146.09 1467.11 1146.09 1461.77 Q1146.09 1456.42 1144.56 1451.21 Q1143.06 1446 1139.98 1440.68 Z\" fill=\"#000000\" fill-rule=\"evenodd\" fill-opacity=\"1\" /><path clip-path=\"url(#clip130)\" d=\"M 0 0 M1455.65 1451.49 L1455.65 1455.52 Q1453.85 1454.59 1451.9 1454.13 Q1449.96 1453.67 1447.87 1453.67 Q1444.7 1453.67 1443.11 1454.64 Q1441.53 1455.61 1441.53 1457.55 Q1441.53 1459.04 1442.67 1459.89 Q1443.8 1460.73 1447.23 1461.49 L1448.68 1461.81 Q1453.22 1462.79 1455.12 1464.57 Q1457.04 1466.33 1457.04 1469.5 Q1457.04 1473.11 1454.17 1475.22 Q1451.32 1477.32 1446.32 1477.32 Q1444.24 1477.32 1441.97 1476.91 Q1439.73 1476.51 1437.23 1475.7 L1437.23 1471.3 Q1439.59 1472.53 1441.88 1473.16 Q1444.17 1473.76 1446.42 1473.76 Q1449.42 1473.76 1451.04 1472.74 Q1452.67 1471.7 1452.67 1469.82 Q1452.67 1468.09 1451.48 1467.16 Q1450.33 1466.24 1446.37 1465.38 L1444.89 1465.03 Q1440.93 1464.2 1439.17 1462.49 Q1437.41 1460.75 1437.41 1457.74 Q1437.41 1454.08 1440 1452.09 Q1442.6 1450.1 1447.36 1450.1 Q1449.73 1450.1 1451.81 1450.45 Q1453.89 1450.8 1455.65 1451.49 Z\" fill=\"#000000\" fill-rule=\"evenodd\" fill-opacity=\"1\" /><path clip-path=\"url(#clip130)\" d=\"M 0 0 M1461.07 1466.42 L1461.07 1450.73 L1465.33 1450.73 L1465.33 1466.26 Q1465.33 1469.94 1466.76 1471.79 Q1468.2 1473.62 1471.07 1473.62 Q1474.52 1473.62 1476.51 1471.42 Q1478.52 1469.22 1478.52 1465.43 L1478.52 1450.73 L1482.78 1450.73 L1482.78 1476.65 L1478.52 1476.65 L1478.52 1472.67 Q1476.97 1475.03 1474.91 1476.19 Q1472.87 1477.32 1470.17 1477.32 Q1465.7 1477.32 1463.38 1474.55 Q1461.07 1471.77 1461.07 1466.42 M1471.79 1450.1 L1471.79 1450.1 Z\" fill=\"#000000\" fill-rule=\"evenodd\" fill-opacity=\"1\" /><path clip-path=\"url(#clip130)\" d=\"M 0 0 M1507.43 1455.7 Q1509.03 1452.83 1511.25 1451.47 Q1513.48 1450.1 1516.48 1450.1 Q1520.54 1450.1 1522.73 1452.95 Q1524.93 1455.77 1524.93 1461 L1524.93 1476.65 L1520.65 1476.65 L1520.65 1461.14 Q1520.65 1457.42 1519.33 1455.61 Q1518.01 1453.8 1515.3 1453.8 Q1511.99 1453.8 1510.07 1456 Q1508.15 1458.2 1508.15 1462 L1508.15 1476.65 L1503.87 1476.65 L1503.87 1461.14 Q1503.87 1457.39 1502.55 1455.61 Q1501.23 1453.8 1498.48 1453.8 Q1495.21 1453.8 1493.29 1456.03 Q1491.37 1458.23 1491.37 1462 L1491.37 1476.65 L1487.09 1476.65 L1487.09 1450.73 L1491.37 1450.73 L1491.37 1454.75 Q1492.83 1452.37 1494.86 1451.24 Q1496.9 1450.1 1499.7 1450.1 Q1502.53 1450.1 1504.49 1451.54 Q1506.48 1452.97 1507.43 1455.7 Z\" fill=\"#000000\" fill-rule=\"evenodd\" fill-opacity=\"1\" /><path clip-path=\"url(#clip130)\" d=\"M 0 0 M1554.7 1440.68 Q1551.6 1446 1550.1 1451.21 Q1548.59 1456.42 1548.59 1461.77 Q1548.59 1467.11 1550.1 1472.37 Q1551.62 1477.6 1554.7 1482.9 L1551 1482.9 Q1547.53 1477.46 1545.79 1472.21 Q1544.08 1466.95 1544.08 1461.77 Q1544.08 1456.61 1545.79 1451.37 Q1547.5 1446.14 1551 1440.68 L1554.7 1440.68 Z\" fill=\"#000000\" fill-rule=\"evenodd\" fill-opacity=\"1\" /><path clip-path=\"url(#clip130)\" d=\"M 0 0 M1559.35 1442.09 L1564.03 1442.09 L1564.03 1474.24 Q1564.03 1480.49 1561.65 1483.32 Q1559.29 1486.14 1554.03 1486.14 L1552.25 1486.14 L1552.25 1482.21 L1553.71 1482.21 Q1556.81 1482.21 1558.08 1480.47 Q1559.35 1478.74 1559.35 1474.24 L1559.35 1442.09 Z\" fill=\"#000000\" fill-rule=\"evenodd\" fill-opacity=\"1\" /><path clip-path=\"url(#clip130)\" d=\"M 0 0 M1568.06 1466.42 L1568.06 1450.73 L1572.32 1450.73 L1572.32 1466.26 Q1572.32 1469.94 1573.75 1471.79 Q1575.19 1473.62 1578.06 1473.62 Q1581.51 1473.62 1583.5 1471.42 Q1585.51 1469.22 1585.51 1465.43 L1585.51 1450.73 L1589.77 1450.73 L1589.77 1476.65 L1585.51 1476.65 L1585.51 1472.67 Q1583.96 1475.03 1581.9 1476.19 Q1579.86 1477.32 1577.16 1477.32 Q1572.69 1477.32 1570.37 1474.55 Q1568.06 1471.77 1568.06 1466.42 M1578.78 1450.1 L1578.78 1450.1 Z\" fill=\"#000000\" fill-rule=\"evenodd\" fill-opacity=\"1\" /><path clip-path=\"url(#clip130)\" d=\"M 0 0 M1594.24 1440.63 L1598.5 1440.63 L1598.5 1476.65 L1594.24 1476.65 L1594.24 1440.63 Z\" fill=\"#000000\" fill-rule=\"evenodd\" fill-opacity=\"1\" /><path clip-path=\"url(#clip130)\" d=\"M 0 0 M1602.97 1450.73 L1607.22 1450.73 L1607.22 1476.65 L1602.97 1476.65 L1602.97 1450.73 M1602.97 1440.63 L1607.22 1440.63 L1607.22 1446.03 L1602.97 1446.03 L1602.97 1440.63 Z\" fill=\"#000000\" fill-rule=\"evenodd\" fill-opacity=\"1\" /><path clip-path=\"url(#clip130)\" d=\"M 0 0 M1623.47 1463.62 Q1618.31 1463.62 1616.32 1464.8 Q1614.33 1465.98 1614.33 1468.83 Q1614.33 1471.1 1615.81 1472.44 Q1617.32 1473.76 1619.89 1473.76 Q1623.43 1473.76 1625.56 1471.26 Q1627.71 1468.74 1627.71 1464.57 L1627.71 1463.62 L1623.47 1463.62 M1631.97 1461.86 L1631.97 1476.65 L1627.71 1476.65 L1627.71 1472.72 Q1626.25 1475.08 1624.08 1476.21 Q1621.9 1477.32 1618.75 1477.32 Q1614.77 1477.32 1612.41 1475.1 Q1610.07 1472.86 1610.07 1469.11 Q1610.07 1464.73 1612.99 1462.51 Q1615.93 1460.29 1621.74 1460.29 L1627.71 1460.29 L1627.71 1459.87 Q1627.71 1456.93 1625.77 1455.33 Q1623.84 1453.71 1620.35 1453.71 Q1618.13 1453.71 1616.02 1454.24 Q1613.91 1454.78 1611.97 1455.84 L1611.97 1451.91 Q1614.31 1451 1616.51 1450.56 Q1618.71 1450.1 1620.79 1450.1 Q1626.41 1450.1 1629.19 1453.02 Q1631.97 1455.93 1631.97 1461.86 Z\" fill=\"#000000\" fill-rule=\"evenodd\" fill-opacity=\"1\" /><path clip-path=\"url(#clip130)\" d=\"M 0 0 M1635.77 1440.68 L1639.47 1440.68 Q1642.94 1446.14 1644.66 1451.37 Q1646.39 1456.61 1646.39 1461.77 Q1646.39 1466.95 1644.66 1472.21 Q1642.94 1477.46 1639.47 1482.9 L1635.77 1482.9 Q1638.84 1477.6 1640.35 1472.37 Q1641.88 1467.11 1641.88 1461.77 Q1641.88 1456.42 1640.35 1451.21 Q1638.84 1446 1635.77 1440.68 Z\" fill=\"#000000\" fill-rule=\"evenodd\" fill-opacity=\"1\" /><path clip-path=\"url(#clip130)\" d=\"M 0 0 M1854.83 1455.7 Q1856.43 1452.83 1858.65 1451.47 Q1860.87 1450.1 1863.88 1450.1 Q1867.93 1450.1 1870.13 1452.95 Q1872.33 1455.77 1872.33 1461 L1872.33 1476.65 L1868.05 1476.65 L1868.05 1461.14 Q1868.05 1457.42 1866.73 1455.61 Q1865.41 1453.8 1862.7 1453.8 Q1859.39 1453.8 1857.47 1456 Q1855.55 1458.2 1855.55 1462 L1855.55 1476.65 L1851.26 1476.65 L1851.26 1461.14 Q1851.26 1457.39 1849.95 1455.61 Q1848.63 1453.8 1845.87 1453.8 Q1842.61 1453.8 1840.69 1456.03 Q1838.76 1458.23 1838.76 1462 L1838.76 1476.65 L1834.48 1476.65 L1834.48 1450.73 L1838.76 1450.73 L1838.76 1454.75 Q1840.22 1452.37 1842.26 1451.24 Q1844.3 1450.1 1847.1 1450.1 Q1849.92 1450.1 1851.89 1451.54 Q1853.88 1452.97 1854.83 1455.7 Z\" fill=\"#000000\" fill-rule=\"evenodd\" fill-opacity=\"1\" /><path clip-path=\"url(#clip130)\" d=\"M 0 0 M1887.58 1479.06 Q1885.78 1483.69 1884.07 1485.1 Q1882.35 1486.51 1879.48 1486.51 L1876.08 1486.51 L1876.08 1482.95 L1878.58 1482.95 Q1880.34 1482.95 1881.31 1482.11 Q1882.28 1481.28 1883.46 1478.18 L1884.23 1476.24 L1873.74 1450.73 L1878.26 1450.73 L1886.36 1471 L1894.46 1450.73 L1898.97 1450.73 L1887.58 1479.06 Z\" fill=\"#000000\" fill-rule=\"evenodd\" fill-opacity=\"1\" /><path clip-path=\"url(#clip130)\" d=\"M 0 0 M1923.14 1484.52 L1923.14 1487.83 L1898.51 1487.83 L1898.51 1484.52 L1923.14 1484.52 Z\" fill=\"#000000\" fill-rule=\"evenodd\" fill-opacity=\"1\" /><path clip-path=\"url(#clip130)\" d=\"M 0 0 M1940.73 1440.63 L1940.73 1444.18 L1936.66 1444.18 Q1934.37 1444.18 1933.46 1445.1 Q1932.58 1446.03 1932.58 1448.43 L1932.58 1450.73 L1939.6 1450.73 L1939.6 1454.04 L1932.58 1454.04 L1932.58 1476.65 L1928.3 1476.65 L1928.3 1454.04 L1924.23 1454.04 L1924.23 1450.73 L1928.3 1450.73 L1928.3 1448.92 Q1928.3 1444.59 1930.32 1442.62 Q1932.33 1440.63 1936.7 1440.63 L1940.73 1440.63 Z\" fill=\"#000000\" fill-rule=\"evenodd\" fill-opacity=\"1\" /><path clip-path=\"url(#clip130)\" d=\"M 0 0 M1956.98 1463.62 Q1951.82 1463.62 1949.83 1464.8 Q1947.84 1465.98 1947.84 1468.83 Q1947.84 1471.1 1949.32 1472.44 Q1950.82 1473.76 1953.39 1473.76 Q1956.94 1473.76 1959.06 1471.26 Q1961.22 1468.74 1961.22 1464.57 L1961.22 1463.62 L1956.98 1463.62 M1965.48 1461.86 L1965.48 1476.65 L1961.22 1476.65 L1961.22 1472.72 Q1959.76 1475.08 1957.58 1476.21 Q1955.41 1477.32 1952.26 1477.32 Q1948.28 1477.32 1945.92 1475.1 Q1943.58 1472.86 1943.58 1469.11 Q1943.58 1464.73 1946.5 1462.51 Q1949.44 1460.29 1955.25 1460.29 L1961.22 1460.29 L1961.22 1459.87 Q1961.22 1456.93 1959.27 1455.33 Q1957.35 1453.71 1953.86 1453.71 Q1951.63 1453.71 1949.53 1454.24 Q1947.42 1454.78 1945.48 1455.84 L1945.48 1451.91 Q1947.82 1451 1950.01 1450.56 Q1952.21 1450.1 1954.3 1450.1 Q1959.92 1450.1 1962.7 1453.02 Q1965.48 1455.93 1965.48 1461.86 Z\" fill=\"#000000\" fill-rule=\"evenodd\" fill-opacity=\"1\" /><path clip-path=\"url(#clip130)\" d=\"M 0 0 M1986.47 1451.49 L1986.47 1455.52 Q1984.67 1454.59 1982.72 1454.13 Q1980.78 1453.67 1978.69 1453.67 Q1975.52 1453.67 1973.93 1454.64 Q1972.35 1455.61 1972.35 1457.55 Q1972.35 1459.04 1973.49 1459.89 Q1974.62 1460.73 1978.05 1461.49 L1979.5 1461.81 Q1984.04 1462.79 1985.94 1464.57 Q1987.86 1466.33 1987.86 1469.5 Q1987.86 1473.11 1984.99 1475.22 Q1982.14 1477.32 1977.14 1477.32 Q1975.06 1477.32 1972.79 1476.91 Q1970.55 1476.51 1968.05 1475.7 L1968.05 1471.3 Q1970.41 1472.53 1972.7 1473.16 Q1974.99 1473.76 1977.24 1473.76 Q1980.25 1473.76 1981.87 1472.74 Q1983.49 1471.7 1983.49 1469.82 Q1983.49 1468.09 1982.31 1467.16 Q1981.15 1466.24 1977.19 1465.38 L1975.71 1465.03 Q1971.75 1464.2 1969.99 1462.49 Q1968.23 1460.75 1968.23 1457.74 Q1968.23 1454.08 1970.82 1452.09 Q1973.42 1450.1 1978.19 1450.1 Q1980.55 1450.1 1982.63 1450.45 Q1984.71 1450.8 1986.47 1451.49 Z\" fill=\"#000000\" fill-rule=\"evenodd\" fill-opacity=\"1\" /><path clip-path=\"url(#clip130)\" d=\"M 0 0 M1996.54 1443.36 L1996.54 1450.73 L2005.31 1450.73 L2005.31 1454.04 L1996.54 1454.04 L1996.54 1468.11 Q1996.54 1471.28 1997.4 1472.18 Q1998.28 1473.09 2000.94 1473.09 L2005.31 1473.09 L2005.31 1476.65 L2000.94 1476.65 Q1996.01 1476.65 1994.13 1474.82 Q1992.26 1472.97 1992.26 1468.11 L1992.26 1454.04 L1989.13 1454.04 L1989.13 1450.73 L1992.26 1450.73 L1992.26 1443.36 L1996.54 1443.36 Z\" fill=\"#000000\" fill-rule=\"evenodd\" fill-opacity=\"1\" /><path clip-path=\"url(#clip130)\" d=\"M 0 0 M2029.48 1484.52 L2029.48 1487.83 L2004.85 1487.83 L2004.85 1484.52 L2029.48 1484.52 Z\" fill=\"#000000\" fill-rule=\"evenodd\" fill-opacity=\"1\" /><path clip-path=\"url(#clip130)\" d=\"M 0 0 M2050.48 1451.49 L2050.48 1455.52 Q2048.67 1454.59 2046.73 1454.13 Q2044.78 1453.67 2042.7 1453.67 Q2039.53 1453.67 2037.93 1454.64 Q2036.36 1455.61 2036.36 1457.55 Q2036.36 1459.04 2037.49 1459.89 Q2038.62 1460.73 2042.05 1461.49 L2043.51 1461.81 Q2048.05 1462.79 2049.94 1464.57 Q2051.87 1466.33 2051.87 1469.5 Q2051.87 1473.11 2049 1475.22 Q2046.15 1477.32 2041.15 1477.32 Q2039.06 1477.32 2036.8 1476.91 Q2034.55 1476.51 2032.05 1475.7 L2032.05 1471.3 Q2034.41 1472.53 2036.7 1473.16 Q2039 1473.76 2041.24 1473.76 Q2044.25 1473.76 2045.87 1472.74 Q2047.49 1471.7 2047.49 1469.82 Q2047.49 1468.09 2046.31 1467.16 Q2045.15 1466.24 2041.19 1465.38 L2039.71 1465.03 Q2035.75 1464.2 2034 1462.49 Q2032.24 1460.75 2032.24 1457.74 Q2032.24 1454.08 2034.83 1452.09 Q2037.42 1450.1 2042.19 1450.1 Q2044.55 1450.1 2046.63 1450.45 Q2048.72 1450.8 2050.48 1451.49 Z\" fill=\"#000000\" fill-rule=\"evenodd\" fill-opacity=\"1\" /><path clip-path=\"url(#clip130)\" d=\"M 0 0 M2055.89 1466.42 L2055.89 1450.73 L2060.15 1450.73 L2060.15 1466.26 Q2060.15 1469.94 2061.59 1471.79 Q2063.02 1473.62 2065.89 1473.62 Q2069.34 1473.62 2071.33 1471.42 Q2073.35 1469.22 2073.35 1465.43 L2073.35 1450.73 L2077.61 1450.73 L2077.61 1476.65 L2073.35 1476.65 L2073.35 1472.67 Q2071.8 1475.03 2069.74 1476.19 Q2067.7 1477.32 2064.99 1477.32 Q2060.52 1477.32 2058.21 1474.55 Q2055.89 1471.77 2055.89 1466.42 M2066.61 1450.1 L2066.61 1450.1 Z\" fill=\"#000000\" fill-rule=\"evenodd\" fill-opacity=\"1\" /><path clip-path=\"url(#clip130)\" d=\"M 0 0 M2102.26 1455.7 Q2103.86 1452.83 2106.08 1451.47 Q2108.3 1450.1 2111.31 1450.1 Q2115.36 1450.1 2117.56 1452.95 Q2119.76 1455.77 2119.76 1461 L2119.76 1476.65 L2115.48 1476.65 L2115.48 1461.14 Q2115.48 1457.42 2114.16 1455.61 Q2112.84 1453.8 2110.13 1453.8 Q2106.82 1453.8 2104.9 1456 Q2102.98 1458.2 2102.98 1462 L2102.98 1476.65 L2098.69 1476.65 L2098.69 1461.14 Q2098.69 1457.39 2097.37 1455.61 Q2096.05 1453.8 2093.3 1453.8 Q2090.04 1453.8 2088.12 1456.03 Q2086.19 1458.23 2086.19 1462 L2086.19 1476.65 L2081.91 1476.65 L2081.91 1450.73 L2086.19 1450.73 L2086.19 1454.75 Q2087.65 1452.37 2089.69 1451.24 Q2091.73 1450.1 2094.53 1450.1 Q2097.35 1450.1 2099.32 1451.54 Q2101.31 1452.97 2102.26 1455.7 Z\" fill=\"#000000\" fill-rule=\"evenodd\" fill-opacity=\"1\" /><path clip-path=\"url(#clip130)\" d=\"M 0 0 M2149.53 1440.68 Q2146.43 1446 2144.92 1451.21 Q2143.42 1456.42 2143.42 1461.77 Q2143.42 1467.11 2144.92 1472.37 Q2146.45 1477.6 2149.53 1482.9 L2145.82 1482.9 Q2142.35 1477.46 2140.61 1472.21 Q2138.9 1466.95 2138.9 1461.77 Q2138.9 1456.61 2140.61 1451.37 Q2142.33 1446.14 2145.82 1440.68 L2149.53 1440.68 Z\" fill=\"#000000\" fill-rule=\"evenodd\" fill-opacity=\"1\" /><path clip-path=\"url(#clip130)\" d=\"M 0 0 M2154.18 1442.09 L2158.86 1442.09 L2158.86 1474.24 Q2158.86 1480.49 2156.47 1483.32 Q2154.11 1486.14 2148.86 1486.14 L2147.07 1486.14 L2147.07 1482.21 L2148.53 1482.21 Q2151.63 1482.21 2152.91 1480.47 Q2154.18 1478.74 2154.18 1474.24 L2154.18 1442.09 Z\" fill=\"#000000\" fill-rule=\"evenodd\" fill-opacity=\"1\" /><path clip-path=\"url(#clip130)\" d=\"M 0 0 M2162.88 1466.42 L2162.88 1450.73 L2167.14 1450.73 L2167.14 1466.26 Q2167.14 1469.94 2168.58 1471.79 Q2170.01 1473.62 2172.88 1473.62 Q2176.33 1473.62 2178.32 1471.42 Q2180.34 1469.22 2180.34 1465.43 L2180.34 1450.73 L2184.6 1450.73 L2184.6 1476.65 L2180.34 1476.65 L2180.34 1472.67 Q2178.79 1475.03 2176.73 1476.19 Q2174.69 1477.32 2171.98 1477.32 Q2167.51 1477.32 2165.2 1474.55 Q2162.88 1471.77 2162.88 1466.42 M2173.6 1450.1 L2173.6 1450.1 Z\" fill=\"#000000\" fill-rule=\"evenodd\" fill-opacity=\"1\" /><path clip-path=\"url(#clip130)\" d=\"M 0 0 M2189.06 1440.63 L2193.32 1440.63 L2193.32 1476.65 L2189.06 1476.65 L2189.06 1440.63 Z\" fill=\"#000000\" fill-rule=\"evenodd\" fill-opacity=\"1\" /><path clip-path=\"url(#clip130)\" d=\"M 0 0 M2197.79 1450.73 L2202.05 1450.73 L2202.05 1476.65 L2197.79 1476.65 L2197.79 1450.73 M2197.79 1440.63 L2202.05 1440.63 L2202.05 1446.03 L2197.79 1446.03 L2197.79 1440.63 Z\" fill=\"#000000\" fill-rule=\"evenodd\" fill-opacity=\"1\" /><path clip-path=\"url(#clip130)\" d=\"M 0 0 M2218.3 1463.62 Q2213.14 1463.62 2211.15 1464.8 Q2209.16 1465.98 2209.16 1468.83 Q2209.16 1471.1 2210.64 1472.44 Q2212.14 1473.76 2214.71 1473.76 Q2218.25 1473.76 2220.38 1471.26 Q2222.54 1468.74 2222.54 1464.57 L2222.54 1463.62 L2218.3 1463.62 M2226.8 1461.86 L2226.8 1476.65 L2222.54 1476.65 L2222.54 1472.72 Q2221.08 1475.08 2218.9 1476.21 Q2216.73 1477.32 2213.58 1477.32 Q2209.6 1477.32 2207.23 1475.1 Q2204.9 1472.86 2204.9 1469.11 Q2204.9 1464.73 2207.81 1462.51 Q2210.75 1460.29 2216.56 1460.29 L2222.54 1460.29 L2222.54 1459.87 Q2222.54 1456.93 2220.59 1455.33 Q2218.67 1453.71 2215.17 1453.71 Q2212.95 1453.71 2210.85 1454.24 Q2208.74 1454.78 2206.8 1455.84 L2206.8 1451.91 Q2209.13 1451 2211.33 1450.56 Q2213.53 1450.1 2215.61 1450.1 Q2221.24 1450.1 2224.02 1453.02 Q2226.8 1455.93 2226.8 1461.86 Z\" fill=\"#000000\" fill-rule=\"evenodd\" fill-opacity=\"1\" /><path clip-path=\"url(#clip130)\" d=\"M 0 0 M2230.59 1440.68 L2234.29 1440.68 Q2237.77 1446.14 2239.48 1451.37 Q2241.22 1456.61 2241.22 1461.77 Q2241.22 1466.95 2239.48 1472.21 Q2237.77 1477.46 2234.29 1482.9 L2230.59 1482.9 Q2233.67 1477.6 2235.17 1472.37 Q2236.7 1467.11 2236.7 1461.77 Q2236.7 1456.42 2235.17 1451.21 Q2233.67 1446 2230.59 1440.68 Z\" fill=\"#000000\" fill-rule=\"evenodd\" fill-opacity=\"1\" /><path clip-path=\"url(#clip130)\" d=\"M 0 0 M161.908 1370.04 Q158.297 1370.04 156.468 1373.6 Q154.663 1377.14 154.663 1384.27 Q154.663 1391.38 156.468 1394.94 Q158.297 1398.49 161.908 1398.49 Q165.542 1398.49 167.348 1394.94 Q169.177 1391.38 169.177 1384.27 Q169.177 1377.14 167.348 1373.6 Q165.542 1370.04 161.908 1370.04 M161.908 1366.33 Q167.718 1366.33 170.774 1370.94 Q173.852 1375.52 173.852 1384.27 Q173.852 1393 170.774 1397.61 Q167.718 1402.19 161.908 1402.19 Q156.098 1402.19 153.019 1397.61 Q149.964 1393 149.964 1384.27 Q149.964 1375.52 153.019 1370.94 Q156.098 1366.33 161.908 1366.33 Z\" fill=\"#000000\" fill-rule=\"evenodd\" fill-opacity=\"1\" /><path clip-path=\"url(#clip130)\" d=\"M 0 0 M178.922 1395.64 L183.806 1395.64 L183.806 1401.52 L178.922 1401.52 L178.922 1395.64 Z\" fill=\"#000000\" fill-rule=\"evenodd\" fill-opacity=\"1\" /><path clip-path=\"url(#clip130)\" d=\"M 0 0 M198.876 1370.04 Q195.264 1370.04 193.436 1373.6 Q191.63 1377.14 191.63 1384.27 Q191.63 1391.38 193.436 1394.94 Q195.264 1398.49 198.876 1398.49 Q202.51 1398.49 204.315 1394.94 Q206.144 1391.38 206.144 1384.27 Q206.144 1377.14 204.315 1373.6 Q202.51 1370.04 198.876 1370.04 M198.876 1366.33 Q204.686 1366.33 207.741 1370.94 Q210.82 1375.52 210.82 1384.27 Q210.82 1393 207.741 1397.61 Q204.686 1402.19 198.876 1402.19 Q193.065 1402.19 189.987 1397.61 Q186.931 1393 186.931 1384.27 Q186.931 1375.52 189.987 1370.94 Q193.065 1366.33 198.876 1366.33 Z\" fill=\"#000000\" fill-rule=\"evenodd\" fill-opacity=\"1\" /><path clip-path=\"url(#clip130)\" d=\"M 0 0 M158.529 1120.22 L174.848 1120.22 L174.848 1124.16 L152.904 1124.16 L152.904 1120.22 Q155.566 1117.47 160.149 1112.84 Q164.755 1108.18 165.936 1106.84 Q168.181 1104.32 169.061 1102.58 Q169.964 1100.82 169.964 1099.13 Q169.964 1096.38 168.019 1094.64 Q166.098 1092.91 162.996 1092.91 Q160.797 1092.91 158.343 1093.67 Q155.913 1094.43 153.135 1095.99 L153.135 1091.26 Q155.959 1090.13 158.413 1089.55 Q160.866 1088.97 162.903 1088.97 Q168.274 1088.97 171.468 1091.66 Q174.663 1094.34 174.663 1098.83 Q174.663 1100.96 173.852 1102.88 Q173.065 1104.78 170.959 1107.37 Q170.38 1108.05 167.278 1111.26 Q164.177 1114.46 158.529 1120.22 Z\" fill=\"#000000\" fill-rule=\"evenodd\" fill-opacity=\"1\" /><path clip-path=\"url(#clip130)\" d=\"M 0 0 M179.917 1118.28 L184.802 1118.28 L184.802 1124.16 L179.917 1124.16 L179.917 1118.28 Z\" fill=\"#000000\" fill-rule=\"evenodd\" fill-opacity=\"1\" /><path clip-path=\"url(#clip130)\" d=\"M 0 0 M189.917 1089.6 L208.274 1089.6 L208.274 1093.53 L194.2 1093.53 L194.2 1102 Q195.218 1101.66 196.237 1101.49 Q197.255 1101.31 198.274 1101.31 Q204.061 1101.31 207.44 1104.48 Q210.82 1107.65 210.82 1113.07 Q210.82 1118.65 207.348 1121.75 Q203.875 1124.83 197.556 1124.83 Q195.38 1124.83 193.112 1124.46 Q190.866 1124.09 188.459 1123.35 L188.459 1118.65 Q190.542 1119.78 192.764 1120.34 Q194.987 1120.89 197.463 1120.89 Q201.468 1120.89 203.806 1118.79 Q206.144 1116.68 206.144 1113.07 Q206.144 1109.46 203.806 1107.35 Q201.468 1105.24 197.463 1105.24 Q195.588 1105.24 193.713 1105.66 Q191.862 1106.08 189.917 1106.96 L189.917 1089.6 Z\" fill=\"#000000\" fill-rule=\"evenodd\" fill-opacity=\"1\" /><path clip-path=\"url(#clip130)\" d=\"M 0 0 M152.95 812.235 L171.306 812.235 L171.306 816.17 L157.232 816.17 L157.232 824.642 Q158.251 824.295 159.269 824.133 Q160.288 823.948 161.306 823.948 Q167.093 823.948 170.473 827.119 Q173.852 830.29 173.852 835.707 Q173.852 841.286 170.38 844.388 Q166.908 847.466 160.589 847.466 Q158.413 847.466 156.144 847.096 Q153.899 846.725 151.492 845.985 L151.492 841.286 Q153.575 842.42 155.797 842.976 Q158.019 843.531 160.496 843.531 Q164.501 843.531 166.839 841.425 Q169.177 839.318 169.177 835.707 Q169.177 832.096 166.839 829.989 Q164.501 827.883 160.496 827.883 Q158.621 827.883 156.746 828.3 Q154.894 828.716 152.95 829.596 L152.95 812.235 Z\" fill=\"#000000\" fill-rule=\"evenodd\" fill-opacity=\"1\" /><path clip-path=\"url(#clip130)\" d=\"M 0 0 M178.922 840.915 L183.806 840.915 L183.806 846.795 L178.922 846.795 L178.922 840.915 Z\" fill=\"#000000\" fill-rule=\"evenodd\" fill-opacity=\"1\" /><path clip-path=\"url(#clip130)\" d=\"M 0 0 M198.876 815.314 Q195.264 815.314 193.436 818.878 Q191.63 822.42 191.63 829.55 Q191.63 836.656 193.436 840.221 Q195.264 843.763 198.876 843.763 Q202.51 843.763 204.315 840.221 Q206.144 836.656 206.144 829.55 Q206.144 822.42 204.315 818.878 Q202.51 815.314 198.876 815.314 M198.876 811.61 Q204.686 811.61 207.741 816.216 Q210.82 820.8 210.82 829.55 Q210.82 838.276 207.741 842.883 Q204.686 847.466 198.876 847.466 Q193.065 847.466 189.987 842.883 Q186.931 838.276 186.931 829.55 Q186.931 820.8 189.987 816.216 Q193.065 811.61 198.876 811.61 Z\" fill=\"#000000\" fill-rule=\"evenodd\" fill-opacity=\"1\" /><path clip-path=\"url(#clip130)\" d=\"M 0 0 M152.626 534.873 L174.848 534.873 L174.848 536.864 L162.302 569.433 L157.417 569.433 L169.223 538.808 L152.626 538.808 L152.626 534.873 Z\" fill=\"#000000\" fill-rule=\"evenodd\" fill-opacity=\"1\" /><path clip-path=\"url(#clip130)\" d=\"M 0 0 M179.917 563.554 L184.802 563.554 L184.802 569.433 L179.917 569.433 L179.917 563.554 Z\" fill=\"#000000\" fill-rule=\"evenodd\" fill-opacity=\"1\" /><path clip-path=\"url(#clip130)\" d=\"M 0 0 M189.917 534.873 L208.274 534.873 L208.274 538.808 L194.2 538.808 L194.2 547.281 Q195.218 546.933 196.237 546.771 Q197.255 546.586 198.274 546.586 Q204.061 546.586 207.44 549.757 Q210.82 552.929 210.82 558.345 Q210.82 563.924 207.348 567.026 Q203.875 570.105 197.556 570.105 Q195.38 570.105 193.112 569.734 Q190.866 569.364 188.459 568.623 L188.459 563.924 Q190.542 565.058 192.764 565.614 Q194.987 566.169 197.463 566.169 Q201.468 566.169 203.806 564.063 Q206.144 561.956 206.144 558.345 Q206.144 554.734 203.806 552.628 Q201.468 550.521 197.463 550.521 Q195.588 550.521 193.713 550.938 Q191.862 551.355 189.917 552.234 L189.917 534.873 Z\" fill=\"#000000\" fill-rule=\"evenodd\" fill-opacity=\"1\" /><path clip-path=\"url(#clip130)\" d=\"M 0 0 M126.931 288.136 L134.57 288.136 L134.57 261.771 L126.26 263.437 L126.26 259.178 L134.524 257.512 L139.2 257.512 L139.2 288.136 L146.839 288.136 L146.839 292.072 L126.931 292.072 L126.931 288.136 Z\" fill=\"#000000\" fill-rule=\"evenodd\" fill-opacity=\"1\" /><path clip-path=\"url(#clip130)\" d=\"M 0 0 M161.908 260.59 Q158.297 260.59 156.468 264.155 Q154.663 267.697 154.663 274.826 Q154.663 281.933 156.468 285.498 Q158.297 289.039 161.908 289.039 Q165.542 289.039 167.348 285.498 Q169.177 281.933 169.177 274.826 Q169.177 267.697 167.348 264.155 Q165.542 260.59 161.908 260.59 M161.908 256.887 Q167.718 256.887 170.774 261.493 Q173.852 266.076 173.852 274.826 Q173.852 283.553 170.774 288.16 Q167.718 292.743 161.908 292.743 Q156.098 292.743 153.019 288.16 Q149.964 283.553 149.964 274.826 Q149.964 266.076 153.019 261.493 Q156.098 256.887 161.908 256.887 Z\" fill=\"#000000\" fill-rule=\"evenodd\" fill-opacity=\"1\" /><path clip-path=\"url(#clip130)\" d=\"M 0 0 M178.922 286.192 L183.806 286.192 L183.806 292.072 L178.922 292.072 L178.922 286.192 Z\" fill=\"#000000\" fill-rule=\"evenodd\" fill-opacity=\"1\" /><path clip-path=\"url(#clip130)\" d=\"M 0 0 M198.876 260.59 Q195.264 260.59 193.436 264.155 Q191.63 267.697 191.63 274.826 Q191.63 281.933 193.436 285.498 Q195.264 289.039 198.876 289.039 Q202.51 289.039 204.315 285.498 Q206.144 281.933 206.144 274.826 Q206.144 267.697 204.315 264.155 Q202.51 260.59 198.876 260.59 M198.876 256.887 Q204.686 256.887 207.741 261.493 Q210.82 266.076 210.82 274.826 Q210.82 283.553 207.741 288.16 Q204.686 292.743 198.876 292.743 Q193.065 292.743 189.987 288.16 Q186.931 283.553 186.931 274.826 Q186.931 266.076 189.987 261.493 Q193.065 256.887 198.876 256.887 Z\" fill=\"#000000\" fill-rule=\"evenodd\" fill-opacity=\"1\" /><path clip-path=\"url(#clip130)\" d=\"M 0 0 M1199.61 1506.52 L1199.61 1511.39 L1194.01 1511.39 Q1190.85 1511.39 1189.61 1512.66 Q1188.4 1513.93 1188.4 1517.24 L1188.4 1520.4 L1198.05 1520.4 L1198.05 1524.95 L1188.4 1524.95 L1188.4 1556.04 L1182.52 1556.04 L1182.52 1524.95 L1176.91 1524.95 L1176.91 1520.4 L1182.52 1520.4 L1182.52 1517.91 Q1182.52 1511.96 1185.28 1509.26 Q1188.05 1506.52 1194.07 1506.52 L1199.61 1506.52 Z\" fill=\"#000000\" fill-rule=\"evenodd\" fill-opacity=\"1\" /><path clip-path=\"url(#clip130)\" d=\"M 0 0 M1205.15 1541.98 L1205.15 1520.4 L1211 1520.4 L1211 1541.75 Q1211 1546.81 1212.98 1549.36 Q1214.95 1551.87 1218.9 1551.87 Q1223.64 1551.87 1226.38 1548.85 Q1229.14 1545.83 1229.14 1540.61 L1229.14 1520.4 L1235 1520.4 L1235 1556.04 L1229.14 1556.04 L1229.14 1550.57 Q1227.01 1553.82 1224.18 1555.41 Q1221.38 1556.97 1217.65 1556.97 Q1211.51 1556.97 1208.33 1553.15 Q1205.15 1549.33 1205.15 1541.98 M1219.88 1519.54 L1219.88 1519.54 Z\" fill=\"#000000\" fill-rule=\"evenodd\" fill-opacity=\"1\" /><path clip-path=\"url(#clip130)\" d=\"M 0 0 M1270.78 1534.53 L1270.78 1556.04 L1264.92 1556.04 L1264.92 1534.72 Q1264.92 1529.66 1262.95 1527.14 Q1260.97 1524.63 1257.03 1524.63 Q1252.28 1524.63 1249.55 1527.65 Q1246.81 1530.68 1246.81 1535.9 L1246.81 1556.04 L1240.92 1556.04 L1240.92 1520.4 L1246.81 1520.4 L1246.81 1525.93 Q1248.91 1522.72 1251.74 1521.13 Q1254.61 1519.54 1258.33 1519.54 Q1264.47 1519.54 1267.62 1523.36 Q1270.78 1527.14 1270.78 1534.53 Z\" fill=\"#000000\" fill-rule=\"evenodd\" fill-opacity=\"1\" /><path clip-path=\"url(#clip130)\" d=\"M 0 0 M1302.57 1521.76 L1302.57 1527.24 Q1300.09 1525.87 1297.58 1525.2 Q1295.09 1524.5 1292.55 1524.5 Q1286.85 1524.5 1283.7 1528.13 Q1280.55 1531.73 1280.55 1538.25 Q1280.55 1544.78 1283.7 1548.4 Q1286.85 1552 1292.55 1552 Q1295.09 1552 1297.58 1551.33 Q1300.09 1550.63 1302.57 1549.26 L1302.57 1554.68 Q1300.12 1555.82 1297.48 1556.39 Q1294.87 1556.97 1291.91 1556.97 Q1283.86 1556.97 1279.11 1551.91 Q1274.37 1546.85 1274.37 1538.25 Q1274.37 1529.53 1279.15 1524.53 Q1283.95 1519.54 1292.29 1519.54 Q1295 1519.54 1297.58 1520.11 Q1300.15 1520.65 1302.57 1521.76 Z\" fill=\"#000000\" fill-rule=\"evenodd\" fill-opacity=\"1\" /><path clip-path=\"url(#clip130)\" d=\"M 0 0 M1314.51 1510.27 L1314.51 1520.4 L1326.57 1520.4 L1326.57 1524.95 L1314.51 1524.95 L1314.51 1544.3 Q1314.51 1548.66 1315.69 1549.9 Q1316.9 1551.14 1320.56 1551.14 L1326.57 1551.14 L1326.57 1556.04 L1320.56 1556.04 Q1313.78 1556.04 1311.2 1553.53 Q1308.62 1550.98 1308.62 1544.3 L1308.62 1524.95 L1304.32 1524.95 L1304.32 1520.4 L1308.62 1520.4 L1308.62 1510.27 L1314.51 1510.27 Z\" fill=\"#000000\" fill-rule=\"evenodd\" fill-opacity=\"1\" /><path clip-path=\"url(#clip130)\" d=\"M 0 0 M1332.71 1520.4 L1338.57 1520.4 L1338.57 1556.04 L1332.71 1556.04 L1332.71 1520.4 M1332.71 1506.52 L1338.57 1506.52 L1338.57 1513.93 L1332.71 1513.93 L1332.71 1506.52 Z\" fill=\"#000000\" fill-rule=\"evenodd\" fill-opacity=\"1\" /><path clip-path=\"url(#clip130)\" d=\"M 0 0 M1358.53 1524.5 Q1353.82 1524.5 1351.08 1528.19 Q1348.34 1531.85 1348.34 1538.25 Q1348.34 1544.65 1351.05 1548.34 Q1353.78 1552 1358.53 1552 Q1363.21 1552 1365.94 1548.31 Q1368.68 1544.62 1368.68 1538.25 Q1368.68 1531.92 1365.94 1528.23 Q1363.21 1524.5 1358.53 1524.5 M1358.53 1519.54 Q1366.17 1519.54 1370.53 1524.5 Q1374.89 1529.47 1374.89 1538.25 Q1374.89 1547 1370.53 1552 Q1366.17 1556.97 1358.53 1556.97 Q1350.86 1556.97 1346.5 1552 Q1342.17 1547 1342.17 1538.25 Q1342.17 1529.47 1346.5 1524.5 Q1350.86 1519.54 1358.53 1519.54 Z\" fill=\"#000000\" fill-rule=\"evenodd\" fill-opacity=\"1\" /><path clip-path=\"url(#clip130)\" d=\"M 0 0 M1410.66 1534.53 L1410.66 1556.04 L1404.81 1556.04 L1404.81 1534.72 Q1404.81 1529.66 1402.83 1527.14 Q1400.86 1524.63 1396.91 1524.63 Q1392.17 1524.63 1389.43 1527.65 Q1386.7 1530.68 1386.7 1535.9 L1386.7 1556.04 L1380.81 1556.04 L1380.81 1520.4 L1386.7 1520.4 L1386.7 1525.93 Q1388.8 1522.72 1391.63 1521.13 Q1394.49 1519.54 1398.22 1519.54 Q1404.36 1519.54 1407.51 1523.36 Q1410.66 1527.14 1410.66 1534.53 Z\" fill=\"#000000\" fill-rule=\"evenodd\" fill-opacity=\"1\" /><path clip-path=\"url(#clip130)\" d=\"M 0 0 M42.2347 1125.33 L52.3562 1125.33 L52.3562 1113.27 L56.9077 1113.27 L56.9077 1125.33 L76.2594 1125.33 Q80.6199 1125.33 81.8613 1124.16 Q83.1026 1122.95 83.1026 1119.29 L83.1026 1113.27 L88.0042 1113.27 L88.0042 1119.29 Q88.0042 1126.07 85.4897 1128.64 Q82.9434 1131.22 76.2594 1131.22 L56.9077 1131.22 L56.9077 1135.52 L52.3562 1135.52 L52.3562 1131.22 L42.2347 1131.22 L42.2347 1125.33 Z\" fill=\"#000000\" fill-rule=\"evenodd\" fill-opacity=\"1\" /><path clip-path=\"url(#clip130)\" d=\"M 0 0 M52.3562 1107.13 L52.3562 1101.27 L88.0042 1101.27 L88.0042 1107.13 L52.3562 1107.13 M38.479 1107.13 L38.479 1101.27 L45.895 1101.27 L45.895 1107.13 L38.479 1107.13 Z\" fill=\"#000000\" fill-rule=\"evenodd\" fill-opacity=\"1\" /><path clip-path=\"url(#clip130)\" d=\"M 0 0 M59.1993 1067.37 Q55.2526 1065.18 53.3747 1062.12 Q51.4968 1059.07 51.4968 1054.93 Q51.4968 1049.36 55.4117 1046.34 Q59.2948 1043.31 66.4881 1043.31 L88.0042 1043.31 L88.0042 1049.2 L66.679 1049.2 Q61.5546 1049.2 59.072 1051.01 Q56.5894 1052.83 56.5894 1056.55 Q56.5894 1061.1 59.6131 1063.75 Q62.6368 1066.39 67.8567 1066.39 L88.0042 1066.39 L88.0042 1072.28 L66.679 1072.28 Q61.5228 1072.28 59.072 1074.09 Q56.5894 1075.9 56.5894 1079.69 Q56.5894 1084.18 59.6449 1086.82 Q62.6686 1089.46 67.8567 1089.46 L88.0042 1089.46 L88.0042 1095.35 L52.3562 1095.35 L52.3562 1089.46 L57.8944 1089.46 Q54.616 1087.46 53.0564 1084.66 Q51.4968 1081.86 51.4968 1078.01 Q51.4968 1074.12 53.4702 1071.42 Q55.4436 1068.68 59.1993 1067.37 Z\" fill=\"#000000\" fill-rule=\"evenodd\" fill-opacity=\"1\" /><path clip-path=\"url(#clip130)\" d=\"M 0 0 M68.7161 1006.68 L71.5806 1006.68 L71.5806 1033.6 Q77.6281 1033.22 80.8109 1029.98 Q83.9619 1026.7 83.9619 1020.87 Q83.9619 1017.5 83.1344 1014.35 Q82.3069 1011.17 80.6518 1008.05 L86.1899 1008.05 Q87.5267 1011.2 88.227 1014.51 Q88.9272 1017.82 88.9272 1021.22 Q88.9272 1029.75 83.9619 1034.75 Q78.9967 1039.72 70.5303 1039.72 Q61.7774 1039.72 56.6531 1035 Q51.4968 1030.26 51.4968 1022.24 Q51.4968 1015.05 56.1438 1010.88 Q60.7589 1006.68 68.7161 1006.68 M66.9973 1012.53 Q62.1912 1012.6 59.3266 1015.24 Q56.4621 1017.85 56.4621 1022.18 Q56.4621 1027.08 59.2312 1030.04 Q62.0002 1032.97 67.0292 1033.41 L66.9973 1012.53 Z\" fill=\"#000000\" fill-rule=\"evenodd\" fill-opacity=\"1\" /><path clip-path=\"url(#clip130)\" d=\"M 0 0 M38.5426 965.746 Q45.8632 970.011 53.0246 972.08 Q60.186 974.149 67.5384 974.149 Q74.8908 974.149 82.1159 972.08 Q89.3091 969.979 96.5979 965.746 L96.5979 970.839 Q89.1182 975.613 81.8931 978 Q74.668 980.355 67.5384 980.355 Q60.4406 980.355 53.2474 978 Q46.0542 975.645 38.5426 970.839 L38.5426 965.746 Z\" fill=\"#000000\" fill-rule=\"evenodd\" fill-opacity=\"1\" /><path clip-path=\"url(#clip130)\" d=\"M 0 0 M59.1993 931.849 Q55.2526 929.652 53.3747 926.597 Q51.4968 923.541 51.4968 919.404 Q51.4968 913.834 55.4117 910.81 Q59.2948 907.786 66.4881 907.786 L88.0042 907.786 L88.0042 913.675 L66.679 913.675 Q61.5546 913.675 59.072 915.489 Q56.5894 917.303 56.5894 921.027 Q56.5894 925.578 59.6131 928.22 Q62.6368 930.862 67.8567 930.862 L88.0042 930.862 L88.0042 936.75 L66.679 936.75 Q61.5228 936.75 59.072 938.564 Q56.5894 940.379 56.5894 944.166 Q56.5894 948.654 59.6449 951.296 Q62.6686 953.938 67.8567 953.938 L88.0042 953.938 L88.0042 959.826 L52.3562 959.826 L52.3562 953.938 L57.8944 953.938 Q54.616 951.932 53.0564 949.132 Q51.4968 946.331 51.4968 942.479 Q51.4968 938.596 53.4702 935.891 Q55.4436 933.154 59.1993 931.849 Z\" fill=\"#000000\" fill-rule=\"evenodd\" fill-opacity=\"1\" /><path clip-path=\"url(#clip130)\" d=\"M 0 0 M53.4065 878.918 L58.9447 878.918 Q57.6716 881.4 57.035 884.074 Q56.3984 886.748 56.3984 889.612 Q56.3984 893.973 57.7352 896.169 Q59.072 898.333 61.7456 898.333 Q63.7826 898.333 64.9603 896.774 Q66.1061 895.214 67.1565 890.503 L67.6021 888.498 Q68.9389 882.26 71.3897 879.65 Q73.8086 877.008 78.1691 877.008 Q83.1344 877.008 86.0308 880.955 Q88.9272 884.87 88.9272 891.745 Q88.9272 894.609 88.3543 897.728 Q87.8132 900.816 86.6992 904.253 L80.6518 904.253 Q82.3387 901.007 83.198 897.856 Q84.0256 894.705 84.0256 891.617 Q84.0256 887.48 82.6251 885.252 Q81.1929 883.024 78.6147 883.024 Q76.2276 883.024 74.9545 884.647 Q73.6813 886.238 72.5037 891.681 L72.0262 893.718 Q70.8804 899.161 68.5251 901.58 Q66.138 903.999 62.0002 903.999 Q56.9713 903.999 54.2341 900.434 Q51.4968 896.869 51.4968 890.312 Q51.4968 887.066 51.9743 884.201 Q52.4517 881.337 53.4065 878.918 Z\" fill=\"#000000\" fill-rule=\"evenodd\" fill-opacity=\"1\" /><path clip-path=\"url(#clip130)\" d=\"M 0 0 M79.9197 869.369 L79.9197 862.653 L85.3942 862.653 L95.5793 867.873 L95.5793 871.979 L85.3942 869.369 L79.9197 869.369 Z\" fill=\"#000000\" fill-rule=\"evenodd\" fill-opacity=\"1\" /><path clip-path=\"url(#clip130)\" d=\"M 0 0 M53.4065 813.065 L58.9447 813.065 Q57.6716 815.547 57.035 818.221 Q56.3984 820.894 56.3984 823.759 Q56.3984 828.119 57.7352 830.316 Q59.072 832.48 61.7456 832.48 Q63.7826 832.48 64.9603 830.92 Q66.1061 829.361 67.1565 824.65 L67.6021 822.645 Q68.9389 816.407 71.3897 813.797 Q73.8086 811.155 78.1691 811.155 Q83.1344 811.155 86.0308 815.102 Q88.9272 819.016 88.9272 825.891 Q88.9272 828.756 88.3543 831.875 Q87.8132 834.963 86.6992 838.4 L80.6518 838.4 Q82.3387 835.154 83.198 832.003 Q84.0256 828.852 84.0256 825.764 Q84.0256 821.626 82.6251 819.398 Q81.1929 817.17 78.6147 817.17 Q76.2276 817.17 74.9545 818.794 Q73.6813 820.385 72.5037 825.828 L72.0262 827.865 Q70.8804 833.308 68.5251 835.726 Q66.138 838.145 62.0002 838.145 Q56.9713 838.145 54.2341 834.581 Q51.4968 831.016 51.4968 824.459 Q51.4968 821.213 51.9743 818.348 Q52.4517 815.484 53.4065 813.065 Z\" fill=\"#000000\" fill-rule=\"evenodd\" fill-opacity=\"1\" /><path clip-path=\"url(#clip130)\" d=\"M 0 0 M66.4881 775.38 L88.0042 775.38 L88.0042 781.236 L66.679 781.236 Q61.6183 781.236 59.1038 783.209 Q56.5894 785.183 56.5894 789.13 Q56.5894 793.872 59.6131 796.609 Q62.6368 799.346 67.8567 799.346 L88.0042 799.346 L88.0042 805.235 L38.479 805.235 L38.479 799.346 L57.8944 799.346 Q54.6797 797.246 53.0883 794.413 Q51.4968 791.548 51.4968 787.825 Q51.4968 781.682 55.3163 778.531 Q59.1038 775.38 66.4881 775.38 Z\" fill=\"#000000\" fill-rule=\"evenodd\" fill-opacity=\"1\" /><path clip-path=\"url(#clip130)\" d=\"M 0 0 M56.4621 755.423 Q56.4621 760.134 60.1542 762.871 Q63.8145 765.608 70.212 765.608 Q76.6095 765.608 80.3017 762.903 Q83.9619 760.166 83.9619 755.423 Q83.9619 750.744 80.2698 748.007 Q76.5777 745.27 70.212 745.27 Q63.8781 745.27 60.186 748.007 Q56.4621 750.744 56.4621 755.423 M51.4968 755.423 Q51.4968 747.784 56.4621 743.424 Q61.4273 739.063 70.212 739.063 Q78.9649 739.063 83.9619 743.424 Q88.9272 747.784 88.9272 755.423 Q88.9272 763.094 83.9619 767.454 Q78.9649 771.783 70.212 771.783 Q61.4273 771.783 56.4621 767.454 Q51.4968 763.094 51.4968 755.423 Z\" fill=\"#000000\" fill-rule=\"evenodd\" fill-opacity=\"1\" /><path clip-path=\"url(#clip130)\" d=\"M 0 0 M57.8307 712.264 Q57.2578 713.25 57.0032 714.428 Q56.7167 715.574 56.7167 716.974 Q56.7167 721.939 59.9632 724.613 Q63.1779 727.255 69.2253 727.255 L88.0042 727.255 L88.0042 733.143 L52.3562 733.143 L52.3562 727.255 L57.8944 727.255 Q54.6479 725.409 53.0883 722.449 Q51.4968 719.489 51.4968 715.255 Q51.4968 714.651 51.5923 713.919 Q51.656 713.187 51.8151 712.295 L57.8307 712.264 Z\" fill=\"#000000\" fill-rule=\"evenodd\" fill-opacity=\"1\" /><path clip-path=\"url(#clip130)\" d=\"M 0 0 M42.2347 700.328 L52.3562 700.328 L52.3562 688.265 L56.9077 688.265 L56.9077 700.328 L76.2594 700.328 Q80.6199 700.328 81.8613 699.15 Q83.1026 697.941 83.1026 694.28 L83.1026 688.265 L88.0042 688.265 L88.0042 694.28 Q88.0042 701.06 85.4897 703.638 Q82.9434 706.216 76.2594 706.216 L56.9077 706.216 L56.9077 710.513 L52.3562 710.513 L52.3562 706.216 L42.2347 706.216 L42.2347 700.328 Z\" fill=\"#000000\" fill-rule=\"evenodd\" fill-opacity=\"1\" /><path clip-path=\"url(#clip130)\" d=\"M 0 0 M68.7161 651.63 L71.5806 651.63 L71.5806 678.557 Q77.6281 678.175 80.8109 674.929 Q83.9619 671.65 83.9619 665.826 Q83.9619 662.452 83.1344 659.301 Q82.3069 656.118 80.6518 652.999 L86.1899 652.999 Q87.5267 656.15 88.227 659.46 Q88.9272 662.77 88.9272 666.176 Q88.9272 674.706 83.9619 679.703 Q78.9967 684.668 70.5303 684.668 Q61.7774 684.668 56.6531 679.958 Q51.4968 675.215 51.4968 667.194 Q51.4968 660.001 56.1438 655.832 Q60.7589 651.63 68.7161 651.63 M66.9973 657.487 Q62.1912 657.55 59.3266 660.192 Q56.4621 662.802 56.4621 667.131 Q56.4621 672.032 59.2312 674.992 Q62.0002 677.921 67.0292 678.366 L66.9973 657.487 Z\" fill=\"#000000\" fill-rule=\"evenodd\" fill-opacity=\"1\" /><path clip-path=\"url(#clip130)\" d=\"M 0 0 M57.8307 624.831 Q57.2578 625.817 57.0032 626.995 Q56.7167 628.141 56.7167 629.541 Q56.7167 634.506 59.9632 637.18 Q63.1779 639.822 69.2253 639.822 L88.0042 639.822 L88.0042 645.71 L52.3562 645.71 L52.3562 639.822 L57.8944 639.822 Q54.6479 637.976 53.0883 635.016 Q51.4968 632.056 51.4968 627.822 Q51.4968 627.218 51.5923 626.486 Q51.656 625.754 51.8151 624.862 L57.8307 624.831 Z\" fill=\"#000000\" fill-rule=\"evenodd\" fill-opacity=\"1\" /><path clip-path=\"url(#clip130)\" d=\"M 0 0 M52.3562 597.967 L52.3562 592.111 L88.0042 592.111 L88.0042 597.967 L52.3562 597.967 M38.479 597.967 L38.479 592.111 L45.895 592.111 L45.895 597.967 L38.479 597.967 Z\" fill=\"#000000\" fill-rule=\"evenodd\" fill-opacity=\"1\" /><path clip-path=\"url(#clip130)\" d=\"M 0 0 M53.4065 563.242 L58.9447 563.242 Q57.6716 565.725 57.035 568.399 Q56.3984 571.072 56.3984 573.937 Q56.3984 578.297 57.7352 580.493 Q59.072 582.658 61.7456 582.658 Q63.7826 582.658 64.9603 581.098 Q66.1061 579.539 67.1565 574.828 L67.6021 572.823 Q68.9389 566.584 71.3897 563.974 Q73.8086 561.333 78.1691 561.333 Q83.1344 561.333 86.0308 565.279 Q88.9272 569.194 88.9272 576.069 Q88.9272 578.934 88.3543 582.053 Q87.8132 585.14 86.6992 588.578 L80.6518 588.578 Q82.3387 585.331 83.198 582.18 Q84.0256 579.029 84.0256 575.942 Q84.0256 571.804 82.6251 569.576 Q81.1929 567.348 78.6147 567.348 Q76.2276 567.348 74.9545 568.972 Q73.6813 570.563 72.5037 576.006 L72.0262 578.043 Q70.8804 583.485 68.5251 585.904 Q66.138 588.323 62.0002 588.323 Q56.9713 588.323 54.2341 584.758 Q51.4968 581.194 51.4968 574.637 Q51.4968 571.391 51.9743 568.526 Q52.4517 565.661 53.4065 563.242 Z\" fill=\"#000000\" fill-rule=\"evenodd\" fill-opacity=\"1\" /><path clip-path=\"url(#clip130)\" d=\"M 0 0 M70.212 508.879 Q63.7508 508.879 60.0905 511.553 Q56.3984 514.195 56.3984 518.842 Q56.3984 523.489 60.0905 526.162 Q63.7508 528.804 70.212 528.804 Q76.6732 528.804 80.3653 526.162 Q84.0256 523.489 84.0256 518.842 Q84.0256 514.195 80.3653 511.553 Q76.6732 508.879 70.212 508.879 M57.7671 528.804 Q54.5842 526.958 53.0564 524.157 Q51.4968 521.324 51.4968 517.409 Q51.4968 510.916 56.6531 506.874 Q61.8093 502.8 70.212 502.8 Q78.6147 502.8 83.771 506.874 Q88.9272 510.916 88.9272 517.409 Q88.9272 521.324 87.3994 524.157 Q85.8398 526.958 82.657 528.804 L88.0042 528.804 L88.0042 534.692 L38.479 534.692 L38.479 528.804 L57.7671 528.804 Z\" fill=\"#000000\" fill-rule=\"evenodd\" fill-opacity=\"1\" /><path clip-path=\"url(#clip130)\" d=\"M 0 0 M68.7161 466.165 L71.5806 466.165 L71.5806 493.092 Q77.6281 492.71 80.8109 489.464 Q83.9619 486.186 83.9619 480.361 Q83.9619 476.987 83.1344 473.836 Q82.3069 470.653 80.6518 467.534 L86.1899 467.534 Q87.5267 470.685 88.227 473.995 Q88.9272 477.305 88.9272 480.711 Q88.9272 489.241 83.9619 494.238 Q78.9967 499.203 70.5303 499.203 Q61.7774 499.203 56.6531 494.493 Q51.4968 489.75 51.4968 481.73 Q51.4968 474.536 56.1438 470.367 Q60.7589 466.165 68.7161 466.165 M66.9973 472.022 Q62.1912 472.085 59.3266 474.727 Q56.4621 477.337 56.4621 481.666 Q56.4621 486.567 59.2312 489.528 Q62.0002 492.456 67.0292 492.901 L66.9973 472.022 Z\" fill=\"#000000\" fill-rule=\"evenodd\" fill-opacity=\"1\" /><path clip-path=\"url(#clip130)\" d=\"M 0 0 M42.2347 454.23 L52.3562 454.23 L52.3562 442.167 L56.9077 442.167 L56.9077 454.23 L76.2594 454.23 Q80.6199 454.23 81.8613 453.052 Q83.1026 451.843 83.1026 448.182 L83.1026 442.167 L88.0042 442.167 L88.0042 448.182 Q88.0042 454.962 85.4897 457.54 Q82.9434 460.118 76.2594 460.118 L56.9077 460.118 L56.9077 464.415 L52.3562 464.415 L52.3562 460.118 L42.2347 460.118 L42.2347 454.23 Z\" fill=\"#000000\" fill-rule=\"evenodd\" fill-opacity=\"1\" /><path clip-path=\"url(#clip130)\" d=\"M 0 0 M42.2347 430.231 L52.3562 430.231 L52.3562 418.168 L56.9077 418.168 L56.9077 430.231 L76.2594 430.231 Q80.6199 430.231 81.8613 429.053 Q83.1026 427.844 83.1026 424.184 L83.1026 418.168 L88.0042 418.168 L88.0042 424.184 Q88.0042 430.963 85.4897 433.541 Q82.9434 436.119 76.2594 436.119 L56.9077 436.119 L56.9077 440.416 L52.3562 440.416 L52.3562 436.119 L42.2347 436.119 L42.2347 430.231 Z\" fill=\"#000000\" fill-rule=\"evenodd\" fill-opacity=\"1\" /><path clip-path=\"url(#clip130)\" d=\"M 0 0 M68.7161 381.533 L71.5806 381.533 L71.5806 408.46 Q77.6281 408.078 80.8109 404.832 Q83.9619 401.553 83.9619 395.729 Q83.9619 392.355 83.1344 389.204 Q82.3069 386.021 80.6518 382.902 L86.1899 382.902 Q87.5267 386.053 88.227 389.363 Q88.9272 392.673 88.9272 396.079 Q88.9272 404.609 83.9619 409.606 Q78.9967 414.571 70.5303 414.571 Q61.7774 414.571 56.6531 409.861 Q51.4968 405.118 51.4968 397.097 Q51.4968 389.904 56.1438 385.735 Q60.7589 381.533 68.7161 381.533 M66.9973 387.39 Q62.1912 387.453 59.3266 390.095 Q56.4621 392.705 56.4621 397.034 Q56.4621 401.935 59.2312 404.895 Q62.0002 407.824 67.0292 408.269 L66.9973 387.39 Z\" fill=\"#000000\" fill-rule=\"evenodd\" fill-opacity=\"1\" /><path clip-path=\"url(#clip130)\" d=\"M 0 0 M57.8307 354.734 Q57.2578 355.72 57.0032 356.898 Q56.7167 358.044 56.7167 359.444 Q56.7167 364.41 59.9632 367.083 Q63.1779 369.725 69.2253 369.725 L88.0042 369.725 L88.0042 375.613 L52.3562 375.613 L52.3562 369.725 L57.8944 369.725 Q54.6479 367.879 53.0883 364.919 Q51.4968 361.959 51.4968 357.726 Q51.4968 357.121 51.5923 356.389 Q51.656 355.657 51.8151 354.766 L57.8307 354.734 Z\" fill=\"#000000\" fill-rule=\"evenodd\" fill-opacity=\"1\" /><path clip-path=\"url(#clip130)\" d=\"M 0 0 M38.5426 349.514 L38.5426 344.421 Q46.0542 339.647 53.2474 337.292 Q60.4406 334.905 67.5384 334.905 Q74.668 334.905 81.8931 337.292 Q89.1182 339.647 96.5979 344.421 L96.5979 349.514 Q89.3091 345.281 82.1159 343.212 Q74.8908 341.111 67.5384 341.111 Q60.186 341.111 53.0246 343.212 Q45.8632 345.281 38.5426 349.514 Z\" fill=\"#000000\" fill-rule=\"evenodd\" fill-opacity=\"1\" /><path clip-path=\"url(#clip132)\" d=\"\n",
       "M351.31 86.1857 L351.31 1384.24 L748.143 1384.24 L748.143 86.1857 L351.31 86.1857 L351.31 86.1857  Z\n",
       "  \" fill=\"#009af9\" fill-rule=\"evenodd\" fill-opacity=\"1\"/>\n",
       "<polyline clip-path=\"url(#clip132)\" style=\"stroke:#000000; stroke-width:4; stroke-opacity:1; fill:none\" points=\"\n",
       "  351.31,86.1857 351.31,1384.24 748.143,1384.24 748.143,86.1857 351.31,86.1857 \n",
       "  \"/>\n",
       "<path clip-path=\"url(#clip132)\" d=\"\n",
       "M847.351 130.564 L847.351 1384.24 L1244.18 1384.24 L1244.18 130.564 L847.351 130.564 L847.351 130.564  Z\n",
       "  \" fill=\"#009af9\" fill-rule=\"evenodd\" fill-opacity=\"1\"/>\n",
       "<polyline clip-path=\"url(#clip132)\" style=\"stroke:#000000; stroke-width:4; stroke-opacity:1; fill:none\" points=\"\n",
       "  847.351,130.564 847.351,1384.24 1244.18,1384.24 1244.18,130.564 847.351,130.564 \n",
       "  \"/>\n",
       "<path clip-path=\"url(#clip132)\" d=\"\n",
       "M1343.39 785.137 L1343.39 1384.24 L1740.22 1384.24 L1740.22 785.137 L1343.39 785.137 L1343.39 785.137  Z\n",
       "  \" fill=\"#009af9\" fill-rule=\"evenodd\" fill-opacity=\"1\"/>\n",
       "<polyline clip-path=\"url(#clip132)\" style=\"stroke:#000000; stroke-width:4; stroke-opacity:1; fill:none\" points=\"\n",
       "  1343.39,785.137 1343.39,1384.24 1740.22,1384.24 1740.22,785.137 1343.39,785.137 \n",
       "  \"/>\n",
       "<path clip-path=\"url(#clip132)\" d=\"\n",
       "M1839.43 796.232 L1839.43 1384.24 L2236.27 1384.24 L2236.27 796.232 L1839.43 796.232 L1839.43 796.232  Z\n",
       "  \" fill=\"#009af9\" fill-rule=\"evenodd\" fill-opacity=\"1\"/>\n",
       "<polyline clip-path=\"url(#clip132)\" style=\"stroke:#000000; stroke-width:4; stroke-opacity:1; fill:none\" points=\"\n",
       "  1839.43,796.232 1839.43,1384.24 2236.27,1384.24 2236.27,796.232 1839.43,796.232 \n",
       "  \"/>\n",
       "</svg>\n"
      ]
     },
     "execution_count": 66,
     "metadata": {},
     "output_type": "execute_result"
    }
   ],
   "source": [
    "results = [\n",
    "    \"my_sum (Julia)\" => 11.7,\n",
    "    \"c_sum (C)\" => 11.3,\n",
    "    \"sum (Julia)\" => 5.4,\n",
    "    \"my_fast_sum (Julia)\" => 5.3,\n",
    "]\n",
    "\n",
    "bar(first.(results), last.(results), xlabel=\"function\", ylabel=\"time (ms, shorter is better)\", legend=nothing)"
   ]
  },
  {
   "cell_type": "markdown",
   "metadata": {
    "slideshow": {
     "slide_type": "subslide"
    }
   },
   "source": [
    "With some pretty simple changes, we were able to create a pure-Julia function which is twice as fast as our naive C function while still being clear and completely generic:"
   ]
  },
  {
   "cell_type": "code",
   "execution_count": 67,
   "metadata": {
    "slideshow": {
     "slide_type": "fragment"
    }
   },
   "outputs": [
    {
     "data": {
      "text/plain": [
       "6.641592653589793"
      ]
     },
     "execution_count": 67,
     "metadata": {},
     "output_type": "execute_result"
    }
   ],
   "source": [
    "my_fast_sum([1, 2.5, π])"
   ]
  },
  {
   "cell_type": "markdown",
   "metadata": {
    "slideshow": {
     "slide_type": "subslide"
    }
   },
   "source": [
    "Just for reference, let's compare with Python. It's easy to call Python code from Julia too--we just need the `PyCall` package:"
   ]
  },
  {
   "cell_type": "code",
   "execution_count": 68,
   "metadata": {},
   "outputs": [],
   "source": [
    "using PyCall"
   ]
  },
  {
   "cell_type": "code",
   "execution_count": 69,
   "metadata": {
    "slideshow": {
     "slide_type": "fragment"
    }
   },
   "outputs": [
    {
     "data": {
      "text/plain": [
       "0.8414709848078965"
      ]
     },
     "execution_count": 69,
     "metadata": {},
     "output_type": "execute_result"
    }
   ],
   "source": [
    "py_math = pyimport(\"math\")\n",
    "py_math.sin(1.0)"
   ]
  },
  {
   "cell_type": "markdown",
   "metadata": {
    "slideshow": {
     "slide_type": "subslide"
    }
   },
   "source": [
    "Just as we did with C, we can quickly define a Python sum function without leaving Julia:"
   ]
  },
  {
   "cell_type": "code",
   "execution_count": 70,
   "metadata": {
    "slideshow": {
     "slide_type": "fragment"
    }
   },
   "outputs": [
    {
     "data": {
      "text/plain": [
       "PyObject <function mysum at 0x7f2250f9df28>"
      ]
     },
     "execution_count": 70,
     "metadata": {},
     "output_type": "execute_result"
    }
   ],
   "source": [
    "# The PyCall package lets us define python functions directly from Julia:\n",
    "\n",
    "py\"\"\"\n",
    "def mysum(a):\n",
    "    s = 0.0\n",
    "    for x in a:\n",
    "        s = s + x\n",
    "    return s\n",
    "\"\"\"\n",
    "\n",
    "# mysum_py is a reference to the Python mysum function\n",
    "py_sum = py\"\"\"mysum\"\"\"o"
   ]
  },
  {
   "cell_type": "markdown",
   "metadata": {
    "slideshow": {
     "slide_type": "fragment"
    }
   },
   "source": [
    "Let's make sure we're getting similar answers everywhere:"
   ]
  },
  {
   "cell_type": "code",
   "execution_count": 71,
   "metadata": {},
   "outputs": [
    {
     "data": {
      "text/plain": [
       "true"
      ]
     },
     "execution_count": 71,
     "metadata": {},
     "output_type": "execute_result"
    }
   ],
   "source": [
    "py_sum(data) ≈ c_sum(data) ≈ sum(data) ≈ my_sum(data) ≈ my_fast_sum(data)"
   ]
  },
  {
   "cell_type": "code",
   "execution_count": 72,
   "metadata": {
    "slideshow": {
     "slide_type": "subslide"
    }
   },
   "outputs": [
    {
     "name": "stdout",
     "output_type": "stream",
     "text": [
      "  724.217 ms (7 allocations: 352 bytes)\n"
     ]
    },
    {
     "data": {
      "text/plain": [
       "4.998996907719521e6"
      ]
     },
     "execution_count": 72,
     "metadata": {},
     "output_type": "execute_result"
    }
   ],
   "source": [
    "@btime py_sum($data)"
   ]
  },
  {
   "cell_type": "code",
   "execution_count": 74,
   "metadata": {},
   "outputs": [
    {
     "data": {
      "image/svg+xml": [
       "<?xml version=\"1.0\" encoding=\"utf-8\"?>\n",
       "<svg xmlns=\"http://www.w3.org/2000/svg\" xmlns:xlink=\"http://www.w3.org/1999/xlink\" width=\"600\" height=\"400\" viewBox=\"0 0 2400 1600\">\n",
       "<defs>\n",
       "  <clipPath id=\"clip210\">\n",
       "    <rect x=\"0\" y=\"0\" width=\"2400\" height=\"1600\"/>\n",
       "  </clipPath>\n",
       "</defs>\n",
       "<path clip-path=\"url(#clip210)\" d=\"\n",
       "M0 1600 L2400 1600 L2400 0 L0 0  Z\n",
       "  \" fill=\"#ffffff\" fill-rule=\"evenodd\" fill-opacity=\"1\"/>\n",
       "<defs>\n",
       "  <clipPath id=\"clip211\">\n",
       "    <rect x=\"480\" y=\"0\" width=\"1681\" height=\"1600\"/>\n",
       "  </clipPath>\n",
       "</defs>\n",
       "<path clip-path=\"url(#clip210)\" d=\"\n",
       "M229.473 1423.18 L2352.76 1423.18 L2352.76 47.2441 L229.473 47.2441  Z\n",
       "  \" fill=\"#ffffff\" fill-rule=\"evenodd\" fill-opacity=\"1\"/>\n",
       "<defs>\n",
       "  <clipPath id=\"clip212\">\n",
       "    <rect x=\"229\" y=\"47\" width=\"2124\" height=\"1377\"/>\n",
       "  </clipPath>\n",
       "</defs>\n",
       "<polyline clip-path=\"url(#clip212)\" style=\"stroke:#000000; stroke-width:2; stroke-opacity:0.1; fill:none\" points=\"\n",
       "  503.733,1423.18 503.733,47.2441 \n",
       "  \"/>\n",
       "<polyline clip-path=\"url(#clip212)\" style=\"stroke:#000000; stroke-width:2; stroke-opacity:0.1; fill:none\" points=\"\n",
       "  897.424,1423.18 897.424,47.2441 \n",
       "  \"/>\n",
       "<polyline clip-path=\"url(#clip212)\" style=\"stroke:#000000; stroke-width:2; stroke-opacity:0.1; fill:none\" points=\"\n",
       "  1291.11,1423.18 1291.11,47.2441 \n",
       "  \"/>\n",
       "<polyline clip-path=\"url(#clip212)\" style=\"stroke:#000000; stroke-width:2; stroke-opacity:0.1; fill:none\" points=\"\n",
       "  1684.8,1423.18 1684.8,47.2441 \n",
       "  \"/>\n",
       "<polyline clip-path=\"url(#clip212)\" style=\"stroke:#000000; stroke-width:2; stroke-opacity:0.1; fill:none\" points=\"\n",
       "  2078.5,1423.18 2078.5,47.2441 \n",
       "  \"/>\n",
       "<polyline clip-path=\"url(#clip212)\" style=\"stroke:#000000; stroke-width:2; stroke-opacity:0.1; fill:none\" points=\"\n",
       "  229.473,1384.24 2352.76,1384.24 \n",
       "  \"/>\n",
       "<polyline clip-path=\"url(#clip212)\" style=\"stroke:#000000; stroke-width:2; stroke-opacity:0.1; fill:none\" points=\"\n",
       "  229.473,1025.76 2352.76,1025.76 \n",
       "  \"/>\n",
       "<polyline clip-path=\"url(#clip212)\" style=\"stroke:#000000; stroke-width:2; stroke-opacity:0.1; fill:none\" points=\"\n",
       "  229.473,667.28 2352.76,667.28 \n",
       "  \"/>\n",
       "<polyline clip-path=\"url(#clip212)\" style=\"stroke:#000000; stroke-width:2; stroke-opacity:0.1; fill:none\" points=\"\n",
       "  229.473,308.801 2352.76,308.801 \n",
       "  \"/>\n",
       "<polyline clip-path=\"url(#clip210)\" style=\"stroke:#000000; stroke-width:4; stroke-opacity:1; fill:none\" points=\"\n",
       "  229.473,1423.18 2352.76,1423.18 \n",
       "  \"/>\n",
       "<polyline clip-path=\"url(#clip210)\" style=\"stroke:#000000; stroke-width:4; stroke-opacity:1; fill:none\" points=\"\n",
       "  229.473,1423.18 229.473,47.2441 \n",
       "  \"/>\n",
       "<polyline clip-path=\"url(#clip210)\" style=\"stroke:#000000; stroke-width:4; stroke-opacity:1; fill:none\" points=\"\n",
       "  503.733,1423.18 503.733,1406.67 \n",
       "  \"/>\n",
       "<polyline clip-path=\"url(#clip210)\" style=\"stroke:#000000; stroke-width:4; stroke-opacity:1; fill:none\" points=\"\n",
       "  897.424,1423.18 897.424,1406.67 \n",
       "  \"/>\n",
       "<polyline clip-path=\"url(#clip210)\" style=\"stroke:#000000; stroke-width:4; stroke-opacity:1; fill:none\" points=\"\n",
       "  1291.11,1423.18 1291.11,1406.67 \n",
       "  \"/>\n",
       "<polyline clip-path=\"url(#clip210)\" style=\"stroke:#000000; stroke-width:4; stroke-opacity:1; fill:none\" points=\"\n",
       "  1684.8,1423.18 1684.8,1406.67 \n",
       "  \"/>\n",
       "<polyline clip-path=\"url(#clip210)\" style=\"stroke:#000000; stroke-width:4; stroke-opacity:1; fill:none\" points=\"\n",
       "  2078.5,1423.18 2078.5,1406.67 \n",
       "  \"/>\n",
       "<polyline clip-path=\"url(#clip210)\" style=\"stroke:#000000; stroke-width:4; stroke-opacity:1; fill:none\" points=\"\n",
       "  229.473,1384.24 254.952,1384.24 \n",
       "  \"/>\n",
       "<polyline clip-path=\"url(#clip210)\" style=\"stroke:#000000; stroke-width:4; stroke-opacity:1; fill:none\" points=\"\n",
       "  229.473,1025.76 254.952,1025.76 \n",
       "  \"/>\n",
       "<polyline clip-path=\"url(#clip210)\" style=\"stroke:#000000; stroke-width:4; stroke-opacity:1; fill:none\" points=\"\n",
       "  229.473,667.28 254.952,667.28 \n",
       "  \"/>\n",
       "<polyline clip-path=\"url(#clip210)\" style=\"stroke:#000000; stroke-width:4; stroke-opacity:1; fill:none\" points=\"\n",
       "  229.473,308.801 254.952,308.801 \n",
       "  \"/>\n",
       "<path clip-path=\"url(#clip210)\" d=\"M 0 0 M373.884 1455.7 Q375.482 1452.83 377.704 1451.47 Q379.926 1450.1 382.935 1450.1 Q386.986 1450.1 389.185 1452.95 Q391.384 1455.77 391.384 1461 L391.384 1476.65 L387.102 1476.65 L387.102 1461.14 Q387.102 1457.42 385.783 1455.61 Q384.463 1453.8 381.755 1453.8 Q378.445 1453.8 376.523 1456 Q374.602 1458.2 374.602 1462 L374.602 1476.65 L370.32 1476.65 L370.32 1461.14 Q370.32 1457.39 369 1455.61 Q367.681 1453.8 364.926 1453.8 Q361.662 1453.8 359.741 1456.03 Q357.82 1458.23 357.82 1462 L357.82 1476.65 L353.537 1476.65 L353.537 1450.73 L357.82 1450.73 L357.82 1454.75 Q359.278 1452.37 361.315 1451.24 Q363.352 1450.1 366.153 1450.1 Q368.977 1450.1 370.945 1451.54 Q372.935 1452.97 373.884 1455.7 Z\" fill=\"#000000\" fill-rule=\"evenodd\" fill-opacity=\"1\" /><path clip-path=\"url(#clip210)\" d=\"M 0 0 M406.639 1479.06 Q404.833 1483.69 403.12 1485.1 Q401.407 1486.51 398.537 1486.51 L395.134 1486.51 L395.134 1482.95 L397.634 1482.95 Q399.394 1482.95 400.366 1482.11 Q401.338 1481.28 402.519 1478.18 L403.282 1476.24 L392.796 1450.73 L397.31 1450.73 L405.412 1471 L413.514 1450.73 L418.028 1450.73 L406.639 1479.06 Z\" fill=\"#000000\" fill-rule=\"evenodd\" fill-opacity=\"1\" /><path clip-path=\"url(#clip210)\" d=\"M 0 0 M442.194 1484.52 L442.194 1487.83 L417.565 1487.83 L417.565 1484.52 L442.194 1484.52 Z\" fill=\"#000000\" fill-rule=\"evenodd\" fill-opacity=\"1\" /><path clip-path=\"url(#clip210)\" d=\"M 0 0 M463.189 1451.49 L463.189 1455.52 Q461.384 1454.59 459.44 1454.13 Q457.495 1453.67 455.412 1453.67 Q452.24 1453.67 450.643 1454.64 Q449.069 1455.61 449.069 1457.55 Q449.069 1459.04 450.203 1459.89 Q451.338 1460.73 454.764 1461.49 L456.222 1461.81 Q460.759 1462.79 462.657 1464.57 Q464.578 1466.33 464.578 1469.5 Q464.578 1473.11 461.708 1475.22 Q458.861 1477.32 453.861 1477.32 Q451.778 1477.32 449.509 1476.91 Q447.264 1476.51 444.764 1475.7 L444.764 1471.3 Q447.125 1472.53 449.416 1473.16 Q451.708 1473.76 453.953 1473.76 Q456.963 1473.76 458.583 1472.74 Q460.203 1471.7 460.203 1469.82 Q460.203 1468.09 459.023 1467.16 Q457.865 1466.24 453.907 1465.38 L452.426 1465.03 Q448.467 1464.2 446.708 1462.49 Q444.949 1460.75 444.949 1457.74 Q444.949 1454.08 447.541 1452.09 Q450.134 1450.1 454.903 1450.1 Q457.264 1450.1 459.347 1450.45 Q461.43 1450.8 463.189 1451.49 Z\" fill=\"#000000\" fill-rule=\"evenodd\" fill-opacity=\"1\" /><path clip-path=\"url(#clip210)\" d=\"M 0 0 M468.606 1466.42 L468.606 1450.73 L472.865 1450.73 L472.865 1466.26 Q472.865 1469.94 474.301 1471.79 Q475.736 1473.62 478.606 1473.62 Q482.055 1473.62 484.046 1471.42 Q486.06 1469.22 486.06 1465.43 L486.06 1450.73 L490.319 1450.73 L490.319 1476.65 L486.06 1476.65 L486.06 1472.67 Q484.509 1475.03 482.449 1476.19 Q480.412 1477.32 477.703 1477.32 Q473.236 1477.32 470.921 1474.55 Q468.606 1471.77 468.606 1466.42 M479.324 1450.1 L479.324 1450.1 Z\" fill=\"#000000\" fill-rule=\"evenodd\" fill-opacity=\"1\" /><path clip-path=\"url(#clip210)\" d=\"M 0 0 M514.972 1455.7 Q516.569 1452.83 518.791 1451.47 Q521.013 1450.1 524.023 1450.1 Q528.073 1450.1 530.272 1452.95 Q532.472 1455.77 532.472 1461 L532.472 1476.65 L528.189 1476.65 L528.189 1461.14 Q528.189 1457.42 526.87 1455.61 Q525.55 1453.8 522.842 1453.8 Q519.532 1453.8 517.611 1456 Q515.689 1458.2 515.689 1462 L515.689 1476.65 L511.407 1476.65 L511.407 1461.14 Q511.407 1457.39 510.087 1455.61 Q508.768 1453.8 506.013 1453.8 Q502.749 1453.8 500.828 1456.03 Q498.907 1458.23 498.907 1462 L498.907 1476.65 L494.625 1476.65 L494.625 1450.73 L498.907 1450.73 L498.907 1454.75 Q500.365 1452.37 502.402 1451.24 Q504.439 1450.1 507.24 1450.1 Q510.064 1450.1 512.032 1451.54 Q514.023 1452.97 514.972 1455.7 Z\" fill=\"#000000\" fill-rule=\"evenodd\" fill-opacity=\"1\" /><path clip-path=\"url(#clip210)\" d=\"M 0 0 M562.24 1440.68 Q559.138 1446 557.633 1451.21 Q556.129 1456.42 556.129 1461.77 Q556.129 1467.11 557.633 1472.37 Q559.161 1477.6 562.24 1482.9 L558.536 1482.9 Q555.064 1477.46 553.328 1472.21 Q551.615 1466.95 551.615 1461.77 Q551.615 1456.61 553.328 1451.37 Q555.041 1446.14 558.536 1440.68 L562.24 1440.68 Z\" fill=\"#000000\" fill-rule=\"evenodd\" fill-opacity=\"1\" /><path clip-path=\"url(#clip210)\" d=\"M 0 0 M566.893 1442.09 L571.569 1442.09 L571.569 1474.24 Q571.569 1480.49 569.184 1483.32 Q566.823 1486.14 561.569 1486.14 L559.786 1486.14 L559.786 1482.21 L561.245 1482.21 Q564.346 1482.21 565.62 1480.47 Q566.893 1478.74 566.893 1474.24 L566.893 1442.09 Z\" fill=\"#000000\" fill-rule=\"evenodd\" fill-opacity=\"1\" /><path clip-path=\"url(#clip210)\" d=\"M 0 0 M575.596 1466.42 L575.596 1450.73 L579.856 1450.73 L579.856 1466.26 Q579.856 1469.94 581.291 1471.79 Q582.726 1473.62 585.596 1473.62 Q589.045 1473.62 591.036 1471.42 Q593.05 1469.22 593.05 1465.43 L593.05 1450.73 L597.309 1450.73 L597.309 1476.65 L593.05 1476.65 L593.05 1472.67 Q591.499 1475.03 589.439 1476.19 Q587.402 1477.32 584.693 1477.32 Q580.226 1477.32 577.911 1474.55 Q575.596 1471.77 575.596 1466.42 M586.314 1450.1 L586.314 1450.1 Z\" fill=\"#000000\" fill-rule=\"evenodd\" fill-opacity=\"1\" /><path clip-path=\"url(#clip210)\" d=\"M 0 0 M601.777 1440.63 L606.036 1440.63 L606.036 1476.65 L601.777 1476.65 L601.777 1440.63 Z\" fill=\"#000000\" fill-rule=\"evenodd\" fill-opacity=\"1\" /><path clip-path=\"url(#clip210)\" d=\"M 0 0 M610.504 1450.73 L614.763 1450.73 L614.763 1476.65 L610.504 1476.65 L610.504 1450.73 M610.504 1440.63 L614.763 1440.63 L614.763 1446.03 L610.504 1446.03 L610.504 1440.63 Z\" fill=\"#000000\" fill-rule=\"evenodd\" fill-opacity=\"1\" /><path clip-path=\"url(#clip210)\" d=\"M 0 0 M631.013 1463.62 Q625.851 1463.62 623.86 1464.8 Q621.869 1465.98 621.869 1468.83 Q621.869 1471.1 623.351 1472.44 Q624.855 1473.76 627.425 1473.76 Q630.966 1473.76 633.096 1471.26 Q635.249 1468.74 635.249 1464.57 L635.249 1463.62 L631.013 1463.62 M639.508 1461.86 L639.508 1476.65 L635.249 1476.65 L635.249 1472.72 Q633.79 1475.08 631.615 1476.21 Q629.439 1477.32 626.29 1477.32 Q622.309 1477.32 619.948 1475.1 Q617.61 1472.86 617.61 1469.11 Q617.61 1464.73 620.527 1462.51 Q623.466 1460.29 629.277 1460.29 L635.249 1460.29 L635.249 1459.87 Q635.249 1456.93 633.304 1455.33 Q631.383 1453.71 627.888 1453.71 Q625.665 1453.71 623.559 1454.24 Q621.453 1454.78 619.508 1455.84 L619.508 1451.91 Q621.846 1451 624.045 1450.56 Q626.244 1450.1 628.327 1450.1 Q633.952 1450.1 636.73 1453.02 Q639.508 1455.93 639.508 1461.86 Z\" fill=\"#000000\" fill-rule=\"evenodd\" fill-opacity=\"1\" /><path clip-path=\"url(#clip210)\" d=\"M 0 0 M643.304 1440.68 L647.008 1440.68 Q650.48 1446.14 652.193 1451.37 Q653.929 1456.61 653.929 1461.77 Q653.929 1466.95 652.193 1472.21 Q650.48 1477.46 647.008 1482.9 L643.304 1482.9 Q646.383 1477.6 647.888 1472.37 Q649.415 1467.11 649.415 1461.77 Q649.415 1456.42 647.888 1451.21 Q646.383 1446 643.304 1440.68 Z\" fill=\"#000000\" fill-rule=\"evenodd\" fill-opacity=\"1\" /><path clip-path=\"url(#clip210)\" d=\"M 0 0 M813.096 1451.72 L813.096 1455.7 Q811.29 1454.71 809.461 1454.22 Q807.656 1453.71 805.804 1453.71 Q801.66 1453.71 799.369 1456.35 Q797.077 1458.97 797.077 1463.71 Q797.077 1468.46 799.369 1471.1 Q801.66 1473.71 805.804 1473.71 Q807.656 1473.71 809.461 1473.23 Q811.29 1472.72 813.096 1471.72 L813.096 1475.66 Q811.313 1476.49 809.392 1476.91 Q807.494 1477.32 805.341 1477.32 Q799.484 1477.32 796.035 1473.64 Q792.586 1469.96 792.586 1463.71 Q792.586 1457.37 796.059 1453.74 Q799.554 1450.1 805.619 1450.1 Q807.586 1450.1 809.461 1450.52 Q811.336 1450.91 813.096 1451.72 Z\" fill=\"#000000\" fill-rule=\"evenodd\" fill-opacity=\"1\" /><path clip-path=\"url(#clip210)\" d=\"M 0 0 M837.262 1484.52 L837.262 1487.83 L812.633 1487.83 L812.633 1484.52 L837.262 1484.52 Z\" fill=\"#000000\" fill-rule=\"evenodd\" fill-opacity=\"1\" /><path clip-path=\"url(#clip210)\" d=\"M 0 0 M858.257 1451.49 L858.257 1455.52 Q856.452 1454.59 854.507 1454.13 Q852.563 1453.67 850.48 1453.67 Q847.308 1453.67 845.711 1454.64 Q844.137 1455.61 844.137 1457.55 Q844.137 1459.04 845.271 1459.89 Q846.406 1460.73 849.831 1461.49 L851.29 1461.81 Q855.827 1462.79 857.725 1464.57 Q859.646 1466.33 859.646 1469.5 Q859.646 1473.11 856.776 1475.22 Q853.929 1477.32 848.929 1477.32 Q846.845 1477.32 844.577 1476.91 Q842.331 1476.51 839.831 1475.7 L839.831 1471.3 Q842.193 1472.53 844.484 1473.16 Q846.776 1473.76 849.021 1473.76 Q852.031 1473.76 853.651 1472.74 Q855.271 1471.7 855.271 1469.82 Q855.271 1468.09 854.091 1467.16 Q852.933 1466.24 848.975 1465.38 L847.493 1465.03 Q843.535 1464.2 841.776 1462.49 Q840.017 1460.75 840.017 1457.74 Q840.017 1454.08 842.609 1452.09 Q845.202 1450.1 849.97 1450.1 Q852.331 1450.1 854.415 1450.45 Q856.498 1450.8 858.257 1451.49 Z\" fill=\"#000000\" fill-rule=\"evenodd\" fill-opacity=\"1\" /><path clip-path=\"url(#clip210)\" d=\"M 0 0 M863.674 1466.42 L863.674 1450.73 L867.933 1450.73 L867.933 1466.26 Q867.933 1469.94 869.368 1471.79 Q870.804 1473.62 873.674 1473.62 Q877.123 1473.62 879.114 1471.42 Q881.128 1469.22 881.128 1465.43 L881.128 1450.73 L885.387 1450.73 L885.387 1476.65 L881.128 1476.65 L881.128 1472.67 Q879.577 1475.03 877.516 1476.19 Q875.479 1477.32 872.771 1477.32 Q868.304 1477.32 865.989 1474.55 Q863.674 1471.77 863.674 1466.42 M874.391 1450.1 L874.391 1450.1 Z\" fill=\"#000000\" fill-rule=\"evenodd\" fill-opacity=\"1\" /><path clip-path=\"url(#clip210)\" d=\"M 0 0 M910.039 1455.7 Q911.637 1452.83 913.859 1451.47 Q916.081 1450.1 919.09 1450.1 Q923.141 1450.1 925.34 1452.95 Q927.539 1455.77 927.539 1461 L927.539 1476.65 L923.257 1476.65 L923.257 1461.14 Q923.257 1457.42 921.938 1455.61 Q920.618 1453.8 917.91 1453.8 Q914.6 1453.8 912.678 1456 Q910.757 1458.2 910.757 1462 L910.757 1476.65 L906.475 1476.65 L906.475 1461.14 Q906.475 1457.39 905.155 1455.61 Q903.836 1453.8 901.081 1453.8 Q897.817 1453.8 895.896 1456.03 Q893.975 1458.23 893.975 1462 L893.975 1476.65 L889.692 1476.65 L889.692 1450.73 L893.975 1450.73 L893.975 1454.75 Q895.433 1452.37 897.47 1451.24 Q899.507 1450.1 902.308 1450.1 Q905.132 1450.1 907.1 1451.54 Q909.09 1452.97 910.039 1455.7 Z\" fill=\"#000000\" fill-rule=\"evenodd\" fill-opacity=\"1\" /><path clip-path=\"url(#clip210)\" d=\"M 0 0 M957.308 1440.68 Q954.206 1446 952.701 1451.21 Q951.197 1456.42 951.197 1461.77 Q951.197 1467.11 952.701 1472.37 Q954.229 1477.6 957.308 1482.9 L953.604 1482.9 Q950.132 1477.46 948.396 1472.21 Q946.683 1466.95 946.683 1461.77 Q946.683 1456.61 948.396 1451.37 Q950.109 1446.14 953.604 1440.68 L957.308 1440.68 Z\" fill=\"#000000\" fill-rule=\"evenodd\" fill-opacity=\"1\" /><path clip-path=\"url(#clip210)\" d=\"M 0 0 M987.84 1444.75 L987.84 1449.68 Q985.479 1447.49 982.794 1446.4 Q980.132 1445.31 977.122 1445.31 Q971.197 1445.31 968.048 1448.94 Q964.9 1452.55 964.9 1459.41 Q964.9 1466.24 968.048 1469.87 Q971.197 1473.48 977.122 1473.48 Q980.132 1473.48 982.794 1472.39 Q985.479 1471.3 987.84 1469.11 L987.84 1473.99 Q985.386 1475.66 982.632 1476.49 Q979.9 1477.32 976.845 1477.32 Q968.997 1477.32 964.484 1472.53 Q959.97 1467.72 959.97 1459.41 Q959.97 1451.07 964.484 1446.28 Q968.997 1441.47 976.845 1441.47 Q979.946 1441.47 982.678 1442.3 Q985.433 1443.11 987.84 1444.75 Z\" fill=\"#000000\" fill-rule=\"evenodd\" fill-opacity=\"1\" /><path clip-path=\"url(#clip210)\" d=\"M 0 0 M991.636 1440.68 L995.34 1440.68 Q998.812 1446.14 1000.53 1451.37 Q1002.26 1456.61 1002.26 1461.77 Q1002.26 1466.95 1000.53 1472.21 Q998.812 1477.46 995.34 1482.9 L991.636 1482.9 Q994.715 1477.6 996.22 1472.37 Q997.747 1467.11 997.747 1461.77 Q997.747 1456.42 996.22 1451.21 Q994.715 1446 991.636 1440.68 Z\" fill=\"#000000\" fill-rule=\"evenodd\" fill-opacity=\"1\" /><path clip-path=\"url(#clip210)\" d=\"M 0 0 M1204.96 1451.49 L1204.96 1455.52 Q1203.15 1454.59 1201.21 1454.13 Q1199.26 1453.67 1197.18 1453.67 Q1194.01 1453.67 1192.41 1454.64 Q1190.84 1455.61 1190.84 1457.55 Q1190.84 1459.04 1191.97 1459.89 Q1193.11 1460.73 1196.53 1461.49 L1197.99 1461.81 Q1202.53 1462.79 1204.42 1464.57 Q1206.35 1466.33 1206.35 1469.5 Q1206.35 1473.11 1203.48 1475.22 Q1200.63 1477.32 1195.63 1477.32 Q1193.55 1477.32 1191.28 1476.91 Q1189.03 1476.51 1186.53 1475.7 L1186.53 1471.3 Q1188.89 1472.53 1191.18 1473.16 Q1193.48 1473.76 1195.72 1473.76 Q1198.73 1473.76 1200.35 1472.74 Q1201.97 1471.7 1201.97 1469.82 Q1201.97 1468.09 1200.79 1467.16 Q1199.63 1466.24 1195.67 1465.38 L1194.19 1465.03 Q1190.24 1464.2 1188.48 1462.49 Q1186.72 1460.75 1186.72 1457.74 Q1186.72 1454.08 1189.31 1452.09 Q1191.9 1450.1 1196.67 1450.1 Q1199.03 1450.1 1201.11 1450.45 Q1203.2 1450.8 1204.96 1451.49 Z\" fill=\"#000000\" fill-rule=\"evenodd\" fill-opacity=\"1\" /><path clip-path=\"url(#clip210)\" d=\"M 0 0 M1210.37 1466.42 L1210.37 1450.73 L1214.63 1450.73 L1214.63 1466.26 Q1214.63 1469.94 1216.07 1471.79 Q1217.5 1473.62 1220.37 1473.62 Q1223.82 1473.62 1225.81 1471.42 Q1227.83 1469.22 1227.83 1465.43 L1227.83 1450.73 L1232.09 1450.73 L1232.09 1476.65 L1227.83 1476.65 L1227.83 1472.67 Q1226.28 1475.03 1224.22 1476.19 Q1222.18 1477.32 1219.47 1477.32 Q1215 1477.32 1212.69 1474.55 Q1210.37 1471.77 1210.37 1466.42 M1221.09 1450.1 L1221.09 1450.1 Z\" fill=\"#000000\" fill-rule=\"evenodd\" fill-opacity=\"1\" /><path clip-path=\"url(#clip210)\" d=\"M 0 0 M1256.74 1455.7 Q1258.34 1452.83 1260.56 1451.47 Q1262.78 1450.1 1265.79 1450.1 Q1269.84 1450.1 1272.04 1452.95 Q1274.24 1455.77 1274.24 1461 L1274.24 1476.65 L1269.96 1476.65 L1269.96 1461.14 Q1269.96 1457.42 1268.64 1455.61 Q1267.32 1453.8 1264.61 1453.8 Q1261.3 1453.8 1259.38 1456 Q1257.46 1458.2 1257.46 1462 L1257.46 1476.65 L1253.17 1476.65 L1253.17 1461.14 Q1253.17 1457.39 1251.86 1455.61 Q1250.54 1453.8 1247.78 1453.8 Q1244.52 1453.8 1242.6 1456.03 Q1240.67 1458.23 1240.67 1462 L1240.67 1476.65 L1236.39 1476.65 L1236.39 1450.73 L1240.67 1450.73 L1240.67 1454.75 Q1242.13 1452.37 1244.17 1451.24 Q1246.21 1450.1 1249.01 1450.1 Q1251.83 1450.1 1253.8 1451.54 Q1255.79 1452.97 1256.74 1455.7 Z\" fill=\"#000000\" fill-rule=\"evenodd\" fill-opacity=\"1\" /><path clip-path=\"url(#clip210)\" d=\"M 0 0 M1304.01 1440.68 Q1300.91 1446 1299.4 1451.21 Q1297.9 1456.42 1297.9 1461.77 Q1297.9 1467.11 1299.4 1472.37 Q1300.93 1477.6 1304.01 1482.9 L1300.3 1482.9 Q1296.83 1477.46 1295.1 1472.21 Q1293.38 1466.95 1293.38 1461.77 Q1293.38 1456.61 1295.1 1451.37 Q1296.81 1446.14 1300.3 1440.68 L1304.01 1440.68 Z\" fill=\"#000000\" fill-rule=\"evenodd\" fill-opacity=\"1\" /><path clip-path=\"url(#clip210)\" d=\"M 0 0 M1308.66 1442.09 L1313.34 1442.09 L1313.34 1474.24 Q1313.34 1480.49 1310.95 1483.32 Q1308.59 1486.14 1303.34 1486.14 L1301.55 1486.14 L1301.55 1482.21 L1303.01 1482.21 Q1306.11 1482.21 1307.39 1480.47 Q1308.66 1478.74 1308.66 1474.24 L1308.66 1442.09 Z\" fill=\"#000000\" fill-rule=\"evenodd\" fill-opacity=\"1\" /><path clip-path=\"url(#clip210)\" d=\"M 0 0 M1317.36 1466.42 L1317.36 1450.73 L1321.62 1450.73 L1321.62 1466.26 Q1321.62 1469.94 1323.06 1471.79 Q1324.49 1473.62 1327.36 1473.62 Q1330.81 1473.62 1332.8 1471.42 Q1334.82 1469.22 1334.82 1465.43 L1334.82 1450.73 L1339.08 1450.73 L1339.08 1476.65 L1334.82 1476.65 L1334.82 1472.67 Q1333.27 1475.03 1331.21 1476.19 Q1329.17 1477.32 1326.46 1477.32 Q1321.99 1477.32 1319.68 1474.55 Q1317.36 1471.77 1317.36 1466.42 M1328.08 1450.1 L1328.08 1450.1 Z\" fill=\"#000000\" fill-rule=\"evenodd\" fill-opacity=\"1\" /><path clip-path=\"url(#clip210)\" d=\"M 0 0 M1343.54 1440.63 L1347.8 1440.63 L1347.8 1476.65 L1343.54 1476.65 L1343.54 1440.63 Z\" fill=\"#000000\" fill-rule=\"evenodd\" fill-opacity=\"1\" /><path clip-path=\"url(#clip210)\" d=\"M 0 0 M1352.27 1450.73 L1356.53 1450.73 L1356.53 1476.65 L1352.27 1476.65 L1352.27 1450.73 M1352.27 1440.63 L1356.53 1440.63 L1356.53 1446.03 L1352.27 1446.03 L1352.27 1440.63 Z\" fill=\"#000000\" fill-rule=\"evenodd\" fill-opacity=\"1\" /><path clip-path=\"url(#clip210)\" d=\"M 0 0 M1372.78 1463.62 Q1367.62 1463.62 1365.63 1464.8 Q1363.64 1465.98 1363.64 1468.83 Q1363.64 1471.1 1365.12 1472.44 Q1366.62 1473.76 1369.19 1473.76 Q1372.73 1473.76 1374.86 1471.26 Q1377.02 1468.74 1377.02 1464.57 L1377.02 1463.62 L1372.78 1463.62 M1381.28 1461.86 L1381.28 1476.65 L1377.02 1476.65 L1377.02 1472.72 Q1375.56 1475.08 1373.38 1476.21 Q1371.21 1477.32 1368.06 1477.32 Q1364.08 1477.32 1361.72 1475.1 Q1359.38 1472.86 1359.38 1469.11 Q1359.38 1464.73 1362.29 1462.51 Q1365.23 1460.29 1371.04 1460.29 L1377.02 1460.29 L1377.02 1459.87 Q1377.02 1456.93 1375.07 1455.33 Q1373.15 1453.71 1369.66 1453.71 Q1367.43 1453.71 1365.33 1454.24 Q1363.22 1454.78 1361.28 1455.84 L1361.28 1451.91 Q1363.61 1451 1365.81 1450.56 Q1368.01 1450.1 1370.1 1450.1 Q1375.72 1450.1 1378.5 1453.02 Q1381.28 1455.93 1381.28 1461.86 Z\" fill=\"#000000\" fill-rule=\"evenodd\" fill-opacity=\"1\" /><path clip-path=\"url(#clip210)\" d=\"M 0 0 M1385.07 1440.68 L1388.78 1440.68 Q1392.25 1446.14 1393.96 1451.37 Q1395.7 1456.61 1395.7 1461.77 Q1395.7 1466.95 1393.96 1472.21 Q1392.25 1477.46 1388.78 1482.9 L1385.07 1482.9 Q1388.15 1477.6 1389.66 1472.37 Q1391.18 1467.11 1391.18 1461.77 Q1391.18 1456.42 1389.66 1451.21 Q1388.15 1446 1385.07 1440.68 Z\" fill=\"#000000\" fill-rule=\"evenodd\" fill-opacity=\"1\" /><path clip-path=\"url(#clip210)\" d=\"M 0 0 M1501.78 1455.7 Q1503.38 1452.83 1505.6 1451.47 Q1507.83 1450.1 1510.84 1450.1 Q1514.89 1450.1 1517.09 1452.95 Q1519.28 1455.77 1519.28 1461 L1519.28 1476.65 L1515 1476.65 L1515 1461.14 Q1515 1457.42 1513.68 1455.61 Q1512.36 1453.8 1509.66 1453.8 Q1506.35 1453.8 1504.42 1456 Q1502.5 1458.2 1502.5 1462 L1502.5 1476.65 L1498.22 1476.65 L1498.22 1461.14 Q1498.22 1457.39 1496.9 1455.61 Q1495.58 1453.8 1492.83 1453.8 Q1489.56 1453.8 1487.64 1456.03 Q1485.72 1458.23 1485.72 1462 L1485.72 1476.65 L1481.44 1476.65 L1481.44 1450.73 L1485.72 1450.73 L1485.72 1454.75 Q1487.18 1452.37 1489.22 1451.24 Q1491.25 1450.1 1494.05 1450.1 Q1496.88 1450.1 1498.85 1451.54 Q1500.84 1452.97 1501.78 1455.7 Z\" fill=\"#000000\" fill-rule=\"evenodd\" fill-opacity=\"1\" /><path clip-path=\"url(#clip210)\" d=\"M 0 0 M1534.54 1479.06 Q1532.73 1483.69 1531.02 1485.1 Q1529.31 1486.51 1526.44 1486.51 L1523.03 1486.51 L1523.03 1482.95 L1525.53 1482.95 Q1527.29 1482.95 1528.27 1482.11 Q1529.24 1481.28 1530.42 1478.18 L1531.18 1476.24 L1520.7 1450.73 L1525.21 1450.73 L1533.31 1471 L1541.41 1450.73 L1545.93 1450.73 L1534.54 1479.06 Z\" fill=\"#000000\" fill-rule=\"evenodd\" fill-opacity=\"1\" /><path clip-path=\"url(#clip210)\" d=\"M 0 0 M1570.09 1484.52 L1570.09 1487.83 L1545.47 1487.83 L1545.47 1484.52 L1570.09 1484.52 Z\" fill=\"#000000\" fill-rule=\"evenodd\" fill-opacity=\"1\" /><path clip-path=\"url(#clip210)\" d=\"M 0 0 M1587.69 1440.63 L1587.69 1444.18 L1583.61 1444.18 Q1581.32 1444.18 1580.42 1445.1 Q1579.54 1446.03 1579.54 1448.43 L1579.54 1450.73 L1586.55 1450.73 L1586.55 1454.04 L1579.54 1454.04 L1579.54 1476.65 L1575.26 1476.65 L1575.26 1454.04 L1571.18 1454.04 L1571.18 1450.73 L1575.26 1450.73 L1575.26 1448.92 Q1575.26 1444.59 1577.27 1442.62 Q1579.28 1440.63 1583.66 1440.63 L1587.69 1440.63 Z\" fill=\"#000000\" fill-rule=\"evenodd\" fill-opacity=\"1\" /><path clip-path=\"url(#clip210)\" d=\"M 0 0 M1603.94 1463.62 Q1598.78 1463.62 1596.78 1464.8 Q1594.79 1465.98 1594.79 1468.83 Q1594.79 1471.1 1596.28 1472.44 Q1597.78 1473.76 1600.35 1473.76 Q1603.89 1473.76 1606.02 1471.26 Q1608.17 1468.74 1608.17 1464.57 L1608.17 1463.62 L1603.94 1463.62 M1612.43 1461.86 L1612.43 1476.65 L1608.17 1476.65 L1608.17 1472.72 Q1606.71 1475.08 1604.54 1476.21 Q1602.36 1477.32 1599.22 1477.32 Q1595.23 1477.32 1592.87 1475.1 Q1590.53 1472.86 1590.53 1469.11 Q1590.53 1464.73 1593.45 1462.51 Q1596.39 1460.29 1602.2 1460.29 L1608.17 1460.29 L1608.17 1459.87 Q1608.17 1456.93 1606.23 1455.33 Q1604.31 1453.71 1600.81 1453.71 Q1598.59 1453.71 1596.48 1454.24 Q1594.38 1454.78 1592.43 1455.84 L1592.43 1451.91 Q1594.77 1451 1596.97 1450.56 Q1599.17 1450.1 1601.25 1450.1 Q1606.88 1450.1 1609.65 1453.02 Q1612.43 1455.93 1612.43 1461.86 Z\" fill=\"#000000\" fill-rule=\"evenodd\" fill-opacity=\"1\" /><path clip-path=\"url(#clip210)\" d=\"M 0 0 M1633.43 1451.49 L1633.43 1455.52 Q1631.62 1454.59 1629.68 1454.13 Q1627.73 1453.67 1625.65 1453.67 Q1622.48 1453.67 1620.88 1454.64 Q1619.31 1455.61 1619.31 1457.55 Q1619.31 1459.04 1620.44 1459.89 Q1621.58 1460.73 1625 1461.49 L1626.46 1461.81 Q1631 1462.79 1632.9 1464.57 Q1634.82 1466.33 1634.82 1469.5 Q1634.82 1473.11 1631.95 1475.22 Q1629.1 1477.32 1624.1 1477.32 Q1622.02 1477.32 1619.75 1476.91 Q1617.5 1476.51 1615 1475.7 L1615 1471.3 Q1617.36 1472.53 1619.65 1473.16 Q1621.95 1473.76 1624.19 1473.76 Q1627.2 1473.76 1628.82 1472.74 Q1630.44 1471.7 1630.44 1469.82 Q1630.44 1468.09 1629.26 1467.16 Q1628.1 1466.24 1624.15 1465.38 L1622.66 1465.03 Q1618.71 1464.2 1616.95 1462.49 Q1615.19 1460.75 1615.19 1457.74 Q1615.19 1454.08 1617.78 1452.09 Q1620.37 1450.1 1625.14 1450.1 Q1627.5 1450.1 1629.59 1450.45 Q1631.67 1450.8 1633.43 1451.49 Z\" fill=\"#000000\" fill-rule=\"evenodd\" fill-opacity=\"1\" /><path clip-path=\"url(#clip210)\" d=\"M 0 0 M1643.5 1443.36 L1643.5 1450.73 L1652.27 1450.73 L1652.27 1454.04 L1643.5 1454.04 L1643.5 1468.11 Q1643.5 1471.28 1644.35 1472.18 Q1645.23 1473.09 1647.9 1473.09 L1652.27 1473.09 L1652.27 1476.65 L1647.9 1476.65 Q1642.96 1476.65 1641.09 1474.82 Q1639.21 1472.97 1639.21 1468.11 L1639.21 1454.04 L1636.09 1454.04 L1636.09 1450.73 L1639.21 1450.73 L1639.21 1443.36 L1643.5 1443.36 Z\" fill=\"#000000\" fill-rule=\"evenodd\" fill-opacity=\"1\" /><path clip-path=\"url(#clip210)\" d=\"M 0 0 M1676.44 1484.52 L1676.44 1487.83 L1651.81 1487.83 L1651.81 1484.52 L1676.44 1484.52 Z\" fill=\"#000000\" fill-rule=\"evenodd\" fill-opacity=\"1\" /><path clip-path=\"url(#clip210)\" d=\"M 0 0 M1697.43 1451.49 L1697.43 1455.52 Q1695.63 1454.59 1693.68 1454.13 Q1691.74 1453.67 1689.65 1453.67 Q1686.48 1453.67 1684.89 1454.64 Q1683.31 1455.61 1683.31 1457.55 Q1683.31 1459.04 1684.45 1459.89 Q1685.58 1460.73 1689.01 1461.49 L1690.46 1461.81 Q1695 1462.79 1696.9 1464.57 Q1698.82 1466.33 1698.82 1469.5 Q1698.82 1473.11 1695.95 1475.22 Q1693.1 1477.32 1688.1 1477.32 Q1686.02 1477.32 1683.75 1476.91 Q1681.51 1476.51 1679.01 1475.7 L1679.01 1471.3 Q1681.37 1472.53 1683.66 1473.16 Q1685.95 1473.76 1688.2 1473.76 Q1691.21 1473.76 1692.83 1472.74 Q1694.45 1471.7 1694.45 1469.82 Q1694.45 1468.09 1693.27 1467.16 Q1692.11 1466.24 1688.15 1465.38 L1686.67 1465.03 Q1682.71 1464.2 1680.95 1462.49 Q1679.19 1460.75 1679.19 1457.74 Q1679.19 1454.08 1681.78 1452.09 Q1684.38 1450.1 1689.15 1450.1 Q1691.51 1450.1 1693.59 1450.45 Q1695.67 1450.8 1697.43 1451.49 Z\" fill=\"#000000\" fill-rule=\"evenodd\" fill-opacity=\"1\" /><path clip-path=\"url(#clip210)\" d=\"M 0 0 M1702.85 1466.42 L1702.85 1450.73 L1707.11 1450.73 L1707.11 1466.26 Q1707.11 1469.94 1708.54 1471.79 Q1709.98 1473.62 1712.85 1473.62 Q1716.3 1473.62 1718.29 1471.42 Q1720.3 1469.22 1720.3 1465.43 L1720.3 1450.73 L1724.56 1450.73 L1724.56 1476.65 L1720.3 1476.65 L1720.3 1472.67 Q1718.75 1475.03 1716.69 1476.19 Q1714.65 1477.32 1711.95 1477.32 Q1707.48 1477.32 1705.16 1474.55 Q1702.85 1471.77 1702.85 1466.42 M1713.57 1450.1 L1713.57 1450.1 Z\" fill=\"#000000\" fill-rule=\"evenodd\" fill-opacity=\"1\" /><path clip-path=\"url(#clip210)\" d=\"M 0 0 M1749.21 1455.7 Q1750.81 1452.83 1753.03 1451.47 Q1755.26 1450.1 1758.27 1450.1 Q1762.32 1450.1 1764.52 1452.95 Q1766.71 1455.77 1766.71 1461 L1766.71 1476.65 L1762.43 1476.65 L1762.43 1461.14 Q1762.43 1457.42 1761.11 1455.61 Q1759.79 1453.8 1757.08 1453.8 Q1753.77 1453.8 1751.85 1456 Q1749.93 1458.2 1749.93 1462 L1749.93 1476.65 L1745.65 1476.65 L1745.65 1461.14 Q1745.65 1457.39 1744.33 1455.61 Q1743.01 1453.8 1740.26 1453.8 Q1736.99 1453.8 1735.07 1456.03 Q1733.15 1458.23 1733.15 1462 L1733.15 1476.65 L1728.87 1476.65 L1728.87 1450.73 L1733.15 1450.73 L1733.15 1454.75 Q1734.61 1452.37 1736.64 1451.24 Q1738.68 1450.1 1741.48 1450.1 Q1744.31 1450.1 1746.27 1451.54 Q1748.27 1452.97 1749.21 1455.7 Z\" fill=\"#000000\" fill-rule=\"evenodd\" fill-opacity=\"1\" /><path clip-path=\"url(#clip210)\" d=\"M 0 0 M1796.48 1440.68 Q1793.38 1446 1791.88 1451.21 Q1790.37 1456.42 1790.37 1461.77 Q1790.37 1467.11 1791.88 1472.37 Q1793.4 1477.6 1796.48 1482.9 L1792.78 1482.9 Q1789.31 1477.46 1787.57 1472.21 Q1785.86 1466.95 1785.86 1461.77 Q1785.86 1456.61 1787.57 1451.37 Q1789.28 1446.14 1792.78 1440.68 L1796.48 1440.68 Z\" fill=\"#000000\" fill-rule=\"evenodd\" fill-opacity=\"1\" /><path clip-path=\"url(#clip210)\" d=\"M 0 0 M1801.14 1442.09 L1805.81 1442.09 L1805.81 1474.24 Q1805.81 1480.49 1803.43 1483.32 Q1801.07 1486.14 1795.81 1486.14 L1794.03 1486.14 L1794.03 1482.21 L1795.49 1482.21 Q1798.59 1482.21 1799.86 1480.47 Q1801.14 1478.74 1801.14 1474.24 L1801.14 1442.09 Z\" fill=\"#000000\" fill-rule=\"evenodd\" fill-opacity=\"1\" /><path clip-path=\"url(#clip210)\" d=\"M 0 0 M1809.84 1466.42 L1809.84 1450.73 L1814.1 1450.73 L1814.1 1466.26 Q1814.1 1469.94 1815.53 1471.79 Q1816.97 1473.62 1819.84 1473.62 Q1823.29 1473.62 1825.28 1471.42 Q1827.29 1469.22 1827.29 1465.43 L1827.29 1450.73 L1831.55 1450.73 L1831.55 1476.65 L1827.29 1476.65 L1827.29 1472.67 Q1825.74 1475.03 1823.68 1476.19 Q1821.64 1477.32 1818.94 1477.32 Q1814.47 1477.32 1812.15 1474.55 Q1809.84 1471.77 1809.84 1466.42 M1820.56 1450.1 L1820.56 1450.1 Z\" fill=\"#000000\" fill-rule=\"evenodd\" fill-opacity=\"1\" /><path clip-path=\"url(#clip210)\" d=\"M 0 0 M1836.02 1440.63 L1840.28 1440.63 L1840.28 1476.65 L1836.02 1476.65 L1836.02 1440.63 Z\" fill=\"#000000\" fill-rule=\"evenodd\" fill-opacity=\"1\" /><path clip-path=\"url(#clip210)\" d=\"M 0 0 M1844.75 1450.73 L1849.01 1450.73 L1849.01 1476.65 L1844.75 1476.65 L1844.75 1450.73 M1844.75 1440.63 L1849.01 1440.63 L1849.01 1446.03 L1844.75 1446.03 L1844.75 1440.63 Z\" fill=\"#000000\" fill-rule=\"evenodd\" fill-opacity=\"1\" /><path clip-path=\"url(#clip210)\" d=\"M 0 0 M1865.26 1463.62 Q1860.09 1463.62 1858.1 1464.8 Q1856.11 1465.98 1856.11 1468.83 Q1856.11 1471.1 1857.59 1472.44 Q1859.1 1473.76 1861.67 1473.76 Q1865.21 1473.76 1867.34 1471.26 Q1869.49 1468.74 1869.49 1464.57 L1869.49 1463.62 L1865.26 1463.62 M1873.75 1461.86 L1873.75 1476.65 L1869.49 1476.65 L1869.49 1472.72 Q1868.03 1475.08 1865.86 1476.21 Q1863.68 1477.32 1860.53 1477.32 Q1856.55 1477.32 1854.19 1475.1 Q1851.85 1472.86 1851.85 1469.11 Q1851.85 1464.73 1854.77 1462.51 Q1857.71 1460.29 1863.52 1460.29 L1869.49 1460.29 L1869.49 1459.87 Q1869.49 1456.93 1867.55 1455.33 Q1865.63 1453.71 1862.13 1453.71 Q1859.91 1453.71 1857.8 1454.24 Q1855.7 1454.78 1853.75 1455.84 L1853.75 1451.91 Q1856.09 1451 1858.29 1450.56 Q1860.49 1450.1 1862.57 1450.1 Q1868.2 1450.1 1870.97 1453.02 Q1873.75 1455.93 1873.75 1461.86 Z\" fill=\"#000000\" fill-rule=\"evenodd\" fill-opacity=\"1\" /><path clip-path=\"url(#clip210)\" d=\"M 0 0 M1877.55 1440.68 L1881.25 1440.68 Q1884.72 1446.14 1886.44 1451.37 Q1888.17 1456.61 1888.17 1461.77 Q1888.17 1466.95 1886.44 1472.21 Q1884.72 1477.46 1881.25 1482.9 L1877.55 1482.9 Q1880.63 1477.6 1882.13 1472.37 Q1883.66 1467.11 1883.66 1461.77 Q1883.66 1456.42 1882.13 1451.21 Q1880.63 1446 1877.55 1440.68 Z\" fill=\"#000000\" fill-rule=\"evenodd\" fill-opacity=\"1\" /><path clip-path=\"url(#clip210)\" d=\"M 0 0 M1903.79 1472.76 L1903.79 1486.51 L1899.5 1486.51 L1899.5 1450.73 L1903.79 1450.73 L1903.79 1454.66 Q1905.13 1452.35 1907.17 1451.24 Q1909.23 1450.1 1912.07 1450.1 Q1916.79 1450.1 1919.73 1453.85 Q1922.7 1457.6 1922.7 1463.71 Q1922.7 1469.82 1919.73 1473.57 Q1916.79 1477.32 1912.07 1477.32 Q1909.23 1477.32 1907.17 1476.21 Q1905.13 1475.08 1903.79 1472.76 M1918.28 1463.71 Q1918.28 1459.01 1916.33 1456.35 Q1914.41 1453.67 1911.03 1453.67 Q1907.65 1453.67 1905.71 1456.35 Q1903.79 1459.01 1903.79 1463.71 Q1903.79 1468.41 1905.71 1471.1 Q1907.65 1473.76 1911.03 1473.76 Q1914.41 1473.76 1916.33 1471.1 Q1918.28 1468.41 1918.28 1463.71 Z\" fill=\"#000000\" fill-rule=\"evenodd\" fill-opacity=\"1\" /><path clip-path=\"url(#clip210)\" d=\"M 0 0 M1937.95 1479.06 Q1936.15 1483.69 1934.43 1485.1 Q1932.72 1486.51 1929.85 1486.51 L1926.45 1486.51 L1926.45 1482.95 L1928.95 1482.95 Q1930.71 1482.95 1931.68 1482.11 Q1932.65 1481.28 1933.83 1478.18 L1934.6 1476.24 L1924.11 1450.73 L1928.62 1450.73 L1936.73 1471 L1944.83 1450.73 L1949.34 1450.73 L1937.95 1479.06 Z\" fill=\"#000000\" fill-rule=\"evenodd\" fill-opacity=\"1\" /><path clip-path=\"url(#clip210)\" d=\"M 0 0 M1973.51 1484.52 L1973.51 1487.83 L1948.88 1487.83 L1948.88 1484.52 L1973.51 1484.52 Z\" fill=\"#000000\" fill-rule=\"evenodd\" fill-opacity=\"1\" /><path clip-path=\"url(#clip210)\" d=\"M 0 0 M1994.5 1451.49 L1994.5 1455.52 Q1992.7 1454.59 1990.75 1454.13 Q1988.81 1453.67 1986.72 1453.67 Q1983.55 1453.67 1981.96 1454.64 Q1980.38 1455.61 1980.38 1457.55 Q1980.38 1459.04 1981.52 1459.89 Q1982.65 1460.73 1986.08 1461.49 L1987.54 1461.81 Q1992.07 1462.79 1993.97 1464.57 Q1995.89 1466.33 1995.89 1469.5 Q1995.89 1473.11 1993.02 1475.22 Q1990.17 1477.32 1985.17 1477.32 Q1983.09 1477.32 1980.82 1476.91 Q1978.58 1476.51 1976.08 1475.7 L1976.08 1471.3 Q1978.44 1472.53 1980.73 1473.16 Q1983.02 1473.76 1985.27 1473.76 Q1988.28 1473.76 1989.9 1472.74 Q1991.52 1471.7 1991.52 1469.82 Q1991.52 1468.09 1990.34 1467.16 Q1989.18 1466.24 1985.22 1465.38 L1983.74 1465.03 Q1979.78 1464.2 1978.02 1462.49 Q1976.26 1460.75 1976.26 1457.74 Q1976.26 1454.08 1978.85 1452.09 Q1981.45 1450.1 1986.22 1450.1 Q1988.58 1450.1 1990.66 1450.45 Q1992.74 1450.8 1994.5 1451.49 Z\" fill=\"#000000\" fill-rule=\"evenodd\" fill-opacity=\"1\" /><path clip-path=\"url(#clip210)\" d=\"M 0 0 M1999.92 1466.42 L1999.92 1450.73 L2004.18 1450.73 L2004.18 1466.26 Q2004.18 1469.94 2005.61 1471.79 Q2007.05 1473.62 2009.92 1473.62 Q2013.37 1473.62 2015.36 1471.42 Q2017.37 1469.22 2017.37 1465.43 L2017.37 1450.73 L2021.63 1450.73 L2021.63 1476.65 L2017.37 1476.65 L2017.37 1472.67 Q2015.82 1475.03 2013.76 1476.19 Q2011.72 1477.32 2009.02 1477.32 Q2004.55 1477.32 2002.23 1474.55 Q1999.92 1471.77 1999.92 1466.42 M2010.64 1450.1 L2010.64 1450.1 Z\" fill=\"#000000\" fill-rule=\"evenodd\" fill-opacity=\"1\" /><path clip-path=\"url(#clip210)\" d=\"M 0 0 M2046.28 1455.7 Q2047.88 1452.83 2050.1 1451.47 Q2052.33 1450.1 2055.34 1450.1 Q2059.39 1450.1 2061.59 1452.95 Q2063.78 1455.77 2063.78 1461 L2063.78 1476.65 L2059.5 1476.65 L2059.5 1461.14 Q2059.5 1457.42 2058.18 1455.61 Q2056.86 1453.8 2054.16 1453.8 Q2050.85 1453.8 2048.92 1456 Q2047 1458.2 2047 1462 L2047 1476.65 L2042.72 1476.65 L2042.72 1461.14 Q2042.72 1457.39 2041.4 1455.61 Q2040.08 1453.8 2037.33 1453.8 Q2034.06 1453.8 2032.14 1456.03 Q2030.22 1458.23 2030.22 1462 L2030.22 1476.65 L2025.94 1476.65 L2025.94 1450.73 L2030.22 1450.73 L2030.22 1454.75 Q2031.68 1452.37 2033.72 1451.24 Q2035.75 1450.1 2038.55 1450.1 Q2041.38 1450.1 2043.35 1451.54 Q2045.34 1452.97 2046.28 1455.7 Z\" fill=\"#000000\" fill-rule=\"evenodd\" fill-opacity=\"1\" /><path clip-path=\"url(#clip210)\" d=\"M 0 0 M2093.55 1440.68 Q2090.45 1446 2088.95 1451.21 Q2087.44 1456.42 2087.44 1461.77 Q2087.44 1467.11 2088.95 1472.37 Q2090.47 1477.6 2093.55 1482.9 L2089.85 1482.9 Q2086.38 1477.46 2084.64 1472.21 Q2082.93 1466.95 2082.93 1461.77 Q2082.93 1456.61 2084.64 1451.37 Q2086.35 1446.14 2089.85 1440.68 L2093.55 1440.68 Z\" fill=\"#000000\" fill-rule=\"evenodd\" fill-opacity=\"1\" /><path clip-path=\"url(#clip210)\" d=\"M 0 0 M2102.88 1445.93 L2102.88 1458.92 L2108.76 1458.92 Q2112.03 1458.92 2113.81 1457.23 Q2115.59 1455.54 2115.59 1452.42 Q2115.59 1449.31 2113.81 1447.62 Q2112.03 1445.93 2108.76 1445.93 L2102.88 1445.93 M2098.21 1442.09 L2108.76 1442.09 Q2114.57 1442.09 2117.53 1444.73 Q2120.52 1447.35 2120.52 1452.42 Q2120.52 1457.53 2117.53 1460.15 Q2114.57 1462.76 2108.76 1462.76 L2102.88 1462.76 L2102.88 1476.65 L2098.21 1476.65 L2098.21 1442.09 Z\" fill=\"#000000\" fill-rule=\"evenodd\" fill-opacity=\"1\" /><path clip-path=\"url(#clip210)\" d=\"M 0 0 M2135.78 1479.06 Q2133.97 1483.69 2132.26 1485.1 Q2130.54 1486.51 2127.67 1486.51 L2124.27 1486.51 L2124.27 1482.95 L2126.77 1482.95 Q2128.53 1482.95 2129.5 1482.11 Q2130.47 1481.28 2131.65 1478.18 L2132.42 1476.24 L2121.93 1450.73 L2126.45 1450.73 L2134.55 1471 L2142.65 1450.73 L2147.16 1450.73 L2135.78 1479.06 Z\" fill=\"#000000\" fill-rule=\"evenodd\" fill-opacity=\"1\" /><path clip-path=\"url(#clip210)\" d=\"M 0 0 M2155.84 1443.36 L2155.84 1450.73 L2164.62 1450.73 L2164.62 1454.04 L2155.84 1454.04 L2155.84 1468.11 Q2155.84 1471.28 2156.7 1472.18 Q2157.58 1473.09 2160.24 1473.09 L2164.62 1473.09 L2164.62 1476.65 L2160.24 1476.65 Q2155.31 1476.65 2153.44 1474.82 Q2151.56 1472.97 2151.56 1468.11 L2151.56 1454.04 L2148.44 1454.04 L2148.44 1450.73 L2151.56 1450.73 L2151.56 1443.36 L2155.84 1443.36 Z\" fill=\"#000000\" fill-rule=\"evenodd\" fill-opacity=\"1\" /><path clip-path=\"url(#clip210)\" d=\"M 0 0 M2190.64 1461 L2190.64 1476.65 L2186.38 1476.65 L2186.38 1461.14 Q2186.38 1457.46 2184.94 1455.63 Q2183.51 1453.8 2180.64 1453.8 Q2177.19 1453.8 2175.2 1456 Q2173.21 1458.2 2173.21 1462 L2173.21 1476.65 L2168.92 1476.65 L2168.92 1440.63 L2173.21 1440.63 L2173.21 1454.75 Q2174.73 1452.42 2176.79 1451.26 Q2178.88 1450.1 2181.59 1450.1 Q2186.05 1450.1 2188.34 1452.88 Q2190.64 1455.63 2190.64 1461 Z\" fill=\"#000000\" fill-rule=\"evenodd\" fill-opacity=\"1\" /><path clip-path=\"url(#clip210)\" d=\"M 0 0 M2205.15 1453.71 Q2201.72 1453.71 2199.73 1456.4 Q2197.74 1459.06 2197.74 1463.71 Q2197.74 1468.36 2199.71 1471.05 Q2201.7 1473.71 2205.15 1473.71 Q2208.55 1473.71 2210.54 1471.03 Q2212.53 1468.34 2212.53 1463.71 Q2212.53 1459.11 2210.54 1456.42 Q2208.55 1453.71 2205.15 1453.71 M2205.15 1450.1 Q2210.71 1450.1 2213.88 1453.71 Q2217.05 1457.32 2217.05 1463.71 Q2217.05 1470.08 2213.88 1473.71 Q2210.71 1477.32 2205.15 1477.32 Q2199.57 1477.32 2196.4 1473.71 Q2193.25 1470.08 2193.25 1463.71 Q2193.25 1457.32 2196.4 1453.71 Q2199.57 1450.1 2205.15 1450.1 Z\" fill=\"#000000\" fill-rule=\"evenodd\" fill-opacity=\"1\" /><path clip-path=\"url(#clip210)\" d=\"M 0 0 M2243.07 1461 L2243.07 1476.65 L2238.81 1476.65 L2238.81 1461.14 Q2238.81 1457.46 2237.37 1455.63 Q2235.94 1453.8 2233.07 1453.8 Q2229.62 1453.8 2227.63 1456 Q2225.64 1458.2 2225.64 1462 L2225.64 1476.65 L2221.35 1476.65 L2221.35 1450.73 L2225.64 1450.73 L2225.64 1454.75 Q2227.16 1452.42 2229.22 1451.26 Q2231.31 1450.1 2234.02 1450.1 Q2238.48 1450.1 2240.77 1452.88 Q2243.07 1455.63 2243.07 1461 Z\" fill=\"#000000\" fill-rule=\"evenodd\" fill-opacity=\"1\" /><path clip-path=\"url(#clip210)\" d=\"M 0 0 M2246.86 1440.68 L2250.57 1440.68 Q2254.04 1446.14 2255.75 1451.37 Q2257.49 1456.61 2257.49 1461.77 Q2257.49 1466.95 2255.75 1472.21 Q2254.04 1477.46 2250.57 1482.9 L2246.86 1482.9 Q2249.94 1477.6 2251.45 1472.37 Q2252.97 1467.11 2252.97 1461.77 Q2252.97 1456.42 2251.45 1451.21 Q2249.94 1446 2246.86 1440.68 Z\" fill=\"#000000\" fill-rule=\"evenodd\" fill-opacity=\"1\" /><path clip-path=\"url(#clip210)\" d=\"M 0 0 M193.528 1370.04 Q189.917 1370.04 188.089 1373.6 Q186.283 1377.14 186.283 1384.27 Q186.283 1391.38 188.089 1394.94 Q189.917 1398.49 193.528 1398.49 Q197.163 1398.49 198.968 1394.94 Q200.797 1391.38 200.797 1384.27 Q200.797 1377.14 198.968 1373.6 Q197.163 1370.04 193.528 1370.04 M193.528 1366.33 Q199.338 1366.33 202.394 1370.94 Q205.473 1375.52 205.473 1384.27 Q205.473 1393 202.394 1397.61 Q199.338 1402.19 193.528 1402.19 Q187.718 1402.19 184.639 1397.61 Q181.584 1393 181.584 1384.27 Q181.584 1375.52 184.639 1370.94 Q187.718 1366.33 193.528 1366.33 Z\" fill=\"#000000\" fill-rule=\"evenodd\" fill-opacity=\"1\" /><path clip-path=\"url(#clip210)\" d=\"M 0 0 M135.126 1039.1 L151.445 1039.1 L151.445 1043.04 L129.501 1043.04 L129.501 1039.1 Q132.163 1036.35 136.746 1031.72 Q141.353 1027.07 142.533 1025.72 Q144.779 1023.2 145.658 1021.47 Q146.561 1019.71 146.561 1018.02 Q146.561 1015.26 144.617 1013.53 Q142.695 1011.79 139.593 1011.79 Q137.394 1011.79 134.941 1012.55 Q132.51 1013.32 129.732 1014.87 L129.732 1010.15 Q132.556 1009.01 135.01 1008.43 Q137.464 1007.85 139.501 1007.85 Q144.871 1007.85 148.066 1010.54 Q151.26 1013.22 151.26 1017.72 Q151.26 1019.84 150.45 1021.77 Q149.663 1023.66 147.556 1026.26 Q146.978 1026.93 143.876 1030.15 Q140.774 1033.34 135.126 1039.1 Z\" fill=\"#000000\" fill-rule=\"evenodd\" fill-opacity=\"1\" /><path clip-path=\"url(#clip210)\" d=\"M 0 0 M166.515 1011.56 Q162.903 1011.56 161.075 1015.12 Q159.269 1018.66 159.269 1025.79 Q159.269 1032.9 161.075 1036.47 Q162.903 1040.01 166.515 1040.01 Q170.149 1040.01 171.954 1036.47 Q173.783 1032.9 173.783 1025.79 Q173.783 1018.66 171.954 1015.12 Q170.149 1011.56 166.515 1011.56 M166.515 1007.85 Q172.325 1007.85 175.38 1012.46 Q178.459 1017.04 178.459 1025.79 Q178.459 1034.52 175.38 1039.13 Q172.325 1043.71 166.515 1043.71 Q160.704 1043.71 157.626 1039.13 Q154.57 1034.52 154.57 1025.79 Q154.57 1017.04 157.626 1012.46 Q160.704 1007.85 166.515 1007.85 Z\" fill=\"#000000\" fill-rule=\"evenodd\" fill-opacity=\"1\" /><path clip-path=\"url(#clip210)\" d=\"M 0 0 M193.528 1011.56 Q189.917 1011.56 188.089 1015.12 Q186.283 1018.66 186.283 1025.79 Q186.283 1032.9 188.089 1036.47 Q189.917 1040.01 193.528 1040.01 Q197.163 1040.01 198.968 1036.47 Q200.797 1032.9 200.797 1025.79 Q200.797 1018.66 198.968 1015.12 Q197.163 1011.56 193.528 1011.56 M193.528 1007.85 Q199.338 1007.85 202.394 1012.46 Q205.473 1017.04 205.473 1025.79 Q205.473 1034.52 202.394 1039.13 Q199.338 1043.71 193.528 1043.71 Q187.718 1043.71 184.639 1039.13 Q181.584 1034.52 181.584 1025.79 Q181.584 1017.04 184.639 1012.46 Q187.718 1007.85 193.528 1007.85 Z\" fill=\"#000000\" fill-rule=\"evenodd\" fill-opacity=\"1\" /><path clip-path=\"url(#clip210)\" d=\"M 0 0 M141.862 654.074 L130.056 672.523 L141.862 672.523 L141.862 654.074 M140.635 650 L146.515 650 L146.515 672.523 L151.445 672.523 L151.445 676.412 L146.515 676.412 L146.515 684.56 L141.862 684.56 L141.862 676.412 L126.26 676.412 L126.26 671.898 L140.635 650 Z\" fill=\"#000000\" fill-rule=\"evenodd\" fill-opacity=\"1\" /><path clip-path=\"url(#clip210)\" d=\"M 0 0 M166.515 653.079 Q162.903 653.079 161.075 656.644 Q159.269 660.185 159.269 667.315 Q159.269 674.421 161.075 677.986 Q162.903 681.528 166.515 681.528 Q170.149 681.528 171.954 677.986 Q173.783 674.421 173.783 667.315 Q173.783 660.185 171.954 656.644 Q170.149 653.079 166.515 653.079 M166.515 649.375 Q172.325 649.375 175.38 653.982 Q178.459 658.565 178.459 667.315 Q178.459 676.042 175.38 680.648 Q172.325 685.231 166.515 685.231 Q160.704 685.231 157.626 680.648 Q154.57 676.042 154.57 667.315 Q154.57 658.565 157.626 653.982 Q160.704 649.375 166.515 649.375 Z\" fill=\"#000000\" fill-rule=\"evenodd\" fill-opacity=\"1\" /><path clip-path=\"url(#clip210)\" d=\"M 0 0 M193.528 653.079 Q189.917 653.079 188.089 656.644 Q186.283 660.185 186.283 667.315 Q186.283 674.421 188.089 677.986 Q189.917 681.528 193.528 681.528 Q197.163 681.528 198.968 677.986 Q200.797 674.421 200.797 667.315 Q200.797 660.185 198.968 656.644 Q197.163 653.079 193.528 653.079 M193.528 649.375 Q199.338 649.375 202.394 653.982 Q205.473 658.565 205.473 667.315 Q205.473 676.042 202.394 680.648 Q199.338 685.231 193.528 685.231 Q187.718 685.231 184.639 680.648 Q181.584 676.042 181.584 667.315 Q181.584 658.565 184.639 653.982 Q187.718 649.375 193.528 649.375 Z\" fill=\"#000000\" fill-rule=\"evenodd\" fill-opacity=\"1\" /><path clip-path=\"url(#clip210)\" d=\"M 0 0 M139.917 306.938 Q136.769 306.938 134.918 309.091 Q133.089 311.243 133.089 314.993 Q133.089 318.72 134.918 320.896 Q136.769 323.049 139.917 323.049 Q143.066 323.049 144.894 320.896 Q146.746 318.72 146.746 314.993 Q146.746 311.243 144.894 309.091 Q143.066 306.938 139.917 306.938 M149.2 292.285 L149.2 296.544 Q147.441 295.711 145.635 295.271 Q143.853 294.831 142.093 294.831 Q137.464 294.831 135.01 297.956 Q132.58 301.081 132.232 307.401 Q133.598 305.387 135.658 304.322 Q137.718 303.234 140.195 303.234 Q145.404 303.234 148.413 306.405 Q151.445 309.553 151.445 314.993 Q151.445 320.317 148.297 323.535 Q145.149 326.752 139.917 326.752 Q133.922 326.752 130.751 322.169 Q127.58 317.563 127.58 308.836 Q127.58 300.641 131.468 295.78 Q135.357 290.896 141.908 290.896 Q143.667 290.896 145.45 291.243 Q147.255 291.591 149.2 292.285 Z\" fill=\"#000000\" fill-rule=\"evenodd\" fill-opacity=\"1\" /><path clip-path=\"url(#clip210)\" d=\"M 0 0 M166.515 294.6 Q162.903 294.6 161.075 298.165 Q159.269 301.706 159.269 308.836 Q159.269 315.942 161.075 319.507 Q162.903 323.049 166.515 323.049 Q170.149 323.049 171.954 319.507 Q173.783 315.942 173.783 308.836 Q173.783 301.706 171.954 298.165 Q170.149 294.6 166.515 294.6 M166.515 290.896 Q172.325 290.896 175.38 295.503 Q178.459 300.086 178.459 308.836 Q178.459 317.563 175.38 322.169 Q172.325 326.752 166.515 326.752 Q160.704 326.752 157.626 322.169 Q154.57 317.563 154.57 308.836 Q154.57 300.086 157.626 295.503 Q160.704 290.896 166.515 290.896 Z\" fill=\"#000000\" fill-rule=\"evenodd\" fill-opacity=\"1\" /><path clip-path=\"url(#clip210)\" d=\"M 0 0 M193.528 294.6 Q189.917 294.6 188.089 298.165 Q186.283 301.706 186.283 308.836 Q186.283 315.942 188.089 319.507 Q189.917 323.049 193.528 323.049 Q197.163 323.049 198.968 319.507 Q200.797 315.942 200.797 308.836 Q200.797 301.706 198.968 298.165 Q197.163 294.6 193.528 294.6 M193.528 290.896 Q199.338 290.896 202.394 295.503 Q205.473 300.086 205.473 308.836 Q205.473 317.563 202.394 322.169 Q199.338 326.752 193.528 326.752 Q187.718 326.752 184.639 322.169 Q181.584 317.563 181.584 308.836 Q181.584 300.086 184.639 295.503 Q187.718 290.896 193.528 290.896 Z\" fill=\"#000000\" fill-rule=\"evenodd\" fill-opacity=\"1\" /><path clip-path=\"url(#clip210)\" d=\"M 0 0 M1196.93 1506.52 L1196.93 1511.39 L1191.33 1511.39 Q1188.18 1511.39 1186.94 1512.66 Q1185.73 1513.93 1185.73 1517.24 L1185.73 1520.4 L1195.37 1520.4 L1195.37 1524.95 L1185.73 1524.95 L1185.73 1556.04 L1179.84 1556.04 L1179.84 1524.95 L1174.24 1524.95 L1174.24 1520.4 L1179.84 1520.4 L1179.84 1517.91 Q1179.84 1511.96 1182.61 1509.26 Q1185.38 1506.52 1191.4 1506.52 L1196.93 1506.52 Z\" fill=\"#000000\" fill-rule=\"evenodd\" fill-opacity=\"1\" /><path clip-path=\"url(#clip210)\" d=\"M 0 0 M1202.47 1541.98 L1202.47 1520.4 L1208.33 1520.4 L1208.33 1541.75 Q1208.33 1546.81 1210.3 1549.36 Q1212.28 1551.87 1216.22 1551.87 Q1220.96 1551.87 1223.7 1548.85 Q1226.47 1545.83 1226.47 1540.61 L1226.47 1520.4 L1232.33 1520.4 L1232.33 1556.04 L1226.47 1556.04 L1226.47 1550.57 Q1224.34 1553.82 1221.51 1555.41 Q1218.7 1556.97 1214.98 1556.97 Q1208.84 1556.97 1205.65 1553.15 Q1202.47 1549.33 1202.47 1541.98 M1217.21 1519.54 L1217.21 1519.54 Z\" fill=\"#000000\" fill-rule=\"evenodd\" fill-opacity=\"1\" /><path clip-path=\"url(#clip210)\" d=\"M 0 0 M1268.1 1534.53 L1268.1 1556.04 L1262.25 1556.04 L1262.25 1534.72 Q1262.25 1529.66 1260.27 1527.14 Q1258.3 1524.63 1254.35 1524.63 Q1249.61 1524.63 1246.87 1527.65 Q1244.14 1530.68 1244.14 1535.9 L1244.14 1556.04 L1238.25 1556.04 L1238.25 1520.4 L1244.14 1520.4 L1244.14 1525.93 Q1246.24 1522.72 1249.07 1521.13 Q1251.93 1519.54 1255.66 1519.54 Q1261.8 1519.54 1264.95 1523.36 Q1268.1 1527.14 1268.1 1534.53 Z\" fill=\"#000000\" fill-rule=\"evenodd\" fill-opacity=\"1\" /><path clip-path=\"url(#clip210)\" d=\"M 0 0 M1299.9 1521.76 L1299.9 1527.24 Q1297.42 1525.87 1294.9 1525.2 Q1292.42 1524.5 1289.87 1524.5 Q1284.18 1524.5 1281.02 1528.13 Q1277.87 1531.73 1277.87 1538.25 Q1277.87 1544.78 1281.02 1548.4 Q1284.18 1552 1289.87 1552 Q1292.42 1552 1294.9 1551.33 Q1297.42 1550.63 1299.9 1549.26 L1299.9 1554.68 Q1297.45 1555.82 1294.81 1556.39 Q1292.2 1556.97 1289.24 1556.97 Q1281.18 1556.97 1276.44 1551.91 Q1271.7 1546.85 1271.7 1538.25 Q1271.7 1529.53 1276.47 1524.53 Q1281.28 1519.54 1289.62 1519.54 Q1292.32 1519.54 1294.9 1520.11 Q1297.48 1520.65 1299.9 1521.76 Z\" fill=\"#000000\" fill-rule=\"evenodd\" fill-opacity=\"1\" /><path clip-path=\"url(#clip210)\" d=\"M 0 0 M1311.83 1510.27 L1311.83 1520.4 L1323.9 1520.4 L1323.9 1524.95 L1311.83 1524.95 L1311.83 1544.3 Q1311.83 1548.66 1313.01 1549.9 Q1314.22 1551.14 1317.88 1551.14 L1323.9 1551.14 L1323.9 1556.04 L1317.88 1556.04 Q1311.1 1556.04 1308.52 1553.53 Q1305.95 1550.98 1305.95 1544.3 L1305.95 1524.95 L1301.65 1524.95 L1301.65 1520.4 L1305.95 1520.4 L1305.95 1510.27 L1311.83 1510.27 Z\" fill=\"#000000\" fill-rule=\"evenodd\" fill-opacity=\"1\" /><path clip-path=\"url(#clip210)\" d=\"M 0 0 M1330.04 1520.4 L1335.9 1520.4 L1335.9 1556.04 L1330.04 1556.04 L1330.04 1520.4 M1330.04 1506.52 L1335.9 1506.52 L1335.9 1513.93 L1330.04 1513.93 L1330.04 1506.52 Z\" fill=\"#000000\" fill-rule=\"evenodd\" fill-opacity=\"1\" /><path clip-path=\"url(#clip210)\" d=\"M 0 0 M1355.85 1524.5 Q1351.14 1524.5 1348.41 1528.19 Q1345.67 1531.85 1345.67 1538.25 Q1345.67 1544.65 1348.37 1548.34 Q1351.11 1552 1355.85 1552 Q1360.53 1552 1363.27 1548.31 Q1366.01 1544.62 1366.01 1538.25 Q1366.01 1531.92 1363.27 1528.23 Q1360.53 1524.5 1355.85 1524.5 M1355.85 1519.54 Q1363.49 1519.54 1367.85 1524.5 Q1372.21 1529.47 1372.21 1538.25 Q1372.21 1547 1367.85 1552 Q1363.49 1556.97 1355.85 1556.97 Q1348.18 1556.97 1343.82 1552 Q1339.49 1547 1339.49 1538.25 Q1339.49 1529.47 1343.82 1524.5 Q1348.18 1519.54 1355.85 1519.54 Z\" fill=\"#000000\" fill-rule=\"evenodd\" fill-opacity=\"1\" /><path clip-path=\"url(#clip210)\" d=\"M 0 0 M1407.99 1534.53 L1407.99 1556.04 L1402.13 1556.04 L1402.13 1534.72 Q1402.13 1529.66 1400.16 1527.14 Q1398.19 1524.63 1394.24 1524.63 Q1389.5 1524.63 1386.76 1527.65 Q1384.02 1530.68 1384.02 1535.9 L1384.02 1556.04 L1378.13 1556.04 L1378.13 1520.4 L1384.02 1520.4 L1384.02 1525.93 Q1386.12 1522.72 1388.96 1521.13 Q1391.82 1519.54 1395.54 1519.54 Q1401.69 1519.54 1404.84 1523.36 Q1407.99 1527.14 1407.99 1534.53 Z\" fill=\"#000000\" fill-rule=\"evenodd\" fill-opacity=\"1\" /><path clip-path=\"url(#clip210)\" d=\"M 0 0 M42.2347 1125.33 L52.3562 1125.33 L52.3562 1113.27 L56.9077 1113.27 L56.9077 1125.33 L76.2594 1125.33 Q80.6199 1125.33 81.8613 1124.16 Q83.1026 1122.95 83.1026 1119.29 L83.1026 1113.27 L88.0042 1113.27 L88.0042 1119.29 Q88.0042 1126.07 85.4897 1128.64 Q82.9434 1131.22 76.2594 1131.22 L56.9077 1131.22 L56.9077 1135.52 L52.3562 1135.52 L52.3562 1131.22 L42.2347 1131.22 L42.2347 1125.33 Z\" fill=\"#000000\" fill-rule=\"evenodd\" fill-opacity=\"1\" /><path clip-path=\"url(#clip210)\" d=\"M 0 0 M52.3562 1107.13 L52.3562 1101.27 L88.0042 1101.27 L88.0042 1107.13 L52.3562 1107.13 M38.479 1107.13 L38.479 1101.27 L45.895 1101.27 L45.895 1107.13 L38.479 1107.13 Z\" fill=\"#000000\" fill-rule=\"evenodd\" fill-opacity=\"1\" /><path clip-path=\"url(#clip210)\" d=\"M 0 0 M59.1993 1067.37 Q55.2526 1065.18 53.3747 1062.12 Q51.4968 1059.07 51.4968 1054.93 Q51.4968 1049.36 55.4117 1046.34 Q59.2948 1043.31 66.4881 1043.31 L88.0042 1043.31 L88.0042 1049.2 L66.679 1049.2 Q61.5546 1049.2 59.072 1051.01 Q56.5894 1052.83 56.5894 1056.55 Q56.5894 1061.1 59.6131 1063.75 Q62.6368 1066.39 67.8567 1066.39 L88.0042 1066.39 L88.0042 1072.28 L66.679 1072.28 Q61.5228 1072.28 59.072 1074.09 Q56.5894 1075.9 56.5894 1079.69 Q56.5894 1084.18 59.6449 1086.82 Q62.6686 1089.46 67.8567 1089.46 L88.0042 1089.46 L88.0042 1095.35 L52.3562 1095.35 L52.3562 1089.46 L57.8944 1089.46 Q54.616 1087.46 53.0564 1084.66 Q51.4968 1081.86 51.4968 1078.01 Q51.4968 1074.12 53.4702 1071.42 Q55.4436 1068.68 59.1993 1067.37 Z\" fill=\"#000000\" fill-rule=\"evenodd\" fill-opacity=\"1\" /><path clip-path=\"url(#clip210)\" d=\"M 0 0 M68.7161 1006.68 L71.5806 1006.68 L71.5806 1033.6 Q77.6281 1033.22 80.8109 1029.98 Q83.9619 1026.7 83.9619 1020.87 Q83.9619 1017.5 83.1344 1014.35 Q82.3069 1011.17 80.6518 1008.05 L86.1899 1008.05 Q87.5267 1011.2 88.227 1014.51 Q88.9272 1017.82 88.9272 1021.22 Q88.9272 1029.75 83.9619 1034.75 Q78.9967 1039.72 70.5303 1039.72 Q61.7774 1039.72 56.6531 1035 Q51.4968 1030.26 51.4968 1022.24 Q51.4968 1015.05 56.1438 1010.88 Q60.7589 1006.68 68.7161 1006.68 M66.9973 1012.53 Q62.1912 1012.6 59.3266 1015.24 Q56.4621 1017.85 56.4621 1022.18 Q56.4621 1027.08 59.2312 1030.04 Q62.0002 1032.97 67.0292 1033.41 L66.9973 1012.53 Z\" fill=\"#000000\" fill-rule=\"evenodd\" fill-opacity=\"1\" /><path clip-path=\"url(#clip210)\" d=\"M 0 0 M38.5426 965.746 Q45.8632 970.011 53.0246 972.08 Q60.186 974.149 67.5384 974.149 Q74.8908 974.149 82.1159 972.08 Q89.3091 969.979 96.5979 965.746 L96.5979 970.839 Q89.1182 975.613 81.8931 978 Q74.668 980.355 67.5384 980.355 Q60.4406 980.355 53.2474 978 Q46.0542 975.645 38.5426 970.839 L38.5426 965.746 Z\" fill=\"#000000\" fill-rule=\"evenodd\" fill-opacity=\"1\" /><path clip-path=\"url(#clip210)\" d=\"M 0 0 M59.1993 931.849 Q55.2526 929.652 53.3747 926.597 Q51.4968 923.541 51.4968 919.404 Q51.4968 913.834 55.4117 910.81 Q59.2948 907.786 66.4881 907.786 L88.0042 907.786 L88.0042 913.675 L66.679 913.675 Q61.5546 913.675 59.072 915.489 Q56.5894 917.303 56.5894 921.027 Q56.5894 925.578 59.6131 928.22 Q62.6368 930.862 67.8567 930.862 L88.0042 930.862 L88.0042 936.75 L66.679 936.75 Q61.5228 936.75 59.072 938.564 Q56.5894 940.379 56.5894 944.166 Q56.5894 948.654 59.6449 951.296 Q62.6686 953.938 67.8567 953.938 L88.0042 953.938 L88.0042 959.826 L52.3562 959.826 L52.3562 953.938 L57.8944 953.938 Q54.616 951.932 53.0564 949.132 Q51.4968 946.331 51.4968 942.479 Q51.4968 938.596 53.4702 935.891 Q55.4436 933.154 59.1993 931.849 Z\" fill=\"#000000\" fill-rule=\"evenodd\" fill-opacity=\"1\" /><path clip-path=\"url(#clip210)\" d=\"M 0 0 M53.4065 878.918 L58.9447 878.918 Q57.6716 881.4 57.035 884.074 Q56.3984 886.748 56.3984 889.612 Q56.3984 893.973 57.7352 896.169 Q59.072 898.333 61.7456 898.333 Q63.7826 898.333 64.9603 896.774 Q66.1061 895.214 67.1565 890.503 L67.6021 888.498 Q68.9389 882.26 71.3897 879.65 Q73.8086 877.008 78.1691 877.008 Q83.1344 877.008 86.0308 880.955 Q88.9272 884.87 88.9272 891.745 Q88.9272 894.609 88.3543 897.728 Q87.8132 900.816 86.6992 904.253 L80.6518 904.253 Q82.3387 901.007 83.198 897.856 Q84.0256 894.705 84.0256 891.617 Q84.0256 887.48 82.6251 885.252 Q81.1929 883.024 78.6147 883.024 Q76.2276 883.024 74.9545 884.647 Q73.6813 886.238 72.5037 891.681 L72.0262 893.718 Q70.8804 899.161 68.5251 901.58 Q66.138 903.999 62.0002 903.999 Q56.9713 903.999 54.2341 900.434 Q51.4968 896.869 51.4968 890.312 Q51.4968 887.066 51.9743 884.201 Q52.4517 881.337 53.4065 878.918 Z\" fill=\"#000000\" fill-rule=\"evenodd\" fill-opacity=\"1\" /><path clip-path=\"url(#clip210)\" d=\"M 0 0 M79.9197 869.369 L79.9197 862.653 L85.3942 862.653 L95.5793 867.873 L95.5793 871.979 L85.3942 869.369 L79.9197 869.369 Z\" fill=\"#000000\" fill-rule=\"evenodd\" fill-opacity=\"1\" /><path clip-path=\"url(#clip210)\" d=\"M 0 0 M53.4065 813.065 L58.9447 813.065 Q57.6716 815.547 57.035 818.221 Q56.3984 820.894 56.3984 823.759 Q56.3984 828.119 57.7352 830.316 Q59.072 832.48 61.7456 832.48 Q63.7826 832.48 64.9603 830.92 Q66.1061 829.361 67.1565 824.65 L67.6021 822.645 Q68.9389 816.407 71.3897 813.797 Q73.8086 811.155 78.1691 811.155 Q83.1344 811.155 86.0308 815.102 Q88.9272 819.016 88.9272 825.891 Q88.9272 828.756 88.3543 831.875 Q87.8132 834.963 86.6992 838.4 L80.6518 838.4 Q82.3387 835.154 83.198 832.003 Q84.0256 828.852 84.0256 825.764 Q84.0256 821.626 82.6251 819.398 Q81.1929 817.17 78.6147 817.17 Q76.2276 817.17 74.9545 818.794 Q73.6813 820.385 72.5037 825.828 L72.0262 827.865 Q70.8804 833.308 68.5251 835.726 Q66.138 838.145 62.0002 838.145 Q56.9713 838.145 54.2341 834.581 Q51.4968 831.016 51.4968 824.459 Q51.4968 821.213 51.9743 818.348 Q52.4517 815.484 53.4065 813.065 Z\" fill=\"#000000\" fill-rule=\"evenodd\" fill-opacity=\"1\" /><path clip-path=\"url(#clip210)\" d=\"M 0 0 M66.4881 775.38 L88.0042 775.38 L88.0042 781.236 L66.679 781.236 Q61.6183 781.236 59.1038 783.209 Q56.5894 785.183 56.5894 789.13 Q56.5894 793.872 59.6131 796.609 Q62.6368 799.346 67.8567 799.346 L88.0042 799.346 L88.0042 805.235 L38.479 805.235 L38.479 799.346 L57.8944 799.346 Q54.6797 797.246 53.0883 794.413 Q51.4968 791.548 51.4968 787.825 Q51.4968 781.682 55.3163 778.531 Q59.1038 775.38 66.4881 775.38 Z\" fill=\"#000000\" fill-rule=\"evenodd\" fill-opacity=\"1\" /><path clip-path=\"url(#clip210)\" d=\"M 0 0 M56.4621 755.423 Q56.4621 760.134 60.1542 762.871 Q63.8145 765.608 70.212 765.608 Q76.6095 765.608 80.3017 762.903 Q83.9619 760.166 83.9619 755.423 Q83.9619 750.744 80.2698 748.007 Q76.5777 745.27 70.212 745.27 Q63.8781 745.27 60.186 748.007 Q56.4621 750.744 56.4621 755.423 M51.4968 755.423 Q51.4968 747.784 56.4621 743.424 Q61.4273 739.063 70.212 739.063 Q78.9649 739.063 83.9619 743.424 Q88.9272 747.784 88.9272 755.423 Q88.9272 763.094 83.9619 767.454 Q78.9649 771.783 70.212 771.783 Q61.4273 771.783 56.4621 767.454 Q51.4968 763.094 51.4968 755.423 Z\" fill=\"#000000\" fill-rule=\"evenodd\" fill-opacity=\"1\" /><path clip-path=\"url(#clip210)\" d=\"M 0 0 M57.8307 712.264 Q57.2578 713.25 57.0032 714.428 Q56.7167 715.574 56.7167 716.974 Q56.7167 721.939 59.9632 724.613 Q63.1779 727.255 69.2253 727.255 L88.0042 727.255 L88.0042 733.143 L52.3562 733.143 L52.3562 727.255 L57.8944 727.255 Q54.6479 725.409 53.0883 722.449 Q51.4968 719.489 51.4968 715.255 Q51.4968 714.651 51.5923 713.919 Q51.656 713.187 51.8151 712.295 L57.8307 712.264 Z\" fill=\"#000000\" fill-rule=\"evenodd\" fill-opacity=\"1\" /><path clip-path=\"url(#clip210)\" d=\"M 0 0 M42.2347 700.328 L52.3562 700.328 L52.3562 688.265 L56.9077 688.265 L56.9077 700.328 L76.2594 700.328 Q80.6199 700.328 81.8613 699.15 Q83.1026 697.941 83.1026 694.28 L83.1026 688.265 L88.0042 688.265 L88.0042 694.28 Q88.0042 701.06 85.4897 703.638 Q82.9434 706.216 76.2594 706.216 L56.9077 706.216 L56.9077 710.513 L52.3562 710.513 L52.3562 706.216 L42.2347 706.216 L42.2347 700.328 Z\" fill=\"#000000\" fill-rule=\"evenodd\" fill-opacity=\"1\" /><path clip-path=\"url(#clip210)\" d=\"M 0 0 M68.7161 651.63 L71.5806 651.63 L71.5806 678.557 Q77.6281 678.175 80.8109 674.929 Q83.9619 671.65 83.9619 665.826 Q83.9619 662.452 83.1344 659.301 Q82.3069 656.118 80.6518 652.999 L86.1899 652.999 Q87.5267 656.15 88.227 659.46 Q88.9272 662.77 88.9272 666.176 Q88.9272 674.706 83.9619 679.703 Q78.9967 684.668 70.5303 684.668 Q61.7774 684.668 56.6531 679.958 Q51.4968 675.215 51.4968 667.194 Q51.4968 660.001 56.1438 655.832 Q60.7589 651.63 68.7161 651.63 M66.9973 657.487 Q62.1912 657.55 59.3266 660.192 Q56.4621 662.802 56.4621 667.131 Q56.4621 672.032 59.2312 674.992 Q62.0002 677.921 67.0292 678.366 L66.9973 657.487 Z\" fill=\"#000000\" fill-rule=\"evenodd\" fill-opacity=\"1\" /><path clip-path=\"url(#clip210)\" d=\"M 0 0 M57.8307 624.831 Q57.2578 625.817 57.0032 626.995 Q56.7167 628.141 56.7167 629.541 Q56.7167 634.506 59.9632 637.18 Q63.1779 639.822 69.2253 639.822 L88.0042 639.822 L88.0042 645.71 L52.3562 645.71 L52.3562 639.822 L57.8944 639.822 Q54.6479 637.976 53.0883 635.016 Q51.4968 632.056 51.4968 627.822 Q51.4968 627.218 51.5923 626.486 Q51.656 625.754 51.8151 624.862 L57.8307 624.831 Z\" fill=\"#000000\" fill-rule=\"evenodd\" fill-opacity=\"1\" /><path clip-path=\"url(#clip210)\" d=\"M 0 0 M52.3562 597.967 L52.3562 592.111 L88.0042 592.111 L88.0042 597.967 L52.3562 597.967 M38.479 597.967 L38.479 592.111 L45.895 592.111 L45.895 597.967 L38.479 597.967 Z\" fill=\"#000000\" fill-rule=\"evenodd\" fill-opacity=\"1\" /><path clip-path=\"url(#clip210)\" d=\"M 0 0 M53.4065 563.242 L58.9447 563.242 Q57.6716 565.725 57.035 568.399 Q56.3984 571.072 56.3984 573.937 Q56.3984 578.297 57.7352 580.493 Q59.072 582.658 61.7456 582.658 Q63.7826 582.658 64.9603 581.098 Q66.1061 579.539 67.1565 574.828 L67.6021 572.823 Q68.9389 566.584 71.3897 563.974 Q73.8086 561.333 78.1691 561.333 Q83.1344 561.333 86.0308 565.279 Q88.9272 569.194 88.9272 576.069 Q88.9272 578.934 88.3543 582.053 Q87.8132 585.14 86.6992 588.578 L80.6518 588.578 Q82.3387 585.331 83.198 582.18 Q84.0256 579.029 84.0256 575.942 Q84.0256 571.804 82.6251 569.576 Q81.1929 567.348 78.6147 567.348 Q76.2276 567.348 74.9545 568.972 Q73.6813 570.563 72.5037 576.006 L72.0262 578.043 Q70.8804 583.485 68.5251 585.904 Q66.138 588.323 62.0002 588.323 Q56.9713 588.323 54.2341 584.758 Q51.4968 581.194 51.4968 574.637 Q51.4968 571.391 51.9743 568.526 Q52.4517 565.661 53.4065 563.242 Z\" fill=\"#000000\" fill-rule=\"evenodd\" fill-opacity=\"1\" /><path clip-path=\"url(#clip210)\" d=\"M 0 0 M70.212 508.879 Q63.7508 508.879 60.0905 511.553 Q56.3984 514.195 56.3984 518.842 Q56.3984 523.489 60.0905 526.162 Q63.7508 528.804 70.212 528.804 Q76.6732 528.804 80.3653 526.162 Q84.0256 523.489 84.0256 518.842 Q84.0256 514.195 80.3653 511.553 Q76.6732 508.879 70.212 508.879 M57.7671 528.804 Q54.5842 526.958 53.0564 524.157 Q51.4968 521.324 51.4968 517.409 Q51.4968 510.916 56.6531 506.874 Q61.8093 502.8 70.212 502.8 Q78.6147 502.8 83.771 506.874 Q88.9272 510.916 88.9272 517.409 Q88.9272 521.324 87.3994 524.157 Q85.8398 526.958 82.657 528.804 L88.0042 528.804 L88.0042 534.692 L38.479 534.692 L38.479 528.804 L57.7671 528.804 Z\" fill=\"#000000\" fill-rule=\"evenodd\" fill-opacity=\"1\" /><path clip-path=\"url(#clip210)\" d=\"M 0 0 M68.7161 466.165 L71.5806 466.165 L71.5806 493.092 Q77.6281 492.71 80.8109 489.464 Q83.9619 486.186 83.9619 480.361 Q83.9619 476.987 83.1344 473.836 Q82.3069 470.653 80.6518 467.534 L86.1899 467.534 Q87.5267 470.685 88.227 473.995 Q88.9272 477.305 88.9272 480.711 Q88.9272 489.241 83.9619 494.238 Q78.9967 499.203 70.5303 499.203 Q61.7774 499.203 56.6531 494.493 Q51.4968 489.75 51.4968 481.73 Q51.4968 474.536 56.1438 470.367 Q60.7589 466.165 68.7161 466.165 M66.9973 472.022 Q62.1912 472.085 59.3266 474.727 Q56.4621 477.337 56.4621 481.666 Q56.4621 486.567 59.2312 489.528 Q62.0002 492.456 67.0292 492.901 L66.9973 472.022 Z\" fill=\"#000000\" fill-rule=\"evenodd\" fill-opacity=\"1\" /><path clip-path=\"url(#clip210)\" d=\"M 0 0 M42.2347 454.23 L52.3562 454.23 L52.3562 442.167 L56.9077 442.167 L56.9077 454.23 L76.2594 454.23 Q80.6199 454.23 81.8613 453.052 Q83.1026 451.843 83.1026 448.182 L83.1026 442.167 L88.0042 442.167 L88.0042 448.182 Q88.0042 454.962 85.4897 457.54 Q82.9434 460.118 76.2594 460.118 L56.9077 460.118 L56.9077 464.415 L52.3562 464.415 L52.3562 460.118 L42.2347 460.118 L42.2347 454.23 Z\" fill=\"#000000\" fill-rule=\"evenodd\" fill-opacity=\"1\" /><path clip-path=\"url(#clip210)\" d=\"M 0 0 M42.2347 430.231 L52.3562 430.231 L52.3562 418.168 L56.9077 418.168 L56.9077 430.231 L76.2594 430.231 Q80.6199 430.231 81.8613 429.053 Q83.1026 427.844 83.1026 424.184 L83.1026 418.168 L88.0042 418.168 L88.0042 424.184 Q88.0042 430.963 85.4897 433.541 Q82.9434 436.119 76.2594 436.119 L56.9077 436.119 L56.9077 440.416 L52.3562 440.416 L52.3562 436.119 L42.2347 436.119 L42.2347 430.231 Z\" fill=\"#000000\" fill-rule=\"evenodd\" fill-opacity=\"1\" /><path clip-path=\"url(#clip210)\" d=\"M 0 0 M68.7161 381.533 L71.5806 381.533 L71.5806 408.46 Q77.6281 408.078 80.8109 404.832 Q83.9619 401.553 83.9619 395.729 Q83.9619 392.355 83.1344 389.204 Q82.3069 386.021 80.6518 382.902 L86.1899 382.902 Q87.5267 386.053 88.227 389.363 Q88.9272 392.673 88.9272 396.079 Q88.9272 404.609 83.9619 409.606 Q78.9967 414.571 70.5303 414.571 Q61.7774 414.571 56.6531 409.861 Q51.4968 405.118 51.4968 397.097 Q51.4968 389.904 56.1438 385.735 Q60.7589 381.533 68.7161 381.533 M66.9973 387.39 Q62.1912 387.453 59.3266 390.095 Q56.4621 392.705 56.4621 397.034 Q56.4621 401.935 59.2312 404.895 Q62.0002 407.824 67.0292 408.269 L66.9973 387.39 Z\" fill=\"#000000\" fill-rule=\"evenodd\" fill-opacity=\"1\" /><path clip-path=\"url(#clip210)\" d=\"M 0 0 M57.8307 354.734 Q57.2578 355.72 57.0032 356.898 Q56.7167 358.044 56.7167 359.444 Q56.7167 364.41 59.9632 367.083 Q63.1779 369.725 69.2253 369.725 L88.0042 369.725 L88.0042 375.613 L52.3562 375.613 L52.3562 369.725 L57.8944 369.725 Q54.6479 367.879 53.0883 364.919 Q51.4968 361.959 51.4968 357.726 Q51.4968 357.121 51.5923 356.389 Q51.656 355.657 51.8151 354.766 L57.8307 354.734 Z\" fill=\"#000000\" fill-rule=\"evenodd\" fill-opacity=\"1\" /><path clip-path=\"url(#clip210)\" d=\"M 0 0 M38.5426 349.514 L38.5426 344.421 Q46.0542 339.647 53.2474 337.292 Q60.4406 334.905 67.5384 334.905 Q74.668 334.905 81.8931 337.292 Q89.1182 339.647 96.5979 344.421 L96.5979 349.514 Q89.3091 345.281 82.1159 343.212 Q74.8908 341.111 67.5384 341.111 Q60.186 341.111 53.0246 343.212 Q45.8632 345.281 38.5426 349.514 Z\" fill=\"#000000\" fill-rule=\"evenodd\" fill-opacity=\"1\" /><path clip-path=\"url(#clip212)\" d=\"\n",
       "M346.257 1363.27 L346.257 1384.24 L661.209 1384.24 L661.209 1363.27 L346.257 1363.27 L346.257 1363.27  Z\n",
       "  \" fill=\"#009af9\" fill-rule=\"evenodd\" fill-opacity=\"1\"/>\n",
       "<polyline clip-path=\"url(#clip212)\" style=\"stroke:#000000; stroke-width:4; stroke-opacity:1; fill:none\" points=\"\n",
       "  346.257,1363.27 346.257,1384.24 661.209,1384.24 661.209,1363.27 346.257,1363.27 \n",
       "  \"/>\n",
       "<path clip-path=\"url(#clip212)\" d=\"\n",
       "M739.948 1363.98 L739.948 1384.24 L1054.9 1384.24 L1054.9 1363.98 L739.948 1363.98 L739.948 1363.98  Z\n",
       "  \" fill=\"#009af9\" fill-rule=\"evenodd\" fill-opacity=\"1\"/>\n",
       "<polyline clip-path=\"url(#clip212)\" style=\"stroke:#000000; stroke-width:4; stroke-opacity:1; fill:none\" points=\"\n",
       "  739.948,1363.98 739.948,1384.24 1054.9,1384.24 1054.9,1363.98 739.948,1363.98 \n",
       "  \"/>\n",
       "<path clip-path=\"url(#clip212)\" d=\"\n",
       "M1133.64 1374.56 L1133.64 1384.24 L1448.59 1384.24 L1448.59 1374.56 L1133.64 1374.56 L1133.64 1374.56  Z\n",
       "  \" fill=\"#009af9\" fill-rule=\"evenodd\" fill-opacity=\"1\"/>\n",
       "<polyline clip-path=\"url(#clip212)\" style=\"stroke:#000000; stroke-width:4; stroke-opacity:1; fill:none\" points=\"\n",
       "  1133.64,1374.56 1133.64,1384.24 1448.59,1384.24 1448.59,1374.56 1133.64,1374.56 \n",
       "  \"/>\n",
       "<path clip-path=\"url(#clip212)\" d=\"\n",
       "M1527.33 1374.74 L1527.33 1384.24 L1842.28 1384.24 L1842.28 1374.74 L1527.33 1374.74 L1527.33 1374.74  Z\n",
       "  \" fill=\"#009af9\" fill-rule=\"evenodd\" fill-opacity=\"1\"/>\n",
       "<polyline clip-path=\"url(#clip212)\" style=\"stroke:#000000; stroke-width:4; stroke-opacity:1; fill:none\" points=\"\n",
       "  1527.33,1374.74 1527.33,1384.24 1842.28,1384.24 1842.28,1374.74 1527.33,1374.74 \n",
       "  \"/>\n",
       "<path clip-path=\"url(#clip212)\" d=\"\n",
       "M1921.02 86.1857 L1921.02 1384.24 L2235.97 1384.24 L2235.97 86.1857 L1921.02 86.1857 L1921.02 86.1857  Z\n",
       "  \" fill=\"#009af9\" fill-rule=\"evenodd\" fill-opacity=\"1\"/>\n",
       "<polyline clip-path=\"url(#clip212)\" style=\"stroke:#000000; stroke-width:4; stroke-opacity:1; fill:none\" points=\"\n",
       "  1921.02,86.1857 1921.02,1384.24 2235.97,1384.24 2235.97,86.1857 1921.02,86.1857 \n",
       "  \"/>\n",
       "</svg>\n"
      ]
     },
     "execution_count": 74,
     "metadata": {},
     "output_type": "execute_result"
    }
   ],
   "source": [
    "results = [\n",
    "    \"my_sum (Julia)\" => 11.7,\n",
    "    \"c_sum (C)\" => 11.3,\n",
    "    \"sum (Julia)\" => 5.4,\n",
    "    \"my_fast_sum (Julia)\" => 5.3,\n",
    "    \"py_sum (Python)\" => 724.2,\n",
    "]\n",
    "\n",
    "bar(first.(results), last.(results), xlabel=\"function\", ylabel=\"time (ms, shorter is better)\", legend=nothing)"
   ]
  },
  {
   "cell_type": "markdown",
   "metadata": {
    "slideshow": {
     "slide_type": "subslide"
    }
   },
   "source": [
    "### What about Numpy or Cython?\n",
    "\n",
    "* Of course, there are faster ways to sum a vector of `double`s in Python than a `for` loop. \n",
    "* `numpy.sum()` is just as fast as Julia's `sum()` for large vectors...\n",
    "* ...but there are some caveats:\n",
    "  * NumPy is only efficient for a pre-determined set of numeric types. \n",
    "  * NumPy cannot be extended without switching into an entirely different programming language, build system, and code environment. \n",
    "  * So, if `numpy.sum()` happens to cover the cases you actually need, then go for it!\n",
    "  * But if you want to be able to write efficient code that does not happen to cover the specific set of functions and types in NumPy, then you need Julia. "
   ]
  },
  {
   "cell_type": "code",
   "execution_count": 75,
   "metadata": {
    "slideshow": {
     "slide_type": "subslide"
    }
   },
   "outputs": [],
   "source": [
    "struct Point{T}\n",
    "    x::T\n",
    "    y::T\n",
    "end\n",
    "\n",
    "function Base.zero(::Type{Point{T}}) where {T} \n",
    "    Point{T}(zero(T), zero(T))\n",
    "end\n",
    "    \n",
    "Base.:+(p1::Point, p2::Point) = Point(p1.x + p2.x, p1.y + p2.y)\n",
    "\n",
    "points = [Point(rand(), rand()) for _ in 1:10^7];"
   ]
  },
  {
   "cell_type": "code",
   "execution_count": 76,
   "metadata": {
    "slideshow": {
     "slide_type": "fragment"
    }
   },
   "outputs": [
    {
     "name": "stdout",
     "output_type": "stream",
     "text": [
      "  15.001 ms (0 allocations: 0 bytes)\n"
     ]
    },
    {
     "data": {
      "text/plain": [
       "Point{Float64}(5.000181181696696e6, 5.000916078448208e6)"
      ]
     },
     "execution_count": 76,
     "metadata": {},
     "output_type": "execute_result"
    }
   ],
   "source": [
    "@btime my_fast_sum($points)"
   ]
  },
  {
   "cell_type": "code",
   "execution_count": 77,
   "metadata": {
    "slideshow": {
     "slide_type": "subslide"
    }
   },
   "outputs": [
    {
     "name": "stdout",
     "output_type": "stream",
     "text": [
      "\t.text\n",
      "; ┌ @ In[64]:2 within `my_fast_sum'\n",
      "\tmovq\t%rdi, %rax\n",
      "; │ @ In[64]:8 within `my_fast_sum'\n",
      "; │┌ @ simdloop.jl:71 within `macro expansion'\n",
      "; ││┌ @ simdloop.jl:51 within `simd_inner_length'\n",
      "; │││┌ @ array.jl:221 within `length'\n",
      "\tmovq\t8(%rsi), %rcx\n",
      "; ││└└\n",
      "; ││ @ simdloop.jl:72 within `macro expansion'\n",
      "; ││┌ @ int.jl:49 within `<'\n",
      "\ttestq\t%rcx, %rcx\n",
      "; ││└\n",
      "\tjle\tL51\n",
      "\tmovq\t(%rsi), %rdx\n",
      "\tvxorpd\t%xmm0, %xmm0, %xmm0\n",
      "\tnopw\t%cs:(%rax,%rax)\n",
      "\tnopl\t(%rax)\n",
      "; ││ @ simdloop.jl:77 within `macro expansion' @ In[64]:9\n",
      "; ││┌ @ In[75]:10 within `+' @ float.jl:401\n",
      "L32:\n",
      "\tvaddpd\t(%rdx), %xmm0, %xmm0\n",
      "; ││└\n",
      "; ││ @ simdloop.jl:75 within `macro expansion'\n",
      "; ││┌ @ int.jl:49 within `<'\n",
      "\taddq\t$16, %rdx\n",
      "\taddq\t$-1, %rcx\n",
      "; ││└\n",
      "\tjne\tL32\n",
      "; │└\n",
      "; │ @ In[64]:11 within `my_fast_sum'\n",
      "\tvmovupd\t%xmm0, (%rax)\n",
      "\tretq\n",
      "L51:\n",
      "\tvxorps\t%xmm0, %xmm0, %xmm0\n",
      "; │ @ In[64]:11 within `my_fast_sum'\n",
      "\tvmovups\t%xmm0, (%rax)\n",
      "\tretq\n",
      "\tnopl\t(%rax)\n",
      "; └\n"
     ]
    }
   ],
   "source": [
    "@code_native my_fast_sum(points)"
   ]
  },
  {
   "cell_type": "markdown",
   "metadata": {
    "slideshow": {
     "slide_type": "slide"
    }
   },
   "source": [
    "# Bonus Features of Julia"
   ]
  },
  {
   "cell_type": "markdown",
   "metadata": {
    "slideshow": {
     "slide_type": "subslide"
    }
   },
   "source": [
    "## Asynchronous Tasks\n",
    "\n",
    "Julia supports asynchronous cooperative tasks, with `libuv` providing the backend. These tasks are great for handling operations like IO or network requests:"
   ]
  },
  {
   "cell_type": "code",
   "execution_count": 78,
   "metadata": {
    "slideshow": {
     "slide_type": "fragment"
    }
   },
   "outputs": [],
   "source": [
    "using HTTP: request"
   ]
  },
  {
   "cell_type": "code",
   "execution_count": 83,
   "metadata": {},
   "outputs": [
    {
     "name": "stdout",
     "output_type": "stream",
     "text": [
      "starting request 1\n",
      "starting request 2\n",
      "starting request 3\n",
      "starting request 4\n",
      "starting request 5\n",
      "got response 2 with status 200\n",
      "got response 4 with status 200\n",
      "got response 3 with status 200\n",
      "got response 1 with status 200\n",
      "got response 5 with status 200\n"
     ]
    }
   ],
   "source": [
    "for i in 1:5\n",
    "    @async begin\n",
    "        println(\"starting request $i\")\n",
    "        r = request(\"GET\", \"https://jsonplaceholder.typicode.com/posts/$i\")\n",
    "        println(\"got response $i with status $(r.status)\")\n",
    "    end\n",
    "end\n",
    "        "
   ]
  },
  {
   "cell_type": "markdown",
   "metadata": {
    "slideshow": {
     "slide_type": "subslide"
    }
   },
   "source": [
    "## Multi-Threading\n",
    "\n",
    "\n",
    "Julia also supports parallel and distributed computing (see https://docs.julialang.org/en/v1/manual/parallel-computing/ for more). In addition, Julia 1.3 implemented a new feature, the Parallel Task Run-Time (PATR), which allows for *composable* multi-threading. It is now possible for a parallelized Julia function to call other parallelized code without over-subsubscribing the available processors. See \n",
    "https://julialang.org/blog/2019/07/multithreading/ for more. "
   ]
  },
  {
   "cell_type": "code",
   "execution_count": 84,
   "metadata": {
    "slideshow": {
     "slide_type": "fragment"
    }
   },
   "outputs": [
    {
     "data": {
      "text/plain": [
       "fib (generic function with 1 method)"
      ]
     },
     "execution_count": 84,
     "metadata": {},
     "output_type": "execute_result"
    }
   ],
   "source": [
    "using Base.Threads: @spawn\n",
    "\n",
    "\n",
    "function fib(n::Int)\n",
    "    if n < 2\n",
    "        return n\n",
    "    end\n",
    "    # `@spawn` creates a new parallel task. Tasks are lightweight and can be\n",
    "    # created at will. The Julia Parallel Task Run-Time handles scheduling the\n",
    "    # tasks to native threads in a depth first manner. That means that you can\n",
    "    # write parallel code which calls other parallel code without over-subscribing\n",
    "    # your available processors. \n",
    "    t = @spawn fib(n - 2)\n",
    "    return fib(n - 1) + fetch(t)\n",
    "end "
   ]
  },
  {
   "cell_type": "markdown",
   "metadata": {
    "slideshow": {
     "slide_type": "subslide"
    }
   },
   "source": [
    "## No Implicit Copying\n",
    "\n",
    "Values are never copied unless you intentionally copy or convert them. That means that functions can mutate their input arguments to efficiently do work in-place:"
   ]
  },
  {
   "cell_type": "code",
   "execution_count": 85,
   "metadata": {
    "slideshow": {
     "slide_type": "fragment"
    }
   },
   "outputs": [
    {
     "data": {
      "text/plain": [
       "invert!"
      ]
     },
     "execution_count": 85,
     "metadata": {},
     "output_type": "execute_result"
    }
   ],
   "source": [
    "\"\"\"\n",
    "Invert the sign of the vector `x`, operating in-place to avoid any memory allocation.\n",
    "\"\"\"\n",
    "function invert!(x::AbstractVector)\n",
    "    for i in eachindex(x)\n",
    "        x[i] = -x[i]\n",
    "    end\n",
    "end"
   ]
  },
  {
   "cell_type": "markdown",
   "metadata": {},
   "source": [
    "Note: the `!` in the function name is just a convention: it signals to readers of the code\n",
    "that the input argument `x` will be modified."
   ]
  },
  {
   "cell_type": "code",
   "execution_count": 86,
   "metadata": {
    "slideshow": {
     "slide_type": "subslide"
    }
   },
   "outputs": [
    {
     "data": {
      "text/plain": [
       "3-element Array{Int64,1}:\n",
       " -1\n",
       " -2\n",
       " -3"
      ]
     },
     "execution_count": 86,
     "metadata": {},
     "output_type": "execute_result"
    }
   ],
   "source": [
    "x = [1, 2, 3]\n",
    "invert!(x)\n",
    "x"
   ]
  },
  {
   "cell_type": "code",
   "execution_count": 87,
   "metadata": {
    "slideshow": {
     "slide_type": "fragment"
    }
   },
   "outputs": [
    {
     "name": "stdout",
     "output_type": "stream",
     "text": [
      "  4.133 ns (0 allocations: 0 bytes)\n"
     ]
    }
   ],
   "source": [
    "@btime invert!($x)"
   ]
  },
  {
   "cell_type": "markdown",
   "metadata": {
    "slideshow": {
     "slide_type": "subslide"
    }
   },
   "source": [
    "## Anything Can Be a Value\n",
    "\n",
    "Julia has no special rules about what can or cannot be assigned to a variable or passed to a function. "
   ]
  },
  {
   "cell_type": "markdown",
   "metadata": {
    "slideshow": {
     "slide_type": "subslide"
    }
   },
   "source": [
    "### Functions are Values\n",
    "\n",
    "A Julia function is a value like any other, so passing functions around and implementing higher-order functions is trivial:"
   ]
  },
  {
   "cell_type": "code",
   "execution_count": 88,
   "metadata": {
    "slideshow": {
     "slide_type": "fragment"
    }
   },
   "outputs": [
    {
     "data": {
      "text/plain": [
       "map_reduce"
      ]
     },
     "execution_count": 88,
     "metadata": {},
     "output_type": "execute_result"
    }
   ],
   "source": [
    "\"\"\"\n",
    "map_reduce: apply `operator` to each element in `array` and reduce pairwise via `reduction`\n",
    "\"\"\"\n",
    "function map_reduce(operator, reduction, array, initial_value)\n",
    "    result = initial_value\n",
    "    for item in array\n",
    "        result = reduction(result, operator(item))\n",
    "    end\n",
    "    result\n",
    "end"
   ]
  },
  {
   "cell_type": "code",
   "execution_count": 89,
   "metadata": {
    "slideshow": {
     "slide_type": "fragment"
    }
   },
   "outputs": [
    {
     "data": {
      "text/plain": [
       "1.1350859243855171"
      ]
     },
     "execution_count": 89,
     "metadata": {},
     "output_type": "execute_result"
    }
   ],
   "source": [
    "map_reduce(sin, +, [1, 2, 3, 4], 0)"
   ]
  },
  {
   "cell_type": "markdown",
   "metadata": {
    "slideshow": {
     "slide_type": "subslide"
    }
   },
   "source": [
    "We can define `sum` in terms of `map_reduce`:"
   ]
  },
  {
   "cell_type": "code",
   "execution_count": 90,
   "metadata": {
    "slideshow": {
     "slide_type": "-"
    }
   },
   "outputs": [
    {
     "data": {
      "text/plain": [
       "fancy_sum (generic function with 1 method)"
      ]
     },
     "execution_count": 90,
     "metadata": {},
     "output_type": "execute_result"
    }
   ],
   "source": [
    "fancy_sum(x) = map_reduce(identity, +, x, zero(eltype(x)))"
   ]
  },
  {
   "cell_type": "markdown",
   "metadata": {
    "slideshow": {
     "slide_type": "fragment"
    }
   },
   "source": [
    "The performance is just as good as our hand-written `sum` loop:"
   ]
  },
  {
   "cell_type": "code",
   "execution_count": 91,
   "metadata": {
    "slideshow": {
     "slide_type": "-"
    }
   },
   "outputs": [
    {
     "name": "stdout",
     "output_type": "stream",
     "text": [
      "  11.762 ms (0 allocations: 0 bytes)\n"
     ]
    },
    {
     "data": {
      "text/plain": [
       "4.998996907719521e6"
      ]
     },
     "execution_count": 91,
     "metadata": {},
     "output_type": "execute_result"
    }
   ],
   "source": [
    "@btime fancy_sum($data)"
   ]
  },
  {
   "cell_type": "markdown",
   "metadata": {},
   "source": [
    "To get all the way down to 5ms, we'd need to apply the same `@inbounds` and `@simd` annotations.  "
   ]
  },
  {
   "cell_type": "markdown",
   "metadata": {
    "slideshow": {
     "slide_type": "subslide"
    }
   },
   "source": [
    "### Types are Values\n",
    "\n",
    "Types can also be passed around as values and bound to variables with no special rules. This makes implementing factories or constructors easy:"
   ]
  },
  {
   "cell_type": "code",
   "execution_count": 92,
   "metadata": {
    "slideshow": {
     "slide_type": "fragment"
    }
   },
   "outputs": [
    {
     "data": {
      "text/plain": [
       "empty_matrix (generic function with 1 method)"
      ]
     },
     "execution_count": 92,
     "metadata": {},
     "output_type": "execute_result"
    }
   ],
   "source": [
    "function empty_matrix(T::Type, rows::Integer, cols::Integer)\n",
    "    zeros(T, rows, cols)\n",
    "end"
   ]
  },
  {
   "cell_type": "code",
   "execution_count": 93,
   "metadata": {
    "slideshow": {
     "slide_type": "fragment"
    }
   },
   "outputs": [
    {
     "data": {
      "text/plain": [
       "3×3 Array{Int64,2}:\n",
       " 0  0  0\n",
       " 0  0  0\n",
       " 0  0  0"
      ]
     },
     "execution_count": 93,
     "metadata": {},
     "output_type": "execute_result"
    }
   ],
   "source": [
    "empty_matrix(Int, 3, 3)"
   ]
  },
  {
   "cell_type": "code",
   "execution_count": 94,
   "metadata": {
    "slideshow": {
     "slide_type": "fragment"
    }
   },
   "outputs": [
    {
     "data": {
      "text/plain": [
       "3×3 Array{Point{Float64},2}:\n",
       " Point{Float64}(0.0, 0.0)  Point{Float64}(0.0, 0.0)  Point{Float64}(0.0, 0.0)\n",
       " Point{Float64}(0.0, 0.0)  Point{Float64}(0.0, 0.0)  Point{Float64}(0.0, 0.0)\n",
       " Point{Float64}(0.0, 0.0)  Point{Float64}(0.0, 0.0)  Point{Float64}(0.0, 0.0)"
      ]
     },
     "execution_count": 94,
     "metadata": {},
     "output_type": "execute_result"
    }
   ],
   "source": [
    "empty_matrix(Point{Float64}, 3, 3)"
   ]
  },
  {
   "cell_type": "markdown",
   "metadata": {
    "slideshow": {
     "slide_type": "subslide"
    }
   },
   "source": [
    "### Expressions are Values\n",
    "\n",
    "Even the expressions that representing Julia code are represented as values in Julia. You can create an expression with the `:()` operator, and you can inspect it just like any other object. "
   ]
  },
  {
   "cell_type": "code",
   "execution_count": 95,
   "metadata": {
    "slideshow": {
     "slide_type": "-"
    }
   },
   "outputs": [
    {
     "data": {
      "text/plain": [
       ":(1 + 2)"
      ]
     },
     "execution_count": 95,
     "metadata": {},
     "output_type": "execute_result"
    }
   ],
   "source": [
    "expr = :(1 + 2)"
   ]
  },
  {
   "cell_type": "markdown",
   "metadata": {
    "slideshow": {
     "slide_type": "fragment"
    }
   },
   "source": [
    "An expression has a `head` indicating what type of expression it is and zero or more `args`:"
   ]
  },
  {
   "cell_type": "code",
   "execution_count": 96,
   "metadata": {
    "slideshow": {
     "slide_type": "-"
    }
   },
   "outputs": [
    {
     "data": {
      "text/plain": [
       ":call"
      ]
     },
     "execution_count": 96,
     "metadata": {},
     "output_type": "execute_result"
    }
   ],
   "source": [
    "expr.head"
   ]
  },
  {
   "cell_type": "code",
   "execution_count": 97,
   "metadata": {
    "slideshow": {
     "slide_type": "-"
    }
   },
   "outputs": [
    {
     "data": {
      "text/plain": [
       "3-element Array{Any,1}:\n",
       "  :+\n",
       " 1\n",
       " 2"
      ]
     },
     "execution_count": 97,
     "metadata": {},
     "output_type": "execute_result"
    }
   ],
   "source": [
    "expr.args"
   ]
  },
  {
   "cell_type": "markdown",
   "metadata": {
    "slideshow": {
     "slide_type": "subslide"
    }
   },
   "source": [
    "## Metaprogramming\n",
    "\n",
    "Since expressions are just values, we can easily write functions to manipulate them:"
   ]
  },
  {
   "cell_type": "code",
   "execution_count": 98,
   "metadata": {
    "slideshow": {
     "slide_type": "fragment"
    }
   },
   "outputs": [
    {
     "data": {
      "text/plain": [
       "switch_to_subtraction!"
      ]
     },
     "execution_count": 98,
     "metadata": {},
     "output_type": "execute_result"
    }
   ],
   "source": [
    "switch_to_subtraction!(x::Any) = nothing\n",
    "\n",
    "\"\"\"\n",
    "Change all `+` function calls to `-` function calls. \n",
    "\n",
    "<sarcasm>\n",
    "Great for fixing sign errors in your code!\n",
    "</sarcasm>\n",
    "\"\"\"\n",
    "function switch_to_subtraction!(ex::Expr)\n",
    "    if ex.head == :call && ex.args[1] == :(+)\n",
    "        ex.args[1] = :(-)\n",
    "    end\n",
    "    for i in 2:length(ex.args)\n",
    "        switch_to_subtraction!(ex.args[i])\n",
    "    end\n",
    "end"
   ]
  },
  {
   "cell_type": "code",
   "execution_count": 99,
   "metadata": {
    "slideshow": {
     "slide_type": "subslide"
    }
   },
   "outputs": [
    {
     "data": {
      "text/plain": [
       ":((1 + 2) * (3 + 4) * sqrt(2))"
      ]
     },
     "execution_count": 99,
     "metadata": {},
     "output_type": "execute_result"
    }
   ],
   "source": [
    "expr = :((1 + 2) * (3 + 4) * sqrt(2))"
   ]
  },
  {
   "cell_type": "code",
   "execution_count": 100,
   "metadata": {
    "slideshow": {
     "slide_type": "fragment"
    }
   },
   "outputs": [
    {
     "data": {
      "text/plain": [
       ":((1 - 2) * (3 - 4) * sqrt(2))"
      ]
     },
     "execution_count": 100,
     "metadata": {},
     "output_type": "execute_result"
    }
   ],
   "source": [
    "switch_to_subtraction!(expr)\n",
    "\n",
    "expr"
   ]
  },
  {
   "cell_type": "markdown",
   "metadata": {
    "slideshow": {
     "slide_type": "subslide"
    }
   },
   "source": [
    "### Macros\n",
    "\n",
    "A macro is written just like a normal Julia function. The difference is that a macro operates on the *expression* itself, not on its value:"
   ]
  },
  {
   "cell_type": "code",
   "execution_count": 101,
   "metadata": {
    "slideshow": {
     "slide_type": "fragment"
    }
   },
   "outputs": [
    {
     "data": {
      "text/plain": [
       "@more_cats"
      ]
     },
     "execution_count": 101,
     "metadata": {},
     "output_type": "execute_result"
    }
   ],
   "source": [
    "\"\"\"\n",
    "Modify a given expression, replacing all string literals with \"cat\"\n",
    "\"\"\"\n",
    "macro more_cats(expr)\n",
    "    for i in eachindex(expr.args)\n",
    "        if expr.args[i] isa String\n",
    "            expr.args[i] = \"cat\"\n",
    "        end\n",
    "    end\n",
    "    return esc(expr)\n",
    "end"
   ]
  },
  {
   "cell_type": "markdown",
   "metadata": {
    "slideshow": {
     "slide_type": "fragment"
    }
   },
   "source": [
    "Macros are always called with the `@` prefix in Julia:"
   ]
  },
  {
   "cell_type": "code",
   "execution_count": 102,
   "metadata": {},
   "outputs": [
    {
     "name": "stdout",
     "output_type": "stream",
     "text": [
      "cat\n"
     ]
    }
   ],
   "source": [
    "@more_cats println(\"hello world\")"
   ]
  },
  {
   "cell_type": "markdown",
   "metadata": {
    "slideshow": {
     "slide_type": "subslide"
    }
   },
   "source": [
    "`@macroexpand` shows the code that another macro will generate:"
   ]
  },
  {
   "cell_type": "code",
   "execution_count": 103,
   "metadata": {
    "slideshow": {
     "slide_type": "-"
    }
   },
   "outputs": [
    {
     "data": {
      "text/plain": [
       ":(println(\"cat\"))"
      ]
     },
     "execution_count": 103,
     "metadata": {},
     "output_type": "execute_result"
    }
   ],
   "source": [
    "@macroexpand @more_cats println(\"hello world\")"
   ]
  },
  {
   "cell_type": "markdown",
   "metadata": {
    "slideshow": {
     "slide_type": "subslide"
    }
   },
   "source": [
    "### Actually Useful Julia Macros"
   ]
  },
  {
   "cell_type": "markdown",
   "metadata": {
    "slideshow": {
     "slide_type": "fragment"
    }
   },
   "source": [
    "`@show` : print out the *name* of a variable and its value. Great for quick debugging:"
   ]
  },
  {
   "cell_type": "code",
   "execution_count": 104,
   "metadata": {},
   "outputs": [
    {
     "name": "stdout",
     "output_type": "stream",
     "text": [
      "x = 5\n"
     ]
    },
    {
     "data": {
      "text/plain": [
       "5"
      ]
     },
     "execution_count": 104,
     "metadata": {},
     "output_type": "execute_result"
    }
   ],
   "source": [
    "x = 5\n",
    "@show x"
   ]
  },
  {
   "cell_type": "markdown",
   "metadata": {
    "slideshow": {
     "slide_type": "fragment"
    }
   },
   "source": [
    "`@time` measure the elapsed time of an expression and return the result of that expression:"
   ]
  },
  {
   "cell_type": "code",
   "execution_count": 105,
   "metadata": {},
   "outputs": [
    {
     "name": "stdout",
     "output_type": "stream",
     "text": [
      "  0.000074 seconds (6 allocations: 464 bytes)\n"
     ]
    },
    {
     "data": {
      "text/plain": [
       "1.772453850905516027298167483341145182797549456122387128213807789852911284591025"
      ]
     },
     "execution_count": 105,
     "metadata": {},
     "output_type": "execute_result"
    }
   ],
   "source": [
    "@time sqrt(big(π))"
   ]
  },
  {
   "cell_type": "markdown",
   "metadata": {
    "slideshow": {
     "slide_type": "subslide"
    }
   },
   "source": [
    "`@showprogress`: Time each iteration of a loop and estimate how much longer it will take to finish:"
   ]
  },
  {
   "cell_type": "code",
   "execution_count": 106,
   "metadata": {},
   "outputs": [],
   "source": [
    "using ProgressMeter: @showprogress"
   ]
  },
  {
   "cell_type": "code",
   "execution_count": 107,
   "metadata": {},
   "outputs": [
    {
     "name": "stderr",
     "output_type": "stream",
     "text": [
      "\u001b[32mProgress: 100%|█████████████████████████████████████████| Time: 0:00:04\u001b[39m\n"
     ]
    }
   ],
   "source": [
    "@showprogress for i in 1:100\n",
    "    sum(rand(10^7))\n",
    "end"
   ]
  },
  {
   "cell_type": "markdown",
   "metadata": {
    "slideshow": {
     "slide_type": "slide"
    }
   },
   "source": [
    "# What's Hard to Do in Julia?\n",
    "\n",
    "What is the compiler team working on making better? https://discourse.julialang.org/t/compiler-work-priorities/17623\n",
    "\n",
    "What are some subtle problems that the Julia team would like to fix?\n",
    "\n",
    "[![What's bad about Julia talk](img/bad_about_julia.png)](https://www.youtube.com/watch?v=TPuJsgyu87U)\n",
    "\n"
   ]
  },
  {
   "cell_type": "markdown",
   "metadata": {
    "slideshow": {
     "slide_type": "subslide"
    }
   },
   "source": [
    "## Compiler Latency\n",
    "\n",
    "* The JIT compiler runs each time it sees a function being called with a new input type. \n",
    "* That makes the first call to every function slow, since you have to wait for the JIT.\n",
    "  * This makes Julia awkward to use for things like shell scripts or AWS lambda"
   ]
  },
  {
   "cell_type": "markdown",
   "metadata": {
    "slideshow": {
     "slide_type": "subslide"
    }
   },
   "source": [
    "## Static Compilation\n",
    "\n",
    "* To avoid the JIT lag, you can compile a Julia package to a standalone executable using [PackageCompiler.jl](https://github.com/JuliaLang/PackageCompiler.jl), but:\n",
    "    * This workflow is pretty new, and you may run into interesting bugs\n",
    "    * The resulting libraries tend to be quite large"
   ]
  },
  {
   "cell_type": "markdown",
   "metadata": {
    "slideshow": {
     "slide_type": "subslide"
    }
   },
   "source": [
    "## Embedded Computing\n",
    "\n",
    "* It can be hard to run Julia on memory-limited systems, since you need the compiler living alongside your code. \n",
    "* Static compilation can help, but this isn't a well-developed workflow yet."
   ]
  },
  {
   "cell_type": "markdown",
   "metadata": {
    "slideshow": {
     "slide_type": "subslide"
    }
   },
   "source": [
    "## Static Analysis\n",
    "\n",
    "* There are some linting tools for Julia (like the `vscode-julia` extension for Visual Studio Code), but they are not as mature as languages like Python, C, Java, etc.\n",
    "* Static analysis of Julia is harder, since the language itself is dynamically typed. \n",
    "  * To be fair, static analysis of C++ is [undecidable](https://blog.reverberate.org/2013/08/parsing-c-is-literally-undecidable.html) but we still have tools that do a pretty good job most of the time. "
   ]
  },
  {
   "cell_type": "markdown",
   "metadata": {
    "slideshow": {
     "slide_type": "slide"
    }
   },
   "source": [
    "# Useful Julia Tools"
   ]
  },
  {
   "cell_type": "markdown",
   "metadata": {
    "slideshow": {
     "slide_type": "subslide"
    }
   },
   "source": [
    "## Juno IDE\n",
    "\n",
    "https://junolab.org/\n",
    "\n",
    "* Built-in debugger and profiler support\n",
    "* Inline evaluation of expressions\n",
    "* Docstring lookup and autocomplete\n",
    "\n",
    "\n",
    "<img src=\"img/juno.png\" width=\"700px\"></img>"
   ]
  },
  {
   "cell_type": "markdown",
   "metadata": {
    "slideshow": {
     "slide_type": "subslide"
    }
   },
   "source": [
    "## Julia-VSCode\n",
    "\n",
    "https://github.com/julia-vscode/julia-vscode\n",
    "\n",
    "* Code highlighting, snippets, linting, and completions\n",
    "* Integrated plot and table viewers\n",
    "* General extension support via the VSCode language server\n",
    "\n",
    "<img src=\"img/vscode.png\" width=\"700px\"></img>"
   ]
  },
  {
   "cell_type": "markdown",
   "metadata": {
    "slideshow": {
     "slide_type": "subslide"
    }
   },
   "source": [
    "## Flux.jl\n",
    "\n",
    "https://fluxml.ai/Flux.jl/stable/\n",
    "\n",
    "* Flexible library for machine learning built entirely in Julia\n",
    "* Feed-forward and recurrent neural nets\n",
    "* Gradients via automatic differentiation\n",
    "* GPU support via CuArrays.jl\n",
    "\n",
    "```julia\n",
    "m = Chain(\n",
    "  Dense(784, 32, σ),\n",
    "  Dense(32, 10), softmax\n",
    ")\n",
    "\n",
    "loss(x, y) = Flux.mse(m(x), y)\n",
    "ps = Flux.params(m)\n",
    "\n",
    "for i in 1:num_training_iters\n",
    "    Flux.train!(loss, ps, data, opt)\n",
    "end\n",
    "```"
   ]
  },
  {
   "cell_type": "markdown",
   "metadata": {
    "slideshow": {
     "slide_type": "subslide"
    }
   },
   "source": [
    "## DifferentialEquations.jl\n",
    "\n",
    "https://github.com/SciML/DifferentialEquations.jl\n",
    "\n",
    "* {stochastic | deterministic | ordinary | partial} differential equations\n",
    "* Automatic differentiation and sparsity detection\n",
    "* GPU support\n",
    "* Sensitivity analysis and parameter estimation\n",
    "* Access to pure-Julia solvers and existing C and Fortran solvers\n",
    "\n",
    "\n",
    "<img src=\"img/DifferentialEquations_Example.png\" width=\"500px\"></img>"
   ]
  },
  {
   "cell_type": "markdown",
   "metadata": {
    "slideshow": {
     "slide_type": "subslide"
    }
   },
   "source": [
    "## DataFrames.jl\n",
    "\n",
    "https://github.com/JuliaData/DataFrames.jl\n",
    "\n",
    "* In-memory tabular data\n",
    "* Joining, indexing, grouping, and split-apply-combine\n",
    "\n",
    "```julia\n",
    "julia> using DataFrames\n",
    "\n",
    "julia> df = DataFrame(A = 1:4, B = [\"M\", \"F\", \"F\", \"M\"])\n",
    "4×2 DataFrame\n",
    "│ Row │ A     │ B      │\n",
    "│     │ Int64 │ String │\n",
    "├─────┼───────┼────────┤\n",
    "│ 1   │ 1     │ M      │\n",
    "│ 2   │ 2     │ F      │\n",
    "│ 3   │ 3     │ F      │\n",
    "│ 4   │ 4     │ M      │\n",
    "```"
   ]
  },
  {
   "cell_type": "markdown",
   "metadata": {
    "slideshow": {
     "slide_type": "subslide"
    }
   },
   "source": [
    "## JuMP.jl\n",
    "\n",
    "https://github.com/JuliaOpt/JuMP.jl\n",
    "\n",
    "* Continuous and discrete optimization\n",
    "* Support for a wide variety of free and commercial solvers\n",
    "* Efficient high-level language for mathematical programming\n",
    "\n",
    "\n",
    "Example: Solving a simple model-predictive control problem as a quadratic program ([source](https://github.com/rdeits/DynamicWalking2018.jl/blob/master/notebooks/6.%20Optimization%20with%20JuMP.ipynb)):\n",
    "\n",
    "[![demo of a simple model-predictive control problem](img/mpc.gif)](https://github.com/rdeits/DynamicWalking2018.jl/blob/master/notebooks/6.%20Optimization%20with%20JuMP.ipynb)\n",
    "\n"
   ]
  },
  {
   "cell_type": "markdown",
   "metadata": {
    "slideshow": {
     "slide_type": "subslide"
    }
   },
   "source": [
    "### Cassette.jl\n",
    "\n",
    "https://www.youtube.com/watch?v=_E2zEzNEy-8\n",
    "\n",
    "\"Overdub\" Julia code: \n",
    "\n",
    "* Hook into the compiler to dynamically modify the behavior of existing functions in a given *context*\n",
    "* Building block for debuggers, automatic differentation, and more.\n",
    "\n",
    "<img src=\"img/cassette-logo.png\" width=\"600px\"/>"
   ]
  },
  {
   "cell_type": "markdown",
   "metadata": {
    "slideshow": {
     "slide_type": "slide"
    }
   },
   "source": [
    "# Where To Go Next?\n",
    "\n",
    "* Download Julia from https://julialang.org/\n",
    "* Check out the manual at https://docs.julialang.org/en/v1/\n",
    "* Ask questions on [discourse](https://discourse.julialang.org/) and [slack](https://slackinvite.julialang.org/)\n",
    "* Find interesting packages on [juliahub](https://juliahub.com/ui/Home)\n",
    "\n",
    "![triangulated background](img/julia-triangle-background.svg)\n",
    "\n",
    "[Logo by Cormullion and David P. Saunders](https://nbviewer.jupyter.org/github/dpsanders/JuliaCon2019_tshirt/blob/master/penroseiana.ipynb)"
   ]
  }
 ],
 "metadata": {
  "@webio": {
   "lastCommId": null,
   "lastKernelId": null
  },
  "celltoolbar": "Slideshow",
  "kernelspec": {
   "display_name": "Julia 1.4.1",
   "language": "julia",
   "name": "julia-1.4"
  },
  "language_info": {
   "file_extension": ".jl",
   "mimetype": "application/julia",
   "name": "julia",
   "version": "1.4.1"
  }
 },
 "nbformat": 4,
 "nbformat_minor": 2
}
